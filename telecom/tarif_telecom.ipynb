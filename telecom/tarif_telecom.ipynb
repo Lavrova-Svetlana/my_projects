{
 "cells": [
  {
   "cell_type": "markdown",
   "metadata": {},
   "source": [
    "# Определение перспективного тарифа для телеком компании"
   ]
  },
  {
   "cell_type": "markdown",
   "metadata": {},
   "source": [
    "\n",
    "\n",
    "\n",
    "Клиентам федерального оператора сотовой связи - «Мегалайн», предлагают два тарифных плана: «Смарт» и «Ультра». "
   ]
  },
  {
   "cell_type": "markdown",
   "metadata": {},
   "source": [
    "### Описание тарифов:"
   ]
  },
  {
   "cell_type": "markdown",
   "metadata": {},
   "source": [
    " *Тариф \"Смарт\"*\n",
    "\n",
    " 1. Ежемесячная плата: 550 рублей\n",
    " 2. Включено 500 минут разговора, 50 сообщений и 15 Гб интернет-трафика\n",
    " 3. Стоимость услуг сверх тарифного пакета:\n",
    " - минута разговора: 3 рубля\n",
    " - сообщение: 3 рубля\n",
    " - 1 Гб интернет-трафика: 200 рублей\n",
    " \n",
    " *Тариф \"Ультра\"*\n",
    " \n",
    " 1. Ежемесячная плата: 1950 рублей\n",
    " 2. Включено 3000 минут разговора, 1000 сообщений и 30 Гб интернет-трафика\n",
    " 3.\tСтоимость услуг сверх тарифного пакета:\n",
    " - минута разговора: 1 рубль\n",
    " - сообщение: 1 рубль\n",
    " - 1 Гб интернет-трафика: 150 рублей\n",
    " \n",
    "Также известно, что «Мегалайн» всегда округляет вверх значения минут и мегабайтов. Если пользователь проговорил всего 1 секунду, в тарифе засчитывается целая минута."
   ]
  },
  {
   "cell_type": "markdown",
   "metadata": {},
   "source": [
    "Дана небольшая выборка клиентов \"Мегалайна\": данные 500 пользователей: кто они, откуда, каким тарифом пользуются, сколько звонков и сообщений каждый отправил за 2018г. Нужно ответить на вопрос: какой тариф лучше?\n",
    "\n",
    "Заказчик: коммерческий департамент \"Мегалайн\"."
   ]
  },
  {
   "cell_type": "markdown",
   "metadata": {},
   "source": [
    "# Изучение общей информации о полученных файлах"
   ]
  },
  {
   "cell_type": "markdown",
   "metadata": {},
   "source": [
    "Познакомимся с данными из файлов:"
   ]
  },
  {
   "cell_type": "code",
   "execution_count": 1,
   "metadata": {},
   "outputs": [
    {
     "data": {
      "text/html": [
       "<div>\n",
       "<style scoped>\n",
       "    .dataframe tbody tr th:only-of-type {\n",
       "        vertical-align: middle;\n",
       "    }\n",
       "\n",
       "    .dataframe tbody tr th {\n",
       "        vertical-align: top;\n",
       "    }\n",
       "\n",
       "    .dataframe thead th {\n",
       "        text-align: right;\n",
       "    }\n",
       "</style>\n",
       "<table border=\"1\" class=\"dataframe\">\n",
       "  <thead>\n",
       "    <tr style=\"text-align: right;\">\n",
       "      <th></th>\n",
       "      <th>id</th>\n",
       "      <th>call_date</th>\n",
       "      <th>duration</th>\n",
       "      <th>user_id</th>\n",
       "    </tr>\n",
       "  </thead>\n",
       "  <tbody>\n",
       "    <tr>\n",
       "      <td>156159</td>\n",
       "      <td>1385_238</td>\n",
       "      <td>2018-03-14</td>\n",
       "      <td>6.71</td>\n",
       "      <td>1385</td>\n",
       "    </tr>\n",
       "    <tr>\n",
       "      <td>78108</td>\n",
       "      <td>1196_340</td>\n",
       "      <td>2018-10-31</td>\n",
       "      <td>19.88</td>\n",
       "      <td>1196</td>\n",
       "    </tr>\n",
       "    <tr>\n",
       "      <td>113779</td>\n",
       "      <td>1291_405</td>\n",
       "      <td>2018-08-29</td>\n",
       "      <td>4.67</td>\n",
       "      <td>1291</td>\n",
       "    </tr>\n",
       "    <tr>\n",
       "      <td>87413</td>\n",
       "      <td>1219_182</td>\n",
       "      <td>2018-07-13</td>\n",
       "      <td>10.84</td>\n",
       "      <td>1219</td>\n",
       "    </tr>\n",
       "    <tr>\n",
       "      <td>75197</td>\n",
       "      <td>1187_150</td>\n",
       "      <td>2018-10-26</td>\n",
       "      <td>6.24</td>\n",
       "      <td>1187</td>\n",
       "    </tr>\n",
       "  </tbody>\n",
       "</table>\n",
       "</div>"
      ],
      "text/plain": [
       "              id   call_date  duration  user_id\n",
       "156159  1385_238  2018-03-14      6.71     1385\n",
       "78108   1196_340  2018-10-31     19.88     1196\n",
       "113779  1291_405  2018-08-29      4.67     1291\n",
       "87413   1219_182  2018-07-13     10.84     1219\n",
       "75197   1187_150  2018-10-26      6.24     1187"
      ]
     },
     "execution_count": 1,
     "metadata": {},
     "output_type": "execute_result"
    }
   ],
   "source": [
    "\n",
    "import pandas as pd\n",
    "\n",
    "calls = pd.read_csv('/datasets/calls.csv')\n",
    "calls.sample(5)"
   ]
  },
  {
   "cell_type": "code",
   "execution_count": 2,
   "metadata": {},
   "outputs": [
    {
     "name": "stdout",
     "output_type": "stream",
     "text": [
      "<class 'pandas.core.frame.DataFrame'>\n",
      "RangeIndex: 202607 entries, 0 to 202606\n",
      "Data columns (total 4 columns):\n",
      "id           202607 non-null object\n",
      "call_date    202607 non-null object\n",
      "duration     202607 non-null float64\n",
      "user_id      202607 non-null int64\n",
      "dtypes: float64(1), int64(1), object(2)\n",
      "memory usage: 6.2+ MB\n"
     ]
    },
    {
     "data": {
      "text/plain": [
       "Index(['id', 'call_date', 'duration', 'user_id'], dtype='object')"
      ]
     },
     "execution_count": 2,
     "metadata": {},
     "output_type": "execute_result"
    }
   ],
   "source": [
    "# Выведем на экран общую информацию о файле:\n",
    "calls.info()\n",
    "# отдельно выведем названия столбцов:\n",
    "calls.columns"
   ]
  },
  {
   "cell_type": "markdown",
   "metadata": {},
   "source": [
    "Описание данных:\n",
    "\n",
    "- id — уникальный номер звонка\n",
    "- call_date — дата звонка\n",
    "- duration — длительность звонка в минутах\n",
    "- user_id — идентификатор пользователя, сделавшего звонок\n"
   ]
  },
  {
   "cell_type": "markdown",
   "metadata": {},
   "source": [
    "*Таблица \"calls\" (информация о звонках) состоит из 202607 строк и 4 столбцов, из которых 1 - содержит даты, 1 - категориальную переменную, остальные - количественные переменные. Пропусков нет. Нужно выполнить замену типа данных в столбцах:  'call_date', 'duration'*\n",
    "\n",
    "Переходим к следующей таблице:"
   ]
  },
  {
   "cell_type": "code",
   "execution_count": 3,
   "metadata": {},
   "outputs": [
    {
     "data": {
      "text/html": [
       "<div>\n",
       "<style scoped>\n",
       "    .dataframe tbody tr th:only-of-type {\n",
       "        vertical-align: middle;\n",
       "    }\n",
       "\n",
       "    .dataframe tbody tr th {\n",
       "        vertical-align: top;\n",
       "    }\n",
       "\n",
       "    .dataframe thead th {\n",
       "        text-align: right;\n",
       "    }\n",
       "</style>\n",
       "<table border=\"1\" class=\"dataframe\">\n",
       "  <thead>\n",
       "    <tr style=\"text-align: right;\">\n",
       "      <th></th>\n",
       "      <th>Unnamed: 0</th>\n",
       "      <th>id</th>\n",
       "      <th>mb_used</th>\n",
       "      <th>session_date</th>\n",
       "      <th>user_id</th>\n",
       "    </tr>\n",
       "  </thead>\n",
       "  <tbody>\n",
       "    <tr>\n",
       "      <td>28431</td>\n",
       "      <td>28431</td>\n",
       "      <td>1099_95</td>\n",
       "      <td>473.43</td>\n",
       "      <td>2018-08-29</td>\n",
       "      <td>1099</td>\n",
       "    </tr>\n",
       "    <tr>\n",
       "      <td>66933</td>\n",
       "      <td>66933</td>\n",
       "      <td>1227_530</td>\n",
       "      <td>138.35</td>\n",
       "      <td>2018-07-13</td>\n",
       "      <td>1227</td>\n",
       "    </tr>\n",
       "    <tr>\n",
       "      <td>68666</td>\n",
       "      <td>68666</td>\n",
       "      <td>1233_125</td>\n",
       "      <td>0.00</td>\n",
       "      <td>2018-09-07</td>\n",
       "      <td>1233</td>\n",
       "    </tr>\n",
       "    <tr>\n",
       "      <td>16599</td>\n",
       "      <td>16599</td>\n",
       "      <td>1057_134</td>\n",
       "      <td>870.52</td>\n",
       "      <td>2018-09-30</td>\n",
       "      <td>1057</td>\n",
       "    </tr>\n",
       "    <tr>\n",
       "      <td>56462</td>\n",
       "      <td>56462</td>\n",
       "      <td>1188_268</td>\n",
       "      <td>98.84</td>\n",
       "      <td>2018-09-06</td>\n",
       "      <td>1188</td>\n",
       "    </tr>\n",
       "  </tbody>\n",
       "</table>\n",
       "</div>"
      ],
      "text/plain": [
       "       Unnamed: 0        id  mb_used session_date  user_id\n",
       "28431       28431   1099_95   473.43   2018-08-29     1099\n",
       "66933       66933  1227_530   138.35   2018-07-13     1227\n",
       "68666       68666  1233_125     0.00   2018-09-07     1233\n",
       "16599       16599  1057_134   870.52   2018-09-30     1057\n",
       "56462       56462  1188_268    98.84   2018-09-06     1188"
      ]
     },
     "execution_count": 3,
     "metadata": {},
     "output_type": "execute_result"
    }
   ],
   "source": [
    "internet = pd.read_csv('/datasets/internet.csv')\n",
    "internet.sample(5)"
   ]
  },
  {
   "cell_type": "code",
   "execution_count": 4,
   "metadata": {},
   "outputs": [
    {
     "name": "stdout",
     "output_type": "stream",
     "text": [
      "<class 'pandas.core.frame.DataFrame'>\n",
      "RangeIndex: 149396 entries, 0 to 149395\n",
      "Data columns (total 5 columns):\n",
      "Unnamed: 0      149396 non-null int64\n",
      "id              149396 non-null object\n",
      "mb_used         149396 non-null float64\n",
      "session_date    149396 non-null object\n",
      "user_id         149396 non-null int64\n",
      "dtypes: float64(1), int64(2), object(2)\n",
      "memory usage: 5.7+ MB\n"
     ]
    },
    {
     "data": {
      "text/plain": [
       "Index(['Unnamed: 0', 'id', 'mb_used', 'session_date', 'user_id'], dtype='object')"
      ]
     },
     "execution_count": 4,
     "metadata": {},
     "output_type": "execute_result"
    }
   ],
   "source": [
    "# Выведем на экран общую информацию о файле:\n",
    "internet.info()\n",
    "# отдельно выведем названия столбцов:\n",
    "internet.columns"
   ]
  },
  {
   "cell_type": "markdown",
   "metadata": {},
   "source": [
    "Описание данных:\n",
    "\n",
    "-\tid — уникальный номер сессии\n",
    "-\tmb_used — объём потраченного за сессию интернет-трафика (в мегабайтах)\n",
    "-\tsession_date — дата интернет-сессии\n",
    "-\tuser_id — идентификатор пользователя\n"
   ]
  },
  {
   "cell_type": "markdown",
   "metadata": {},
   "source": [
    "*Таблица 'internet' (информация об интернет-сессиях) состоит из 149396 строк и 4 столбцов, из которых 'session_date' содержит формат даты, 1 - категориальную, остальные - количественные переменные. Нужна замена типа данных в столбцах 'mb_used', 'session_date'* \n",
    "\n",
    "Переходим к следующей таблице:"
   ]
  },
  {
   "cell_type": "code",
   "execution_count": 5,
   "metadata": {},
   "outputs": [
    {
     "data": {
      "text/html": [
       "<div>\n",
       "<style scoped>\n",
       "    .dataframe tbody tr th:only-of-type {\n",
       "        vertical-align: middle;\n",
       "    }\n",
       "\n",
       "    .dataframe tbody tr th {\n",
       "        vertical-align: top;\n",
       "    }\n",
       "\n",
       "    .dataframe thead th {\n",
       "        text-align: right;\n",
       "    }\n",
       "</style>\n",
       "<table border=\"1\" class=\"dataframe\">\n",
       "  <thead>\n",
       "    <tr style=\"text-align: right;\">\n",
       "      <th></th>\n",
       "      <th>id</th>\n",
       "      <th>message_date</th>\n",
       "      <th>user_id</th>\n",
       "    </tr>\n",
       "  </thead>\n",
       "  <tbody>\n",
       "    <tr>\n",
       "      <td>123031</td>\n",
       "      <td>1499_179</td>\n",
       "      <td>2018-12-12</td>\n",
       "      <td>1499</td>\n",
       "    </tr>\n",
       "    <tr>\n",
       "      <td>123032</td>\n",
       "      <td>1499_180</td>\n",
       "      <td>2018-09-28</td>\n",
       "      <td>1499</td>\n",
       "    </tr>\n",
       "    <tr>\n",
       "      <td>123033</td>\n",
       "      <td>1499_181</td>\n",
       "      <td>2018-09-27</td>\n",
       "      <td>1499</td>\n",
       "    </tr>\n",
       "    <tr>\n",
       "      <td>123034</td>\n",
       "      <td>1499_182</td>\n",
       "      <td>2018-11-15</td>\n",
       "      <td>1499</td>\n",
       "    </tr>\n",
       "    <tr>\n",
       "      <td>123035</td>\n",
       "      <td>1499_183</td>\n",
       "      <td>2018-11-16</td>\n",
       "      <td>1499</td>\n",
       "    </tr>\n",
       "  </tbody>\n",
       "</table>\n",
       "</div>"
      ],
      "text/plain": [
       "              id message_date  user_id\n",
       "123031  1499_179   2018-12-12     1499\n",
       "123032  1499_180   2018-09-28     1499\n",
       "123033  1499_181   2018-09-27     1499\n",
       "123034  1499_182   2018-11-15     1499\n",
       "123035  1499_183   2018-11-16     1499"
      ]
     },
     "execution_count": 5,
     "metadata": {},
     "output_type": "execute_result"
    }
   ],
   "source": [
    "messages = pd.read_csv('/datasets/messages.csv')\n",
    "messages.tail(5)"
   ]
  },
  {
   "cell_type": "code",
   "execution_count": 6,
   "metadata": {},
   "outputs": [
    {
     "name": "stdout",
     "output_type": "stream",
     "text": [
      "<class 'pandas.core.frame.DataFrame'>\n",
      "RangeIndex: 123036 entries, 0 to 123035\n",
      "Data columns (total 3 columns):\n",
      "id              123036 non-null object\n",
      "message_date    123036 non-null object\n",
      "user_id         123036 non-null int64\n",
      "dtypes: int64(1), object(2)\n",
      "memory usage: 2.8+ MB\n"
     ]
    },
    {
     "data": {
      "text/plain": [
       "Index(['id', 'message_date', 'user_id'], dtype='object')"
      ]
     },
     "execution_count": 6,
     "metadata": {},
     "output_type": "execute_result"
    }
   ],
   "source": [
    "# Выведем на экран общую информацию о файле:\n",
    "messages.info()\n",
    "# отдельно выведем названия столбцов:\n",
    "messages.columns"
   ]
  },
  {
   "cell_type": "markdown",
   "metadata": {},
   "source": [
    "Описание данных:\n",
    "\n",
    "-\tid — уникальный номер сообщения\n",
    "-\tmessage_date — дата сообщения\n",
    "-\tuser_id — идентификатор пользователя, отправившего сообщение\n"
   ]
  },
  {
   "cell_type": "markdown",
   "metadata": {},
   "source": [
    "*Таблица 'messages' (информация о сообщениях) состоит из 123036 строк и 3 столбцов. Нужна замена типа данных в столбце 'message_date'*\n",
    "\n",
    "Переходим к следующей таблице:"
   ]
  },
  {
   "cell_type": "code",
   "execution_count": 7,
   "metadata": {},
   "outputs": [
    {
     "data": {
      "text/html": [
       "<div>\n",
       "<style scoped>\n",
       "    .dataframe tbody tr th:only-of-type {\n",
       "        vertical-align: middle;\n",
       "    }\n",
       "\n",
       "    .dataframe tbody tr th {\n",
       "        vertical-align: top;\n",
       "    }\n",
       "\n",
       "    .dataframe thead th {\n",
       "        text-align: right;\n",
       "    }\n",
       "</style>\n",
       "<table border=\"1\" class=\"dataframe\">\n",
       "  <thead>\n",
       "    <tr style=\"text-align: right;\">\n",
       "      <th></th>\n",
       "      <th>messages_included</th>\n",
       "      <th>mb_per_month_included</th>\n",
       "      <th>minutes_included</th>\n",
       "      <th>rub_monthly_fee</th>\n",
       "      <th>rub_per_gb</th>\n",
       "      <th>rub_per_message</th>\n",
       "      <th>rub_per_minute</th>\n",
       "      <th>tariff_name</th>\n",
       "    </tr>\n",
       "  </thead>\n",
       "  <tbody>\n",
       "    <tr>\n",
       "      <td>0</td>\n",
       "      <td>50</td>\n",
       "      <td>15360</td>\n",
       "      <td>500</td>\n",
       "      <td>550</td>\n",
       "      <td>200</td>\n",
       "      <td>3</td>\n",
       "      <td>3</td>\n",
       "      <td>smart</td>\n",
       "    </tr>\n",
       "    <tr>\n",
       "      <td>1</td>\n",
       "      <td>1000</td>\n",
       "      <td>30720</td>\n",
       "      <td>3000</td>\n",
       "      <td>1950</td>\n",
       "      <td>150</td>\n",
       "      <td>1</td>\n",
       "      <td>1</td>\n",
       "      <td>ultra</td>\n",
       "    </tr>\n",
       "  </tbody>\n",
       "</table>\n",
       "</div>"
      ],
      "text/plain": [
       "   messages_included  mb_per_month_included  minutes_included  \\\n",
       "0                 50                  15360               500   \n",
       "1               1000                  30720              3000   \n",
       "\n",
       "   rub_monthly_fee  rub_per_gb  rub_per_message  rub_per_minute tariff_name  \n",
       "0              550         200                3               3       smart  \n",
       "1             1950         150                1               1       ultra  "
      ]
     },
     "execution_count": 7,
     "metadata": {},
     "output_type": "execute_result"
    }
   ],
   "source": [
    "tariffs = pd.read_csv('/datasets/tariffs.csv')\n",
    "tariffs.tail(5)"
   ]
  },
  {
   "cell_type": "code",
   "execution_count": 8,
   "metadata": {},
   "outputs": [
    {
     "name": "stdout",
     "output_type": "stream",
     "text": [
      "<class 'pandas.core.frame.DataFrame'>\n",
      "RangeIndex: 2 entries, 0 to 1\n",
      "Data columns (total 8 columns):\n",
      "messages_included        2 non-null int64\n",
      "mb_per_month_included    2 non-null int64\n",
      "minutes_included         2 non-null int64\n",
      "rub_monthly_fee          2 non-null int64\n",
      "rub_per_gb               2 non-null int64\n",
      "rub_per_message          2 non-null int64\n",
      "rub_per_minute           2 non-null int64\n",
      "tariff_name              2 non-null object\n",
      "dtypes: int64(7), object(1)\n",
      "memory usage: 256.0+ bytes\n"
     ]
    },
    {
     "data": {
      "text/plain": [
       "Index(['messages_included', 'mb_per_month_included', 'minutes_included',\n",
       "       'rub_monthly_fee', 'rub_per_gb', 'rub_per_message', 'rub_per_minute',\n",
       "       'tariff_name'],\n",
       "      dtype='object')"
      ]
     },
     "execution_count": 8,
     "metadata": {},
     "output_type": "execute_result"
    }
   ],
   "source": [
    "# Выведем на экран общую информацию о файле:\n",
    "tariffs.info()\n",
    "# отдельно выведем названия столбцов:\n",
    "tariffs.columns"
   ]
  },
  {
   "cell_type": "markdown",
   "metadata": {},
   "source": [
    "Описание данных:\n",
    "\n",
    "- messages_included — количество сообщений в месяц, включённых в абонентскую плату\n",
    "- mb_per_month_included — объём интернет-трафика, включённого в абонентскую плату (в мегабайтах)\n",
    "- minutes_included — количество минут разговора в месяц, включённых в абонентскую плату\n",
    "- rub_monthly_fee — ежемесячная абонентская плата в рублях\n",
    "- rub_per_gb — стоимость дополнительного гигабайта интернет-трафика сверх тарифного пакета (1 гигабайт = 1024 мегабайта)\n",
    "- rub_per_message — стоимость отправки сообщения сверх тарифного пакета\n",
    "- rub_per_minute — стоимость минуты разговора сверх тарифного пакета (например, если в тарифе 100 минут разговора в месяц, то со 101 минуты будет взиматься плата)\n",
    "- tariff_name — название тарифа\n",
    "\n",
    "\n",
    "\n",
    "\n",
    "\n",
    "\n",
    "\n"
   ]
  },
  {
   "cell_type": "markdown",
   "metadata": {},
   "source": [
    "*Таблица 'tariffs' (информация о тарифах) состоит из 2 строк, 8 столбцов, из которых 1 содержит категориальную переменную ('tariff_name'), остальные - количественную. В предобработке не нуждается.*\n",
    "\n",
    "Переходим к следующей таблице:"
   ]
  },
  {
   "cell_type": "code",
   "execution_count": 9,
   "metadata": {},
   "outputs": [
    {
     "data": {
      "text/html": [
       "<div>\n",
       "<style scoped>\n",
       "    .dataframe tbody tr th:only-of-type {\n",
       "        vertical-align: middle;\n",
       "    }\n",
       "\n",
       "    .dataframe tbody tr th {\n",
       "        vertical-align: top;\n",
       "    }\n",
       "\n",
       "    .dataframe thead th {\n",
       "        text-align: right;\n",
       "    }\n",
       "</style>\n",
       "<table border=\"1\" class=\"dataframe\">\n",
       "  <thead>\n",
       "    <tr style=\"text-align: right;\">\n",
       "      <th></th>\n",
       "      <th>user_id</th>\n",
       "      <th>age</th>\n",
       "      <th>churn_date</th>\n",
       "      <th>city</th>\n",
       "      <th>first_name</th>\n",
       "      <th>last_name</th>\n",
       "      <th>reg_date</th>\n",
       "      <th>tariff</th>\n",
       "    </tr>\n",
       "  </thead>\n",
       "  <tbody>\n",
       "    <tr>\n",
       "      <td>495</td>\n",
       "      <td>1495</td>\n",
       "      <td>65</td>\n",
       "      <td>NaN</td>\n",
       "      <td>Иркутск</td>\n",
       "      <td>Авксентий</td>\n",
       "      <td>Фокин</td>\n",
       "      <td>2018-08-28</td>\n",
       "      <td>ultra</td>\n",
       "    </tr>\n",
       "    <tr>\n",
       "      <td>496</td>\n",
       "      <td>1496</td>\n",
       "      <td>36</td>\n",
       "      <td>NaN</td>\n",
       "      <td>Вологда</td>\n",
       "      <td>Трифон</td>\n",
       "      <td>Блохин</td>\n",
       "      <td>2018-01-27</td>\n",
       "      <td>smart</td>\n",
       "    </tr>\n",
       "    <tr>\n",
       "      <td>497</td>\n",
       "      <td>1497</td>\n",
       "      <td>32</td>\n",
       "      <td>NaN</td>\n",
       "      <td>Челябинск</td>\n",
       "      <td>Каролина</td>\n",
       "      <td>Агеева</td>\n",
       "      <td>2018-10-09</td>\n",
       "      <td>smart</td>\n",
       "    </tr>\n",
       "    <tr>\n",
       "      <td>498</td>\n",
       "      <td>1498</td>\n",
       "      <td>68</td>\n",
       "      <td>2018-10-25</td>\n",
       "      <td>Владикавказ</td>\n",
       "      <td>Всеволод</td>\n",
       "      <td>Акимчин</td>\n",
       "      <td>2018-07-19</td>\n",
       "      <td>smart</td>\n",
       "    </tr>\n",
       "    <tr>\n",
       "      <td>499</td>\n",
       "      <td>1499</td>\n",
       "      <td>35</td>\n",
       "      <td>NaN</td>\n",
       "      <td>Пермь</td>\n",
       "      <td>Гектор</td>\n",
       "      <td>Корнилов</td>\n",
       "      <td>2018-09-27</td>\n",
       "      <td>smart</td>\n",
       "    </tr>\n",
       "  </tbody>\n",
       "</table>\n",
       "</div>"
      ],
      "text/plain": [
       "     user_id  age  churn_date         city first_name last_name    reg_date  \\\n",
       "495     1495   65         NaN      Иркутск  Авксентий     Фокин  2018-08-28   \n",
       "496     1496   36         NaN      Вологда     Трифон    Блохин  2018-01-27   \n",
       "497     1497   32         NaN    Челябинск   Каролина    Агеева  2018-10-09   \n",
       "498     1498   68  2018-10-25  Владикавказ   Всеволод   Акимчин  2018-07-19   \n",
       "499     1499   35         NaN        Пермь     Гектор  Корнилов  2018-09-27   \n",
       "\n",
       "    tariff  \n",
       "495  ultra  \n",
       "496  smart  \n",
       "497  smart  \n",
       "498  smart  \n",
       "499  smart  "
      ]
     },
     "execution_count": 9,
     "metadata": {},
     "output_type": "execute_result"
    }
   ],
   "source": [
    "users = pd.read_csv('/datasets/users.csv')\n",
    "users.tail(5)"
   ]
  },
  {
   "cell_type": "code",
   "execution_count": 10,
   "metadata": {},
   "outputs": [
    {
     "name": "stdout",
     "output_type": "stream",
     "text": [
      "<class 'pandas.core.frame.DataFrame'>\n",
      "RangeIndex: 500 entries, 0 to 499\n",
      "Data columns (total 8 columns):\n",
      "user_id       500 non-null int64\n",
      "age           500 non-null int64\n",
      "churn_date    38 non-null object\n",
      "city          500 non-null object\n",
      "first_name    500 non-null object\n",
      "last_name     500 non-null object\n",
      "reg_date      500 non-null object\n",
      "tariff        500 non-null object\n",
      "dtypes: int64(2), object(6)\n",
      "memory usage: 31.4+ KB\n"
     ]
    },
    {
     "data": {
      "text/plain": [
       "Index(['user_id', 'age', 'churn_date', 'city', 'first_name', 'last_name',\n",
       "       'reg_date', 'tariff'],\n",
       "      dtype='object')"
      ]
     },
     "execution_count": 10,
     "metadata": {},
     "output_type": "execute_result"
    }
   ],
   "source": [
    "# Выведем на экран общую информацию о файле:\n",
    "users.info()\n",
    "# отдельно выведем названия столбцов:\n",
    "users.columns"
   ]
  },
  {
   "cell_type": "markdown",
   "metadata": {},
   "source": [
    "Описание данных:\n",
    "\n",
    "-\tuser_id — уникальный идентификатор пользователя\n",
    "-\tage — возраст пользователя (годы)\n",
    "-\tchurn_date — дата прекращения пользования тарифом (если значение пропущено, то тариф ещё действовал на момент выгрузки данных)\n",
    "-\tcity — город проживания пользователя\n",
    "-\tfirst_name — имя пользователя\n",
    "-\tlast_name — фамилия пользователя\n",
    "-\treg_date — дата подключения тарифа (день, месяц, год)\n",
    "-\ttariff — название тарифного плана\n"
   ]
  },
  {
   "cell_type": "markdown",
   "metadata": {},
   "source": [
    "*Таблица 'users' (информация о пользователях) состоит из 500 строк и 8 столбцов, из которых 2 содержат дату('reg_date', 'churn_date'), 4 - категориальную переменную ('first_name', 'last_name', 'city', 'tariff'), остальные - количественную. В столбцах 'reg_date', 'churn_date' нужно выполнить замену типа данных. В столбце 'churn_date' - пропуски.*"
   ]
  },
  {
   "cell_type": "markdown",
   "metadata": {},
   "source": [
    "### Вывод:\n",
    "\n",
    "Имеем пять таблиц, каждая из которых содержит нужную для расчетов информацию:\n",
    "\n",
    "1) \"calls\" (информация о звонках). Одна строка в таблице - это один звонок, сделанный абонентом в определенную дату. Также содержит длительность разговора в минутах.\n",
    "\n",
    "2) 'internet' (информация об интернет-сессиях). Одна строка - это одна интернет -сессия, выполненная абонентом в определенную дату. Также содержит информацию об  объёме потраченного за сессию интернет-трафика (в мегабайтах).\n",
    "\n",
    "3)  'messages' (информация о сообщениях). Одна строка - это одно отравленное сообщение абонентом в определенную дату. \n",
    "\n",
    "4) 'tariffs' (информация о тарифах). Содержит характеристики, которые описывают тарифы \"Ультра\" и \"Смарт\". \n",
    "\n",
    "5) 'users' (информация о пользователях). Одна строка в таблице содержит информацию об абоненте компании, а именно: ФИО, возраст, город проживания. А также дату подключения, дату прекращения пользования тарифом, название тарифного плана.\n",
    "\n",
    "Переходим к предобработке данных.\n",
    "\n"
   ]
  },
  {
   "cell_type": "markdown",
   "metadata": {},
   "source": [
    "# Предобработка данных."
   ]
  },
  {
   "cell_type": "markdown",
   "metadata": {},
   "source": [
    "В каждой таблице выполним в нужных столбцах замену типа данных, посмотрим на пропуски. \n",
    "\n",
    "- В таблице \"calls\" (информация о звонках):  нужно выполнить замену типа данных в столбцах: 'call_date' - дата звонка(изменить на формат даты, чтобы была возможность работать с датами), 'duration' - длительность звонка в минутах(округлим данные до целого для удобства расчетов). Также в столбце есть значение = 0. Это аномалия, которую мы исправим.\n",
    "\n",
    "\n",
    "- В таблице \"internet\" нужна замена типа данных в столбцах 'mb_used' - объём потраченного за сессию интернет-трафика (в мегабайтах)(округлим данные до целого для удобства расчетов), 'session_date' - дата интернет сессии(на формат даты). Также в столбце 'mb_used' есть значение = 0, которое подлежит исправлению.\n",
    "\n",
    "\n",
    "- Таблица 'messages' (информация о сообщениях): нужна замена типа данных в столбце 'message_date'- дата сообщения(на формат даты)\n",
    "\n",
    "\n",
    "- Таблица 'users' (информация о пользователях): в столбцах 'reg_date' - дата подключения тарифа (день, месяц, год), 'churn_date'- дата прекращения пользования тарифом нужно выполнить замену типа данных(на формат даты). В столбце 'churn_date' имеются пропуски. Пропуски заполнять не будем, т.к. нам известно, что если значение пропущено, то тариф ещё действовал на момент выгрузки данных. Будем считать что тариф действует до сих пор.\n",
    "\n",
    "\n",
    "- Таблица 'tariffs' (информация о тарифах) в предобработке не нуждается.\n",
    "\n",
    "Для экономии времени создадим функцию data_type_replacement_date(data, columns1, columns2), которая будет переводить в таблице нужный столбец (columns1) в формат даты и добавлять новый столбец (columns2), в котором будет сохранен месяц из columns1. Новый столбец потребуется в дальнейшем нам для расчетов.\n",
    "\n",
    "Также создадим функцию data_type_replacement_integer(data, columns), которая будет заменять тип данных в нужном столбце на целочисленный."
   ]
  },
  {
   "cell_type": "code",
   "execution_count": 11,
   "metadata": {},
   "outputs": [],
   "source": [
    "# Создание функций:\n",
    "def data_type_replacement_date(data, columns1, columns2):\n",
    "    data[columns1] = pd.to_datetime(data[columns1], format = '%Y-%m-%d') # замена типа данных на формат даты\n",
    "    data[columns2] = pd.DatetimeIndex(data[columns1]).month # Добавление нового столбца к таблице, содержащего месяц\n",
    "    \n",
    "    \n",
    "def data_type_replacement_integer(data, columns):\n",
    "    data[columns] = data[columns].astype('int')# замена типа данных на целочисленный\n",
    "    "
   ]
  },
  {
   "cell_type": "markdown",
   "metadata": {},
   "source": [
    "Функции созданы. Выполним преобразования в таблицах:"
   ]
  },
  {
   "cell_type": "code",
   "execution_count": 12,
   "metadata": {},
   "outputs": [],
   "source": [
    "#  \"calls\" (информация о звонках):\n",
    "data_type_replacement_date(calls, 'call_date', 'date_month')\n",
    "data_type_replacement_integer(calls, 'duration')\n",
    "\n",
    "# в таблице \"internet\":\n",
    "data_type_replacement_date(internet, 'session_date', 'date_month')\n",
    "data_type_replacement_integer(internet, 'mb_used')\n",
    "\n",
    "# 'messages' (информация о сообщениях):\n",
    "data_type_replacement_date(messages, 'message_date', 'date_month')\n",
    "\n",
    "# 'users' (информация о пользователях):\n",
    "data_type_replacement_date(users, 'reg_date', 'date_month')\n",
    "# т.к. новый столбец для этих данных нам не потребуется, функцию применять не будем:\n",
    "users['churn_date'] = pd.to_datetime(users['churn_date'], format = '%Y-%m-%d')"
   ]
  },
  {
   "cell_type": "markdown",
   "metadata": {},
   "source": [
    "Проверим результат:"
   ]
  },
  {
   "cell_type": "code",
   "execution_count": 13,
   "metadata": {},
   "outputs": [
    {
     "name": "stdout",
     "output_type": "stream",
     "text": [
      "<class 'pandas.core.frame.DataFrame'>\n",
      "RangeIndex: 202607 entries, 0 to 202606\n",
      "Data columns (total 5 columns):\n",
      "id            202607 non-null object\n",
      "call_date     202607 non-null datetime64[ns]\n",
      "duration      202607 non-null int64\n",
      "user_id       202607 non-null int64\n",
      "date_month    202607 non-null int64\n",
      "dtypes: datetime64[ns](1), int64(3), object(1)\n",
      "memory usage: 7.7+ MB\n",
      "\n",
      "<class 'pandas.core.frame.DataFrame'>\n",
      "RangeIndex: 149396 entries, 0 to 149395\n",
      "Data columns (total 6 columns):\n",
      "Unnamed: 0      149396 non-null int64\n",
      "id              149396 non-null object\n",
      "mb_used         149396 non-null int64\n",
      "session_date    149396 non-null datetime64[ns]\n",
      "user_id         149396 non-null int64\n",
      "date_month      149396 non-null int64\n",
      "dtypes: datetime64[ns](1), int64(4), object(1)\n",
      "memory usage: 6.8+ MB\n",
      "\n",
      "<class 'pandas.core.frame.DataFrame'>\n",
      "RangeIndex: 123036 entries, 0 to 123035\n",
      "Data columns (total 4 columns):\n",
      "id              123036 non-null object\n",
      "message_date    123036 non-null datetime64[ns]\n",
      "user_id         123036 non-null int64\n",
      "date_month      123036 non-null int64\n",
      "dtypes: datetime64[ns](1), int64(2), object(1)\n",
      "memory usage: 3.8+ MB\n",
      "\n",
      "<class 'pandas.core.frame.DataFrame'>\n",
      "RangeIndex: 500 entries, 0 to 499\n",
      "Data columns (total 9 columns):\n",
      "user_id       500 non-null int64\n",
      "age           500 non-null int64\n",
      "churn_date    38 non-null datetime64[ns]\n",
      "city          500 non-null object\n",
      "first_name    500 non-null object\n",
      "last_name     500 non-null object\n",
      "reg_date      500 non-null datetime64[ns]\n",
      "tariff        500 non-null object\n",
      "date_month    500 non-null int64\n",
      "dtypes: datetime64[ns](2), int64(3), object(4)\n",
      "memory usage: 35.3+ KB\n"
     ]
    }
   ],
   "source": [
    "calls.info()\n",
    "print()\n",
    "internet.info()\n",
    "print()\n",
    "messages.info()\n",
    "print()\n",
    "users.info()"
   ]
  },
  {
   "cell_type": "markdown",
   "metadata": {},
   "source": [
    "В результате: замена типа данных выполнена корректно. Новые столбцы добавлены к таблицам.\n",
    "\n",
    "В столбцах 'mb_used','duration' есть значение = 0. Нам известно, что «Мегалайн» всегда округляет вверх значения минут и мегабайтов. Если пользователь проговорил всего 1 секунду, в тарифе засчитывается целая минута. Поэтому заменим значение 0 на 1мин. и 1 мегабайт."
   ]
  },
  {
   "cell_type": "code",
   "execution_count": 14,
   "metadata": {},
   "outputs": [
    {
     "data": {
      "text/plain": [
       "0"
      ]
     },
     "execution_count": 14,
     "metadata": {},
     "output_type": "execute_result"
    }
   ],
   "source": [
    "# Используем метод .loc():\n",
    "calls.loc[calls['duration'] == 0, 'duration'] = 1\n",
    "# Проверим результат:\n",
    "calls.query('duration == 0')['duration'].count()"
   ]
  },
  {
   "cell_type": "code",
   "execution_count": 15,
   "metadata": {},
   "outputs": [
    {
     "data": {
      "text/plain": [
       "0"
      ]
     },
     "execution_count": 15,
     "metadata": {},
     "output_type": "execute_result"
    }
   ],
   "source": [
    "# Используем метод .loc():\n",
    "internet.loc[internet['mb_used'] == 0, 'mb_used'] = 1\n",
    "# Проверим результат:\n",
    "internet.query('mb_used == 0')['mb_used'].count()"
   ]
  },
  {
   "cell_type": "markdown",
   "metadata": {},
   "source": [
    "Аномалий исправлены. Переходим к расчетам.\n"
   ]
  },
  {
   "cell_type": "markdown",
   "metadata": {},
   "source": [
    "# Расчеты"
   ]
  },
  {
   "cell_type": "markdown",
   "metadata": {},
   "source": [
    "Вычислим для каждого пользователя:\n",
    "- количество сделанных звонков и израсходованных минут разговора по месяцам;\n",
    "- количество отправленных сообщений по месяцам;\n",
    "- объем израсходованного интернет-трафика по месяцам;\n",
    "- помесячную выручку с каждого пользователя.\n",
    "\n",
    "\n",
    "А также объедим все данные в одну таблицу 'total_result'. Для этого:\n",
    "\n",
    "1) Создадим сводные таблицы для данных из таблиц calls, messages, internet (группировать данные будем по столбцам 'date_month', 'user_id')\n",
    "\n",
    "2) Объединим полученные сводные таблицы в одну 'total_result'\n",
    "\n",
    "3) Добавим данные к 'total_result' из таблицы users (для расчетов потребуются столбцы 'tariff', 'city')\n",
    "\n",
    "4) выполним необходимые расчеты"
   ]
  },
  {
   "cell_type": "markdown",
   "metadata": {},
   "source": [
    "1) Создадим сводные таблицы. Группировать данные будем по столбцам 'date_month', 'user_id'. Применять к значениям из столбцов 'duration', 'message_date', 'mb_used'  будем функции для подсчета количества и суммы"
   ]
  },
  {
   "cell_type": "code",
   "execution_count": 16,
   "metadata": {},
   "outputs": [
    {
     "data": {
      "text/html": [
       "<div>\n",
       "<style scoped>\n",
       "    .dataframe tbody tr th:only-of-type {\n",
       "        vertical-align: middle;\n",
       "    }\n",
       "\n",
       "    .dataframe tbody tr th {\n",
       "        vertical-align: top;\n",
       "    }\n",
       "\n",
       "    .dataframe thead th {\n",
       "        text-align: right;\n",
       "    }\n",
       "</style>\n",
       "<table border=\"1\" class=\"dataframe\">\n",
       "  <thead>\n",
       "    <tr style=\"text-align: right;\">\n",
       "      <th></th>\n",
       "      <th></th>\n",
       "      <th>count_duration</th>\n",
       "      <th>sum_duration</th>\n",
       "    </tr>\n",
       "    <tr>\n",
       "      <th>date_month</th>\n",
       "      <th>user_id</th>\n",
       "      <th></th>\n",
       "      <th></th>\n",
       "    </tr>\n",
       "  </thead>\n",
       "  <tbody>\n",
       "    <tr>\n",
       "      <td rowspan=\"5\" valign=\"top\">1</td>\n",
       "      <td>1005</td>\n",
       "      <td>15</td>\n",
       "      <td>89</td>\n",
       "    </tr>\n",
       "    <tr>\n",
       "      <td>1032</td>\n",
       "      <td>61</td>\n",
       "      <td>357</td>\n",
       "    </tr>\n",
       "    <tr>\n",
       "      <td>1045</td>\n",
       "      <td>1</td>\n",
       "      <td>8</td>\n",
       "    </tr>\n",
       "    <tr>\n",
       "      <td>1055</td>\n",
       "      <td>64</td>\n",
       "      <td>523</td>\n",
       "    </tr>\n",
       "    <tr>\n",
       "      <td>1071</td>\n",
       "      <td>24</td>\n",
       "      <td>182</td>\n",
       "    </tr>\n",
       "  </tbody>\n",
       "</table>\n",
       "</div>"
      ],
      "text/plain": [
       "                    count_duration  sum_duration\n",
       "date_month user_id                              \n",
       "1          1005                 15            89\n",
       "           1032                 61           357\n",
       "           1045                  1             8\n",
       "           1055                 64           523\n",
       "           1071                 24           182"
      ]
     },
     "execution_count": 16,
     "metadata": {},
     "output_type": "execute_result"
    }
   ],
   "source": [
    "# Для данных из таблицы calls(информация о звонках):\n",
    "# Используем метод pivot_table():\n",
    "\n",
    "calls_results = calls.pivot_table(index = ['date_month', 'user_id'], values = 'duration', aggfunc = ['count','sum'])\n",
    "calls_results.columns = ['count_duration', 'sum_duration'] # меняем названия столбцов\n",
    "calls_results.head(5) # проверим результат"
   ]
  },
  {
   "cell_type": "code",
   "execution_count": 17,
   "metadata": {},
   "outputs": [
    {
     "data": {
      "text/html": [
       "<div>\n",
       "<style scoped>\n",
       "    .dataframe tbody tr th:only-of-type {\n",
       "        vertical-align: middle;\n",
       "    }\n",
       "\n",
       "    .dataframe tbody tr th {\n",
       "        vertical-align: top;\n",
       "    }\n",
       "\n",
       "    .dataframe thead th {\n",
       "        text-align: right;\n",
       "    }\n",
       "</style>\n",
       "<table border=\"1\" class=\"dataframe\">\n",
       "  <thead>\n",
       "    <tr style=\"text-align: right;\">\n",
       "      <th></th>\n",
       "      <th></th>\n",
       "      <th>message_count</th>\n",
       "    </tr>\n",
       "    <tr>\n",
       "      <th>date_month</th>\n",
       "      <th>user_id</th>\n",
       "      <th></th>\n",
       "    </tr>\n",
       "  </thead>\n",
       "  <tbody>\n",
       "    <tr>\n",
       "      <td rowspan=\"5\" valign=\"top\">12</td>\n",
       "      <td>1493</td>\n",
       "      <td>78</td>\n",
       "    </tr>\n",
       "    <tr>\n",
       "      <td>1495</td>\n",
       "      <td>84</td>\n",
       "    </tr>\n",
       "    <tr>\n",
       "      <td>1496</td>\n",
       "      <td>51</td>\n",
       "    </tr>\n",
       "    <tr>\n",
       "      <td>1497</td>\n",
       "      <td>17</td>\n",
       "    </tr>\n",
       "    <tr>\n",
       "      <td>1499</td>\n",
       "      <td>66</td>\n",
       "    </tr>\n",
       "  </tbody>\n",
       "</table>\n",
       "</div>"
      ],
      "text/plain": [
       "                    message_count\n",
       "date_month user_id               \n",
       "12         1493                78\n",
       "           1495                84\n",
       "           1496                51\n",
       "           1497                17\n",
       "           1499                66"
      ]
     },
     "execution_count": 17,
     "metadata": {},
     "output_type": "execute_result"
    }
   ],
   "source": [
    "# Для данных из таблицы messages(информация о сообщениях):\n",
    "# Используем метод pivot_table():\n",
    "messages_result = messages.pivot_table(index = ['date_month', 'user_id'], values = 'message_date', aggfunc = 'count')\n",
    "messages_result.columns = ['message_count']\n",
    "messages_result.tail(5) # проверим результат"
   ]
  },
  {
   "cell_type": "code",
   "execution_count": 18,
   "metadata": {},
   "outputs": [
    {
     "data": {
      "text/html": [
       "<div>\n",
       "<style scoped>\n",
       "    .dataframe tbody tr th:only-of-type {\n",
       "        vertical-align: middle;\n",
       "    }\n",
       "\n",
       "    .dataframe tbody tr th {\n",
       "        vertical-align: top;\n",
       "    }\n",
       "\n",
       "    .dataframe thead th {\n",
       "        text-align: right;\n",
       "    }\n",
       "</style>\n",
       "<table border=\"1\" class=\"dataframe\">\n",
       "  <thead>\n",
       "    <tr style=\"text-align: right;\">\n",
       "      <th></th>\n",
       "      <th></th>\n",
       "      <th>mb_used_sum</th>\n",
       "    </tr>\n",
       "    <tr>\n",
       "      <th>date_month</th>\n",
       "      <th>user_id</th>\n",
       "      <th></th>\n",
       "    </tr>\n",
       "  </thead>\n",
       "  <tbody>\n",
       "    <tr>\n",
       "      <td rowspan=\"5\" valign=\"top\">1</td>\n",
       "      <td>1005</td>\n",
       "      <td>2724</td>\n",
       "    </tr>\n",
       "    <tr>\n",
       "      <td>1032</td>\n",
       "      <td>24111</td>\n",
       "    </tr>\n",
       "    <tr>\n",
       "      <td>1045</td>\n",
       "      <td>2343</td>\n",
       "    </tr>\n",
       "    <tr>\n",
       "      <td>1055</td>\n",
       "      <td>17073</td>\n",
       "    </tr>\n",
       "    <tr>\n",
       "      <td>1071</td>\n",
       "      <td>15588</td>\n",
       "    </tr>\n",
       "  </tbody>\n",
       "</table>\n",
       "</div>"
      ],
      "text/plain": [
       "                    mb_used_sum\n",
       "date_month user_id             \n",
       "1          1005            2724\n",
       "           1032           24111\n",
       "           1045            2343\n",
       "           1055           17073\n",
       "           1071           15588"
      ]
     },
     "execution_count": 18,
     "metadata": {},
     "output_type": "execute_result"
    }
   ],
   "source": [
    "# Для данных из таблицы internet(информация об интернет-сессиях):\n",
    "# Используем метод pivot_table():\n",
    "internet_result = internet.pivot_table(index = ['date_month', 'user_id'], values = 'mb_used', aggfunc = 'sum')\n",
    "internet_result.columns = ['mb_used_sum'] # меняем названия столбцов\n",
    "internet_result.head(5) # проверим результат"
   ]
  },
  {
   "cell_type": "markdown",
   "metadata": {},
   "source": [
    "**Сводные таблицы созданы.** \n",
    "\n",
    "Чтобы при объединений таблиц в одну общую не потерять строки или исключить задвоение строк, выведем на экран количество строк каждой сводной таблицы."
   ]
  },
  {
   "cell_type": "code",
   "execution_count": 19,
   "metadata": {},
   "outputs": [
    {
     "name": "stdout",
     "output_type": "stream",
     "text": [
      "(3174, 2) информация о звонках\n",
      "(2717, 1) информация о сообщениях\n",
      "(3203, 1) информация об интернет-сессиях\n"
     ]
    }
   ],
   "source": [
    "# Используем метод shape:\n",
    "print(calls_results.shape, 'информация о звонках')\n",
    "print(messages_result.shape, 'информация о сообщениях')\n",
    "print(internet_result.shape, 'информация об интернет-сессиях')"
   ]
  },
  {
   "cell_type": "markdown",
   "metadata": {},
   "source": [
    "Переходим к объединению таблиц.\n",
    "\n",
    "2) Объединим полученные сводные таблицы в одну 'total_result'. Объединять будем по столбцам 'date_month', 'user_id'."
   ]
  },
  {
   "cell_type": "code",
   "execution_count": 20,
   "metadata": {},
   "outputs": [
    {
     "data": {
      "text/html": [
       "<div>\n",
       "<style scoped>\n",
       "    .dataframe tbody tr th:only-of-type {\n",
       "        vertical-align: middle;\n",
       "    }\n",
       "\n",
       "    .dataframe tbody tr th {\n",
       "        vertical-align: top;\n",
       "    }\n",
       "\n",
       "    .dataframe thead th {\n",
       "        text-align: right;\n",
       "    }\n",
       "</style>\n",
       "<table border=\"1\" class=\"dataframe\">\n",
       "  <thead>\n",
       "    <tr style=\"text-align: right;\">\n",
       "      <th></th>\n",
       "      <th></th>\n",
       "      <th>count_duration</th>\n",
       "      <th>sum_duration</th>\n",
       "      <th>message_count</th>\n",
       "      <th>mb_used_sum</th>\n",
       "    </tr>\n",
       "    <tr>\n",
       "      <th>date_month</th>\n",
       "      <th>user_id</th>\n",
       "      <th></th>\n",
       "      <th></th>\n",
       "      <th></th>\n",
       "      <th></th>\n",
       "    </tr>\n",
       "  </thead>\n",
       "  <tbody>\n",
       "    <tr>\n",
       "      <td rowspan=\"10\" valign=\"top\">1</td>\n",
       "      <td>1005</td>\n",
       "      <td>15.0</td>\n",
       "      <td>89.0</td>\n",
       "      <td>7.0</td>\n",
       "      <td>2724.0</td>\n",
       "    </tr>\n",
       "    <tr>\n",
       "      <td>1032</td>\n",
       "      <td>61.0</td>\n",
       "      <td>357.0</td>\n",
       "      <td>38.0</td>\n",
       "      <td>24111.0</td>\n",
       "    </tr>\n",
       "    <tr>\n",
       "      <td>1045</td>\n",
       "      <td>1.0</td>\n",
       "      <td>8.0</td>\n",
       "      <td>5.0</td>\n",
       "      <td>2343.0</td>\n",
       "    </tr>\n",
       "    <tr>\n",
       "      <td>1055</td>\n",
       "      <td>64.0</td>\n",
       "      <td>523.0</td>\n",
       "      <td>30.0</td>\n",
       "      <td>17073.0</td>\n",
       "    </tr>\n",
       "    <tr>\n",
       "      <td>1071</td>\n",
       "      <td>24.0</td>\n",
       "      <td>182.0</td>\n",
       "      <td>16.0</td>\n",
       "      <td>15588.0</td>\n",
       "    </tr>\n",
       "    <tr>\n",
       "      <td>1113</td>\n",
       "      <td>18.0</td>\n",
       "      <td>104.0</td>\n",
       "      <td>14.0</td>\n",
       "      <td>767.0</td>\n",
       "    </tr>\n",
       "    <tr>\n",
       "      <td>1120</td>\n",
       "      <td>5.0</td>\n",
       "      <td>52.0</td>\n",
       "      <td>NaN</td>\n",
       "      <td>656.0</td>\n",
       "    </tr>\n",
       "    <tr>\n",
       "      <td>1126</td>\n",
       "      <td>35.0</td>\n",
       "      <td>251.0</td>\n",
       "      <td>4.0</td>\n",
       "      <td>16349.0</td>\n",
       "    </tr>\n",
       "    <tr>\n",
       "      <td>1134</td>\n",
       "      <td>42.0</td>\n",
       "      <td>313.0</td>\n",
       "      <td>32.0</td>\n",
       "      <td>10190.0</td>\n",
       "    </tr>\n",
       "    <tr>\n",
       "      <td>1135</td>\n",
       "      <td>9.0</td>\n",
       "      <td>82.0</td>\n",
       "      <td>1.0</td>\n",
       "      <td>1599.0</td>\n",
       "    </tr>\n",
       "  </tbody>\n",
       "</table>\n",
       "</div>"
      ],
      "text/plain": [
       "                    count_duration  sum_duration  message_count  mb_used_sum\n",
       "date_month user_id                                                          \n",
       "1          1005               15.0          89.0            7.0       2724.0\n",
       "           1032               61.0         357.0           38.0      24111.0\n",
       "           1045                1.0           8.0            5.0       2343.0\n",
       "           1055               64.0         523.0           30.0      17073.0\n",
       "           1071               24.0         182.0           16.0      15588.0\n",
       "           1113               18.0         104.0           14.0        767.0\n",
       "           1120                5.0          52.0            NaN        656.0\n",
       "           1126               35.0         251.0            4.0      16349.0\n",
       "           1134               42.0         313.0           32.0      10190.0\n",
       "           1135                9.0          82.0            1.0       1599.0"
      ]
     },
     "execution_count": 20,
     "metadata": {},
     "output_type": "execute_result"
    }
   ],
   "source": [
    "# Используем метод merge(). Чтобы не потерять строки столбцов будем использовать тип объединения 'outer' - внешний\n",
    "results_total = pd.merge(calls_results, messages_result,  on = ['date_month', 'user_id'], how = 'outer')\n",
    "results_total = pd.merge(results_total, internet_result, on = ['date_month', 'user_id'], how = 'outer')\n",
    "results_total.head(10) # Проверим результат"
   ]
  },
  {
   "cell_type": "markdown",
   "metadata": {},
   "source": [
    "Проверим, что мы присоединили нужное количество строк:"
   ]
  },
  {
   "cell_type": "code",
   "execution_count": 21,
   "metadata": {},
   "outputs": [
    {
     "name": "stdout",
     "output_type": "stream",
     "text": [
      "<class 'pandas.core.frame.DataFrame'>\n",
      "MultiIndex: 3214 entries, (1, 1005) to (4, 1476)\n",
      "Data columns (total 4 columns):\n",
      "count_duration    3174 non-null float64\n",
      "sum_duration      3174 non-null float64\n",
      "message_count     2717 non-null float64\n",
      "mb_used_sum       3203 non-null float64\n",
      "dtypes: float64(4)\n",
      "memory usage: 114.0 KB\n"
     ]
    }
   ],
   "source": [
    "results_total.info()"
   ]
  },
  {
   "cell_type": "markdown",
   "metadata": {},
   "source": [
    "**Объединение таблиц выполнено корректно: данные не утеряны.**. Переходим к следующему шагу.\n",
    "\n",
    "3) Добавим данные к 'total_result' из таблицы users (для расчетов потребуются столбцы 'tariff', 'city'). Объединять будем по столбцу 'user_id'. Но сначала сделаем срез таблицы users: оставим только нужные для расчетов столбцы('user_id', 'tariff', 'city')"
   ]
  },
  {
   "cell_type": "code",
   "execution_count": 22,
   "metadata": {},
   "outputs": [
    {
     "data": {
      "text/html": [
       "<div>\n",
       "<style scoped>\n",
       "    .dataframe tbody tr th:only-of-type {\n",
       "        vertical-align: middle;\n",
       "    }\n",
       "\n",
       "    .dataframe tbody tr th {\n",
       "        vertical-align: top;\n",
       "    }\n",
       "\n",
       "    .dataframe thead th {\n",
       "        text-align: right;\n",
       "    }\n",
       "</style>\n",
       "<table border=\"1\" class=\"dataframe\">\n",
       "  <thead>\n",
       "    <tr style=\"text-align: right;\">\n",
       "      <th></th>\n",
       "      <th>user_id</th>\n",
       "      <th>tariff</th>\n",
       "      <th>city</th>\n",
       "    </tr>\n",
       "  </thead>\n",
       "  <tbody>\n",
       "    <tr>\n",
       "      <td>495</td>\n",
       "      <td>1495</td>\n",
       "      <td>ultra</td>\n",
       "      <td>Иркутск</td>\n",
       "    </tr>\n",
       "    <tr>\n",
       "      <td>496</td>\n",
       "      <td>1496</td>\n",
       "      <td>smart</td>\n",
       "      <td>Вологда</td>\n",
       "    </tr>\n",
       "    <tr>\n",
       "      <td>497</td>\n",
       "      <td>1497</td>\n",
       "      <td>smart</td>\n",
       "      <td>Челябинск</td>\n",
       "    </tr>\n",
       "    <tr>\n",
       "      <td>498</td>\n",
       "      <td>1498</td>\n",
       "      <td>smart</td>\n",
       "      <td>Владикавказ</td>\n",
       "    </tr>\n",
       "    <tr>\n",
       "      <td>499</td>\n",
       "      <td>1499</td>\n",
       "      <td>smart</td>\n",
       "      <td>Пермь</td>\n",
       "    </tr>\n",
       "  </tbody>\n",
       "</table>\n",
       "</div>"
      ],
      "text/plain": [
       "     user_id tariff         city\n",
       "495     1495  ultra      Иркутск\n",
       "496     1496  smart      Вологда\n",
       "497     1497  smart    Челябинск\n",
       "498     1498  smart  Владикавказ\n",
       "499     1499  smart        Пермь"
      ]
     },
     "execution_count": 22,
     "metadata": {},
     "output_type": "execute_result"
    }
   ],
   "source": [
    "# Для создания среза используем метод .loc:\n",
    "users_results = users.loc[:, ['user_id',  'tariff', 'city']].copy()\n",
    "users_results.tail(5)"
   ]
  },
  {
   "cell_type": "code",
   "execution_count": 23,
   "metadata": {},
   "outputs": [
    {
     "data": {
      "text/html": [
       "<div>\n",
       "<style scoped>\n",
       "    .dataframe tbody tr th:only-of-type {\n",
       "        vertical-align: middle;\n",
       "    }\n",
       "\n",
       "    .dataframe tbody tr th {\n",
       "        vertical-align: top;\n",
       "    }\n",
       "\n",
       "    .dataframe thead th {\n",
       "        text-align: right;\n",
       "    }\n",
       "</style>\n",
       "<table border=\"1\" class=\"dataframe\">\n",
       "  <thead>\n",
       "    <tr style=\"text-align: right;\">\n",
       "      <th></th>\n",
       "      <th>user_id</th>\n",
       "      <th>count_duration</th>\n",
       "      <th>sum_duration</th>\n",
       "      <th>message_count</th>\n",
       "      <th>mb_used_sum</th>\n",
       "      <th>tariff</th>\n",
       "      <th>city</th>\n",
       "    </tr>\n",
       "  </thead>\n",
       "  <tbody>\n",
       "    <tr>\n",
       "      <td>0</td>\n",
       "      <td>1005</td>\n",
       "      <td>15.0</td>\n",
       "      <td>89.0</td>\n",
       "      <td>7.0</td>\n",
       "      <td>2724.0</td>\n",
       "      <td>smart</td>\n",
       "      <td>Набережные Челны</td>\n",
       "    </tr>\n",
       "    <tr>\n",
       "      <td>1</td>\n",
       "      <td>1005</td>\n",
       "      <td>69.0</td>\n",
       "      <td>420.0</td>\n",
       "      <td>38.0</td>\n",
       "      <td>7374.0</td>\n",
       "      <td>smart</td>\n",
       "      <td>Набережные Челны</td>\n",
       "    </tr>\n",
       "    <tr>\n",
       "      <td>2</td>\n",
       "      <td>1005</td>\n",
       "      <td>77.0</td>\n",
       "      <td>560.0</td>\n",
       "      <td>56.0</td>\n",
       "      <td>11095.0</td>\n",
       "      <td>smart</td>\n",
       "      <td>Набережные Челны</td>\n",
       "    </tr>\n",
       "    <tr>\n",
       "      <td>3</td>\n",
       "      <td>1005</td>\n",
       "      <td>101.0</td>\n",
       "      <td>663.0</td>\n",
       "      <td>41.0</td>\n",
       "      <td>9347.0</td>\n",
       "      <td>smart</td>\n",
       "      <td>Набережные Челны</td>\n",
       "    </tr>\n",
       "    <tr>\n",
       "      <td>4</td>\n",
       "      <td>1005</td>\n",
       "      <td>73.0</td>\n",
       "      <td>548.0</td>\n",
       "      <td>42.0</td>\n",
       "      <td>7862.0</td>\n",
       "      <td>smart</td>\n",
       "      <td>Набережные Челны</td>\n",
       "    </tr>\n",
       "    <tr>\n",
       "      <td>5</td>\n",
       "      <td>1005</td>\n",
       "      <td>80.0</td>\n",
       "      <td>560.0</td>\n",
       "      <td>47.0</td>\n",
       "      <td>9855.0</td>\n",
       "      <td>smart</td>\n",
       "      <td>Набережные Челны</td>\n",
       "    </tr>\n",
       "    <tr>\n",
       "      <td>6</td>\n",
       "      <td>1005</td>\n",
       "      <td>77.0</td>\n",
       "      <td>525.0</td>\n",
       "      <td>56.0</td>\n",
       "      <td>7686.0</td>\n",
       "      <td>smart</td>\n",
       "      <td>Набережные Челны</td>\n",
       "    </tr>\n",
       "    <tr>\n",
       "      <td>7</td>\n",
       "      <td>1005</td>\n",
       "      <td>71.0</td>\n",
       "      <td>564.0</td>\n",
       "      <td>64.0</td>\n",
       "      <td>7539.0</td>\n",
       "      <td>smart</td>\n",
       "      <td>Набережные Челны</td>\n",
       "    </tr>\n",
       "    <tr>\n",
       "      <td>8</td>\n",
       "      <td>1005</td>\n",
       "      <td>66.0</td>\n",
       "      <td>434.0</td>\n",
       "      <td>52.0</td>\n",
       "      <td>7009.0</td>\n",
       "      <td>smart</td>\n",
       "      <td>Набережные Челны</td>\n",
       "    </tr>\n",
       "    <tr>\n",
       "      <td>9</td>\n",
       "      <td>1005</td>\n",
       "      <td>100.0</td>\n",
       "      <td>673.0</td>\n",
       "      <td>44.0</td>\n",
       "      <td>7792.0</td>\n",
       "      <td>smart</td>\n",
       "      <td>Набережные Челны</td>\n",
       "    </tr>\n",
       "  </tbody>\n",
       "</table>\n",
       "</div>"
      ],
      "text/plain": [
       "   user_id  count_duration  sum_duration  message_count  mb_used_sum tariff  \\\n",
       "0     1005            15.0          89.0            7.0       2724.0  smart   \n",
       "1     1005            69.0         420.0           38.0       7374.0  smart   \n",
       "2     1005            77.0         560.0           56.0      11095.0  smart   \n",
       "3     1005           101.0         663.0           41.0       9347.0  smart   \n",
       "4     1005            73.0         548.0           42.0       7862.0  smart   \n",
       "5     1005            80.0         560.0           47.0       9855.0  smart   \n",
       "6     1005            77.0         525.0           56.0       7686.0  smart   \n",
       "7     1005            71.0         564.0           64.0       7539.0  smart   \n",
       "8     1005            66.0         434.0           52.0       7009.0  smart   \n",
       "9     1005           100.0         673.0           44.0       7792.0  smart   \n",
       "\n",
       "               city  \n",
       "0  Набережные Челны  \n",
       "1  Набережные Челны  \n",
       "2  Набережные Челны  \n",
       "3  Набережные Челны  \n",
       "4  Набережные Челны  \n",
       "5  Набережные Челны  \n",
       "6  Набережные Челны  \n",
       "7  Набережные Челны  \n",
       "8  Набережные Челны  \n",
       "9  Набережные Челны  "
      ]
     },
     "execution_count": 23,
     "metadata": {},
     "output_type": "execute_result"
    }
   ],
   "source": [
    "# Для объединения таблиц users_results и  results_total используем метод merge(). \n",
    "# Чтобы не потерять строки столбцов будем использовать тип объединения 'outer' - внешний\n",
    "results_total = pd.merge(results_total, users_results, on = 'user_id', how = 'outer')\n",
    "results_total.head(10)"
   ]
  },
  {
   "cell_type": "code",
   "execution_count": 24,
   "metadata": {},
   "outputs": [
    {
     "name": "stdout",
     "output_type": "stream",
     "text": [
      "<class 'pandas.core.frame.DataFrame'>\n",
      "Int64Index: 3216 entries, 0 to 3215\n",
      "Data columns (total 7 columns):\n",
      "user_id           3216 non-null int64\n",
      "count_duration    3174 non-null float64\n",
      "sum_duration      3174 non-null float64\n",
      "message_count     2717 non-null float64\n",
      "mb_used_sum       3203 non-null float64\n",
      "tariff            3216 non-null object\n",
      "city              3216 non-null object\n",
      "dtypes: float64(4), int64(1), object(2)\n",
      "memory usage: 201.0+ KB\n"
     ]
    }
   ],
   "source": [
    "# Проверим результат:\n",
    "results_total.info()"
   ]
  },
  {
   "cell_type": "markdown",
   "metadata": {},
   "source": [
    "Готово. Видим, что в столбцах образовались пропуски из-за внешнего объединения таблиц. Чуть позже их заменим на 0.\n",
    "\n",
    "**Таблицы объединили в одну общую results_total.** Переходим к расчетам.\n",
    "\n",
    "4) Нам осталось вычислить помесячную выручку с каждого пользователя. \n",
    "\n",
    "Выведем описание тарифов на экран. Для этого обратимся к таблице tariffs:\n"
   ]
  },
  {
   "cell_type": "code",
   "execution_count": 25,
   "metadata": {},
   "outputs": [
    {
     "data": {
      "text/html": [
       "<div>\n",
       "<style scoped>\n",
       "    .dataframe tbody tr th:only-of-type {\n",
       "        vertical-align: middle;\n",
       "    }\n",
       "\n",
       "    .dataframe tbody tr th {\n",
       "        vertical-align: top;\n",
       "    }\n",
       "\n",
       "    .dataframe thead th {\n",
       "        text-align: right;\n",
       "    }\n",
       "</style>\n",
       "<table border=\"1\" class=\"dataframe\">\n",
       "  <thead>\n",
       "    <tr style=\"text-align: right;\">\n",
       "      <th></th>\n",
       "      <th>messages_included</th>\n",
       "      <th>mb_per_month_included</th>\n",
       "      <th>minutes_included</th>\n",
       "      <th>rub_monthly_fee</th>\n",
       "      <th>rub_per_gb</th>\n",
       "      <th>rub_per_message</th>\n",
       "      <th>rub_per_minute</th>\n",
       "      <th>tariff_name</th>\n",
       "    </tr>\n",
       "  </thead>\n",
       "  <tbody>\n",
       "    <tr>\n",
       "      <td>0</td>\n",
       "      <td>50</td>\n",
       "      <td>15360</td>\n",
       "      <td>500</td>\n",
       "      <td>550</td>\n",
       "      <td>200</td>\n",
       "      <td>3</td>\n",
       "      <td>3</td>\n",
       "      <td>smart</td>\n",
       "    </tr>\n",
       "    <tr>\n",
       "      <td>1</td>\n",
       "      <td>1000</td>\n",
       "      <td>30720</td>\n",
       "      <td>3000</td>\n",
       "      <td>1950</td>\n",
       "      <td>150</td>\n",
       "      <td>1</td>\n",
       "      <td>1</td>\n",
       "      <td>ultra</td>\n",
       "    </tr>\n",
       "  </tbody>\n",
       "</table>\n",
       "</div>"
      ],
      "text/plain": [
       "   messages_included  mb_per_month_included  minutes_included  \\\n",
       "0                 50                  15360               500   \n",
       "1               1000                  30720              3000   \n",
       "\n",
       "   rub_monthly_fee  rub_per_gb  rub_per_message  rub_per_minute tariff_name  \n",
       "0              550         200                3               3       smart  \n",
       "1             1950         150                1               1       ultra  "
      ]
     },
     "execution_count": 25,
     "metadata": {},
     "output_type": "execute_result"
    }
   ],
   "source": [
    "tariffs"
   ]
  },
  {
   "cell_type": "markdown",
   "metadata": {},
   "source": [
    "Переведем мегабайты в гигабайты для удобства расчетов, результат округлим до целого и сохраним в новый столбец 'mb_used_sum_gb':"
   ]
  },
  {
   "cell_type": "code",
   "execution_count": 26,
   "metadata": {},
   "outputs": [
    {
     "data": {
      "text/html": [
       "<div>\n",
       "<style scoped>\n",
       "    .dataframe tbody tr th:only-of-type {\n",
       "        vertical-align: middle;\n",
       "    }\n",
       "\n",
       "    .dataframe tbody tr th {\n",
       "        vertical-align: top;\n",
       "    }\n",
       "\n",
       "    .dataframe thead th {\n",
       "        text-align: right;\n",
       "    }\n",
       "</style>\n",
       "<table border=\"1\" class=\"dataframe\">\n",
       "  <thead>\n",
       "    <tr style=\"text-align: right;\">\n",
       "      <th></th>\n",
       "      <th>mb_used_sum</th>\n",
       "      <th>mb_used_sum_gb</th>\n",
       "    </tr>\n",
       "  </thead>\n",
       "  <tbody>\n",
       "    <tr>\n",
       "      <td>0</td>\n",
       "      <td>2724.0</td>\n",
       "      <td>3.0</td>\n",
       "    </tr>\n",
       "    <tr>\n",
       "      <td>1</td>\n",
       "      <td>7374.0</td>\n",
       "      <td>7.0</td>\n",
       "    </tr>\n",
       "    <tr>\n",
       "      <td>2</td>\n",
       "      <td>11095.0</td>\n",
       "      <td>11.0</td>\n",
       "    </tr>\n",
       "    <tr>\n",
       "      <td>3</td>\n",
       "      <td>9347.0</td>\n",
       "      <td>9.0</td>\n",
       "    </tr>\n",
       "    <tr>\n",
       "      <td>4</td>\n",
       "      <td>7862.0</td>\n",
       "      <td>8.0</td>\n",
       "    </tr>\n",
       "  </tbody>\n",
       "</table>\n",
       "</div>"
      ],
      "text/plain": [
       "   mb_used_sum  mb_used_sum_gb\n",
       "0       2724.0             3.0\n",
       "1       7374.0             7.0\n",
       "2      11095.0            11.0\n",
       "3       9347.0             9.0\n",
       "4       7862.0             8.0"
      ]
     },
     "execution_count": 26,
     "metadata": {},
     "output_type": "execute_result"
    }
   ],
   "source": [
    "# Учитывая, что в 1гб. = 1024 мегабайта. Результат округлим до целого, используя round():\n",
    "results_total['mb_used_sum_gb'] = round(results_total['mb_used_sum'] / 1024)\n",
    "results_total[['mb_used_sum', 'mb_used_sum_gb']].head(5)"
   ]
  },
  {
   "cell_type": "markdown",
   "metadata": {},
   "source": [
    "Сразу проверим не появился ли в новом столбце при округлении  0. "
   ]
  },
  {
   "cell_type": "code",
   "execution_count": 27,
   "metadata": {},
   "outputs": [
    {
     "data": {
      "text/plain": [
       "count    3203.000000\n",
       "mean       16.838589\n",
       "std         7.340295\n",
       "min         0.000000\n",
       "25%        12.000000\n",
       "50%        17.000000\n",
       "75%        21.000000\n",
       "max        49.000000\n",
       "Name: mb_used_sum_gb, dtype: float64"
      ]
     },
     "execution_count": 27,
     "metadata": {},
     "output_type": "execute_result"
    }
   ],
   "source": [
    "results_total['mb_used_sum_gb'].describe()"
   ]
  },
  {
   "cell_type": "markdown",
   "metadata": {},
   "source": [
    "Появился 0 в значениях столбца (min = 0). Заменим на 1."
   ]
  },
  {
   "cell_type": "code",
   "execution_count": 28,
   "metadata": {},
   "outputs": [
    {
     "data": {
      "text/plain": [
       "0"
      ]
     },
     "execution_count": 28,
     "metadata": {},
     "output_type": "execute_result"
    }
   ],
   "source": [
    "# Используем метод .loc():\n",
    "results_total.loc[results_total['mb_used_sum_gb'] == 0, 'mb_used_sum_gb'] = 1\n",
    "# Проверим результат:\n",
    "results_total.query('mb_used_sum_gb == 0')['mb_used_sum_gb'].count()"
   ]
  },
  {
   "cell_type": "markdown",
   "metadata": {},
   "source": [
    "Данные переведены корректно. Добавлен новый столбец 'mb_used_sum_gb' - объем израсходованного интернет - трафика в гигабайтах. Сейчас вычислим выручку для каждого пользователя. Для этого в отдельных столбцах выведем сумму выручки за дополнительные минуты, сообщения, интернет-трафика (для удобства расчетов). Затем полученные суммы сложим с абонентской платой за месяц. Результат сохраним в новом столбце 'user_revenue' - выручка с клиента."
   ]
  },
  {
   "cell_type": "code",
   "execution_count": 29,
   "metadata": {},
   "outputs": [
    {
     "data": {
      "text/html": [
       "<div>\n",
       "<style scoped>\n",
       "    .dataframe tbody tr th:only-of-type {\n",
       "        vertical-align: middle;\n",
       "    }\n",
       "\n",
       "    .dataframe tbody tr th {\n",
       "        vertical-align: top;\n",
       "    }\n",
       "\n",
       "    .dataframe thead th {\n",
       "        text-align: right;\n",
       "    }\n",
       "</style>\n",
       "<table border=\"1\" class=\"dataframe\">\n",
       "  <thead>\n",
       "    <tr style=\"text-align: right;\">\n",
       "      <th></th>\n",
       "      <th>0</th>\n",
       "      <th>1</th>\n",
       "      <th>2</th>\n",
       "      <th>3</th>\n",
       "      <th>4</th>\n",
       "    </tr>\n",
       "  </thead>\n",
       "  <tbody>\n",
       "    <tr>\n",
       "      <td>user_id</td>\n",
       "      <td>1005</td>\n",
       "      <td>1005</td>\n",
       "      <td>1005</td>\n",
       "      <td>1005</td>\n",
       "      <td>1005</td>\n",
       "    </tr>\n",
       "    <tr>\n",
       "      <td>count_duration</td>\n",
       "      <td>15</td>\n",
       "      <td>69</td>\n",
       "      <td>77</td>\n",
       "      <td>101</td>\n",
       "      <td>73</td>\n",
       "    </tr>\n",
       "    <tr>\n",
       "      <td>sum_duration</td>\n",
       "      <td>89</td>\n",
       "      <td>420</td>\n",
       "      <td>560</td>\n",
       "      <td>663</td>\n",
       "      <td>548</td>\n",
       "    </tr>\n",
       "    <tr>\n",
       "      <td>message_count</td>\n",
       "      <td>7</td>\n",
       "      <td>38</td>\n",
       "      <td>56</td>\n",
       "      <td>41</td>\n",
       "      <td>42</td>\n",
       "    </tr>\n",
       "    <tr>\n",
       "      <td>mb_used_sum</td>\n",
       "      <td>2724</td>\n",
       "      <td>7374</td>\n",
       "      <td>11095</td>\n",
       "      <td>9347</td>\n",
       "      <td>7862</td>\n",
       "    </tr>\n",
       "    <tr>\n",
       "      <td>tariff</td>\n",
       "      <td>smart</td>\n",
       "      <td>smart</td>\n",
       "      <td>smart</td>\n",
       "      <td>smart</td>\n",
       "      <td>smart</td>\n",
       "    </tr>\n",
       "    <tr>\n",
       "      <td>city</td>\n",
       "      <td>Набережные Челны</td>\n",
       "      <td>Набережные Челны</td>\n",
       "      <td>Набережные Челны</td>\n",
       "      <td>Набережные Челны</td>\n",
       "      <td>Набережные Челны</td>\n",
       "    </tr>\n",
       "    <tr>\n",
       "      <td>mb_used_sum_gb</td>\n",
       "      <td>3</td>\n",
       "      <td>7</td>\n",
       "      <td>11</td>\n",
       "      <td>9</td>\n",
       "      <td>8</td>\n",
       "    </tr>\n",
       "    <tr>\n",
       "      <td>minute_no_price</td>\n",
       "      <td>0</td>\n",
       "      <td>0</td>\n",
       "      <td>180</td>\n",
       "      <td>489</td>\n",
       "      <td>144</td>\n",
       "    </tr>\n",
       "    <tr>\n",
       "      <td>message_no_price</td>\n",
       "      <td>0</td>\n",
       "      <td>0</td>\n",
       "      <td>18</td>\n",
       "      <td>0</td>\n",
       "      <td>0</td>\n",
       "    </tr>\n",
       "    <tr>\n",
       "      <td>internet_no_price</td>\n",
       "      <td>550</td>\n",
       "      <td>550</td>\n",
       "      <td>550</td>\n",
       "      <td>550</td>\n",
       "      <td>550</td>\n",
       "    </tr>\n",
       "    <tr>\n",
       "      <td>user_revenue</td>\n",
       "      <td>550</td>\n",
       "      <td>550</td>\n",
       "      <td>748</td>\n",
       "      <td>1039</td>\n",
       "      <td>694</td>\n",
       "    </tr>\n",
       "  </tbody>\n",
       "</table>\n",
       "</div>"
      ],
      "text/plain": [
       "                                  0                 1                 2  \\\n",
       "user_id                        1005              1005              1005   \n",
       "count_duration                   15                69                77   \n",
       "sum_duration                     89               420               560   \n",
       "message_count                     7                38                56   \n",
       "mb_used_sum                    2724              7374             11095   \n",
       "tariff                        smart             smart             smart   \n",
       "city               Набережные Челны  Набережные Челны  Набережные Челны   \n",
       "mb_used_sum_gb                    3                 7                11   \n",
       "minute_no_price                   0                 0               180   \n",
       "message_no_price                  0                 0                18   \n",
       "internet_no_price               550               550               550   \n",
       "user_revenue                    550               550               748   \n",
       "\n",
       "                                  3                 4  \n",
       "user_id                        1005              1005  \n",
       "count_duration                  101                73  \n",
       "sum_duration                    663               548  \n",
       "message_count                    41                42  \n",
       "mb_used_sum                    9347              7862  \n",
       "tariff                        smart             smart  \n",
       "city               Набережные Челны  Набережные Челны  \n",
       "mb_used_sum_gb                    9                 8  \n",
       "minute_no_price                 489               144  \n",
       "message_no_price                  0                 0  \n",
       "internet_no_price               550               550  \n",
       "user_revenue                   1039               694  "
      ]
     },
     "execution_count": 29,
     "metadata": {},
     "output_type": "execute_result"
    }
   ],
   "source": [
    "# Воспользуемся методом apply():\n",
    "# Создание вспомогательных функции:\n",
    "# цена за дополнительные минуты, учитывая тариф:\n",
    "def no_minute(row):\n",
    "    tariff = row['tariff']\n",
    "    sum_duration = row['sum_duration']\n",
    "    if tariff == 'ultra':\n",
    "        if sum_duration > 3000:\n",
    "            return (sum_duration - 3000) * 1\n",
    "        return 0\n",
    "    if tariff == 'smart':\n",
    "        if sum_duration > 500:\n",
    "            return (sum_duration - 500) * 3\n",
    "        return 0\n",
    "    \n",
    "\n",
    "# цена за дополнительные сообщения, учитывая тариф:    \n",
    "def no_message(row):\n",
    "    tariff = row['tariff']\n",
    "    message_count = row['message_count']\n",
    "    if tariff == 'ultra':\n",
    "        if message_count > 1000:\n",
    "            return (message_count - 1000) * 1\n",
    "        return 0\n",
    "    if tariff == 'smart':\n",
    "        if message_count > 50:\n",
    "            return (message_count - 50) * 3\n",
    "        return 0\n",
    "    \n",
    "# цена за дополнительный объем интернет-трафика, учитывая тариф:      \n",
    "def no_internet(row):\n",
    "    tariff = row['tariff']\n",
    "    mb_used_sum_gb = row['mb_used_sum_gb']\n",
    "    if tariff == 'ultra':\n",
    "        if mb_used_sum_gb > 30:\n",
    "            return ((mb_used_sum_gb - 30) * 150) + 1950 # сразу прибавим к цене абонентскую плату\n",
    "        return 1950 #  абонентская плата\n",
    "    if tariff == 'smart':\n",
    "        if mb_used_sum_gb > 15:\n",
    "            return ((mb_used_sum_gb - 15) * 200) + 550 # сразу прибавим к цене абонентскую плату\n",
    "        return 550 #  абонентская плата\n",
    "    \n",
    "# Добавление столбцов с помощью apply(), в качестве агумента которой созданные функции\n",
    "results_total['minute_no_price'] = results_total.apply(no_minute, axis = 1)\n",
    "results_total['message_no_price'] = results_total.apply(no_message, axis = 1)\n",
    "results_total['internet_no_price'] = results_total.apply(no_internet, axis = 1)\n",
    "# Получение итогового столбца 'user_revenue': складываем полученные значения из трех столбцов\n",
    "results_total['user_revenue'] = results_total['minute_no_price'] + results_total['message_no_price']\\\n",
    "                                + results_total['internet_no_price']\n",
    "results_total.head(5).T # Вывод результата на экран. \n",
    "\n",
    "\n",
    "    \n"
   ]
  },
  {
   "cell_type": "markdown",
   "metadata": {},
   "source": [
    "В результате к таблице results_total добавлен столбец 'user_revenue' - выручка с каждого пользователя.\n",
    "\n"
   ]
  },
  {
   "cell_type": "markdown",
   "metadata": {},
   "source": [
    "Заменим пропуски в столбцах на значение 0, которые образовались в результате объединения таблиц:"
   ]
  },
  {
   "cell_type": "code",
   "execution_count": 30,
   "metadata": {},
   "outputs": [
    {
     "name": "stdout",
     "output_type": "stream",
     "text": [
      "<class 'pandas.core.frame.DataFrame'>\n",
      "Int64Index: 3216 entries, 0 to 3215\n",
      "Data columns (total 12 columns):\n",
      "user_id              3216 non-null int64\n",
      "count_duration       3174 non-null float64\n",
      "sum_duration         3216 non-null float64\n",
      "message_count        3216 non-null float64\n",
      "mb_used_sum          3203 non-null float64\n",
      "tariff               3216 non-null object\n",
      "city                 3216 non-null object\n",
      "mb_used_sum_gb       3216 non-null float64\n",
      "minute_no_price      3216 non-null float64\n",
      "message_no_price     3216 non-null float64\n",
      "internet_no_price    3216 non-null float64\n",
      "user_revenue         3216 non-null float64\n",
      "dtypes: float64(9), int64(1), object(2)\n",
      "memory usage: 326.6+ KB\n"
     ]
    }
   ],
   "source": [
    "# Применим метод  fillna():\n",
    "results_total[['user_revenue', 'message_count', 'sum_duration', 'mb_used_sum_gb']] = results_total[['user_revenue',\n",
    "                                                                                                    'message_count', \n",
    "                                                                                                    'sum_duration', \n",
    "                                                                                                    'mb_used_sum_gb'\n",
    "                                                                                                   ]].fillna(0)\n",
    "# Проверим результат:\n",
    "results_total.info()"
   ]
  },
  {
   "cell_type": "markdown",
   "metadata": {},
   "source": [
    "Пропуски в нужных нам столбцах заполнены корректно. Проверим, есть ли дубликаты в таблице:"
   ]
  },
  {
   "cell_type": "code",
   "execution_count": 31,
   "metadata": {},
   "outputs": [
    {
     "data": {
      "text/plain": [
       "0"
      ]
     },
     "execution_count": 31,
     "metadata": {},
     "output_type": "execute_result"
    }
   ],
   "source": [
    "results_total.duplicated().sum()"
   ]
  },
  {
   "cell_type": "markdown",
   "metadata": {},
   "source": [
    "Дубликатов нет."
   ]
  },
  {
   "cell_type": "markdown",
   "metadata": {},
   "source": [
    "### Вывод:\n",
    "\n",
    "Мы получили итоговую таблицу results_total. Строки, которой содержат количество отправленных сообщений, количество объема использованного интернет - трафика в гигабайтах, продолжительность разговоров в минутах по каждому пользователю в месяц. А также выручку, которую принес каждый пользователь компании. Сейчас можно переходить к сравнению тарифов."
   ]
  },
  {
   "cell_type": "markdown",
   "metadata": {},
   "source": [
    "# Исследовательский анализ данных"
   ]
  },
  {
   "cell_type": "markdown",
   "metadata": {},
   "source": [
    "Опишем поведение клиентов оператора сотовой связи \"Мегалайн\", учитывая выбранный тариф. \n",
    "\n",
    "Ответим на ряд вопросов: сколько минут разговора, сколько сообщений и какой объем интернет-трафика требуется пользователям каждого тарифа в месяц? Для этого посчитаем среднее арифметическое, дисперсию и стандартное отклонение  для столбцов 'sum_duration' - длительность разговора в минутах в месяц, 'message_count' - количество отправленных сообщений в месяц, 'mb_used_sum_gb' - объем потраченного интернет- трафика в месяц. Результаты выведем в виде таблицы."
   ]
  },
  {
   "cell_type": "code",
   "execution_count": 32,
   "metadata": {},
   "outputs": [
    {
     "data": {
      "text/html": [
       "<div>\n",
       "<style scoped>\n",
       "    .dataframe tbody tr th:only-of-type {\n",
       "        vertical-align: middle;\n",
       "    }\n",
       "\n",
       "    .dataframe tbody tr th {\n",
       "        vertical-align: top;\n",
       "    }\n",
       "\n",
       "    .dataframe thead th {\n",
       "        text-align: right;\n",
       "    }\n",
       "</style>\n",
       "<table border=\"1\" class=\"dataframe\">\n",
       "  <thead>\n",
       "    <tr style=\"text-align: right;\">\n",
       "      <th></th>\n",
       "      <th>tariff</th>\n",
       "      <th>smart</th>\n",
       "      <th>ultra</th>\n",
       "    </tr>\n",
       "  </thead>\n",
       "  <tbody>\n",
       "    <tr>\n",
       "      <td rowspan=\"3\" valign=\"top\">sum_duration</td>\n",
       "      <td>mean</td>\n",
       "      <td>385</td>\n",
       "      <td>485</td>\n",
       "    </tr>\n",
       "    <tr>\n",
       "      <td>var</td>\n",
       "      <td>30820</td>\n",
       "      <td>85733</td>\n",
       "    </tr>\n",
       "    <tr>\n",
       "      <td>std</td>\n",
       "      <td>176</td>\n",
       "      <td>293</td>\n",
       "    </tr>\n",
       "    <tr>\n",
       "      <td rowspan=\"3\" valign=\"top\">message_count</td>\n",
       "      <td>mean</td>\n",
       "      <td>33</td>\n",
       "      <td>49</td>\n",
       "    </tr>\n",
       "    <tr>\n",
       "      <td>var</td>\n",
       "      <td>797</td>\n",
       "      <td>2285</td>\n",
       "    </tr>\n",
       "    <tr>\n",
       "      <td>std</td>\n",
       "      <td>28</td>\n",
       "      <td>48</td>\n",
       "    </tr>\n",
       "    <tr>\n",
       "      <td rowspan=\"3\" valign=\"top\">mb_used_sum_gb</td>\n",
       "      <td>mean</td>\n",
       "      <td>16</td>\n",
       "      <td>19</td>\n",
       "    </tr>\n",
       "    <tr>\n",
       "      <td>var</td>\n",
       "      <td>33</td>\n",
       "      <td>97</td>\n",
       "    </tr>\n",
       "    <tr>\n",
       "      <td>std</td>\n",
       "      <td>6</td>\n",
       "      <td>10</td>\n",
       "    </tr>\n",
       "  </tbody>\n",
       "</table>\n",
       "</div>"
      ],
      "text/plain": [
       "tariff               smart  ultra\n",
       "sum_duration   mean    385    485\n",
       "               var   30820  85733\n",
       "               std     176    293\n",
       "message_count  mean     33     49\n",
       "               var     797   2285\n",
       "               std      28     48\n",
       "mb_used_sum_gb mean     16     19\n",
       "               var      33     97\n",
       "               std       6     10"
      ]
     },
     "execution_count": 32,
     "metadata": {},
     "output_type": "execute_result"
    }
   ],
   "source": [
    "# Сгруппируем данные таблицы results_total по названию тарифа. \n",
    "# Примечание: в методах var(дисперсия) и std(стандартное отклонение) в Pandas по умолчанию ddof=1. \n",
    "# Это то что нам нужно, \n",
    "#т.к. мы имеем дело с выборкой,\n",
    "# а не с генеральной совокупностью.\n",
    "# зададим формат для вещественных чисел: результат нужно показывать целым числом\n",
    "pd.options.display.float_format = '{:.0f}'.format \n",
    "description = results_total.groupby('tariff').agg({'sum_duration': ['mean','var', 'std'],\n",
    "                                                  'message_count': ['mean', 'var', 'std'],\n",
    "                                                  'mb_used_sum_gb': ['mean', 'var', 'std']\n",
    "                                                  })\n",
    "description.T # Вывод результата на экран"
   ]
  },
  {
   "cell_type": "markdown",
   "metadata": {},
   "source": [
    "Исходя из полученной таблицы: \n",
    "\n",
    "***- клиенты, пользующиеся тарифом \"Смарт\" в среднем в месяц разговаривают ~ 385мин.(~ 6 часов), отправляют 33 сообщения, расходуют интернет-трафик объемом  ~ 16Гб.***\n",
    "\n",
    "***- клиенты, пользующиеся тарифом \"Ультра\" в среднем в месяц разговаривают ~ 485мин.(~ 8 часов), отправляют 49 сообщений, расходуют интернет-трафик объемом ~18Гб.***\n",
    "\n",
    "\n",
    "\n"
   ]
  },
  {
   "cell_type": "markdown",
   "metadata": {},
   "source": [
    "Опишем поведение клиентов подробнее. Построим гистограммы:"
   ]
  },
  {
   "cell_type": "code",
   "execution_count": 33,
   "metadata": {},
   "outputs": [
    {
     "name": "stdout",
     "output_type": "stream",
     "text": [
      "Продолжительность разговора в минутах\n"
     ]
    },
    {
     "data": {
      "image/png": "[encoded data removed]",
      "text/plain": [
       "<Figure size 504x216 with 2 Axes>"
      ]
     },
     "metadata": {
      "needs_background": "light"
     },
     "output_type": "display_data"
    },
    {
     "name": "stdout",
     "output_type": "stream",
     "text": [
      "Количество сообщений\n"
     ]
    },
    {
     "data": {
      "image/png": "[encoded data removed]",
      "text/plain": [
       "<Figure size 504x216 with 2 Axes>"
      ]
     },
     "metadata": {
      "needs_background": "light"
     },
     "output_type": "display_data"
    },
    {
     "name": "stdout",
     "output_type": "stream",
     "text": [
      "Oбъем интернет-трафика в гигабайтах\n"
     ]
    },
    {
     "data": {
      "image/png": "[encoded data removed]",
      "text/plain": [
       "<Figure size 504x216 with 2 Axes>"
      ]
     },
     "metadata": {
      "needs_background": "light"
     },
     "output_type": "display_data"
    }
   ],
   "source": [
    "# Сделаем срез из таблицы results_total - оставим только нужные столбцы\n",
    "total = results_total.loc[:, ['sum_duration', \n",
    "                              'message_count', \n",
    "                              'mb_used_sum_gb', \n",
    "                              'tariff']].copy()\n",
    "\n",
    "\n",
    "# сгруппируем данные по тарифу и построим гистограммы\n",
    "import matplotlib.pyplot as plt\n",
    "\n",
    "    \n",
    "print('Продолжительность разговора в минутах')\n",
    "total.hist('sum_duration', by = 'tariff', \n",
    "           figsize = (7,3), bins = 30, color = 'hotpink') \n",
    "plt.show()\n",
    "\n",
    "print('Количество сообщений')\n",
    "total.hist('message_count', by = 'tariff', \n",
    "           figsize = (7,3), bins = 30, color = 'green')\n",
    "plt.show()\n",
    "\n",
    "print('Oбъем интернет-трафика в гигабайтах')\n",
    "total.hist('mb_used_sum_gb', by = 'tariff', \n",
    "           figsize = (7,3), bins = 30, color = 'blueviolet')\n",
    "plt.show()\n"
   ]
  },
  {
   "cell_type": "markdown",
   "metadata": {},
   "source": [
    "\n"
   ]
  },
  {
   "cell_type": "markdown",
   "metadata": {},
   "source": [
    "Опишем распределения выборок:\n",
    "\n",
    "1) 'sum_duration' - длительность разговора в минутах в месяц. Выведем описательную статистику:"
   ]
  },
  {
   "cell_type": "code",
   "execution_count": 34,
   "metadata": {},
   "outputs": [
    {
     "data": {
      "text/plain": [
       "count   3216\n",
       "mean     416\n",
       "std      223\n",
       "min        0\n",
       "25%      260\n",
       "50%      407\n",
       "75%      543\n",
       "max     1553\n",
       "Name: sum_duration, dtype: float64"
      ]
     },
     "execution_count": 34,
     "metadata": {},
     "output_type": "execute_result"
    }
   ],
   "source": [
    "results_total['sum_duration'].describe()"
   ]
  },
  {
   "cell_type": "markdown",
   "metadata": {},
   "source": [
    "В результате: min = 0 - напомним, что данным значением были заполнены пропуски, которые образовались в результате внешнего объединения таблиц. Поэтому будем считать, что 0 - это выброс. Данный факт относится и к следующим столбцам, по которым будут описаны распределения ниже.\n",
    "\n",
    "Итак, выборочное среднее ~416, значение медианы ~ 407. Это значит, что распределение имеет положительную ассиметрию, т.е. на графике виден длинный хвост и смещение данных вправо, вызванные наличием высоких значений. Разница между средним и медианой незначительна, поэтому смещение данных не сильно выделяется на графике и высоких значений в выборке немного, возвожно есть одно экстремально высокое значение, которое и смещает среднее. Так как распределение ассиметрично, будем считать значение выбросом, когда оно существенно выше Q3 или существенно ниже Q1. Чтобы сделать это утверждение более точным, мы найдем расстояние в 1,5 IQR выше Q3 и ниже Q1. Любая точка за пределами этого диапазона будет считается выбросом.\n",
    "\n",
    " Q1 — первый квартиль, Q3 — третий квартиль,\n",
    "IQR = Q3 - Q1 (межквартильный размах, в котором находится 50% значений из выборки)\n",
    "\n",
    "Вычислим диапазон:"
   ]
  },
  {
   "cell_type": "code",
   "execution_count": 35,
   "metadata": {},
   "outputs": [
    {
     "name": "stdout",
     "output_type": "stream",
     "text": [
      "Межквартильный интервал: iqr =  283.0\n",
      "Значения лежат в интервале от 1 до 967.5\n"
     ]
    }
   ],
   "source": [
    "q1 = results_total['sum_duration'].quantile(.25)\n",
    "q3 = results_total['sum_duration'].quantile(.75)\n",
    "iqr = q3 - q1\n",
    "print('Межквартильный интервал: iqr = ', iqr)\n",
    "outburst = q3 + 1.5 * iqr\n",
    "print('Значения лежат в интервале от 1 до {}'.format(outburst))"
   ]
  },
  {
   "cell_type": "markdown",
   "metadata": {},
   "source": [
    "Итак, перед нами распределение с выборочным средним ~ 416 и оценкой стандартного отклонения ~ 223, значения которого лежат в интервале от 1 до 963. Значения, которые больше 963 - выбросы. Именно эти значения смещают среднее вправо."
   ]
  },
  {
   "cell_type": "markdown",
   "metadata": {},
   "source": [
    "2) 'message_count' - количество сообщений. "
   ]
  },
  {
   "cell_type": "code",
   "execution_count": 36,
   "metadata": {},
   "outputs": [
    {
     "name": "stdout",
     "output_type": "stream",
     "text": [
      "Межквартильный интервал: iqr =  48.0\n",
      "Значения лежат в интервале от 1 до 129.0\n"
     ]
    }
   ],
   "source": [
    "# Сразу вычислим межквартильный размах:\n",
    "q1 = results_total['message_count'].quantile(.25)\n",
    "q3 = results_total['message_count'].quantile(.75)\n",
    "iqr = q3 - q1\n",
    "print('Межквартильный интервал: iqr = ', iqr)\n",
    "outburst = q3 + 1.5 * iqr\n",
    "print('Значения лежат в интервале от 1 до {}'.format(outburst))"
   ]
  },
  {
   "cell_type": "code",
   "execution_count": 37,
   "metadata": {},
   "outputs": [
    {
     "data": {
      "text/plain": [
       "count   3216\n",
       "mean      38\n",
       "std       36\n",
       "min        0\n",
       "25%        9\n",
       "50%       30\n",
       "75%       57\n",
       "max      224\n",
       "Name: message_count, dtype: float64"
      ]
     },
     "execution_count": 37,
     "metadata": {},
     "output_type": "execute_result"
    }
   ],
   "source": [
    "# Выведем описательную статистику: \n",
    "results_total['message_count'].describe()"
   ]
  },
  {
   "cell_type": "markdown",
   "metadata": {},
   "source": [
    "Перед нами распределение с выборочным средним ~ 38 и оценкой стандартного отклонения ~ 36.\n",
    "Выборочное среднее ~38, значение медианы ~ 30. Это значит, что распределение имеет положительную ассиметрию, т.е. виден длинный хвост и перекос вправо, вызванные наличием высоких значений, которые и смещают среднее.  Значения лежат в интервале от 1 до 129. Значения, которые больше 129 - выбросы. "
   ]
  },
  {
   "cell_type": "markdown",
   "metadata": {},
   "source": [
    "3) 'mb_used_sum_gb' - объем израсходованного интернет - трафика в гигабайтах."
   ]
  },
  {
   "cell_type": "code",
   "execution_count": 38,
   "metadata": {},
   "outputs": [
    {
     "name": "stdout",
     "output_type": "stream",
     "text": [
      "Межквартильный интервал: iqr =  9.0\n",
      "Значения лежат в интервале от 1 до 34.5\n"
     ]
    }
   ],
   "source": [
    "# Сразу вычислим межквартильный размах:\n",
    "q1 = results_total['mb_used_sum_gb'].quantile(.25)\n",
    "q3 = results_total['mb_used_sum_gb'].quantile(.75)\n",
    "iqr = q3 - q1\n",
    "print('Межквартильный интервал: iqr = ', iqr)\n",
    "outburst = q3 + 1.5 * iqr\n",
    "print('Значения лежат в интервале от 1 до {}'.format(outburst))"
   ]
  },
  {
   "cell_type": "code",
   "execution_count": 39,
   "metadata": {},
   "outputs": [
    {
     "data": {
      "text/plain": [
       "count   3216\n",
       "mean      17\n",
       "std        7\n",
       "min        0\n",
       "25%       12\n",
       "50%       17\n",
       "75%       21\n",
       "max       49\n",
       "Name: mb_used_sum_gb, dtype: float64"
      ]
     },
     "execution_count": 39,
     "metadata": {},
     "output_type": "execute_result"
    }
   ],
   "source": [
    "# Выведем описательную статистику: \n",
    "results_total['mb_used_sum_gb'].describe()"
   ]
  },
  {
   "cell_type": "markdown",
   "metadata": {},
   "source": [
    "Перед нами распределение с выборочным средним ~ 17 и оценкой стандартного отклонения ~ 7. Выборочное среднее ~17, значение медианы ~ 17. Значение равны - это значит, что выборка имеет симметричное распределение. Значения лежат в интервале от 1 до 35. Значения, которые больше 35 - выбросы. "
   ]
  },
  {
   "cell_type": "markdown",
   "metadata": {},
   "source": [
    "Распределения выборок описаны. Сейчас опишем поведение клиентов.\n",
    "\n",
    "Выведем таблицу с описанием тарифов:"
   ]
  },
  {
   "cell_type": "code",
   "execution_count": 40,
   "metadata": {},
   "outputs": [
    {
     "data": {
      "text/html": [
       "<div>\n",
       "<style scoped>\n",
       "    .dataframe tbody tr th:only-of-type {\n",
       "        vertical-align: middle;\n",
       "    }\n",
       "\n",
       "    .dataframe tbody tr th {\n",
       "        vertical-align: top;\n",
       "    }\n",
       "\n",
       "    .dataframe thead th {\n",
       "        text-align: right;\n",
       "    }\n",
       "</style>\n",
       "<table border=\"1\" class=\"dataframe\">\n",
       "  <thead>\n",
       "    <tr style=\"text-align: right;\">\n",
       "      <th></th>\n",
       "      <th>messages_included</th>\n",
       "      <th>mb_per_month_included</th>\n",
       "      <th>minutes_included</th>\n",
       "      <th>rub_monthly_fee</th>\n",
       "      <th>rub_per_gb</th>\n",
       "      <th>rub_per_message</th>\n",
       "      <th>rub_per_minute</th>\n",
       "      <th>tariff_name</th>\n",
       "    </tr>\n",
       "  </thead>\n",
       "  <tbody>\n",
       "    <tr>\n",
       "      <td>0</td>\n",
       "      <td>50</td>\n",
       "      <td>15360</td>\n",
       "      <td>500</td>\n",
       "      <td>550</td>\n",
       "      <td>200</td>\n",
       "      <td>3</td>\n",
       "      <td>3</td>\n",
       "      <td>smart</td>\n",
       "    </tr>\n",
       "    <tr>\n",
       "      <td>1</td>\n",
       "      <td>1000</td>\n",
       "      <td>30720</td>\n",
       "      <td>3000</td>\n",
       "      <td>1950</td>\n",
       "      <td>150</td>\n",
       "      <td>1</td>\n",
       "      <td>1</td>\n",
       "      <td>ultra</td>\n",
       "    </tr>\n",
       "  </tbody>\n",
       "</table>\n",
       "</div>"
      ],
      "text/plain": [
       "   messages_included  mb_per_month_included  minutes_included  \\\n",
       "0                 50                  15360               500   \n",
       "1               1000                  30720              3000   \n",
       "\n",
       "   rub_monthly_fee  rub_per_gb  rub_per_message  rub_per_minute tariff_name  \n",
       "0              550         200                3               3       smart  \n",
       "1             1950         150                1               1       ultra  "
      ]
     },
     "execution_count": 40,
     "metadata": {},
     "output_type": "execute_result"
    }
   ],
   "source": [
    "tariffs"
   ]
  },
  {
   "cell_type": "markdown",
   "metadata": {},
   "source": [
    "Построим еще для наглядности графики:"
   ]
  },
  {
   "cell_type": "code",
   "execution_count": 41,
   "metadata": {},
   "outputs": [
    {
     "name": "stderr",
     "output_type": "stream",
     "text": [
      "/opt/conda/lib/python3.7/site-packages/numpy/core/_asarray.py:83: VisibleDeprecationWarning: Creating an ndarray from ragged nested sequences (which is a list-or-tuple of lists-or-tuples-or ndarrays with different lengths or shapes) is deprecated. If you meant to do this, you must specify 'dtype=object' when creating the ndarray\n",
      "  return array(a, dtype, copy=False, order=order)\n",
      "/opt/conda/lib/python3.7/site-packages/numpy/core/_asarray.py:83: VisibleDeprecationWarning: Creating an ndarray from ragged nested sequences (which is a list-or-tuple of lists-or-tuples-or ndarrays with different lengths or shapes) is deprecated. If you meant to do this, you must specify 'dtype=object' when creating the ndarray\n",
      "  return array(a, dtype, copy=False, order=order)\n",
      "/opt/conda/lib/python3.7/site-packages/numpy/core/_asarray.py:83: VisibleDeprecationWarning: Creating an ndarray from ragged nested sequences (which is a list-or-tuple of lists-or-tuples-or ndarrays with different lengths or shapes) is deprecated. If you meant to do this, you must specify 'dtype=object' when creating the ndarray\n",
      "  return array(a, dtype, copy=False, order=order)\n"
     ]
    },
    {
     "data": {
      "image/png": "[encoded data removed]",
      "text/plain": [
       "<Figure size 1080x288 with 3 Axes>"
      ]
     },
     "metadata": {
      "needs_background": "light"
     },
     "output_type": "display_data"
    }
   ],
   "source": [
    "# Удалим выбросы из рассмотренных выше выборок:\n",
    "total.query('0 < sum_duration < 963 or 0 < message_count < 129 or 0 < mb_used_sum_gb < 35')\n",
    "\n",
    "\n",
    "plt.subplots(figsize = (15,4))\n",
    "total.boxplot('sum_duration', by = 'tariff', ax = plt.subplot(1,3,1))\n",
    "total.boxplot('message_count', by = 'tariff', ax = plt.subplot(1,3,2))\n",
    "total.boxplot('mb_used_sum_gb', by = 'tariff', ax = plt.subplot(1,3,3))\n",
    "plt.show()"
   ]
  },
  {
   "cell_type": "markdown",
   "metadata": {},
   "source": [
    "***На графиках хорошо заметны различия между поведением клиентов двух тарифов:***\n",
    "\n",
    "***- клиенты тарифа \"Ультра\" чаще всего не выговаривают 3000 мин. в месяц. Большинству клиентов  (~ 50%) хватает 500 мин. на разговоры в месяц.  Остальные ~ 50% разговаривают от 500 мин. до 1300 мин.***\n",
    "\n",
    "***Сообщении в 1000 штук для клиентов много: большинство клиентов (~ 50%) отправляет в месяц ~ 25-50 сообщений.  Остальные ~ 50% отправляют ~ 50 - 180 сообщении в месяц***\n",
    "\n",
    "***А вот интернет- трафик клиенты в основном расходуют в полном объеме, т.е. 30Гб. и даже больше. Большинству клиентов (~50%) хватает в месяц ~ 20 Гб. Остальные ~ 50% клиентов расходуют объем от ~ 20 до ~ 45 Гб. Получается, что доплачивают клиенты данного тарифа за дополнительный объем интернет - трафика***\n",
    "\n",
    "***- Поведение клиентов тарифа \"Смарт\":***\n",
    "\n",
    "***Большинству клиентов  (~ 50%) хватает 400 мин. на разговоры в месяц.  Остальные ~ 50% разговаривают ~ от  400 мин. до 950 мин.***\n",
    "\n",
    "***Большинство клиентов (~ 50%) отправляет в месяц ~ 25сообщений.  Остальные ~ 50% отправляют ~ 25 - 110 сообщении в месяц***\n",
    "\n",
    "***Большинству клиентов (~50%) хватает в месяц ~ 15 Гб. Остальные ~ 50% клиентов расходуют объем от ~ 15 до ~ 25 Гб. Получается, что ~ 50% пользователям хватает включенных 500 минут разговора, 50 сообщений и 15 Гб интернет-трафика в месяц. А остальные ~ 50% пользователей постоянно переплачивают за дополнительные услуги.***\n",
    "\n",
    "\n",
    "\n"
   ]
  },
  {
   "cell_type": "markdown",
   "metadata": {},
   "source": [
    " \n",
    "\n",
    "\n",
    "Проверим какое количество клиентов подключены к тарифам:"
   ]
  },
  {
   "cell_type": "code",
   "execution_count": 42,
   "metadata": {},
   "outputs": [
    {
     "data": {
      "text/plain": [
       "smart    351\n",
       "ultra    149\n",
       "Name: tariff, dtype: int64"
      ]
     },
     "execution_count": 42,
     "metadata": {},
     "output_type": "execute_result"
    }
   ],
   "source": [
    "# Применим метод value_counts() для столбца 'tariff':\n",
    "users['tariff'].value_counts()"
   ]
  },
  {
   "cell_type": "markdown",
   "metadata": {},
   "source": [
    "Клиентов тарифа \"Смарт\" ~в 2 раза больше по сравнению с другим тарифом. Возможно чаще всего клиенты выбирают для использования тариф \"Смарт\", т.к. он более доступен.\n",
    "\n",
    "Сейчас проверим какую выручку приносят клиенты компании по каждому тарифу.\n",
    "\n"
   ]
  },
  {
   "cell_type": "markdown",
   "metadata": {},
   "source": [
    "Уберем выбросы из выборки. \n",
    "\n",
    "Будем считать значение выбросом, когда оно существенно выше Q3 или существенно ниже Q1. Чтобы сделать это утверждение более точным, мы найдем расстояние в 1,5 IQR выше Q3 и ниже Q1. Любая точка за пределами этого диапазона считается выбросом.\n",
    "\n",
    " Q1 — первый квартиль, Q3 — третий квартиль,\n",
    "IQR = Q3 - Q1 (межквартильный размах,в  находится 50% значений)\n",
    "\n",
    "Вычислим диапазон:"
   ]
  },
  {
   "cell_type": "code",
   "execution_count": 43,
   "metadata": {},
   "outputs": [
    {
     "name": "stdout",
     "output_type": "stream",
     "text": [
      "Межквартильный интервал: iqr =  1316.75\n",
      "Значения лежат в интервале от 1 до 3925.125\n"
     ]
    }
   ],
   "source": [
    "q1 = results_total['user_revenue'].quantile(.25)\n",
    "q3 = results_total['user_revenue'].quantile(.75)\n",
    "iqr = q3 - q1\n",
    "print('Межквартильный интервал: iqr = ', iqr)\n",
    "outburst = q3 + 1.5 * iqr\n",
    "print('Значения лежат в интервале от 1 до {}'.format(outburst))"
   ]
  },
  {
   "cell_type": "markdown",
   "metadata": {},
   "source": [
    "Значения лежат в диапазоне: (1,3925). Выбросы находятся за пределами этого диапазона. "
   ]
  },
  {
   "cell_type": "code",
   "execution_count": 44,
   "metadata": {},
   "outputs": [],
   "source": [
    "# Создадим таблицу, содержащую только столбцы с названием тарифа и соответствующую выручку с каждого пользователя.\n",
    "results__user_revenue = results_total.loc[:, ['tariff', 'user_revenue']].copy()\n",
    "# Удалим выбросы из выборки:\n",
    "results__user_revenue = results__user_revenue.query('1 < user_revenue < 3925')\n"
   ]
  },
  {
   "cell_type": "markdown",
   "metadata": {},
   "source": [
    "Сейчас посчитаем общую сумму, среднее арифметическое, дисперсию и стандартное отклонение. Результат представим в виде таблицы. "
   ]
  },
  {
   "cell_type": "code",
   "execution_count": 45,
   "metadata": {},
   "outputs": [
    {
     "data": {
      "text/html": [
       "<div>\n",
       "<style scoped>\n",
       "    .dataframe tbody tr th:only-of-type {\n",
       "        vertical-align: middle;\n",
       "    }\n",
       "\n",
       "    .dataframe tbody tr th {\n",
       "        vertical-align: top;\n",
       "    }\n",
       "\n",
       "    .dataframe thead tr th {\n",
       "        text-align: left;\n",
       "    }\n",
       "\n",
       "    .dataframe thead tr:last-of-type th {\n",
       "        text-align: right;\n",
       "    }\n",
       "</style>\n",
       "<table border=\"1\" class=\"dataframe\">\n",
       "  <thead>\n",
       "    <tr>\n",
       "      <th></th>\n",
       "      <th colspan=\"5\" halign=\"left\">user_revenue</th>\n",
       "    </tr>\n",
       "    <tr>\n",
       "      <th></th>\n",
       "      <th>sum</th>\n",
       "      <th>mean</th>\n",
       "      <th>var</th>\n",
       "      <th>std</th>\n",
       "      <th>median</th>\n",
       "    </tr>\n",
       "    <tr>\n",
       "      <th>tariff</th>\n",
       "      <th></th>\n",
       "      <th></th>\n",
       "      <th></th>\n",
       "      <th></th>\n",
       "      <th></th>\n",
       "    </tr>\n",
       "  </thead>\n",
       "  <tbody>\n",
       "    <tr>\n",
       "      <td>smart</td>\n",
       "      <td>2568617</td>\n",
       "      <td>1159</td>\n",
       "      <td>496790</td>\n",
       "      <td>705</td>\n",
       "      <td>950</td>\n",
       "    </tr>\n",
       "    <tr>\n",
       "      <td>ultra</td>\n",
       "      <td>2016450</td>\n",
       "      <td>2051</td>\n",
       "      <td>107402</td>\n",
       "      <td>328</td>\n",
       "      <td>1950</td>\n",
       "    </tr>\n",
       "  </tbody>\n",
       "</table>\n",
       "</div>"
      ],
      "text/plain": [
       "       user_revenue                       \n",
       "                sum mean    var std median\n",
       "tariff                                    \n",
       "smart       2568617 1159 496790 705    950\n",
       "ultra       2016450 2051 107402 328   1950"
      ]
     },
     "execution_count": 45,
     "metadata": {},
     "output_type": "execute_result"
    }
   ],
   "source": [
    "# Выведем таблицу: сумма выручки, среднее арифметическое, дисперсия, стандартное отклонение, значение медианы:\n",
    "results__user_revenue.groupby('tariff').agg({'user_revenue': ['sum','mean','var', 'std', 'median']})"
   ]
  },
  {
   "cell_type": "markdown",
   "metadata": {},
   "source": [
    " ***Средняя выручка с пользователей, подключенных к тарифу \"Ультра\" ~ 2051 руб., а подключенных к тарифу \"Смарт\" ~ 1159 руб.***"
   ]
  },
  {
   "cell_type": "markdown",
   "metadata": {},
   "source": [
    "Построим гистограмму для столбца \"Выручка\":"
   ]
  },
  {
   "cell_type": "code",
   "execution_count": 46,
   "metadata": {},
   "outputs": [
    {
     "name": "stdout",
     "output_type": "stream",
     "text": [
      "Верхний график отражает выручку по тарифу \"Смарт\", нижний - \"Ультра\"\n"
     ]
    },
    {
     "data": {
      "image/png": "[encoded data removed]",
      "text/plain": [
       "<Figure size 360x216 with 1 Axes>"
      ]
     },
     "metadata": {
      "needs_background": "light"
     },
     "output_type": "display_data"
    },
    {
     "data": {
      "image/png": "[encoded data removed]",
      "text/plain": [
       "<Figure size 360x216 with 1 Axes>"
      ]
     },
     "metadata": {
      "needs_background": "light"
     },
     "output_type": "display_data"
    }
   ],
   "source": [
    "# Сгруппируем данные по тарифу и для столбца \"Выручка\" построим гистограмму:\n",
    "print('Верхний график отражает выручку по тарифу \"Смарт\", нижний - \"Ультра\"')\n",
    "results__user_revenue.groupby('tariff').hist('user_revenue', bins =30, figsize = (5,3), color = 'coral')\n",
    "plt.xlabel('Выручка')\n",
    "plt.show()\n"
   ]
  },
  {
   "cell_type": "markdown",
   "metadata": {},
   "source": [
    "Для наглядности построим другой вид графика:"
   ]
  },
  {
   "cell_type": "code",
   "execution_count": 47,
   "metadata": {},
   "outputs": [
    {
     "name": "stderr",
     "output_type": "stream",
     "text": [
      "/opt/conda/lib/python3.7/site-packages/numpy/core/_asarray.py:83: VisibleDeprecationWarning: Creating an ndarray from ragged nested sequences (which is a list-or-tuple of lists-or-tuples-or ndarrays with different lengths or shapes) is deprecated. If you meant to do this, you must specify 'dtype=object' when creating the ndarray\n",
      "  return array(a, dtype, copy=False, order=order)\n"
     ]
    },
    {
     "data": {
      "image/png": "[encoded data removed]",
      "text/plain": [
       "<Figure size 432x288 with 1 Axes>"
      ]
     },
     "metadata": {
      "needs_background": "light"
     },
     "output_type": "display_data"
    }
   ],
   "source": [
    "results__user_revenue.boxplot('user_revenue', by = 'tariff')\n",
    "plt.show()"
   ]
  },
  {
   "cell_type": "markdown",
   "metadata": {},
   "source": [
    "***На графике хорошо видно, что клиентам, подключенным к тарифу \"Смарт\", часто приходится доплачивать за услуги компании. В среднем клиент  платит в месяц ~1159 рублей, что выше ежемесячной платы в 550 рублей. Значение медианы ~ 950. Это значит, что 50% пользователей платят не меньше 950 рублей в месяц, а остальные ~50% - не больше 950 руб.***\n",
    "\n",
    "***Клиенты, подключенные к тарифу \"Ультра\", в среднем в месяц платят 2051 рублей. Ежемесячная плата = 1950 рублей. Значение медианы также = 1950. Это значит, что случай переплаты очень редкие.***\n",
    "\n",
    "***Можно заключить, что тариф \"Ультра\" стабильнее по сравнению с другим тарифом.***\n",
    "\n",
    "\n",
    "\n"
   ]
  },
  {
   "cell_type": "markdown",
   "metadata": {},
   "source": [
    "Сформулируем и проверим гипотезу: \n",
    "\n",
    "*В ходе проведенного исследования было выявлено, что выборочное среднее значение по выручке с одного пользователя тарифа \"Ультра\" составляет ~ 2051 руб., найденное значение оценки дисперсии ~ 107402; а выборочное среднее значение по выручке с одного пользователя тарифа \"Смарт\" ~1159  рублей в месяц, найденное значение оценки дисперсии ~ 2568617. Можно ли считать, что разница между средними значениями существенна? Критический уровень статистической значимости установим alpha = 0.05. Если полученное значение будет меньше alpha, то отвергнем нулевую гипотезу, если больше - то основании отвергать нулевую гипотезу нет.*\n",
    "\n",
    "Мы вправе выбрать другой критический уровень статистической значимости, например, alpha = 0.01. Но в этом случае возрастает вероятность отвергнуть верную нулевую гипотезу; если alpha = 0.10, то возрастает вероятность того, что мы примем неверную нулевую гипотезу и отвергнем верную альтернативную. Именно поэтому для данной задачи alpha = 0.05.\n",
    "\n",
    "Проверим нулевую гипотезу о равенстве двух генеральных совокупностей.\n",
    "\n",
    "Сформулируем нулевую гипотезу Н0: Средняя выручка тарифов \"Смарт\" и \"Ультра\" совпадает.\n",
    "\n",
    "И альтернативную гипотезу H1: Средняя выручка тарифа \"Ультра\" не совпадает  со средней выручкой тарифа \"Смарт\".\n",
    "\n",
    "Решение:"
   ]
  },
  {
   "cell_type": "code",
   "execution_count": 48,
   "metadata": {},
   "outputs": [
    {
     "name": "stdout",
     "output_type": "stream",
     "text": [
      "p-значение: 4.930624300785239e-260\n",
      "Отвергаем нулевую гипотезу\n"
     ]
    }
   ],
   "source": [
    "# Для удобства расчетов данные по тарифам сохраним в двух разных таблицах:\n",
    "total_smart = results__user_revenue.query('tariff == \"smart\"')['user_revenue']\n",
    "total_ultra = results__user_revenue.query('tariff == \"ultra\"')['user_revenue']\n",
    "\n",
    "\n",
    "\n",
    "# Применим метод scipy.stats.ttest_ind()\n",
    "from scipy import stats as st\n",
    "import numpy as np\n",
    "total = st.ttest_ind(total_smart, total_ultra)\n",
    "alpha = .05\n",
    "print('p-значение:', total.pvalue)\n",
    "if (total.pvalue < alpha):\n",
    "    print('Отвергаем нулевую гипотезу')\n",
    "else:\n",
    "    print('Не получилось отвергнуть нулевую гипотезу')"
   ]
  },
  {
   "cell_type": "markdown",
   "metadata": {},
   "source": [
    "Полученное  p-значение: 4.930624300785239e-260 намного меньше критического уровня значимости alpha = 0.05. Значит, есть основания отвергнуть нулевую гипотезу. Соответственно, можем предположить, что разница между средними значениями выручки по двум тарифам существенна."
   ]
  },
  {
   "cell_type": "markdown",
   "metadata": {},
   "source": [
    "\n",
    "***Из всего вышесказанного предполагаем: тариф \"Ультра\" для компании \"Мегалайн\" выгоднее.***\n",
    "\n"
   ]
  },
  {
   "cell_type": "markdown",
   "metadata": {},
   "source": [
    "Разделим клиентов компаний \"Мегалайн\" на две группы: тех кто проживает в г.Москва и тех кто - в регионах. И вычислим чему равна средняя выручка в этих группах."
   ]
  },
  {
   "cell_type": "code",
   "execution_count": 49,
   "metadata": {},
   "outputs": [
    {
     "data": {
      "text/plain": [
       "2603    Регионы\n",
       "1352    Регионы\n",
       "1451    Регионы\n",
       "687     Регионы\n",
       "3083    Регионы\n",
       "117     Регионы\n",
       "495     Регионы\n",
       "1800    Регионы\n",
       "962     Регионы\n",
       "84      Регионы\n",
       "Name: city, dtype: object"
      ]
     },
     "execution_count": 49,
     "metadata": {},
     "output_type": "execute_result"
    }
   ],
   "source": [
    "# Преобразуем данные в столбце 'city' таблицы results_total: значения, \n",
    "# не соответствующие \"Москва\" заменим на \"Регионы\":\n",
    "# Применим метод.loc():\n",
    "results_total.loc[results_total['city'] != 'Москва', 'city'] = 'Регионы'\n",
    "# Удалим выбросы в столбце выручка:\n",
    "results_total = results_total.query('1 < user_revenue < 3925')\n",
    "# Проверим результат:\n",
    "results_total['city'].sample(10)"
   ]
  },
  {
   "cell_type": "markdown",
   "metadata": {},
   "source": [
    "Посчитаем общую сумму выручки, среднее арифметическое, оценку дисперсии, оценку стандартного отклонения, медиану. Результат выведем на экран в виде таблицы:"
   ]
  },
  {
   "cell_type": "code",
   "execution_count": 50,
   "metadata": {},
   "outputs": [
    {
     "data": {
      "text/html": [
       "<div>\n",
       "<style scoped>\n",
       "    .dataframe tbody tr th:only-of-type {\n",
       "        vertical-align: middle;\n",
       "    }\n",
       "\n",
       "    .dataframe tbody tr th {\n",
       "        vertical-align: top;\n",
       "    }\n",
       "\n",
       "    .dataframe thead tr th {\n",
       "        text-align: left;\n",
       "    }\n",
       "\n",
       "    .dataframe thead tr:last-of-type th {\n",
       "        text-align: right;\n",
       "    }\n",
       "</style>\n",
       "<table border=\"1\" class=\"dataframe\">\n",
       "  <thead>\n",
       "    <tr>\n",
       "      <th></th>\n",
       "      <th colspan=\"3\" halign=\"left\">sum</th>\n",
       "      <th colspan=\"3\" halign=\"left\">mean</th>\n",
       "      <th colspan=\"3\" halign=\"left\">var</th>\n",
       "      <th colspan=\"3\" halign=\"left\">std</th>\n",
       "      <th colspan=\"3\" halign=\"left\">median</th>\n",
       "    </tr>\n",
       "    <tr>\n",
       "      <th>tariff</th>\n",
       "      <th>smart</th>\n",
       "      <th>ultra</th>\n",
       "      <th>All</th>\n",
       "      <th>smart</th>\n",
       "      <th>ultra</th>\n",
       "      <th>All</th>\n",
       "      <th>smart</th>\n",
       "      <th>ultra</th>\n",
       "      <th>All</th>\n",
       "      <th>smart</th>\n",
       "      <th>ultra</th>\n",
       "      <th>All</th>\n",
       "      <th>smart</th>\n",
       "      <th>ultra</th>\n",
       "      <th>All</th>\n",
       "    </tr>\n",
       "    <tr>\n",
       "      <th>city</th>\n",
       "      <th></th>\n",
       "      <th></th>\n",
       "      <th></th>\n",
       "      <th></th>\n",
       "      <th></th>\n",
       "      <th></th>\n",
       "      <th></th>\n",
       "      <th></th>\n",
       "      <th></th>\n",
       "      <th></th>\n",
       "      <th></th>\n",
       "      <th></th>\n",
       "      <th></th>\n",
       "      <th></th>\n",
       "      <th></th>\n",
       "    </tr>\n",
       "  </thead>\n",
       "  <tbody>\n",
       "    <tr>\n",
       "      <td>Москва</td>\n",
       "      <td>430162</td>\n",
       "      <td>463950</td>\n",
       "      <td>894112</td>\n",
       "      <td>1117</td>\n",
       "      <td>2062</td>\n",
       "      <td>1466</td>\n",
       "      <td>434989</td>\n",
       "      <td>107936</td>\n",
       "      <td>522083</td>\n",
       "      <td>660</td>\n",
       "      <td>329</td>\n",
       "      <td>723</td>\n",
       "      <td>904</td>\n",
       "      <td>1950</td>\n",
       "      <td>1586</td>\n",
       "    </tr>\n",
       "    <tr>\n",
       "      <td>Регионы</td>\n",
       "      <td>2138455</td>\n",
       "      <td>1552500</td>\n",
       "      <td>3690955</td>\n",
       "      <td>1168</td>\n",
       "      <td>2048</td>\n",
       "      <td>1426</td>\n",
       "      <td>509585</td>\n",
       "      <td>107341</td>\n",
       "      <td>552224</td>\n",
       "      <td>714</td>\n",
       "      <td>328</td>\n",
       "      <td>743</td>\n",
       "      <td>950</td>\n",
       "      <td>1950</td>\n",
       "      <td>1446</td>\n",
       "    </tr>\n",
       "    <tr>\n",
       "      <td>All</td>\n",
       "      <td>2568617</td>\n",
       "      <td>2016450</td>\n",
       "      <td>4585067</td>\n",
       "      <td>1159</td>\n",
       "      <td>2051</td>\n",
       "      <td>1433</td>\n",
       "      <td>496790</td>\n",
       "      <td>107402</td>\n",
       "      <td>546561</td>\n",
       "      <td>705</td>\n",
       "      <td>328</td>\n",
       "      <td>739</td>\n",
       "      <td>950</td>\n",
       "      <td>1950</td>\n",
       "      <td>1518</td>\n",
       "    </tr>\n",
       "  </tbody>\n",
       "</table>\n",
       "</div>"
      ],
      "text/plain": [
       "            sum                  mean               var                 std  \\\n",
       "tariff    smart   ultra     All smart ultra  All  smart  ultra    All smart   \n",
       "city                                                                          \n",
       "Москва   430162  463950  894112  1117  2062 1466 434989 107936 522083   660   \n",
       "Регионы 2138455 1552500 3690955  1168  2048 1426 509585 107341 552224   714   \n",
       "All     2568617 2016450 4585067  1159  2051 1433 496790 107402 546561   705   \n",
       "\n",
       "                  median             \n",
       "tariff  ultra All  smart ultra  All  \n",
       "city                                 \n",
       "Москва    329 723    904  1950 1586  \n",
       "Регионы   328 743    950  1950 1446  \n",
       "All       328 739    950  1950 1518  "
      ]
     },
     "execution_count": 50,
     "metadata": {},
     "output_type": "execute_result"
    }
   ],
   "source": [
    "# Сгруппируем клиентов по столбцу 'city', 'tariff'\n",
    "\n",
    "results_total_city = results_total.pivot_table(index = 'city', \n",
    "                                               columns = 'tariff', \n",
    "                                               values = 'user_revenue',\n",
    "                                               aggfunc = ['sum', 'mean', 'var', 'std', 'median'], \n",
    "                                              margins = True\n",
    "                                              )\n",
    "results_total_city"
   ]
  },
  {
   "cell_type": "markdown",
   "metadata": {},
   "source": [
    "***Средняя выручка c пользователя из г.Москва ~ 1466 руб.; средняя выручка с пользователя из регионов ~ 1426 руб.***"
   ]
  },
  {
   "cell_type": "markdown",
   "metadata": {},
   "source": [
    "Сформулируем и проверим гипотезу: \n",
    "\n",
    "*В ходе проведенного исследования было выявлено, что выборочное среднее значение по выручке с одного пользователя из г.Москва составляет ~ 1466 руб., найденное значение оценки дисперсии ~ 522083; а выборочное среднее значение по выручке с одного пользователя, проживающего в регионах ~1426  рублей в месяц, найденное значение оценки дисперсии ~ 552224. Можно ли считать, что разница между средними значениями незначительна? Критический уровень статистической значимости установим alpha = 0.05. Если полученное значение будет меньше alpha, то отвергнем нулевую гипотезу, если больше - то основании отвергать нулевую гипотезу нет.*\n",
    "\n",
    "\n",
    "Проверим нулевую гипотезу о равенстве двух генеральных совокупностей.\n",
    "\n",
    "Сформулируем нулевую гипотезу Н0: Средняя выручка с пользователя из г.Москвы не отличается от средней выручки клиента, проживающего в регионах. \n",
    "\n",
    "И альтернативную гипотезу H1: Средняя выручка пользователя из г.Москвы  существенно отличается от средней выручки пользователя из регионов.\n",
    "\n",
    "Решение:\n"
   ]
  },
  {
   "cell_type": "code",
   "execution_count": 51,
   "metadata": {},
   "outputs": [
    {
     "name": "stdout",
     "output_type": "stream",
     "text": [
      "p-значение: 0.22787090157874135\n",
      "Не получилось отвергнуть нулевую гипотезу\n"
     ]
    }
   ],
   "source": [
    "# Для удобства расчетов данные по городам сохраним в двух разных таблицах:\n",
    "total_moscow = results_total.query('city == \"Москва\"')['user_revenue']\n",
    "total_regions = results_total.query('city == \"Регионы\"')['user_revenue']\n",
    "\n",
    "\n",
    "\n",
    "# Применим метод scipy.stats.ttest_ind()\n",
    "from scipy import stats as st\n",
    "import numpy as np\n",
    "total = st.ttest_ind(total_moscow, total_regions)\n",
    "alpha = .05\n",
    "print('p-значение:', total.pvalue)\n",
    "if (total.pvalue < alpha):\n",
    "    print('Отвергаем нулевую гипотезу')\n",
    "else:\n",
    "    print('Не получилось отвергнуть нулевую гипотезу')"
   ]
  },
  {
   "cell_type": "markdown",
   "metadata": {},
   "source": [
    "Полученное  p-значение: 0.22787090157874135 больше значения критического уровня значимости alpha = 0.05. Значит,  оснований отвергнуть нулевую гипотезу нет. Соответственно, можем предположить, что разница между средними значениями выручки по двум тарифам незначительна.\n",
    "\n"
   ]
  },
  {
   "cell_type": "markdown",
   "metadata": {},
   "source": [
    "# Вывод:"
   ]
  },
  {
   "cell_type": "markdown",
   "metadata": {},
   "source": [
    "Итак, в ходе работы над данным проектом было установлено: сколько минут разговора, сколько сообщений и какой объем интернет - трафика требуется пользователям тарифа \"Смарт\" и \"Ультра\" в месяц. Установлено характерное поведение клиентов оператора.\n",
    "\n",
    "- Пользователям тарифа \"Ультра\" достаточно ~ 1500 мин. разговора, ~ 200 штук сообщений, ~ 40 Гб. интернет-трафика в месяц.\n",
    "Чаще всего пользователи данного тарифа не выговаривают 3000 мин. и 1000 штук сообщении не отправляют. А вот интернет- трафика не хватает. \n",
    "\n",
    "- Пользователи тарифа \"Смарт\" поделены на две группы: ~50% клиентам достаточно включенных в тариф услуг; ~50% клиентов не достаточно. Им требуется ~ до 1000 мин. разговора, ~ 110 штук сообщении, ~ до 25Гб. интернет - трафика. "
   ]
  },
  {
   "cell_type": "markdown",
   "metadata": {},
   "source": [
    "Также была расчитана выручка с пользователей для каждого тарифа. Выведем результат в виде таблицы:"
   ]
  },
  {
   "cell_type": "code",
   "execution_count": 52,
   "metadata": {},
   "outputs": [
    {
     "data": {
      "text/html": [
       "<div>\n",
       "<style scoped>\n",
       "    .dataframe tbody tr th:only-of-type {\n",
       "        vertical-align: middle;\n",
       "    }\n",
       "\n",
       "    .dataframe tbody tr th {\n",
       "        vertical-align: top;\n",
       "    }\n",
       "\n",
       "    .dataframe thead tr th {\n",
       "        text-align: left;\n",
       "    }\n",
       "\n",
       "    .dataframe thead tr:last-of-type th {\n",
       "        text-align: right;\n",
       "    }\n",
       "</style>\n",
       "<table border=\"1\" class=\"dataframe\">\n",
       "  <thead>\n",
       "    <tr>\n",
       "      <th></th>\n",
       "      <th colspan=\"2\" halign=\"left\">user_revenue</th>\n",
       "    </tr>\n",
       "    <tr>\n",
       "      <th></th>\n",
       "      <th>sum</th>\n",
       "      <th>mean</th>\n",
       "    </tr>\n",
       "    <tr>\n",
       "      <th>tariff</th>\n",
       "      <th></th>\n",
       "      <th></th>\n",
       "    </tr>\n",
       "  </thead>\n",
       "  <tbody>\n",
       "    <tr>\n",
       "      <td>smart</td>\n",
       "      <td>2568617</td>\n",
       "      <td>1159</td>\n",
       "    </tr>\n",
       "    <tr>\n",
       "      <td>ultra</td>\n",
       "      <td>2016450</td>\n",
       "      <td>2051</td>\n",
       "    </tr>\n",
       "  </tbody>\n",
       "</table>\n",
       "</div>"
      ],
      "text/plain": [
       "       user_revenue     \n",
       "                sum mean\n",
       "tariff                  \n",
       "smart       2568617 1159\n",
       "ultra       2016450 2051"
      ]
     },
     "execution_count": 52,
     "metadata": {},
     "output_type": "execute_result"
    }
   ],
   "source": [
    "results__user_revenue.groupby('tariff').agg({'user_revenue': ['sum','mean']})"
   ]
  },
  {
   "cell_type": "markdown",
   "metadata": {},
   "source": [
    "Выведем график:"
   ]
  },
  {
   "cell_type": "code",
   "execution_count": 53,
   "metadata": {},
   "outputs": [
    {
     "name": "stderr",
     "output_type": "stream",
     "text": [
      "/opt/conda/lib/python3.7/site-packages/numpy/core/_asarray.py:83: VisibleDeprecationWarning: Creating an ndarray from ragged nested sequences (which is a list-or-tuple of lists-or-tuples-or ndarrays with different lengths or shapes) is deprecated. If you meant to do this, you must specify 'dtype=object' when creating the ndarray\n",
      "  return array(a, dtype, copy=False, order=order)\n"
     ]
    },
    {
     "data": {
      "image/png": "[encoded data removed]",
      "text/plain": [
       "<Figure size 432x288 with 1 Axes>"
      ]
     },
     "metadata": {
      "needs_background": "light"
     },
     "output_type": "display_data"
    }
   ],
   "source": [
    "results__user_revenue.boxplot('user_revenue', by = 'tariff')\n",
    "plt.show()"
   ]
  },
  {
   "cell_type": "markdown",
   "metadata": {},
   "source": [
    "**Средняя выручка с пользователей, подключенных к тарифу \"Ультра\" ~ 2051 руб., а подключенных к тарифу \"Смарт\" ~ 1159 руб.**"
   ]
  },
  {
   "cell_type": "markdown",
   "metadata": {},
   "source": [
    "На графике хорошо видно разницу: \n",
    "\n",
    "значение медианы для тарифа \"Смарт\" ~ 950 руб. Это значит, что ~ 50%  пользователей платят не больше 950 рублей, а вторая ~ 50% - не меньше 950 рублей. И если учесть, что абонентская плата за данный тариф = 550 рублей, то получается ~ 50% постоянно переплачивают. С большой вероятностью можно предположить что рано или поздно такие клиенты уйдут к конкурентам на более выгодные условия."
   ]
  },
  {
   "cell_type": "markdown",
   "metadata": {},
   "source": [
    "Значение медианы для тарифа \"Ультра\" = 1950. Оно совпадает с ежемесячной платой за тариф. В основном клиенты данного тарифа доплачивают за дополнительный объем интернет - трафика и то незначительно. "
   ]
  },
  {
   "cell_type": "markdown",
   "metadata": {},
   "source": [
    "В ходе исследования была выдвинута и подтверждена гипотеза о том, что средняя выручка пользователей тарифов \"Смарт\" и \"Ультра\" различается.  Pазница между средними значениями выручки по двум тарифам существенна.\n",
    "\n",
    "Из всего вышесказанного предполагаем: тариф \"Ультра\" для компании \"Мегалайн\" выгоднее. Прежде всего стабильностью.\n"
   ]
  },
  {
   "cell_type": "markdown",
   "metadata": {},
   "source": [
    "Также была выдвинута и опровергнута гипотеза о том, что средняя выручка  пользователей из Москвы отличается от выручки пользователей из других регионов. Значит мы можем предположить, что средняя выручка пользователей из Москвы и пользователей из регионов отличается незначительно. Выведем результат в виде таблицы:"
   ]
  },
  {
   "cell_type": "code",
   "execution_count": 54,
   "metadata": {},
   "outputs": [
    {
     "data": {
      "text/html": [
       "<div>\n",
       "<style scoped>\n",
       "    .dataframe tbody tr th:only-of-type {\n",
       "        vertical-align: middle;\n",
       "    }\n",
       "\n",
       "    .dataframe tbody tr th {\n",
       "        vertical-align: top;\n",
       "    }\n",
       "\n",
       "    .dataframe thead tr th {\n",
       "        text-align: left;\n",
       "    }\n",
       "\n",
       "    .dataframe thead tr:last-of-type th {\n",
       "        text-align: right;\n",
       "    }\n",
       "</style>\n",
       "<table border=\"1\" class=\"dataframe\">\n",
       "  <thead>\n",
       "    <tr>\n",
       "      <th></th>\n",
       "      <th colspan=\"3\" halign=\"left\">sum</th>\n",
       "      <th colspan=\"3\" halign=\"left\">mean</th>\n",
       "    </tr>\n",
       "    <tr>\n",
       "      <th>tariff</th>\n",
       "      <th>smart</th>\n",
       "      <th>ultra</th>\n",
       "      <th>All</th>\n",
       "      <th>smart</th>\n",
       "      <th>ultra</th>\n",
       "      <th>All</th>\n",
       "    </tr>\n",
       "    <tr>\n",
       "      <th>city</th>\n",
       "      <th></th>\n",
       "      <th></th>\n",
       "      <th></th>\n",
       "      <th></th>\n",
       "      <th></th>\n",
       "      <th></th>\n",
       "    </tr>\n",
       "  </thead>\n",
       "  <tbody>\n",
       "    <tr>\n",
       "      <td>Москва</td>\n",
       "      <td>430162</td>\n",
       "      <td>463950</td>\n",
       "      <td>894112</td>\n",
       "      <td>1117</td>\n",
       "      <td>2062</td>\n",
       "      <td>1466</td>\n",
       "    </tr>\n",
       "    <tr>\n",
       "      <td>Регионы</td>\n",
       "      <td>2138455</td>\n",
       "      <td>1552500</td>\n",
       "      <td>3690955</td>\n",
       "      <td>1168</td>\n",
       "      <td>2048</td>\n",
       "      <td>1426</td>\n",
       "    </tr>\n",
       "    <tr>\n",
       "      <td>All</td>\n",
       "      <td>2568617</td>\n",
       "      <td>2016450</td>\n",
       "      <td>4585067</td>\n",
       "      <td>1159</td>\n",
       "      <td>2051</td>\n",
       "      <td>1433</td>\n",
       "    </tr>\n",
       "  </tbody>\n",
       "</table>\n",
       "</div>"
      ],
      "text/plain": [
       "            sum                  mean           \n",
       "tariff    smart   ultra     All smart ultra  All\n",
       "city                                            \n",
       "Москва   430162  463950  894112  1117  2062 1466\n",
       "Регионы 2138455 1552500 3690955  1168  2048 1426\n",
       "All     2568617 2016450 4585067  1159  2051 1433"
      ]
     },
     "execution_count": 54,
     "metadata": {},
     "output_type": "execute_result"
    }
   ],
   "source": [
    "\n",
    "results_total_city = results_total.pivot_table(index = 'city', \n",
    "                                               columns = 'tariff', \n",
    "                                               values = 'user_revenue',\n",
    "                                               aggfunc = ['sum', 'mean'], \n",
    "                                              margins = True\n",
    "                                              )\n",
    "results_total_city"
   ]
  },
  {
   "cell_type": "markdown",
   "metadata": {},
   "source": [
    "Из всего вышесказанного возникло предложение: создать новый тариф на выгодных условий для ~ 50% пользователей тарифа \"Смарт\", которые платят не меньше  ~ 950 рублей в месяц. Чтобы клиенты не ушли к конкурентам."
   ]
  },
  {
   "cell_type": "code",
   "execution_count": null,
   "metadata": {},
   "outputs": [],
   "source": []
  },
  {
   "cell_type": "code",
   "execution_count": null,
   "metadata": {},
   "outputs": [],
   "source": []
  },
  {
   "cell_type": "code",
   "execution_count": null,
   "metadata": {},
   "outputs": [],
   "source": []
  },
  {
   "cell_type": "code",
   "execution_count": null,
   "metadata": {},
   "outputs": [],
   "source": []
  },
  {
   "cell_type": "code",
   "execution_count": null,
   "metadata": {},
   "outputs": [],
   "source": []
  },
  {
   "cell_type": "code",
   "execution_count": null,
   "metadata": {},
   "outputs": [],
   "source": []
  },
  {
   "cell_type": "code",
   "execution_count": null,
   "metadata": {},
   "outputs": [],
   "source": []
  },
  {
   "cell_type": "code",
   "execution_count": null,
   "metadata": {},
   "outputs": [],
   "source": []
  },
  {
   "cell_type": "code",
   "execution_count": null,
   "metadata": {},
   "outputs": [],
   "source": []
  },
  {
   "cell_type": "code",
   "execution_count": null,
   "metadata": {},
   "outputs": [],
   "source": []
  },
  {
   "cell_type": "code",
   "execution_count": null,
   "metadata": {},
   "outputs": [],
   "source": []
  },
  {
   "cell_type": "code",
   "execution_count": null,
   "metadata": {},
   "outputs": [],
   "source": []
  },
  {
   "cell_type": "code",
   "execution_count": null,
   "metadata": {},
   "outputs": [],
   "source": []
  },
  {
   "cell_type": "code",
   "execution_count": null,
   "metadata": {},
   "outputs": [],
   "source": []
  }
 ],
 "metadata": {
  "kernelspec": {
   "display_name": "Python 3",
   "language": "python",
   "name": "python3"
  },
  "language_info": {
   "codemirror_mode": {
    "name": "ipython",
    "version": 3
   },
   "file_extension": ".py",
   "mimetype": "text/x-python",
   "name": "python",
   "nbconvert_exporter": "python",
   "pygments_lexer": "ipython3",
   "version": "3.7.6"
  }
 },
 "nbformat": 4,
 "nbformat_minor": 2
}
