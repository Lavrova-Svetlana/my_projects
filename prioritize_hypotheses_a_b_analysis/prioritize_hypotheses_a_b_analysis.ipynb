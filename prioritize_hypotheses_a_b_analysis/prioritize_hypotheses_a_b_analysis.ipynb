{
 "cells": [
  {
   "cell_type": "markdown",
   "metadata": {},
   "source": [
    "# Приоритизация гипотез. Анализ результатов A/B - теста"
   ]
  },
  {
   "cell_type": "markdown",
   "metadata": {},
   "source": [
    "Дан список гипотез. Нужно приоритизировать гипотезы с помощью фреймворков: ISE SCORE и RICE SCORE.\n",
    "\n",
    "А также даны таблицы с результатами проведенного A/B-теста. Нужно проанализировать полученные результаты."
   ]
  },
  {
   "cell_type": "markdown",
   "metadata": {},
   "source": [
    "# Изучение общей информации\n",
    "\n",
    "Загрузим полученные данные, посмотрим на общую информацию о файлах, посмотрим нуждаются ли данные в предобработке, обратим внимание на названия столбцов.\n",
    "\n",
    "Начнем с данных из таблицы hypothesis(информация о гипотезах):"
   ]
  },
  {
   "cell_type": "code",
   "execution_count": 1,
   "metadata": {},
   "outputs": [
    {
     "data": {
      "text/html": [
       "<div>\n",
       "<style scoped>\n",
       "    .dataframe tbody tr th:only-of-type {\n",
       "        vertical-align: middle;\n",
       "    }\n",
       "\n",
       "    .dataframe tbody tr th {\n",
       "        vertical-align: top;\n",
       "    }\n",
       "\n",
       "    .dataframe thead th {\n",
       "        text-align: right;\n",
       "    }\n",
       "</style>\n",
       "<table border=\"1\" class=\"dataframe\">\n",
       "  <thead>\n",
       "    <tr style=\"text-align: right;\">\n",
       "      <th></th>\n",
       "      <th>Hypothesis</th>\n",
       "      <th>Reach</th>\n",
       "      <th>Impact</th>\n",
       "      <th>Confidence</th>\n",
       "      <th>Efforts</th>\n",
       "    </tr>\n",
       "  </thead>\n",
       "  <tbody>\n",
       "    <tr>\n",
       "      <td>2</td>\n",
       "      <td>Добавить блоки рекомендаций товаров на сайт ин...</td>\n",
       "      <td>8</td>\n",
       "      <td>3</td>\n",
       "      <td>7</td>\n",
       "      <td>3</td>\n",
       "    </tr>\n",
       "    <tr>\n",
       "      <td>3</td>\n",
       "      <td>Изменить структура категорий, что увеличит кон...</td>\n",
       "      <td>8</td>\n",
       "      <td>3</td>\n",
       "      <td>3</td>\n",
       "      <td>8</td>\n",
       "    </tr>\n",
       "    <tr>\n",
       "      <td>0</td>\n",
       "      <td>Добавить два новых канала привлечения трафика,...</td>\n",
       "      <td>3</td>\n",
       "      <td>10</td>\n",
       "      <td>8</td>\n",
       "      <td>6</td>\n",
       "    </tr>\n",
       "    <tr>\n",
       "      <td>4</td>\n",
       "      <td>Изменить цвет фона главной страницы, чтобы уве...</td>\n",
       "      <td>3</td>\n",
       "      <td>1</td>\n",
       "      <td>1</td>\n",
       "      <td>1</td>\n",
       "    </tr>\n",
       "    <tr>\n",
       "      <td>7</td>\n",
       "      <td>Добавить форму подписки на все основные страни...</td>\n",
       "      <td>10</td>\n",
       "      <td>7</td>\n",
       "      <td>8</td>\n",
       "      <td>5</td>\n",
       "    </tr>\n",
       "  </tbody>\n",
       "</table>\n",
       "</div>"
      ],
      "text/plain": [
       "                                          Hypothesis  Reach  Impact  \\\n",
       "2  Добавить блоки рекомендаций товаров на сайт ин...      8       3   \n",
       "3  Изменить структура категорий, что увеличит кон...      8       3   \n",
       "0  Добавить два новых канала привлечения трафика,...      3      10   \n",
       "4  Изменить цвет фона главной страницы, чтобы уве...      3       1   \n",
       "7  Добавить форму подписки на все основные страни...     10       7   \n",
       "\n",
       "   Confidence  Efforts  \n",
       "2           7        3  \n",
       "3           3        8  \n",
       "0           8        6  \n",
       "4           1        1  \n",
       "7           8        5  "
      ]
     },
     "execution_count": 1,
     "metadata": {},
     "output_type": "execute_result"
    }
   ],
   "source": [
    "import pandas as pd\n",
    "hypothesis = pd.read_csv('/datasets/hypothesis.csv')\n",
    "#hypothesis.head(5) # вывод на экран первых пяти строк\n",
    "hypothesis.sample(5)# вывод пяти строк случайным образом"
   ]
  },
  {
   "cell_type": "markdown",
   "metadata": {},
   "source": [
    "Посмотрим на общую информацию о файле:"
   ]
  },
  {
   "cell_type": "code",
   "execution_count": 2,
   "metadata": {},
   "outputs": [
    {
     "name": "stdout",
     "output_type": "stream",
     "text": [
      "<class 'pandas.core.frame.DataFrame'>\n",
      "RangeIndex: 9 entries, 0 to 8\n",
      "Data columns (total 5 columns):\n",
      "Hypothesis    9 non-null object\n",
      "Reach         9 non-null int64\n",
      "Impact        9 non-null int64\n",
      "Confidence    9 non-null int64\n",
      "Efforts       9 non-null int64\n",
      "dtypes: int64(4), object(1)\n",
      "memory usage: 488.0+ bytes\n"
     ]
    },
    {
     "data": {
      "text/plain": [
       "Index(['Hypothesis', 'Reach', 'Impact', 'Confidence', 'Efforts'], dtype='object')"
      ]
     },
     "execution_count": 2,
     "metadata": {},
     "output_type": "execute_result"
    }
   ],
   "source": [
    "hypothesis.info()\n",
    "hypothesis.columns"
   ]
  },
  {
   "cell_type": "markdown",
   "metadata": {},
   "source": [
    "Описание данных:\n",
    "\n",
    "-\tHypothesis — краткое описание гипотезы;\n",
    "-\tReach — охват пользователей по 10-балльной шкале;\n",
    "-\tImpact — влияние на пользователей по 10-балльной шкале;\n",
    "-\tConfidence — уверенность в гипотезе по 10-балльной шкале;\n",
    "-\tEfforts — затраты ресурсов на проверку гипотезы по 10-балльной шкале. Чем больше значение Efforts, тем дороже проверка гипотезы.\n"
   ]
  },
  {
   "cell_type": "markdown",
   "metadata": {},
   "source": [
    "*Таблица hypothesis состоит из 9 строк и 5 столбцов. В предобработке данных не нуждается. Можно привести названия столбцов к нижнему регистру, чтобы в дальнейшем удобнее было с ними работать.*\n",
    "\n",
    "Подгрузим следующую таблицу orders(информация о заказах):"
   ]
  },
  {
   "cell_type": "code",
   "execution_count": 3,
   "metadata": {},
   "outputs": [
    {
     "data": {
      "text/html": [
       "<div>\n",
       "<style scoped>\n",
       "    .dataframe tbody tr th:only-of-type {\n",
       "        vertical-align: middle;\n",
       "    }\n",
       "\n",
       "    .dataframe tbody tr th {\n",
       "        vertical-align: top;\n",
       "    }\n",
       "\n",
       "    .dataframe thead th {\n",
       "        text-align: right;\n",
       "    }\n",
       "</style>\n",
       "<table border=\"1\" class=\"dataframe\">\n",
       "  <thead>\n",
       "    <tr style=\"text-align: right;\">\n",
       "      <th></th>\n",
       "      <th>transactionId</th>\n",
       "      <th>visitorId</th>\n",
       "      <th>date</th>\n",
       "      <th>revenue</th>\n",
       "      <th>group</th>\n",
       "    </tr>\n",
       "  </thead>\n",
       "  <tbody>\n",
       "    <tr>\n",
       "      <td>0</td>\n",
       "      <td>3667963787</td>\n",
       "      <td>3312258926</td>\n",
       "      <td>2019-08-15</td>\n",
       "      <td>1650</td>\n",
       "      <td>B</td>\n",
       "    </tr>\n",
       "    <tr>\n",
       "      <td>1</td>\n",
       "      <td>2804400009</td>\n",
       "      <td>3642806036</td>\n",
       "      <td>2019-08-15</td>\n",
       "      <td>730</td>\n",
       "      <td>B</td>\n",
       "    </tr>\n",
       "    <tr>\n",
       "      <td>2</td>\n",
       "      <td>2961555356</td>\n",
       "      <td>4069496402</td>\n",
       "      <td>2019-08-15</td>\n",
       "      <td>400</td>\n",
       "      <td>A</td>\n",
       "    </tr>\n",
       "    <tr>\n",
       "      <td>3</td>\n",
       "      <td>3797467345</td>\n",
       "      <td>1196621759</td>\n",
       "      <td>2019-08-15</td>\n",
       "      <td>9759</td>\n",
       "      <td>B</td>\n",
       "    </tr>\n",
       "    <tr>\n",
       "      <td>4</td>\n",
       "      <td>2282983706</td>\n",
       "      <td>2322279887</td>\n",
       "      <td>2019-08-15</td>\n",
       "      <td>2308</td>\n",
       "      <td>B</td>\n",
       "    </tr>\n",
       "  </tbody>\n",
       "</table>\n",
       "</div>"
      ],
      "text/plain": [
       "   transactionId   visitorId        date  revenue group\n",
       "0     3667963787  3312258926  2019-08-15     1650     B\n",
       "1     2804400009  3642806036  2019-08-15      730     B\n",
       "2     2961555356  4069496402  2019-08-15      400     A\n",
       "3     3797467345  1196621759  2019-08-15     9759     B\n",
       "4     2282983706  2322279887  2019-08-15     2308     B"
      ]
     },
     "execution_count": 3,
     "metadata": {},
     "output_type": "execute_result"
    }
   ],
   "source": [
    "orders = pd.read_csv('/datasets/orders.csv')\n",
    "orders.head(5)"
   ]
  },
  {
   "cell_type": "code",
   "execution_count": 4,
   "metadata": {},
   "outputs": [
    {
     "name": "stdout",
     "output_type": "stream",
     "text": [
      "<class 'pandas.core.frame.DataFrame'>\n",
      "RangeIndex: 1197 entries, 0 to 1196\n",
      "Data columns (total 5 columns):\n",
      "transactionId    1197 non-null int64\n",
      "visitorId        1197 non-null int64\n",
      "date             1197 non-null object\n",
      "revenue          1197 non-null int64\n",
      "group            1197 non-null object\n",
      "dtypes: int64(3), object(2)\n",
      "memory usage: 46.9+ KB\n"
     ]
    },
    {
     "data": {
      "text/plain": [
       "Index(['transactionId', 'visitorId', 'date', 'revenue', 'group'], dtype='object')"
      ]
     },
     "execution_count": 4,
     "metadata": {},
     "output_type": "execute_result"
    }
   ],
   "source": [
    "orders.info()\n",
    "orders.columns"
   ]
  },
  {
   "cell_type": "markdown",
   "metadata": {},
   "source": [
    "Описание данных:\n",
    "\n",
    "-\ttransactionId — идентификатор заказа;\n",
    "-\tvisitorId — идентификатор пользователя, совершившего заказ;\n",
    "-\tdate — дата, когда был совершён заказ;\n",
    "-\trevenue — выручка заказа;\n",
    "-\tgroup — группа A/B-теста, в которую попал заказ.\n",
    "\n",
    "*Таблица orders состоит из 1197 строк и 5 столбцов. Столбец 'date' содержит формат даты. Один столбец 'group' - категориальную переменную, остальные три - количественную.*\n",
    "\n",
    "*Нужно привести данные в столбце 'date' к формату даты, чтобы в дальнейшем была возможность работать с ними.*\n",
    "\n",
    "Переходим к следующей таблице visitors(информация о пользователях):\n"
   ]
  },
  {
   "cell_type": "code",
   "execution_count": 5,
   "metadata": {},
   "outputs": [
    {
     "data": {
      "text/html": [
       "<div>\n",
       "<style scoped>\n",
       "    .dataframe tbody tr th:only-of-type {\n",
       "        vertical-align: middle;\n",
       "    }\n",
       "\n",
       "    .dataframe tbody tr th {\n",
       "        vertical-align: top;\n",
       "    }\n",
       "\n",
       "    .dataframe thead th {\n",
       "        text-align: right;\n",
       "    }\n",
       "</style>\n",
       "<table border=\"1\" class=\"dataframe\">\n",
       "  <thead>\n",
       "    <tr style=\"text-align: right;\">\n",
       "      <th></th>\n",
       "      <th>date</th>\n",
       "      <th>group</th>\n",
       "      <th>visitors</th>\n",
       "    </tr>\n",
       "  </thead>\n",
       "  <tbody>\n",
       "    <tr>\n",
       "      <td>57</td>\n",
       "      <td>2019-08-27</td>\n",
       "      <td>B</td>\n",
       "      <td>720</td>\n",
       "    </tr>\n",
       "    <tr>\n",
       "      <td>58</td>\n",
       "      <td>2019-08-28</td>\n",
       "      <td>B</td>\n",
       "      <td>654</td>\n",
       "    </tr>\n",
       "    <tr>\n",
       "      <td>59</td>\n",
       "      <td>2019-08-29</td>\n",
       "      <td>B</td>\n",
       "      <td>531</td>\n",
       "    </tr>\n",
       "    <tr>\n",
       "      <td>60</td>\n",
       "      <td>2019-08-30</td>\n",
       "      <td>B</td>\n",
       "      <td>490</td>\n",
       "    </tr>\n",
       "    <tr>\n",
       "      <td>61</td>\n",
       "      <td>2019-08-31</td>\n",
       "      <td>B</td>\n",
       "      <td>718</td>\n",
       "    </tr>\n",
       "  </tbody>\n",
       "</table>\n",
       "</div>"
      ],
      "text/plain": [
       "          date group  visitors\n",
       "57  2019-08-27     B       720\n",
       "58  2019-08-28     B       654\n",
       "59  2019-08-29     B       531\n",
       "60  2019-08-30     B       490\n",
       "61  2019-08-31     B       718"
      ]
     },
     "execution_count": 5,
     "metadata": {},
     "output_type": "execute_result"
    }
   ],
   "source": [
    "visitors = pd.read_csv('/datasets/visitors.csv')\n",
    "visitors.tail(5)"
   ]
  },
  {
   "cell_type": "code",
   "execution_count": 6,
   "metadata": {},
   "outputs": [
    {
     "name": "stdout",
     "output_type": "stream",
     "text": [
      "<class 'pandas.core.frame.DataFrame'>\n",
      "RangeIndex: 62 entries, 0 to 61\n",
      "Data columns (total 3 columns):\n",
      "date        62 non-null object\n",
      "group       62 non-null object\n",
      "visitors    62 non-null int64\n",
      "dtypes: int64(1), object(2)\n",
      "memory usage: 1.6+ KB\n"
     ]
    },
    {
     "data": {
      "text/plain": [
       "Index(['date', 'group', 'visitors'], dtype='object')"
      ]
     },
     "execution_count": 6,
     "metadata": {},
     "output_type": "execute_result"
    }
   ],
   "source": [
    "visitors.info()\n",
    "visitors.columns"
   ]
  },
  {
   "cell_type": "markdown",
   "metadata": {},
   "source": [
    "Описание данных:\n",
    "\n",
    "-\tdate — дата;\n",
    "-\tgroup — группа A/B-теста;\n",
    "-\tvisitors — количество пользователей в указанную дату в указанной группе A/B-теста\n",
    "\n",
    "\n",
    "*Таблица visitors состоит из 62 строк и 3 столбцов. Столбец 'date' содержит формат даты. Один столбец 'group' - категориальную переменную, 'visitors' - количественную.*\n",
    "\n",
    "*Нужно привести данные в столбце 'date' к формату даты.*"
   ]
  },
  {
   "cell_type": "markdown",
   "metadata": {},
   "source": [
    "### Вывод:\n",
    "\n",
    "Получили три таблицы: \n",
    "\n",
    "- каждая строка таблицы hypothesis(информация о гипотезах) соответствует одной выдвинутой гипотезе(всего 9). Содержит: название гипотезы; а также оценки, выставленные по 10-бальной шкале: охват пользователей, влияние на пользователей, уверенность в гипотезе, затраты ресурсов на проверку гипотезы. \n",
    "\n",
    "- каждая строка таблицы orders(информация о заказах в указанной группе A/B-теста) соответствует одному сделанному заказу. Содержит идентификатор заказа; идентификатор пользователя, совершившего заказ; дату, когда был совершен заказ; сумму выручки от заказа; группу A/B-теста, в которую попал заказ.\n",
    "\n",
    "- каждая строка таблицы visitors(информация о пользователях в указанной группе A/B-теста) соответствует группе A/B-теста: А или В. Содержит информацию о количестве пользователей в указанной группе в указанную дату.\n",
    "\n",
    "Переходим к предобработке данных.\n",
    "\n",
    "# Предобработка данных\n",
    "\n",
    "1) Приведем названия в столбцах таблицы hypothesis(информация о гипотезах) к нижнему регистру.\n",
    "\n",
    "2) Приведем данные в столбцах 'date' к формату даты в таблицах orders(информация о заказах в указанной группе A/B-теста) и visitors(информация о пользователях в указанной группе A/B-теста).\n",
    "\n",
    "Выполнив указанные выше действия, облегчим себе работу с датами: сможем выполнять различные вычисления и т.д. При этом сможем обратиться к любому столбцу в таблицах по названию, не задумываясь в каком регистре они записаны. Т.к. все названия будут приведены к одному виду.\n",
    "\n",
    "Начнем с преобразований в названиях столбцов:"
   ]
  },
  {
   "cell_type": "code",
   "execution_count": 7,
   "metadata": {},
   "outputs": [
    {
     "data": {
      "text/plain": [
       "Index(['hypothesis', 'reach', 'impact', 'confidence', 'efforts'], dtype='object')"
      ]
     },
     "execution_count": 7,
     "metadata": {},
     "output_type": "execute_result"
    }
   ],
   "source": [
    "# Приведем названия в столбцах к нижнему регистру с помощью метода str.lower():\n",
    "hypothesis.columns = hypothesis.columns.str.lower()\n",
    "# Проверим замену:\n",
    "hypothesis.columns"
   ]
  },
  {
   "cell_type": "markdown",
   "metadata": {},
   "source": [
    "Для замены типа данных обратимся к методу dt.datetime.strptime() из библиотеки datetime:"
   ]
  },
  {
   "cell_type": "code",
   "execution_count": 8,
   "metadata": {},
   "outputs": [
    {
     "data": {
      "text/plain": [
       "transactionId             int64\n",
       "visitorId                 int64\n",
       "date             datetime64[ns]\n",
       "revenue                   int64\n",
       "group                    object\n",
       "dtype: object"
      ]
     },
     "execution_count": 8,
     "metadata": {},
     "output_type": "execute_result"
    }
   ],
   "source": [
    "import datetime as dt\n",
    "# заменим в таблице orders\n",
    "orders['date'] = orders['date'].map(lambda x: dt.datetime.strptime(x, '%Y-%m-%d'))\n",
    "# Проверим результат:\n",
    "orders.dtypes"
   ]
  },
  {
   "cell_type": "code",
   "execution_count": 9,
   "metadata": {},
   "outputs": [
    {
     "data": {
      "text/plain": [
       "date        datetime64[ns]\n",
       "group               object\n",
       "visitors             int64\n",
       "dtype: object"
      ]
     },
     "execution_count": 9,
     "metadata": {},
     "output_type": "execute_result"
    }
   ],
   "source": [
    "# заменим в таблице visitors \n",
    "visitors['date'] = visitors['date'].map(lambda x: dt.datetime.strptime(x, '%Y-%m-%d'))\n",
    "# Проверим результат:\n",
    "visitors.dtypes"
   ]
  },
  {
   "cell_type": "markdown",
   "metadata": {},
   "source": [
    "### Вывод:\n",
    "\n",
    "Преобразования в нужных столбцах выполнены. Можем переходить к расчетам."
   ]
  },
  {
   "cell_type": "markdown",
   "metadata": {},
   "source": [
    "# Приоритизация гипотез.\n",
    "\n",
    "\n",
    "1) Применим фреймворк ICE для приоритизации гипотез. Отсортируем их по убыванию приоритета.\n",
    "\n",
    "\n",
    "2)\tПрименим фреймворк RICE для приоритизации гипотез. Отсортируем их по убыванию приоритета.\n",
    "\n",
    "\n",
    "3)\tПосмотрим, как изменилась приоритизация гипотез при применении RICE вместо ICE.\n",
    "\n",
    "Обратимся к таблице hypothesis(информация о гипотезах) - в ней содержится нужная нам информация.\n",
    "\n",
    "Еще раз выведем на экран описание данных:\n",
    "\n",
    "-\tHypothesis — краткое описание гипотезы;\n",
    "-\tReach — охват пользователей по 10-балльной шкале;\n",
    "-\tImpact — влияние на пользователей по 10-балльной шкале;\n",
    "-\tConfidence — уверенность в гипотезе по 10-балльной шкале;\n",
    "-\tEfforts — затраты ресурсов на проверку гипотезы по 10-балльной шкале. Чем больше значение Efforts, тем дороже проверка гипотезы.\n",
    "\n",
    "1) Воспользуемся формулой:\n",
    "\n",
    "ICE SCORE = (Impact * Confidence) / Efforts. \n",
    "\n",
    "И добавим к таблице hypothesis столбец 'ice' с расчетами:"
   ]
  },
  {
   "cell_type": "code",
   "execution_count": 10,
   "metadata": {},
   "outputs": [
    {
     "data": {
      "text/html": [
       "<div>\n",
       "<style scoped>\n",
       "    .dataframe tbody tr th:only-of-type {\n",
       "        vertical-align: middle;\n",
       "    }\n",
       "\n",
       "    .dataframe tbody tr th {\n",
       "        vertical-align: top;\n",
       "    }\n",
       "\n",
       "    .dataframe thead th {\n",
       "        text-align: right;\n",
       "    }\n",
       "</style>\n",
       "<table border=\"1\" class=\"dataframe\">\n",
       "  <thead>\n",
       "    <tr style=\"text-align: right;\">\n",
       "      <th></th>\n",
       "      <th>hypothesis</th>\n",
       "      <th>reach</th>\n",
       "      <th>impact</th>\n",
       "      <th>confidence</th>\n",
       "      <th>efforts</th>\n",
       "      <th>ice</th>\n",
       "    </tr>\n",
       "  </thead>\n",
       "  <tbody>\n",
       "    <tr>\n",
       "      <td>8</td>\n",
       "      <td>Запустить акцию, дающую скидку на товар в день рождения</td>\n",
       "      <td>1</td>\n",
       "      <td>9</td>\n",
       "      <td>9</td>\n",
       "      <td>5</td>\n",
       "      <td>16.20</td>\n",
       "    </tr>\n",
       "    <tr>\n",
       "      <td>0</td>\n",
       "      <td>Добавить два новых канала привлечения трафика, что позволит привлекать на 30% больше пользователей</td>\n",
       "      <td>3</td>\n",
       "      <td>10</td>\n",
       "      <td>8</td>\n",
       "      <td>6</td>\n",
       "      <td>13.33</td>\n",
       "    </tr>\n",
       "    <tr>\n",
       "      <td>7</td>\n",
       "      <td>Добавить форму подписки на все основные страницы, чтобы собрать базу клиентов для email-рассылок</td>\n",
       "      <td>10</td>\n",
       "      <td>7</td>\n",
       "      <td>8</td>\n",
       "      <td>5</td>\n",
       "      <td>11.20</td>\n",
       "    </tr>\n",
       "    <tr>\n",
       "      <td>6</td>\n",
       "      <td>Показать на главной странице баннеры с актуальными акциями и распродажами, чтобы увеличить конверсию</td>\n",
       "      <td>5</td>\n",
       "      <td>3</td>\n",
       "      <td>8</td>\n",
       "      <td>3</td>\n",
       "      <td>8.00</td>\n",
       "    </tr>\n",
       "    <tr>\n",
       "      <td>2</td>\n",
       "      <td>Добавить блоки рекомендаций товаров на сайт интернет магазина, чтобы повысить конверсию и средний чек заказа</td>\n",
       "      <td>8</td>\n",
       "      <td>3</td>\n",
       "      <td>7</td>\n",
       "      <td>3</td>\n",
       "      <td>7.00</td>\n",
       "    </tr>\n",
       "    <tr>\n",
       "      <td>1</td>\n",
       "      <td>Запустить собственную службу доставки, что сократит срок доставки заказов</td>\n",
       "      <td>2</td>\n",
       "      <td>5</td>\n",
       "      <td>4</td>\n",
       "      <td>10</td>\n",
       "      <td>2.00</td>\n",
       "    </tr>\n",
       "    <tr>\n",
       "      <td>5</td>\n",
       "      <td>Добавить страницу отзывов клиентов о магазине, что позволит увеличить количество заказов</td>\n",
       "      <td>3</td>\n",
       "      <td>2</td>\n",
       "      <td>2</td>\n",
       "      <td>3</td>\n",
       "      <td>1.33</td>\n",
       "    </tr>\n",
       "    <tr>\n",
       "      <td>3</td>\n",
       "      <td>Изменить структура категорий, что увеличит конверсию, т.к. пользователи быстрее найдут нужный товар</td>\n",
       "      <td>8</td>\n",
       "      <td>3</td>\n",
       "      <td>3</td>\n",
       "      <td>8</td>\n",
       "      <td>1.12</td>\n",
       "    </tr>\n",
       "    <tr>\n",
       "      <td>4</td>\n",
       "      <td>Изменить цвет фона главной страницы, чтобы увеличить вовлеченность пользователей</td>\n",
       "      <td>3</td>\n",
       "      <td>1</td>\n",
       "      <td>1</td>\n",
       "      <td>1</td>\n",
       "      <td>1.00</td>\n",
       "    </tr>\n",
       "  </tbody>\n",
       "</table>\n",
       "</div>"
      ],
      "text/plain": [
       "                                                                                                     hypothesis  \\\n",
       "8  Запустить акцию, дающую скидку на товар в день рождения                                                        \n",
       "0  Добавить два новых канала привлечения трафика, что позволит привлекать на 30% больше пользователей             \n",
       "7  Добавить форму подписки на все основные страницы, чтобы собрать базу клиентов для email-рассылок               \n",
       "6  Показать на главной странице баннеры с актуальными акциями и распродажами, чтобы увеличить конверсию           \n",
       "2  Добавить блоки рекомендаций товаров на сайт интернет магазина, чтобы повысить конверсию и средний чек заказа   \n",
       "1  Запустить собственную службу доставки, что сократит срок доставки заказов                                      \n",
       "5  Добавить страницу отзывов клиентов о магазине, что позволит увеличить количество заказов                       \n",
       "3  Изменить структура категорий, что увеличит конверсию, т.к. пользователи быстрее найдут нужный товар            \n",
       "4  Изменить цвет фона главной страницы, чтобы увеличить вовлеченность пользователей                               \n",
       "\n",
       "   reach  impact  confidence  efforts    ice  \n",
       "8  1      9       9           5        16.20  \n",
       "0  3      10      8           6        13.33  \n",
       "7  10     7       8           5        11.20  \n",
       "6  5      3       8           3        8.00   \n",
       "2  8      3       7           3        7.00   \n",
       "1  2      5       4           10       2.00   \n",
       "5  3      2       2           3        1.33   \n",
       "3  8      3       3           8        1.12   \n",
       "4  3      1       1           1        1.00   "
      ]
     },
     "execution_count": 10,
     "metadata": {},
     "output_type": "execute_result"
    }
   ],
   "source": [
    "# Добавим столбец с расчетами и результат округлим до 2 знака после запятой:\n",
    "hypothesis['ice'] = round((hypothesis['impact'] * hypothesis['confidence']) / hypothesis['efforts'], 2)\n",
    "# Установим значение опции: ширина столбца без усечения:\n",
    "pd.set_option('display.max_colwidth', -1)\n",
    "# Выведем результат на экран, отсортировав по убыванию\n",
    "hypothesis.sort_values(by = 'ice', ascending = False)"
   ]
  },
  {
   "cell_type": "markdown",
   "metadata": {},
   "source": [
    "*В результате получили: применив фреймворк ICE для приоритизации гипотез - гипотеза \"Запустить акцию, дающую скидку на товар в день рождения\" имеет самый высокий приоритет: 16.20,* \n",
    "\n",
    "*далее следует гипотеза 'Добавить два новых канала привлечения трафика, что позволит привлекать на 30% больше пользователей' с приоритетом 13.33*\n",
    "\n",
    "*Затем, 'Добавить форму подписки на все основные страницы, чтобы собрать базу клиентов для email-рассылок' с приоритетом 11.20.* и т.д.\n",
    "\n",
    "*Самый низкий приоритет имеет гипотеза 'Изменить цвет фона главной страницы, чтобы увеличить вовлеченность пользователей': 1*"
   ]
  },
  {
   "cell_type": "markdown",
   "metadata": {},
   "source": [
    "2) Расставим приоритеты, применив фреймворк RICE.\n",
    "\n",
    "Воспользуемся формулой: \n",
    "\n",
    "RICE SCORE = (Reach * impact * confidence) / Efforts. \n",
    "\n",
    "Добавим к таблице hypothesis столбец rice:"
   ]
  },
  {
   "cell_type": "code",
   "execution_count": 11,
   "metadata": {},
   "outputs": [
    {
     "data": {
      "text/html": [
       "<div>\n",
       "<style scoped>\n",
       "    .dataframe tbody tr th:only-of-type {\n",
       "        vertical-align: middle;\n",
       "    }\n",
       "\n",
       "    .dataframe tbody tr th {\n",
       "        vertical-align: top;\n",
       "    }\n",
       "\n",
       "    .dataframe thead th {\n",
       "        text-align: right;\n",
       "    }\n",
       "</style>\n",
       "<table border=\"1\" class=\"dataframe\">\n",
       "  <thead>\n",
       "    <tr style=\"text-align: right;\">\n",
       "      <th></th>\n",
       "      <th>hypothesis</th>\n",
       "      <th>reach</th>\n",
       "      <th>impact</th>\n",
       "      <th>confidence</th>\n",
       "      <th>efforts</th>\n",
       "      <th>ice</th>\n",
       "      <th>rice</th>\n",
       "    </tr>\n",
       "  </thead>\n",
       "  <tbody>\n",
       "    <tr>\n",
       "      <td>7</td>\n",
       "      <td>Добавить форму подписки на все основные страницы, чтобы собрать базу клиентов для email-рассылок</td>\n",
       "      <td>10</td>\n",
       "      <td>7</td>\n",
       "      <td>8</td>\n",
       "      <td>5</td>\n",
       "      <td>11.20</td>\n",
       "      <td>112.0</td>\n",
       "    </tr>\n",
       "    <tr>\n",
       "      <td>2</td>\n",
       "      <td>Добавить блоки рекомендаций товаров на сайт интернет магазина, чтобы повысить конверсию и средний чек заказа</td>\n",
       "      <td>8</td>\n",
       "      <td>3</td>\n",
       "      <td>7</td>\n",
       "      <td>3</td>\n",
       "      <td>7.00</td>\n",
       "      <td>56.0</td>\n",
       "    </tr>\n",
       "    <tr>\n",
       "      <td>0</td>\n",
       "      <td>Добавить два новых канала привлечения трафика, что позволит привлекать на 30% больше пользователей</td>\n",
       "      <td>3</td>\n",
       "      <td>10</td>\n",
       "      <td>8</td>\n",
       "      <td>6</td>\n",
       "      <td>13.33</td>\n",
       "      <td>40.0</td>\n",
       "    </tr>\n",
       "    <tr>\n",
       "      <td>6</td>\n",
       "      <td>Показать на главной странице баннеры с актуальными акциями и распродажами, чтобы увеличить конверсию</td>\n",
       "      <td>5</td>\n",
       "      <td>3</td>\n",
       "      <td>8</td>\n",
       "      <td>3</td>\n",
       "      <td>8.00</td>\n",
       "      <td>40.0</td>\n",
       "    </tr>\n",
       "    <tr>\n",
       "      <td>8</td>\n",
       "      <td>Запустить акцию, дающую скидку на товар в день рождения</td>\n",
       "      <td>1</td>\n",
       "      <td>9</td>\n",
       "      <td>9</td>\n",
       "      <td>5</td>\n",
       "      <td>16.20</td>\n",
       "      <td>16.2</td>\n",
       "    </tr>\n",
       "    <tr>\n",
       "      <td>3</td>\n",
       "      <td>Изменить структура категорий, что увеличит конверсию, т.к. пользователи быстрее найдут нужный товар</td>\n",
       "      <td>8</td>\n",
       "      <td>3</td>\n",
       "      <td>3</td>\n",
       "      <td>8</td>\n",
       "      <td>1.12</td>\n",
       "      <td>9.0</td>\n",
       "    </tr>\n",
       "    <tr>\n",
       "      <td>1</td>\n",
       "      <td>Запустить собственную службу доставки, что сократит срок доставки заказов</td>\n",
       "      <td>2</td>\n",
       "      <td>5</td>\n",
       "      <td>4</td>\n",
       "      <td>10</td>\n",
       "      <td>2.00</td>\n",
       "      <td>4.0</td>\n",
       "    </tr>\n",
       "    <tr>\n",
       "      <td>5</td>\n",
       "      <td>Добавить страницу отзывов клиентов о магазине, что позволит увеличить количество заказов</td>\n",
       "      <td>3</td>\n",
       "      <td>2</td>\n",
       "      <td>2</td>\n",
       "      <td>3</td>\n",
       "      <td>1.33</td>\n",
       "      <td>4.0</td>\n",
       "    </tr>\n",
       "    <tr>\n",
       "      <td>4</td>\n",
       "      <td>Изменить цвет фона главной страницы, чтобы увеличить вовлеченность пользователей</td>\n",
       "      <td>3</td>\n",
       "      <td>1</td>\n",
       "      <td>1</td>\n",
       "      <td>1</td>\n",
       "      <td>1.00</td>\n",
       "      <td>3.0</td>\n",
       "    </tr>\n",
       "  </tbody>\n",
       "</table>\n",
       "</div>"
      ],
      "text/plain": [
       "                                                                                                     hypothesis  \\\n",
       "7  Добавить форму подписки на все основные страницы, чтобы собрать базу клиентов для email-рассылок               \n",
       "2  Добавить блоки рекомендаций товаров на сайт интернет магазина, чтобы повысить конверсию и средний чек заказа   \n",
       "0  Добавить два новых канала привлечения трафика, что позволит привлекать на 30% больше пользователей             \n",
       "6  Показать на главной странице баннеры с актуальными акциями и распродажами, чтобы увеличить конверсию           \n",
       "8  Запустить акцию, дающую скидку на товар в день рождения                                                        \n",
       "3  Изменить структура категорий, что увеличит конверсию, т.к. пользователи быстрее найдут нужный товар            \n",
       "1  Запустить собственную службу доставки, что сократит срок доставки заказов                                      \n",
       "5  Добавить страницу отзывов клиентов о магазине, что позволит увеличить количество заказов                       \n",
       "4  Изменить цвет фона главной страницы, чтобы увеличить вовлеченность пользователей                               \n",
       "\n",
       "   reach  impact  confidence  efforts    ice   rice  \n",
       "7  10     7       8           5        11.20  112.0  \n",
       "2  8      3       7           3        7.00   56.0   \n",
       "0  3      10      8           6        13.33  40.0   \n",
       "6  5      3       8           3        8.00   40.0   \n",
       "8  1      9       9           5        16.20  16.2   \n",
       "3  8      3       3           8        1.12   9.0    \n",
       "1  2      5       4           10       2.00   4.0    \n",
       "5  3      2       2           3        1.33   4.0    \n",
       "4  3      1       1           1        1.00   3.0    "
      ]
     },
     "execution_count": 11,
     "metadata": {},
     "output_type": "execute_result"
    }
   ],
   "source": [
    "hypothesis['rice'] = (hypothesis['reach'] * hypothesis['impact'] * hypothesis['confidence']) / hypothesis['efforts']\n",
    "# Выведем результат на экран, отсортировав по убыванию\n",
    "hypothesis.sort_values(by = 'rice', ascending = False)"
   ]
  },
  {
   "cell_type": "markdown",
   "metadata": {},
   "source": [
    "*В итоге: применив фреймворк RICE для приоритизации гипотез, гипотеза 'Добавить форму подписки на все основные страницы, чтобы собрать базу клиентов для email-рассылок' имеет самый высокий приоритет: 112.0,*\n",
    "\n",
    "*далее следует гипотеза 'Добавить блоки рекомендаций товаров на сайт интернет магазина, чтобы повысить конверсию и средний чек заказа' с приоритетом 56.0*\n",
    "\n",
    "*Затем гипотеза 'Добавить два новых канала привлечения трафика, что позволит привлекать на 30% больше пользователей' с приоритетом 40.0*\n",
    "\n",
    "*Самый низкий приоритет имеет гипотеза 'Изменить цвет фона главной страницы, чтобы увеличить вовлеченность пользователей': 3.0*"
   ]
  },
  {
   "cell_type": "markdown",
   "metadata": {},
   "source": [
    "### Вывод:\n",
    "\n",
    "Для одних и тех же гипотез приоритеты были расставлены двумя способами: с помощью фреймворка ICE SCORE и его модификации RICE SCORE. Как мы видим результаты получились разными. Связано это с тем, что при расчете ICE SCORE учитывают три параметра: Impact — влияние на пользователей по 10-балльной шкале; Confidence — уверенность в гипотезе по 10-балльной шкале; Efforts — затраты ресурсов на проверку гипотезы по 10-балльной шкале. При расчете RICE SCORE учитывают еще один параметр: Reach — охват пользователей по 10-балльной шкале.\n",
    "\n",
    "\n"
   ]
  },
  {
   "cell_type": "markdown",
   "metadata": {},
   "source": [
    "# Анализ А/В-теста"
   ]
  },
  {
   "cell_type": "markdown",
   "metadata": {},
   "source": [
    "1. Построим график кумулятивной выручки по группам А/В-теста.\n",
    "\n",
    "Наши действия:\n",
    "\n",
    "а) создадим массив уникальных пар значений дат и групп теста методом drop_duplicates(); \n",
    "\n",
    "б) получим агрегированные кумулятивные по дням данные о заказах;\n",
    "\n",
    "в) получим агрегированные кумулятивные по дням данные о посетителях;\n",
    "\n",
    "г) объединим полученные результаты, полученные в шагах б и в, в одну таблицу;\n",
    "\n",
    "д) построим графики кумулятивной выручки по дням и группам А/В тестирования."
   ]
  },
  {
   "cell_type": "code",
   "execution_count": 12,
   "metadata": {},
   "outputs": [
    {
     "data": {
      "text/html": [
       "<div>\n",
       "<style scoped>\n",
       "    .dataframe tbody tr th:only-of-type {\n",
       "        vertical-align: middle;\n",
       "    }\n",
       "\n",
       "    .dataframe tbody tr th {\n",
       "        vertical-align: top;\n",
       "    }\n",
       "\n",
       "    .dataframe thead th {\n",
       "        text-align: right;\n",
       "    }\n",
       "</style>\n",
       "<table border=\"1\" class=\"dataframe\">\n",
       "  <thead>\n",
       "    <tr style=\"text-align: right;\">\n",
       "      <th></th>\n",
       "      <th>date</th>\n",
       "      <th>group</th>\n",
       "    </tr>\n",
       "  </thead>\n",
       "  <tbody>\n",
       "    <tr>\n",
       "      <td>0</td>\n",
       "      <td>2019-08-15</td>\n",
       "      <td>B</td>\n",
       "    </tr>\n",
       "    <tr>\n",
       "      <td>2</td>\n",
       "      <td>2019-08-15</td>\n",
       "      <td>A</td>\n",
       "    </tr>\n",
       "    <tr>\n",
       "      <td>45</td>\n",
       "      <td>2019-08-16</td>\n",
       "      <td>A</td>\n",
       "    </tr>\n",
       "    <tr>\n",
       "      <td>47</td>\n",
       "      <td>2019-08-16</td>\n",
       "      <td>B</td>\n",
       "    </tr>\n",
       "    <tr>\n",
       "      <td>55</td>\n",
       "      <td>2019-08-01</td>\n",
       "      <td>A</td>\n",
       "    </tr>\n",
       "  </tbody>\n",
       "</table>\n",
       "</div>"
      ],
      "text/plain": [
       "         date group\n",
       "0  2019-08-15  B   \n",
       "2  2019-08-15  A   \n",
       "45 2019-08-16  A   \n",
       "47 2019-08-16  B   \n",
       "55 2019-08-01  A   "
      ]
     },
     "execution_count": 12,
     "metadata": {},
     "output_type": "execute_result"
    }
   ],
   "source": [
    "# Создаем массив уникальных пар значений дат и групп теста:\n",
    "dates_groups = orders[['date', 'group']].drop_duplicates()\n",
    "dates_groups.head(5)"
   ]
  },
  {
   "cell_type": "code",
   "execution_count": 13,
   "metadata": {},
   "outputs": [
    {
     "data": {
      "text/html": [
       "<div>\n",
       "<style scoped>\n",
       "    .dataframe tbody tr th:only-of-type {\n",
       "        vertical-align: middle;\n",
       "    }\n",
       "\n",
       "    .dataframe tbody tr th {\n",
       "        vertical-align: top;\n",
       "    }\n",
       "\n",
       "    .dataframe thead th {\n",
       "        text-align: right;\n",
       "    }\n",
       "</style>\n",
       "<table border=\"1\" class=\"dataframe\">\n",
       "  <thead>\n",
       "    <tr style=\"text-align: right;\">\n",
       "      <th></th>\n",
       "      <th>date</th>\n",
       "      <th>group</th>\n",
       "      <th>transactionId</th>\n",
       "      <th>visitorId</th>\n",
       "      <th>revenue</th>\n",
       "    </tr>\n",
       "  </thead>\n",
       "  <tbody>\n",
       "    <tr>\n",
       "      <td>55</td>\n",
       "      <td>2019-08-01</td>\n",
       "      <td>A</td>\n",
       "      <td>24</td>\n",
       "      <td>20</td>\n",
       "      <td>148579</td>\n",
       "    </tr>\n",
       "    <tr>\n",
       "      <td>66</td>\n",
       "      <td>2019-08-01</td>\n",
       "      <td>B</td>\n",
       "      <td>21</td>\n",
       "      <td>20</td>\n",
       "      <td>101217</td>\n",
       "    </tr>\n",
       "    <tr>\n",
       "      <td>175</td>\n",
       "      <td>2019-08-02</td>\n",
       "      <td>A</td>\n",
       "      <td>44</td>\n",
       "      <td>38</td>\n",
       "      <td>242401</td>\n",
       "    </tr>\n",
       "    <tr>\n",
       "      <td>173</td>\n",
       "      <td>2019-08-02</td>\n",
       "      <td>B</td>\n",
       "      <td>45</td>\n",
       "      <td>43</td>\n",
       "      <td>266748</td>\n",
       "    </tr>\n",
       "    <tr>\n",
       "      <td>291</td>\n",
       "      <td>2019-08-03</td>\n",
       "      <td>A</td>\n",
       "      <td>68</td>\n",
       "      <td>62</td>\n",
       "      <td>354874</td>\n",
       "    </tr>\n",
       "  </tbody>\n",
       "</table>\n",
       "</div>"
      ],
      "text/plain": [
       "          date group  transactionId  visitorId  revenue\n",
       "55  2019-08-01  A     24             20         148579 \n",
       "66  2019-08-01  B     21             20         101217 \n",
       "175 2019-08-02  A     44             38         242401 \n",
       "173 2019-08-02  B     45             43         266748 \n",
       "291 2019-08-03  A     68             62         354874 "
      ]
     },
     "execution_count": 13,
     "metadata": {},
     "output_type": "execute_result"
    }
   ],
   "source": [
    "# получаем агрегированные кумулятивные по дням данные о заказах:\n",
    "import numpy as np\n",
    "orders_aggregated = dates_groups.apply(lambda x: orders[np.logical_and(orders['date'] <= x['date'], \n",
    "                                                                      orders['group'] == x['group'])].\\\n",
    "                                      agg({'date': 'max', \n",
    "                                          'group': 'max',\n",
    "                                          'transactionId': 'nunique',\n",
    "                                          'visitorId': 'nunique',\n",
    "                                          'revenue': 'sum'}), axis = 1).sort_values(by = ['date', 'group'])\n",
    "orders_aggregated.head(5)"
   ]
  },
  {
   "cell_type": "code",
   "execution_count": 14,
   "metadata": {},
   "outputs": [
    {
     "data": {
      "text/html": [
       "<div>\n",
       "<style scoped>\n",
       "    .dataframe tbody tr th:only-of-type {\n",
       "        vertical-align: middle;\n",
       "    }\n",
       "\n",
       "    .dataframe tbody tr th {\n",
       "        vertical-align: top;\n",
       "    }\n",
       "\n",
       "    .dataframe thead th {\n",
       "        text-align: right;\n",
       "    }\n",
       "</style>\n",
       "<table border=\"1\" class=\"dataframe\">\n",
       "  <thead>\n",
       "    <tr style=\"text-align: right;\">\n",
       "      <th></th>\n",
       "      <th>date</th>\n",
       "      <th>group</th>\n",
       "      <th>visitors</th>\n",
       "    </tr>\n",
       "  </thead>\n",
       "  <tbody>\n",
       "    <tr>\n",
       "      <td>55</td>\n",
       "      <td>2019-08-01</td>\n",
       "      <td>A</td>\n",
       "      <td>719</td>\n",
       "    </tr>\n",
       "    <tr>\n",
       "      <td>66</td>\n",
       "      <td>2019-08-01</td>\n",
       "      <td>B</td>\n",
       "      <td>713</td>\n",
       "    </tr>\n",
       "    <tr>\n",
       "      <td>175</td>\n",
       "      <td>2019-08-02</td>\n",
       "      <td>A</td>\n",
       "      <td>1338</td>\n",
       "    </tr>\n",
       "    <tr>\n",
       "      <td>173</td>\n",
       "      <td>2019-08-02</td>\n",
       "      <td>B</td>\n",
       "      <td>1294</td>\n",
       "    </tr>\n",
       "    <tr>\n",
       "      <td>291</td>\n",
       "      <td>2019-08-03</td>\n",
       "      <td>A</td>\n",
       "      <td>1845</td>\n",
       "    </tr>\n",
       "  </tbody>\n",
       "</table>\n",
       "</div>"
      ],
      "text/plain": [
       "          date group  visitors\n",
       "55  2019-08-01  A     719     \n",
       "66  2019-08-01  B     713     \n",
       "175 2019-08-02  A     1338    \n",
       "173 2019-08-02  B     1294    \n",
       "291 2019-08-03  A     1845    "
      ]
     },
     "execution_count": 14,
     "metadata": {},
     "output_type": "execute_result"
    }
   ],
   "source": [
    "# получаем агрегированные кумулятивные по дням данные о посетителях:\n",
    "visitors_aggregated = dates_groups.apply(lambda x: visitors[np.logical_and(visitors['date'] <= x['date'], \n",
    "                                                                      visitors['group'] == x['group'])].\\\n",
    "                                      agg({'date': 'max', \n",
    "                                          'group': 'max',\n",
    "                                          'visitors': 'sum'}), axis = 1).sort_values(by = ['date', 'group'])\n",
    "visitors_aggregated.head(5)"
   ]
  },
  {
   "cell_type": "code",
   "execution_count": 15,
   "metadata": {},
   "outputs": [
    {
     "data": {
      "text/html": [
       "<div>\n",
       "<style scoped>\n",
       "    .dataframe tbody tr th:only-of-type {\n",
       "        vertical-align: middle;\n",
       "    }\n",
       "\n",
       "    .dataframe tbody tr th {\n",
       "        vertical-align: top;\n",
       "    }\n",
       "\n",
       "    .dataframe thead th {\n",
       "        text-align: right;\n",
       "    }\n",
       "</style>\n",
       "<table border=\"1\" class=\"dataframe\">\n",
       "  <thead>\n",
       "    <tr style=\"text-align: right;\">\n",
       "      <th></th>\n",
       "      <th>date</th>\n",
       "      <th>group</th>\n",
       "      <th>orders</th>\n",
       "      <th>buyers</th>\n",
       "      <th>revenue</th>\n",
       "      <th>visitors</th>\n",
       "    </tr>\n",
       "  </thead>\n",
       "  <tbody>\n",
       "    <tr>\n",
       "      <td>0</td>\n",
       "      <td>2019-08-01</td>\n",
       "      <td>A</td>\n",
       "      <td>24</td>\n",
       "      <td>20</td>\n",
       "      <td>148579</td>\n",
       "      <td>719</td>\n",
       "    </tr>\n",
       "    <tr>\n",
       "      <td>1</td>\n",
       "      <td>2019-08-01</td>\n",
       "      <td>B</td>\n",
       "      <td>21</td>\n",
       "      <td>20</td>\n",
       "      <td>101217</td>\n",
       "      <td>713</td>\n",
       "    </tr>\n",
       "    <tr>\n",
       "      <td>2</td>\n",
       "      <td>2019-08-02</td>\n",
       "      <td>A</td>\n",
       "      <td>44</td>\n",
       "      <td>38</td>\n",
       "      <td>242401</td>\n",
       "      <td>1338</td>\n",
       "    </tr>\n",
       "    <tr>\n",
       "      <td>3</td>\n",
       "      <td>2019-08-02</td>\n",
       "      <td>B</td>\n",
       "      <td>45</td>\n",
       "      <td>43</td>\n",
       "      <td>266748</td>\n",
       "      <td>1294</td>\n",
       "    </tr>\n",
       "    <tr>\n",
       "      <td>4</td>\n",
       "      <td>2019-08-03</td>\n",
       "      <td>A</td>\n",
       "      <td>68</td>\n",
       "      <td>62</td>\n",
       "      <td>354874</td>\n",
       "      <td>1845</td>\n",
       "    </tr>\n",
       "  </tbody>\n",
       "</table>\n",
       "</div>"
      ],
      "text/plain": [
       "        date group  orders  buyers  revenue  visitors\n",
       "0 2019-08-01  A     24      20      148579   719     \n",
       "1 2019-08-01  B     21      20      101217   713     \n",
       "2 2019-08-02  A     44      38      242401   1338    \n",
       "3 2019-08-02  B     45      43      266748   1294    \n",
       "4 2019-08-03  A     68      62      354874   1845    "
      ]
     },
     "execution_count": 15,
     "metadata": {},
     "output_type": "execute_result"
    }
   ],
   "source": [
    "# объединим полученные агрегированные кумулятивные в одну таблицу:\n",
    "cummulative_data = orders_aggregated.merge(visitors_aggregated, on = ['date', 'group'])\n",
    "cummulative_data.columns = ['date', 'group', 'orders', 'buyers', 'revenue', 'visitors']\n",
    "cummulative_data.head(5)"
   ]
  },
  {
   "cell_type": "code",
   "execution_count": 16,
   "metadata": {},
   "outputs": [
    {
     "name": "stderr",
     "output_type": "stream",
     "text": [
      "/opt/conda/lib/python3.7/site-packages/pandas/plotting/_matplotlib/converter.py:103: FutureWarning: Using an implicitly registered datetime converter for a matplotlib plotting method. The converter was registered by pandas on import. Future versions of pandas will require you to explicitly register matplotlib converters.\n",
      "\n",
      "To register the converters:\n",
      "\t>>> from pandas.plotting import register_matplotlib_converters\n",
      "\t>>> register_matplotlib_converters()\n",
      "  warnings.warn(msg, FutureWarning)\n"
     ]
    },
    {
     "data": {
      "image/png": "[encoded data removed]",
      "text/plain": [
       "<Figure size 1080x720 with 1 Axes>"
      ]
     },
     "metadata": {
      "needs_background": "light"
     },
     "output_type": "display_data"
    }
   ],
   "source": [
    "# создадим срезы данных для каждой группы:\n",
    "cummulative_revenue_a = cummulative_data.query('group == \"A\"')[['date', 'revenue', 'orders']]\n",
    "cummulative_revenue_b = cummulative_data.query('group == \"B\"')[['date', 'revenue', 'orders']]\n",
    "\n",
    "# построим графики:\n",
    "import matplotlib.pyplot as plt\n",
    "plt.figure(figsize = (15,10))\n",
    "plt.step(cummulative_revenue_a['date'], cummulative_revenue_a['revenue'], label = 'группа A')\n",
    "plt.step(cummulative_revenue_b['date'], cummulative_revenue_b['revenue'], label = 'группа B')\n",
    "plt.title('Кумулятивная выручка по группам А/В-теста')\n",
    "plt.ylabel('Сумма выручки')\n",
    "plt.xlabel('Дата')\n",
    "plt.grid()\n",
    "plt.legend()\n",
    "plt.show()"
   ]
  },
  {
   "cell_type": "markdown",
   "metadata": {},
   "source": [
    "*В результате: выручка в группах A и B  с каждым днем начинает постепенно возрастать. После 2019-08-05 мы видим, что выручка в группе В становится выше, чем в группе А. 2019-08-12 выручка выравнивается в группах. Но затем мы снова наблюдаем расхождения в группах тестирования: выручка в группе В выше чем в группе А. Наблюдаем резкий скачок вверх выручки в гр.В 2019-08-18. Возможно это связано с увеличением числа заказов или появлением дорогих заказов. Выручка в группе тестирования А увеличивается с каждым днем равномерно.*"
   ]
  },
  {
   "cell_type": "markdown",
   "metadata": {},
   "source": [
    "2. Построим график кумулятивного среднего чека по группам А/В-теста.\n",
    "\n",
    "Разделим кумулятивную выручку на кумулятивное число заказов и построим графики:"
   ]
  },
  {
   "cell_type": "code",
   "execution_count": 17,
   "metadata": {},
   "outputs": [
    {
     "data": {
      "image/png": "[encoded data removed]",
      "text/plain": [
       "<Figure size 1080x720 with 1 Axes>"
      ]
     },
     "metadata": {
      "needs_background": "light"
     },
     "output_type": "display_data"
    }
   ],
   "source": [
    "plt.figure(figsize = (15,10))\n",
    "plt.step(cummulative_revenue_a['date'], cummulative_revenue_a['revenue'] / cummulative_revenue_a['orders'],\n",
    "         label = 'группа A')\n",
    "plt.step(cummulative_revenue_b['date'], cummulative_revenue_b['revenue'] / cummulative_revenue_b['orders'],\n",
    "         label = 'группа B')\n",
    "plt.title('Кумулятивный средний чек по группам А/В-теста')\n",
    "plt.xlabel('Дата')\n",
    "plt.ylabel('Средний чек')\n",
    "plt.grid()\n",
    "plt.legend()\n",
    "plt.show()"
   ]
  },
  {
   "cell_type": "markdown",
   "metadata": {},
   "source": [
    "*Итак, на графике наблюдаем колебания среднего чека в группах тестирования с 2019-08-01 по ~ 2019-08-15. После в гр.А средний чек начинает постепенно устанавливаться около одного значения.*\n",
    "\n",
    "*В гр.В наблюдаем резкий скачок вверх 2019-08-18. И после средний чек начинает постенно уменьшаться с каждым днем.*\n",
    "*Возможно нужно еще время, чтобы среднему чеку установиться около уровня, приближенного к значению реального среднего чека.*"
   ]
  },
  {
   "cell_type": "markdown",
   "metadata": {},
   "source": [
    "3.\tПостроим график относительного изменения кумулятивного среднего чека группы B к группе A. \n",
    "\n",
    "Каждую точку рассчитаем по формуле: (КУМУЛЯТИВНАЯ МЕТРИКА гр.В) / (КУМУЛЯТИВНАЯ МЕТРИКА гр.(А-1)). \n",
    "\n",
    "Но перед расчетами и построением графика объединим данные таблиц: cummulative_revenue_a и cummulative_revenue_b в одну:"
   ]
  },
  {
   "cell_type": "code",
   "execution_count": 18,
   "metadata": {},
   "outputs": [
    {
     "data": {
      "text/html": [
       "<div>\n",
       "<style scoped>\n",
       "    .dataframe tbody tr th:only-of-type {\n",
       "        vertical-align: middle;\n",
       "    }\n",
       "\n",
       "    .dataframe tbody tr th {\n",
       "        vertical-align: top;\n",
       "    }\n",
       "\n",
       "    .dataframe thead th {\n",
       "        text-align: right;\n",
       "    }\n",
       "</style>\n",
       "<table border=\"1\" class=\"dataframe\">\n",
       "  <thead>\n",
       "    <tr style=\"text-align: right;\">\n",
       "      <th></th>\n",
       "      <th>date</th>\n",
       "      <th>revenueA</th>\n",
       "      <th>ordersA</th>\n",
       "      <th>revenueB</th>\n",
       "      <th>ordersB</th>\n",
       "    </tr>\n",
       "  </thead>\n",
       "  <tbody>\n",
       "    <tr>\n",
       "      <td>0</td>\n",
       "      <td>2019-08-01</td>\n",
       "      <td>148579</td>\n",
       "      <td>24</td>\n",
       "      <td>101217</td>\n",
       "      <td>21</td>\n",
       "    </tr>\n",
       "    <tr>\n",
       "      <td>1</td>\n",
       "      <td>2019-08-02</td>\n",
       "      <td>242401</td>\n",
       "      <td>44</td>\n",
       "      <td>266748</td>\n",
       "      <td>45</td>\n",
       "    </tr>\n",
       "    <tr>\n",
       "      <td>2</td>\n",
       "      <td>2019-08-03</td>\n",
       "      <td>354874</td>\n",
       "      <td>68</td>\n",
       "      <td>380996</td>\n",
       "      <td>61</td>\n",
       "    </tr>\n",
       "    <tr>\n",
       "      <td>3</td>\n",
       "      <td>2019-08-04</td>\n",
       "      <td>425699</td>\n",
       "      <td>84</td>\n",
       "      <td>489567</td>\n",
       "      <td>78</td>\n",
       "    </tr>\n",
       "    <tr>\n",
       "      <td>4</td>\n",
       "      <td>2019-08-05</td>\n",
       "      <td>549917</td>\n",
       "      <td>109</td>\n",
       "      <td>581995</td>\n",
       "      <td>101</td>\n",
       "    </tr>\n",
       "  </tbody>\n",
       "</table>\n",
       "</div>"
      ],
      "text/plain": [
       "        date  revenueA  ordersA  revenueB  ordersB\n",
       "0 2019-08-01  148579    24       101217    21     \n",
       "1 2019-08-02  242401    44       266748    45     \n",
       "2 2019-08-03  354874    68       380996    61     \n",
       "3 2019-08-04  425699    84       489567    78     \n",
       "4 2019-08-05  549917    109      581995    101    "
      ]
     },
     "execution_count": 18,
     "metadata": {},
     "output_type": "execute_result"
    }
   ],
   "source": [
    "merged_cummulative_revenue = cummulative_revenue_a.merge(cummulative_revenue_b, on = 'date', suffixes = ['A', 'B'])\n",
    "merged_cummulative_revenue.head(5)"
   ]
  },
  {
   "cell_type": "markdown",
   "metadata": {},
   "source": [
    "Сейчас отобразим отношение кумулятивных средних чеков на графике:"
   ]
  },
  {
   "cell_type": "code",
   "execution_count": 19,
   "metadata": {},
   "outputs": [
    {
     "data": {
      "image/png": "[encoded data removed]",
      "text/plain": [
       "<Figure size 1080x720 with 1 Axes>"
      ]
     },
     "metadata": {
      "needs_background": "light"
     },
     "output_type": "display_data"
    }
   ],
   "source": [
    "plt.figure(figsize = (15,10))\n",
    "plt.step(merged_cummulative_revenue['date'], \n",
    "         (merged_cummulative_revenue['revenueB'] / merged_cummulative_revenue['ordersB']) /\n",
    "         (merged_cummulative_revenue['revenueA'] / merged_cummulative_revenue['ordersA']) - 1)\n",
    "# Добавляем ось x методом axhline():\n",
    "plt.axhline(y = 0, color = 'black', linestyle = '--')\n",
    "plt.grid()\n",
    "plt.title('График относительного изменения кумулятивного среднего чека группы B к группе A')\n",
    "plt.xlabel('Дата')\n",
    "plt.ylabel('Отношение')\n",
    "plt.show()"
   ]
  },
  {
   "cell_type": "markdown",
   "metadata": {},
   "source": [
    "*Итак, изменение кумулятивного среднего чека в гр.В  выше, чем в группе А. В некоторые дни наблюдаем резкие скачки. Возможно в эти дни были сделаны заказы на большую сумму.*"
   ]
  },
  {
   "cell_type": "markdown",
   "metadata": {},
   "source": [
    "4. Построим график кумулятивной конверсии по группам А/В-теста. \n",
    "\n",
    "Напомним, что конверсия - это доля людей, перешедших из одного состояния в другой. В нашем случае, доля людей, перешедших из состояния посетителя в состояние покупателя. \n",
    "\n",
    "Добавим к таблице cummulative_data столбец 'conversion', который будет содержать вычисленную конверсию для каждой строки:"
   ]
  },
  {
   "cell_type": "code",
   "execution_count": 20,
   "metadata": {},
   "outputs": [
    {
     "data": {
      "text/html": [
       "<div>\n",
       "<style scoped>\n",
       "    .dataframe tbody tr th:only-of-type {\n",
       "        vertical-align: middle;\n",
       "    }\n",
       "\n",
       "    .dataframe tbody tr th {\n",
       "        vertical-align: top;\n",
       "    }\n",
       "\n",
       "    .dataframe thead th {\n",
       "        text-align: right;\n",
       "    }\n",
       "</style>\n",
       "<table border=\"1\" class=\"dataframe\">\n",
       "  <thead>\n",
       "    <tr style=\"text-align: right;\">\n",
       "      <th></th>\n",
       "      <th>date</th>\n",
       "      <th>group</th>\n",
       "      <th>orders</th>\n",
       "      <th>buyers</th>\n",
       "      <th>revenue</th>\n",
       "      <th>visitors</th>\n",
       "      <th>conversion</th>\n",
       "    </tr>\n",
       "  </thead>\n",
       "  <tbody>\n",
       "    <tr>\n",
       "      <td>0</td>\n",
       "      <td>2019-08-01</td>\n",
       "      <td>A</td>\n",
       "      <td>24</td>\n",
       "      <td>20</td>\n",
       "      <td>148579</td>\n",
       "      <td>719</td>\n",
       "      <td>0.033380</td>\n",
       "    </tr>\n",
       "    <tr>\n",
       "      <td>1</td>\n",
       "      <td>2019-08-01</td>\n",
       "      <td>B</td>\n",
       "      <td>21</td>\n",
       "      <td>20</td>\n",
       "      <td>101217</td>\n",
       "      <td>713</td>\n",
       "      <td>0.029453</td>\n",
       "    </tr>\n",
       "    <tr>\n",
       "      <td>2</td>\n",
       "      <td>2019-08-02</td>\n",
       "      <td>A</td>\n",
       "      <td>44</td>\n",
       "      <td>38</td>\n",
       "      <td>242401</td>\n",
       "      <td>1338</td>\n",
       "      <td>0.032885</td>\n",
       "    </tr>\n",
       "    <tr>\n",
       "      <td>3</td>\n",
       "      <td>2019-08-02</td>\n",
       "      <td>B</td>\n",
       "      <td>45</td>\n",
       "      <td>43</td>\n",
       "      <td>266748</td>\n",
       "      <td>1294</td>\n",
       "      <td>0.034776</td>\n",
       "    </tr>\n",
       "    <tr>\n",
       "      <td>4</td>\n",
       "      <td>2019-08-03</td>\n",
       "      <td>A</td>\n",
       "      <td>68</td>\n",
       "      <td>62</td>\n",
       "      <td>354874</td>\n",
       "      <td>1845</td>\n",
       "      <td>0.036856</td>\n",
       "    </tr>\n",
       "  </tbody>\n",
       "</table>\n",
       "</div>"
      ],
      "text/plain": [
       "        date group  orders  buyers  revenue  visitors  conversion\n",
       "0 2019-08-01  A     24      20      148579   719       0.033380  \n",
       "1 2019-08-01  B     21      20      101217   713       0.029453  \n",
       "2 2019-08-02  A     44      38      242401   1338      0.032885  \n",
       "3 2019-08-02  B     45      43      266748   1294      0.034776  \n",
       "4 2019-08-03  A     68      62      354874   1845      0.036856  "
      ]
     },
     "execution_count": 20,
     "metadata": {},
     "output_type": "execute_result"
    }
   ],
   "source": [
    "cummulative_data['conversion'] = cummulative_data['orders'] / cummulative_data['visitors']\n",
    "# Проверим результат:\n",
    "cummulative_data.head(5)"
   ]
  },
  {
   "cell_type": "markdown",
   "metadata": {},
   "source": [
    "Отфильтруем данные таблицы cummulative_data по группам и создадим соответственно две таблицы:"
   ]
  },
  {
   "cell_type": "code",
   "execution_count": 21,
   "metadata": {},
   "outputs": [],
   "source": [
    "cummulative_data_А = cummulative_data.query('group == \"A\"').copy()\n",
    "cummulative_data_B = cummulative_data.query('group == \"B\"').copy()"
   ]
  },
  {
   "cell_type": "markdown",
   "metadata": {},
   "source": [
    "Переходим к построению графиков:"
   ]
  },
  {
   "cell_type": "code",
   "execution_count": 22,
   "metadata": {},
   "outputs": [
    {
     "data": {
      "image/png": "[encoded data removed]",
      "text/plain": [
       "<Figure size 1080x720 with 1 Axes>"
      ]
     },
     "metadata": {
      "needs_background": "light"
     },
     "output_type": "display_data"
    }
   ],
   "source": [
    "plt.figure(figsize = (15,10))\n",
    "plt.step(cummulative_data_А['date'], cummulative_data_А['conversion'], label = 'A')\n",
    "plt.step(cummulative_data_B['date'], cummulative_data_B['conversion'], label = 'B')\n",
    "plt.grid()\n",
    "plt.legend()\n",
    "plt.axis([\"2019-08-01\", \"2019-09-01\", 0, 0.05])\n",
    "plt.title('График кумулятивной конверсии по группам А/В-теста')\n",
    "plt.xlabel('Дата')\n",
    "plt.ylabel('Конверсия')\n",
    "plt.show()"
   ]
  },
  {
   "cell_type": "markdown",
   "metadata": {},
   "source": [
    "*В начале теста наблюдаем колебания значений в группах. Но после 2019-08-05 конверсия начинает постепенно устанавливаться около одного значения в той и другой группе. Также видим, что конверсия в гр.В выше по сравнению с гр.А. Линий графика \"идут\" почти параллельно друг другу.*"
   ]
  },
  {
   "cell_type": "markdown",
   "metadata": {},
   "source": [
    "5. Построим график относительного изменения кумулятивной конверсии группы B к группе A. \n",
    "\n",
    "Объединим результаты таблиц cummulative_data_А и cummulative_data_B в одну:"
   ]
  },
  {
   "cell_type": "code",
   "execution_count": 23,
   "metadata": {},
   "outputs": [
    {
     "data": {
      "text/html": [
       "<div>\n",
       "<style scoped>\n",
       "    .dataframe tbody tr th:only-of-type {\n",
       "        vertical-align: middle;\n",
       "    }\n",
       "\n",
       "    .dataframe tbody tr th {\n",
       "        vertical-align: top;\n",
       "    }\n",
       "\n",
       "    .dataframe thead th {\n",
       "        text-align: right;\n",
       "    }\n",
       "</style>\n",
       "<table border=\"1\" class=\"dataframe\">\n",
       "  <thead>\n",
       "    <tr style=\"text-align: right;\">\n",
       "      <th></th>\n",
       "      <th>date</th>\n",
       "      <th>conversionA</th>\n",
       "      <th>conversionB</th>\n",
       "    </tr>\n",
       "  </thead>\n",
       "  <tbody>\n",
       "    <tr>\n",
       "      <td>0</td>\n",
       "      <td>2019-08-01</td>\n",
       "      <td>0.033380</td>\n",
       "      <td>0.029453</td>\n",
       "    </tr>\n",
       "    <tr>\n",
       "      <td>1</td>\n",
       "      <td>2019-08-02</td>\n",
       "      <td>0.032885</td>\n",
       "      <td>0.034776</td>\n",
       "    </tr>\n",
       "    <tr>\n",
       "      <td>2</td>\n",
       "      <td>2019-08-03</td>\n",
       "      <td>0.036856</td>\n",
       "      <td>0.033833</td>\n",
       "    </tr>\n",
       "    <tr>\n",
       "      <td>3</td>\n",
       "      <td>2019-08-04</td>\n",
       "      <td>0.032787</td>\n",
       "      <td>0.030315</td>\n",
       "    </tr>\n",
       "    <tr>\n",
       "      <td>4</td>\n",
       "      <td>2019-08-05</td>\n",
       "      <td>0.032851</td>\n",
       "      <td>0.030793</td>\n",
       "    </tr>\n",
       "  </tbody>\n",
       "</table>\n",
       "</div>"
      ],
      "text/plain": [
       "        date  conversionA  conversionB\n",
       "0 2019-08-01  0.033380     0.029453   \n",
       "1 2019-08-02  0.032885     0.034776   \n",
       "2 2019-08-03  0.036856     0.033833   \n",
       "3 2019-08-04  0.032787     0.030315   \n",
       "4 2019-08-05  0.032851     0.030793   "
      ]
     },
     "execution_count": 23,
     "metadata": {},
     "output_type": "execute_result"
    }
   ],
   "source": [
    "merged_cummulative_conversions = cummulative_data_А[['date', 'conversion']].\\\n",
    "                                 merge(cummulative_data_B[['date', 'conversion']],\n",
    "                                       on = 'date', \n",
    "                                       how = 'left',\n",
    "                                      suffixes = ['A', 'B'])\n",
    "merged_cummulative_conversions.head(5)"
   ]
  },
  {
   "cell_type": "markdown",
   "metadata": {},
   "source": [
    "Применим формулу: (КУМУЛЯТИВНАЯ МЕТРИКА гр.В) / (КУМУЛЯТИВНАЯ МЕТРИКА гр.(А-1)). \n",
    "\n",
    "Результат отразим на графике:"
   ]
  },
  {
   "cell_type": "code",
   "execution_count": 24,
   "metadata": {},
   "outputs": [
    {
     "data": {
      "image/png": "[encoded data removed]",
      "text/plain": [
       "<Figure size 1080x720 with 1 Axes>"
      ]
     },
     "metadata": {
      "needs_background": "light"
     },
     "output_type": "display_data"
    }
   ],
   "source": [
    "plt.figure(figsize = (15,10))\n",
    "plt.step(merged_cummulative_conversions['date'], \n",
    "         merged_cummulative_conversions['conversionB'] / merged_cummulative_conversions['conversionA'] - 1,\n",
    "        label = 'Относительный прирост конверсии гр.В относительно гр.А')\n",
    "plt.title('График относительного изменения кумулятивной конверсии группы B к группе A')\n",
    "plt.axhline(y = 0, color = 'black', linestyle = '--')\n",
    "plt.axhline(y = 0.1, color = 'blue', linestyle = '--')\n",
    "plt.axis(['2019-08-01', '2019-09-01', -0.6, 0.6])\n",
    "plt.xlabel('Дата')\n",
    "plt.ylabel('Отношение')\n",
    "plt.grid()\n",
    "plt.legend()\n",
    "plt.show()\n"
   ]
  },
  {
   "cell_type": "markdown",
   "metadata": {},
   "source": [
    "*В результате: конверсия в группе В почти на протяжении всего теста выше конверсии в гр.А*"
   ]
  },
  {
   "cell_type": "markdown",
   "metadata": {},
   "source": [
    "6.\tПостроим точечный график количества заказов по пользователям.\n",
    "\n",
    "Обратимся к таблице orders(информация о заказах):"
   ]
  },
  {
   "cell_type": "code",
   "execution_count": 25,
   "metadata": {},
   "outputs": [
    {
     "data": {
      "text/html": [
       "<div>\n",
       "<style scoped>\n",
       "    .dataframe tbody tr th:only-of-type {\n",
       "        vertical-align: middle;\n",
       "    }\n",
       "\n",
       "    .dataframe tbody tr th {\n",
       "        vertical-align: top;\n",
       "    }\n",
       "\n",
       "    .dataframe thead th {\n",
       "        text-align: right;\n",
       "    }\n",
       "</style>\n",
       "<table border=\"1\" class=\"dataframe\">\n",
       "  <thead>\n",
       "    <tr style=\"text-align: right;\">\n",
       "      <th></th>\n",
       "      <th>transactionId</th>\n",
       "      <th>visitorId</th>\n",
       "      <th>date</th>\n",
       "      <th>revenue</th>\n",
       "      <th>group</th>\n",
       "    </tr>\n",
       "  </thead>\n",
       "  <tbody>\n",
       "    <tr>\n",
       "      <td>0</td>\n",
       "      <td>3667963787</td>\n",
       "      <td>3312258926</td>\n",
       "      <td>2019-08-15</td>\n",
       "      <td>1650</td>\n",
       "      <td>B</td>\n",
       "    </tr>\n",
       "    <tr>\n",
       "      <td>1</td>\n",
       "      <td>2804400009</td>\n",
       "      <td>3642806036</td>\n",
       "      <td>2019-08-15</td>\n",
       "      <td>730</td>\n",
       "      <td>B</td>\n",
       "    </tr>\n",
       "    <tr>\n",
       "      <td>2</td>\n",
       "      <td>2961555356</td>\n",
       "      <td>4069496402</td>\n",
       "      <td>2019-08-15</td>\n",
       "      <td>400</td>\n",
       "      <td>A</td>\n",
       "    </tr>\n",
       "    <tr>\n",
       "      <td>3</td>\n",
       "      <td>3797467345</td>\n",
       "      <td>1196621759</td>\n",
       "      <td>2019-08-15</td>\n",
       "      <td>9759</td>\n",
       "      <td>B</td>\n",
       "    </tr>\n",
       "    <tr>\n",
       "      <td>4</td>\n",
       "      <td>2282983706</td>\n",
       "      <td>2322279887</td>\n",
       "      <td>2019-08-15</td>\n",
       "      <td>2308</td>\n",
       "      <td>B</td>\n",
       "    </tr>\n",
       "  </tbody>\n",
       "</table>\n",
       "</div>"
      ],
      "text/plain": [
       "   transactionId   visitorId       date  revenue group\n",
       "0  3667963787     3312258926 2019-08-15  1650     B   \n",
       "1  2804400009     3642806036 2019-08-15  730      B   \n",
       "2  2961555356     4069496402 2019-08-15  400      A   \n",
       "3  3797467345     1196621759 2019-08-15  9759     B   \n",
       "4  2282983706     2322279887 2019-08-15  2308     B   "
      ]
     },
     "execution_count": 25,
     "metadata": {},
     "output_type": "execute_result"
    }
   ],
   "source": [
    "orders.head(5)"
   ]
  },
  {
   "cell_type": "markdown",
   "metadata": {},
   "source": [
    "В таблице нас будут интересовать только два столбца: transactionId — идентификатор заказа, visitorId — идентификатор пользователя, совершившего заказ. Поэтому:\n",
    "\n",
    "1) Исключим из таблицы столбцы: date, revenue, group\n",
    "\n",
    "2) Затем данные сгруппируем  по идентификатору пользователя\n",
    "\n",
    "3) Для каждого пользователя найдем количество заказов"
   ]
  },
  {
   "cell_type": "code",
   "execution_count": 26,
   "metadata": {},
   "outputs": [],
   "source": [
    "ordersByUsers = orders.loc[:, ['transactionId', 'visitorId']].\\\n",
    "                groupby('visitorId', as_index = False).\\\n",
    "                agg({'transactionId': 'count'}) \n"
   ]
  },
  {
   "cell_type": "code",
   "execution_count": 27,
   "metadata": {},
   "outputs": [
    {
     "data": {
      "text/html": [
       "<div>\n",
       "<style scoped>\n",
       "    .dataframe tbody tr th:only-of-type {\n",
       "        vertical-align: middle;\n",
       "    }\n",
       "\n",
       "    .dataframe tbody tr th {\n",
       "        vertical-align: top;\n",
       "    }\n",
       "\n",
       "    .dataframe thead th {\n",
       "        text-align: right;\n",
       "    }\n",
       "</style>\n",
       "<table border=\"1\" class=\"dataframe\">\n",
       "  <thead>\n",
       "    <tr style=\"text-align: right;\">\n",
       "      <th></th>\n",
       "      <th>user_id</th>\n",
       "      <th>orders</th>\n",
       "    </tr>\n",
       "  </thead>\n",
       "  <tbody>\n",
       "    <tr>\n",
       "      <td>1023</td>\n",
       "      <td>4256040402</td>\n",
       "      <td>11</td>\n",
       "    </tr>\n",
       "    <tr>\n",
       "      <td>591</td>\n",
       "      <td>2458001652</td>\n",
       "      <td>11</td>\n",
       "    </tr>\n",
       "    <tr>\n",
       "      <td>569</td>\n",
       "      <td>2378935119</td>\n",
       "      <td>9</td>\n",
       "    </tr>\n",
       "    <tr>\n",
       "      <td>487</td>\n",
       "      <td>2038680547</td>\n",
       "      <td>8</td>\n",
       "    </tr>\n",
       "    <tr>\n",
       "      <td>44</td>\n",
       "      <td>199603092</td>\n",
       "      <td>5</td>\n",
       "    </tr>\n",
       "  </tbody>\n",
       "</table>\n",
       "</div>"
      ],
      "text/plain": [
       "         user_id  orders\n",
       "1023  4256040402  11    \n",
       "591   2458001652  11    \n",
       "569   2378935119  9     \n",
       "487   2038680547  8     \n",
       "44    199603092   5     "
      ]
     },
     "execution_count": 27,
     "metadata": {},
     "output_type": "execute_result"
    }
   ],
   "source": [
    "# Переименуем столбцы:\n",
    "ordersByUsers.columns = ['user_id', 'orders']\n",
    "# Выведем результат на экран, отсортировав 'orders' по убыванию:\n",
    "ordersByUsers.sort_values(by = 'orders', ascending = False).head(5)"
   ]
  },
  {
   "cell_type": "markdown",
   "metadata": {},
   "source": [
    "Построим для полученных данных график рассеивания:"
   ]
  },
  {
   "cell_type": "code",
   "execution_count": 28,
   "metadata": {},
   "outputs": [
    {
     "data": {
      "image/png": "[encoded data removed]",
      "text/plain": [
       "<Figure size 720x432 with 1 Axes>"
      ]
     },
     "metadata": {
      "needs_background": "light"
     },
     "output_type": "display_data"
    }
   ],
   "source": [
    "x_values = pd.Series(range(0,len(ordersByUsers)))\n",
    "plt.figure(figsize = (10,6))\n",
    "plt.scatter(x_values, ordersByUsers['orders'], color = 'coral')\n",
    "plt.title('График количества заказов по пользователям')\n",
    "plt.ylabel('Количество заказов')\n",
    "plt.xlabel('Пользователи')\n",
    "plt.show()"
   ]
  },
  {
   "cell_type": "markdown",
   "metadata": {},
   "source": [
    "*Есть пользователи, у которых количество заказов за время проведения теста больше 2. Но таких меньшинство.   Большинство же пользователей заказали 1-2 раза.*"
   ]
  },
  {
   "cell_type": "markdown",
   "metadata": {},
   "source": [
    "7.\tПосчитаем 95-й и 99-й перцентили количества заказов на пользователя. Выбирем границу для определения аномальных пользователей.\n",
    "\n",
    "Воспользуемся методом np.percentile() библиотеки numpy:"
   ]
  },
  {
   "cell_type": "code",
   "execution_count": 29,
   "metadata": {},
   "outputs": [
    {
     "data": {
      "text/plain": [
       "array([2., 4.])"
      ]
     },
     "execution_count": 29,
     "metadata": {},
     "output_type": "execute_result"
    }
   ],
   "source": [
    "np.percentile(ordersByUsers['orders'], [95, 99])"
   ]
  },
  {
   "cell_type": "markdown",
   "metadata": {},
   "source": [
    "*Не более 5% пользователей заказали больше 2 раз за все время проведения теста и не более 1% пользователей - больше 4.*\n",
    "\n",
    "*Примем количество заказов больше 3 за выбросы.*"
   ]
  },
  {
   "cell_type": "markdown",
   "metadata": {},
   "source": [
    "8.\tПостроим точечный график стоимостей заказов."
   ]
  },
  {
   "cell_type": "code",
   "execution_count": 30,
   "metadata": {},
   "outputs": [
    {
     "data": {
      "image/png": "[encoded data removed]",
      "text/plain": [
       "<Figure size 720x432 with 1 Axes>"
      ]
     },
     "metadata": {
      "needs_background": "light"
     },
     "output_type": "display_data"
    }
   ],
   "source": [
    "x_values = pd.Series(range(0, len(orders['revenue'])))\n",
    "plt.figure(figsize = (10,6))\n",
    "plt.scatter(x_values, orders['revenue'], color = 'hotpink')\n",
    "plt.title('График стоимостей заказов по пользователям')\n",
    "plt.xlabel('Пользователи')\n",
    "plt.ylabel('Стоимость заказов')\n",
    "plt.show()"
   ]
  },
  {
   "cell_type": "markdown",
   "metadata": {},
   "source": [
    "*За время проведения теста были сформированы заказы стоимостью выше ~50000 - 100000 рублей. Но таких очень мало.*"
   ]
  },
  {
   "cell_type": "markdown",
   "metadata": {},
   "source": [
    "9.\tПосчитаем 95-й и 99-й перцентили стоимости заказов. Выберем границу для определения аномальных заказов."
   ]
  },
  {
   "cell_type": "code",
   "execution_count": 31,
   "metadata": {},
   "outputs": [
    {
     "data": {
      "text/plain": [
       "array([28000. , 58233.2])"
      ]
     },
     "execution_count": 31,
     "metadata": {},
     "output_type": "execute_result"
    }
   ],
   "source": [
    "np.percentile(orders['revenue'], [95, 99])"
   ]
  },
  {
   "cell_type": "markdown",
   "metadata": {},
   "source": [
    "*Не более 5% заказов имеют стоимость выше 28000 руб. и не более 1% - выше 58233.2*\n",
    "\n",
    "*Примем заказы стоимостью выше 35000 руб. за выбросы.*"
   ]
  },
  {
   "cell_type": "markdown",
   "metadata": {},
   "source": [
    "10.\tПосчитаем статистическую значимость различий в конверсии между группами по «сырым» данным.\n",
    "\n",
    "Обратимся к данным из таблицы orders, в которой содержится информация о заказах пользователей в конкретную дату. \n",
    "Найдем для каждого пользователя количество заказов в каждой группе А/В-теста:"
   ]
  },
  {
   "cell_type": "code",
   "execution_count": 32,
   "metadata": {},
   "outputs": [
    {
     "data": {
      "text/html": [
       "<div>\n",
       "<style scoped>\n",
       "    .dataframe tbody tr th:only-of-type {\n",
       "        vertical-align: middle;\n",
       "    }\n",
       "\n",
       "    .dataframe tbody tr th {\n",
       "        vertical-align: top;\n",
       "    }\n",
       "\n",
       "    .dataframe thead th {\n",
       "        text-align: right;\n",
       "    }\n",
       "</style>\n",
       "<table border=\"1\" class=\"dataframe\">\n",
       "  <thead>\n",
       "    <tr style=\"text-align: right;\">\n",
       "      <th></th>\n",
       "      <th>user_id</th>\n",
       "      <th>orders</th>\n",
       "    </tr>\n",
       "  </thead>\n",
       "  <tbody>\n",
       "    <tr>\n",
       "      <td>0</td>\n",
       "      <td>5114589</td>\n",
       "      <td>1</td>\n",
       "    </tr>\n",
       "    <tr>\n",
       "      <td>1</td>\n",
       "      <td>6958315</td>\n",
       "      <td>1</td>\n",
       "    </tr>\n",
       "    <tr>\n",
       "      <td>2</td>\n",
       "      <td>8300375</td>\n",
       "      <td>1</td>\n",
       "    </tr>\n",
       "    <tr>\n",
       "      <td>3</td>\n",
       "      <td>39475350</td>\n",
       "      <td>1</td>\n",
       "    </tr>\n",
       "    <tr>\n",
       "      <td>4</td>\n",
       "      <td>47206413</td>\n",
       "      <td>1</td>\n",
       "    </tr>\n",
       "  </tbody>\n",
       "</table>\n",
       "</div>"
      ],
      "text/plain": [
       "    user_id  orders\n",
       "0  5114589   1     \n",
       "1  6958315   1     \n",
       "2  8300375   1     \n",
       "3  39475350  1     \n",
       "4  47206413  1     "
      ]
     },
     "execution_count": 32,
     "metadata": {},
     "output_type": "execute_result"
    }
   ],
   "source": [
    "# Для группы А:\n",
    "orders_by_users_a = orders[orders['group'] == 'A'].groupby('visitorId', as_index = False).\\\n",
    "                                                   agg({'transactionId': pd.Series.nunique})\n",
    "orders_by_users_a.columns = ['user_id', 'orders'] # переименуем столбцы в более понятные\n",
    "# Для группы В:\n",
    "orders_by_users_b = orders[orders['group'] == 'B'].groupby('visitorId', as_index = False).\\\n",
    "                                                   agg({'transactionId': pd.Series.nunique})\n",
    "orders_by_users_b.columns = ['user_id', 'orders'] # переименуем столбцы\n",
    "# Проверим результат:\n",
    "#orders_by_users_a.head(5)\n",
    "orders_by_users_b.head(5)"
   ]
  },
  {
   "cell_type": "markdown",
   "metadata": {},
   "source": [
    "Сейчас объявим две переменные sample_a, sample_b. \n",
    "\n",
    "Состоять переменные будут из двух частей: из списка с количеством заказов, для каждого из пользователей: orders_by_users_a['orders'] и orders_by_users_b['orders'] соответственно; и списка пользователей, которые ничего не заказывали(поставим 0). Их количество определим как разницу между суммой посетителей и количеством записей о заказах. Обратимся к таблице cummulative_data_А и cummulative_data_B соответственно:"
   ]
  },
  {
   "cell_type": "code",
   "execution_count": 33,
   "metadata": {},
   "outputs": [
    {
     "data": {
      "text/html": [
       "<div>\n",
       "<style scoped>\n",
       "    .dataframe tbody tr th:only-of-type {\n",
       "        vertical-align: middle;\n",
       "    }\n",
       "\n",
       "    .dataframe tbody tr th {\n",
       "        vertical-align: top;\n",
       "    }\n",
       "\n",
       "    .dataframe thead th {\n",
       "        text-align: right;\n",
       "    }\n",
       "</style>\n",
       "<table border=\"1\" class=\"dataframe\">\n",
       "  <thead>\n",
       "    <tr style=\"text-align: right;\">\n",
       "      <th></th>\n",
       "      <th>date</th>\n",
       "      <th>group</th>\n",
       "      <th>orders</th>\n",
       "      <th>buyers</th>\n",
       "      <th>revenue</th>\n",
       "      <th>visitors</th>\n",
       "      <th>conversion</th>\n",
       "    </tr>\n",
       "  </thead>\n",
       "  <tbody>\n",
       "    <tr>\n",
       "      <td>1</td>\n",
       "      <td>2019-08-01</td>\n",
       "      <td>B</td>\n",
       "      <td>21</td>\n",
       "      <td>20</td>\n",
       "      <td>101217</td>\n",
       "      <td>713</td>\n",
       "      <td>0.029453</td>\n",
       "    </tr>\n",
       "    <tr>\n",
       "      <td>3</td>\n",
       "      <td>2019-08-02</td>\n",
       "      <td>B</td>\n",
       "      <td>45</td>\n",
       "      <td>43</td>\n",
       "      <td>266748</td>\n",
       "      <td>1294</td>\n",
       "      <td>0.034776</td>\n",
       "    </tr>\n",
       "    <tr>\n",
       "      <td>5</td>\n",
       "      <td>2019-08-03</td>\n",
       "      <td>B</td>\n",
       "      <td>61</td>\n",
       "      <td>59</td>\n",
       "      <td>380996</td>\n",
       "      <td>1803</td>\n",
       "      <td>0.033833</td>\n",
       "    </tr>\n",
       "    <tr>\n",
       "      <td>7</td>\n",
       "      <td>2019-08-04</td>\n",
       "      <td>B</td>\n",
       "      <td>78</td>\n",
       "      <td>75</td>\n",
       "      <td>489567</td>\n",
       "      <td>2573</td>\n",
       "      <td>0.030315</td>\n",
       "    </tr>\n",
       "    <tr>\n",
       "      <td>9</td>\n",
       "      <td>2019-08-05</td>\n",
       "      <td>B</td>\n",
       "      <td>101</td>\n",
       "      <td>98</td>\n",
       "      <td>581995</td>\n",
       "      <td>3280</td>\n",
       "      <td>0.030793</td>\n",
       "    </tr>\n",
       "  </tbody>\n",
       "</table>\n",
       "</div>"
      ],
      "text/plain": [
       "        date group  orders  buyers  revenue  visitors  conversion\n",
       "1 2019-08-01  B     21      20      101217   713       0.029453  \n",
       "3 2019-08-02  B     45      43      266748   1294      0.034776  \n",
       "5 2019-08-03  B     61      59      380996   1803      0.033833  \n",
       "7 2019-08-04  B     78      75      489567   2573      0.030315  \n",
       "9 2019-08-05  B     101     98      581995   3280      0.030793  "
      ]
     },
     "execution_count": 33,
     "metadata": {},
     "output_type": "execute_result"
    }
   ],
   "source": [
    "#cummulative_data_А.head(5)\n",
    "cummulative_data_B.head(5)"
   ]
  },
  {
   "cell_type": "code",
   "execution_count": 34,
   "metadata": {},
   "outputs": [
    {
     "data": {
      "text/plain": [
       "0         0\n",
       "1         0\n",
       "2         0\n",
       "3         0\n",
       "4         0\n",
       "         ..\n",
       "306501    0\n",
       "306502    0\n",
       "306503    0\n",
       "306504    0\n",
       "306505    0\n",
       "Name: orders, Length: 306506, dtype: int64"
      ]
     },
     "execution_count": 34,
     "metadata": {},
     "output_type": "execute_result"
    }
   ],
   "source": [
    "# Создадим объект pd.Series нужной длины и найдем разницу:\n",
    "pd.Series(0, index = np.arange(cummulative_data_А['visitors'].sum() - len(orders_by_users_a['orders'])), \n",
    "          name = 'orders')\n",
    "# Соответственно создадим объект pd.Series нужной длины для данных гр.В:\n",
    "pd.Series(0, index = np.arange(cummulative_data_B['visitors'].sum() - len(orders_by_users_b['orders'])), \n",
    "          name = 'orders')"
   ]
  },
  {
   "cell_type": "code",
   "execution_count": 35,
   "metadata": {},
   "outputs": [],
   "source": [
    "# Создадим объект sample_a с помощью метода pd.concat(): \n",
    "#объединим две последовательности orders_by_users_a['orders'] и созданый pd.Series\n",
    "sample_a = pd.concat([orders_by_users_a['orders'], \n",
    "           pd.Series(0, index = np.arange(cummulative_data_А['visitors'].sum() - len(orders_by_users_a['orders'])), \n",
    "           name = 'orders')],\n",
    "                     axis = 0).reset_index()\n",
    "# Аналогично создадим объект sample_b:\n",
    "sample_b = pd.concat([orders_by_users_b['orders'], \n",
    "           pd.Series(0, index = np.arange(cummulative_data_B['visitors'].sum() - len(orders_by_users_b['orders'])), \n",
    "           name = 'orders')],\n",
    "                     axis = 0).reset_index()"
   ]
  },
  {
   "cell_type": "markdown",
   "metadata": {},
   "source": [
    "Число элементов в объектах sample_a и sample_b - количество пользователей в каждой группе, сумма всех элементов - количество заказов. Чтобы рассчитать конверсию нужно количество заказов разделить на количество пользователей (другими словами, найти среднее арифметическое). \n",
    "\n",
    "Посчитаем статистическую значимость различий в конверсии между группами по «сырым» данным и относительный прирост конверсии группы В к гр.А  по формуле: (КОНВЕРСИЯ гр.В) / (КОНВЕРСИЯ гр.А - 1). \n",
    "\n",
    "Сформулируем нулевую гипотезу: значимых различий между средними значениями в группах тестирования А и В нет.\n",
    "\n",
    "И альтернативную гипотезу: средние значения в двух группах различны.\n",
    "\n",
    "Критический уровень статистической значимости = 0.05.\n",
    "\n",
    "В наших выборках имеются выбросы и распределения не являются нормальными, поэтому применим непараметрический ранговый U-критерий Манна-Уитни:\n"
   ]
  },
  {
   "cell_type": "code",
   "execution_count": 36,
   "metadata": {},
   "outputs": [
    {
     "name": "stdout",
     "output_type": "stream",
     "text": [
      "p-value:0.007\n",
      "Относительный прирост конверсии гр.В к гр.А: 0.144\n"
     ]
    }
   ],
   "source": [
    "import scipy.stats as stats\n",
    "print(\"p-value:{0:.3f}\".format(stats.mannwhitneyu(sample_a['orders'], \n",
    "                                                  sample_b['orders'])[1]))\n",
    "\n",
    "print(\"Относительный прирост конверсии гр.В к гр.А: {0:.3f}\".format(sample_b['orders'].mean() \\\n",
    "                                                                    / sample_a['orders'].mean()-1))\n"
   ]
  },
  {
   "cell_type": "markdown",
   "metadata": {},
   "source": [
    "*Получили: p-value:0.007 < 0.05. Поэтому можем предположить, что  средние значения конверсии в двух группах различны.*\n",
    "\n",
    "Но действительно ли мы можем утверждать, что средние различны? Построим доверительные интервалы вида: \n",
    "\n",
    "Х +- t(1-alpha/2) * se, где se - ошибка среднего, t - критерий Стьюдента.\n",
    "\n",
    "Воспользуемся методом st.t.interval() библиотеки scipy.stats:"
   ]
  },
  {
   "cell_type": "code",
   "execution_count": 37,
   "metadata": {},
   "outputs": [
    {
     "name": "stdout",
     "output_type": "stream",
     "text": [
      "95% доверительный интервал для выборки sample_a (0.0016466106298153268, 0.001997806770478451)\n",
      "95% доверительный интервал для выборки sample_b (0.0019021218591946457, 0.002266010166387265)\n"
     ]
    }
   ],
   "source": [
    "import numpy as np, scipy.stats as st\n",
    "print(\"95% доверительный интервал для выборки sample_a\", st.t.interval(0.95, len(sample_a['orders'])-1, \n",
    "              loc=np.mean(sample_a['orders']), \n",
    "              scale=st.sem(sample_a['orders'], ddof = 1)))\n",
    "print(\"95% доверительный интервал для выборки sample_b\", st.t.interval(0.95, len(sample_b['orders'])-1, \n",
    "              loc=np.mean(sample_b['orders']), \n",
    "              scale=st.sem(sample_b['orders'], ddof = 1)))"
   ]
  },
  {
   "cell_type": "markdown",
   "metadata": {},
   "source": [
    "*95% доверительный интервал для среднего выборки sample_a находится левее по сравнению с 95% доверительным интервалом  выборки sample_b. Данный результат подтверждает наше предположение о том, что средние значения конверсии в двух группах различны*"
   ]
  },
  {
   "cell_type": "markdown",
   "metadata": {},
   "source": [
    "11.\tПосчитаем статистическую значимость различий в среднем чеке заказа между группами по «сырым» данным"
   ]
  },
  {
   "cell_type": "markdown",
   "metadata": {},
   "source": [
    "Обратимся к таблице orders(информация о заказах) - к столбцу 'revenue'(сумма выручки с заказа в конкретную дату). \n",
    "\n",
    "Также как и в предыдущем случае, будем использовать для расчета статистической значимости  ранговый U-критерий Манна-Уитни. Также найдем относительный прирост  группы В к гр.А  по формуле: (КУМУЛЯТИВНАЯ МЕТРИКА гр.В) / (КУМУЛЯТИВНАЯ МЕТРИКА гр.А - 1). \n",
    "\n",
    "Сформулируем нулевую гипотезу: значимых различий между  значениями среднего чека  в группах  тестирования A и В нет.\n",
    "\n",
    "И альтернативную гипотезу: средние значения в двух группах различны.\n",
    "\n",
    "Критический уровень статистической значимости = 0.05."
   ]
  },
  {
   "cell_type": "code",
   "execution_count": 38,
   "metadata": {},
   "outputs": [
    {
     "name": "stdout",
     "output_type": "stream",
     "text": [
      "p-value:0.365\n",
      "Относительный прирост 0.259\n"
     ]
    }
   ],
   "source": [
    "import scipy.stats as stats\n",
    "print(\"p-value:{0:.3f}\".format(stats.mannwhitneyu(orders.query('group == \"A\"')['revenue'], \n",
    "                                                  orders.query('group == \"B\"')['revenue'])[1]))\n",
    "print(\"Относительный прирост {:.3f}\".format(orders.query('group == \"B\"')['revenue'].mean() \n",
    "                      / orders.query('group == \"A\"')['revenue'].mean()-1))"
   ]
  },
  {
   "cell_type": "markdown",
   "metadata": {},
   "source": [
    "*p-value:0.365 > 0.05. Отсюда следует, что у нас нет оснований отвергнуть нулевую гипотезу и  можем предположить, что значимых различий в группах тестирования нет.*\n",
    "\n",
    "*Также как и в предыдущем случае найдем 95% доверительный интервал:*"
   ]
  },
  {
   "cell_type": "code",
   "execution_count": 39,
   "metadata": {},
   "outputs": [
    {
     "name": "stdout",
     "output_type": "stream",
     "text": [
      "95% доверительный интервал для выборки в гр.А (6347.5360261549595, 8319.620167740912)\n",
      "95% доверительный интервал для выборки в гр.В (5159.65019499622, 13302.09980500378)\n"
     ]
    }
   ],
   "source": [
    "print(\"95% доверительный интервал для выборки в гр.А\", st.t.interval(0.95, \n",
    "              len(orders.query('group == \"A\"')['revenue'])-1, \n",
    "              loc=np.mean(orders.query('group == \"A\"')['revenue']), \n",
    "              scale=st.sem(orders.query('group == \"A\"')['revenue'], ddof = 1)))\n",
    "print(\"95% доверительный интервал для выборки в гр.В\", st.t.interval(0.95, \n",
    "              len(orders.query('group == \"B\"')['revenue'])-1, \n",
    "              loc=np.mean(orders.query('group == \"B\"')['revenue']), \n",
    "              scale=st.sem(orders.query('group == \"B\"')['revenue'], ddof = 1)))"
   ]
  },
  {
   "cell_type": "markdown",
   "metadata": {},
   "source": [
    "*95% доверительные интервалы двух выборок пересекаются. А это значит, что статистически значимых различий в группах нет.*"
   ]
  },
  {
   "cell_type": "markdown",
   "metadata": {},
   "source": [
    "12.\tПосчитаем статистическую значимость различий в конверсии между группами по «очищенным» данным. \n",
    "\n",
    "Напомним, что приняли за аномальных пользователей тех, кто совершил заказ стоимостью выше 30000 рублей или сформировал за время проведения теста больше 2 заказов. Узнаем сколько всего аномальных пользователей.\n",
    "\n",
    "Сначала сохраним в отдельный объект пользователей, совершивших заказ стоимостью выше 35000:"
   ]
  },
  {
   "cell_type": "code",
   "execution_count": 40,
   "metadata": {},
   "outputs": [
    {
     "data": {
      "text/plain": [
       "60     4256040402\n",
       "78     3288820196\n",
       "131    2254586615\n",
       "173    2953427180\n",
       "287    2254456485\n",
       "Name: visitorId, dtype: int64"
      ]
     },
     "execution_count": 40,
     "metadata": {},
     "output_type": "execute_result"
    }
   ],
   "source": [
    "orders_new = orders[orders['revenue'] > 35000]['visitorId'].copy()\n",
    "\n",
    "orders_new.head(5)"
   ]
  },
  {
   "cell_type": "markdown",
   "metadata": {},
   "source": [
    "Сейчас сохраним в отдельный объект данные о пользователях, совершивших более 2 заказов:"
   ]
  },
  {
   "cell_type": "code",
   "execution_count": 41,
   "metadata": {},
   "outputs": [
    {
     "data": {
      "text/plain": [
       "44     199603092 \n",
       "55     237748145 \n",
       "114    457167155 \n",
       "299    1230306981\n",
       "393    1614305549\n",
       "Name: visitorId, dtype: int64"
      ]
     },
     "execution_count": 41,
     "metadata": {},
     "output_type": "execute_result"
    }
   ],
   "source": [
    "users = orders.groupby('visitorId', as_index = False).agg({'transactionId': 'count'}).\\\n",
    "                       query('transactionId > 3')['visitorId'].copy()\n",
    "users.head(5)"
   ]
  },
  {
   "cell_type": "markdown",
   "metadata": {},
   "source": [
    "Объединим результаты, удалим дубликаты и найдем количество:"
   ]
  },
  {
   "cell_type": "code",
   "execution_count": 42,
   "metadata": {},
   "outputs": [
    {
     "data": {
      "text/plain": [
       "46"
      ]
     },
     "execution_count": 42,
     "metadata": {},
     "output_type": "execute_result"
    }
   ],
   "source": [
    "orders_new_users = pd.concat([orders_new, users], axis = 0).drop_duplicates().copy()\n",
    "orders_new_users.count()"
   ]
  },
  {
   "cell_type": "markdown",
   "metadata": {},
   "source": [
    "Всего 46 аномальных пользователей. Исключим этих пользователей из списка с помощью методов: np.logical_not() и isin().\n",
    "\n",
    "Создадим переменные sample_a_fildred и sample_b_fildred.\n",
    "\n",
    "Состоять переменные будут из двух частей: из списка с количеством заказов, для каждого из пользователей: orders_by_users_a['orders'] и orders_by_users_b['orders'] соответственно, но без аномальных пользователей; и списка пользователей, которые ничего не заказывали(поставим 0). Их количество определим как разницу между суммой посетителей и количеством записей о заказах. Обратимся к таблице cummulative_data_А и cummulative_data_B соответственно:"
   ]
  },
  {
   "cell_type": "code",
   "execution_count": 43,
   "metadata": {},
   "outputs": [],
   "source": [
    "sample_a_fildred = pd.concat([orders_by_users_a[np.logical_not(orders_by_users_a['user_id'].\\\n",
    "                                                               isin(orders_new_users))]['orders'],\n",
    "                             pd.Series(0, index = np.arange(cummulative_data_А['visitors'].sum() - \\\n",
    "                                                            len(orders_by_users_a['orders'])), \n",
    "                                                            name = 'orders')],\n",
    "                            axis = 0)\n",
    "\n",
    "\n",
    "sample_b_fildred = pd.concat([orders_by_users_b[np.logical_not(orders_by_users_b['user_id'].\\\n",
    "                                                               isin(orders_new_users))]['orders'],\n",
    "                             pd.Series(0, index = np.arange(cummulative_data_B['visitors'].sum() - \\\n",
    "                                                            len(orders_by_users_b['orders'])), \n",
    "                                                            name = 'orders')],\n",
    "                            axis = 0)"
   ]
  },
  {
   "cell_type": "markdown",
   "metadata": {},
   "source": [
    "Вычислим непараметрический  ранговый U-критерий Манна-Уитни и относительный прирост конверсии группы В к гр.А  по формуле: (КОНВЕРСИЯ гр.В) / (КОНВЕРСИЯ гр.А - 1). Критический уровень статистической значимости = 0.05."
   ]
  },
  {
   "cell_type": "code",
   "execution_count": 44,
   "metadata": {},
   "outputs": [
    {
     "name": "stdout",
     "output_type": "stream",
     "text": [
      "p-value:0.006\n",
      "Относительный прирост конверсии гр.В к гр.А: -0.139\n"
     ]
    }
   ],
   "source": [
    "import scipy.stats as stats\n",
    "print(\"p-value:{0:.3f}\".format(stats.mannwhitneyu(sample_a_fildred, \n",
    "                                                  sample_b_fildred)[1]))\n",
    "\n",
    "print(\"Относительный прирост конверсии гр.В к гр.А: {0:.3f}\".format(sample_a_fildred.mean() \\\n",
    "                                                                    / sample_b_fildred.mean()-1))"
   ]
  },
  {
   "cell_type": "markdown",
   "metadata": {},
   "source": [
    "*Получили: p-value:0.006 < 0.05. Поэтому можем предположить, что средние значения конверсии в двух группах различны.*"
   ]
  },
  {
   "cell_type": "markdown",
   "metadata": {},
   "source": [
    "Найдем 95% доверительные интервалы уже по известной формуле:"
   ]
  },
  {
   "cell_type": "code",
   "execution_count": 45,
   "metadata": {},
   "outputs": [
    {
     "name": "stdout",
     "output_type": "stream",
     "text": [
      "95% доверительный интервал для выборки sample_a_fildred (0.0014777162234166365, 0.0017809982202789288)\n",
      "95% доверительный интервал для выборки sample_b_fildred (0.0017311712450893645, 0.0020530931193203134)\n"
     ]
    }
   ],
   "source": [
    "import numpy as np, scipy.stats as st\n",
    "print(\"95% доверительный интервал для выборки sample_a_fildred\", st.t.interval(0.95, len(sample_a_fildred)-1, \n",
    "              loc=np.mean(sample_a_fildred), \n",
    "              scale=st.sem(sample_a_fildred, ddof = 1)))\n",
    "print(\"95% доверительный интервал для выборки sample_b_fildred\", st.t.interval(0.95, len(sample_b_fildred)-1, \n",
    "              loc=np.mean(sample_b_fildred), \n",
    "              scale=st.sem(sample_b_fildred, ddof = 1)))"
   ]
  },
  {
   "cell_type": "markdown",
   "metadata": {},
   "source": [
    "*95% доверительный интервал для среднего выборки sample_a_fildred находится левее по сравнению с 95% доверительным интервалом выборки sample_b_fildred. Данный результат подтверждает наше предположение о том, что средние значения конверсии в двух группах различны (по очищенным данным)*"
   ]
  },
  {
   "cell_type": "markdown",
   "metadata": {},
   "source": [
    "13.\tПосчитаем статистическую значимость различий в среднем чеке заказа между группами по «очищенным» данным."
   ]
  },
  {
   "cell_type": "code",
   "execution_count": 46,
   "metadata": {},
   "outputs": [
    {
     "name": "stdout",
     "output_type": "stream",
     "text": [
      "p-value:0.493\n",
      "Относительный прирост 0.018\n"
     ]
    }
   ],
   "source": [
    "print(\"p-value:{0:.3f}\".format(stats.mannwhitneyu(orders[np.logical_and(orders['group'] == 'A',\n",
    "                                                        np.logical_not(orders['visitorId'].isin(orders_new_users)))]\\\n",
    "                                                 ['revenue'],\n",
    "                                                 orders[np.logical_and(orders['group'] == 'B',\n",
    "                                                        np.logical_not(orders['visitorId'].isin(orders_new_users)))]\\\n",
    "                                                 ['revenue'])[1]))\n",
    "print(\"Относительный прирост {:.3f}\".format(orders[np.logical_and(orders['group'] == 'B',\n",
    "                                                        np.logical_not(orders['visitorId'].isin(orders_new_users)))]\\\n",
    "                                                 ['revenue'].mean() /\n",
    "                                                  orders[np.logical_and(orders['group'] == 'A',\n",
    "                                                        np.logical_not(orders['visitorId'].isin(orders_new_users)))]\\\n",
    "                                                 ['revenue'].mean() - 1))"
   ]
  },
  {
   "cell_type": "markdown",
   "metadata": {},
   "source": [
    "*p-value:0.493 > 0.05. Отсюда следует, что у нас нет оснований отвергнуть нулевую гипотезу и можем предположить, что значимых различий в группах тестирования нет.*\n",
    "\n",
    "Найдем 95% доверительные интервалы:"
   ]
  },
  {
   "cell_type": "code",
   "execution_count": 47,
   "metadata": {},
   "outputs": [
    {
     "name": "stdout",
     "output_type": "stream",
     "text": [
      "95% доверительный интервал для выборки гр.А (5045.0895011754965, 6209.3040731216915)\n",
      "95% доверительный интервал для выборки гр.В (5155.424573912291, 6307.074565502511)\n"
     ]
    }
   ],
   "source": [
    "print(\"95% доверительный интервал для выборки гр.А\", st.t.interval(0.95, len(orders[np.logical_and(orders['group'] == 'A',\n",
    "                                                        np.logical_not(orders['visitorId'].isin(orders_new_users)))]\\\n",
    "                                                 ['revenue'])-1, \n",
    "              loc=np.mean(orders[np.logical_and(orders['group'] == 'A',\n",
    "                                                        np.logical_not(orders['visitorId'].isin(orders_new_users)))]\\\n",
    "                                                 ['revenue']), \n",
    "              scale=st.sem(orders[np.logical_and(orders['group'] == 'A',\n",
    "                                                        np.logical_not(orders['visitorId'].isin(orders_new_users)))]\\\n",
    "                                                 ['revenue'], ddof = 1)))\n",
    "print(\"95% доверительный интервал для выборки гр.В\", st.t.interval(0.95, len(orders[np.logical_and(orders['group'] == 'B',\n",
    "                                                        np.logical_not(orders['visitorId'].isin(orders_new_users)))]\\\n",
    "                                                 ['revenue'])-1, \n",
    "              loc=np.mean(orders[np.logical_and(orders['group'] == 'B',\n",
    "                                                        np.logical_not(orders['visitorId'].isin(orders_new_users)))]\\\n",
    "                                                 ['revenue']), \n",
    "              scale=st.sem(orders[np.logical_and(orders['group'] == 'B',\n",
    "                                                        np.logical_not(orders['visitorId'].isin(orders_new_users)))]\\\n",
    "                                                 ['revenue'], ddof = 1)))"
   ]
  },
  {
   "cell_type": "markdown",
   "metadata": {},
   "source": [
    "*Предполагаем, что статистически значимых различий между значениями среднего чека в группах тестирования А и В (по очищенным данным нет), т.к. 95% доверительные интервалы пересекаются*"
   ]
  },
  {
   "cell_type": "markdown",
   "metadata": {},
   "source": [
    "# Вывод:"
   ]
  },
  {
   "cell_type": "markdown",
   "metadata": {},
   "source": [
    "В ходе работы над проектом были получены следующие результаты:"
   ]
  },
  {
   "cell_type": "markdown",
   "metadata": {},
   "source": [
    "1. Было установлено статистически значимое различие между средними значениями конверсии (переход из посетителей в покупатели) между двумя группами тестирования.\n",
    "\n",
    "По \"сырым\" данным статистически значимое различие было достигнуто при p-value:0.007 и критическим уровнем значимости = 0.05. \n",
    "\n",
    "95% доверительный интервал для среднего в гр.А: (0.0016466106298153268, 0.001997806770478451), в гр.В: (0.0019021218591946457, 0.002266010166387265). \n",
    "\n",
    "По \"очищенным\" данным: при  p-value:0.006 и критическим уровнем значимости = 0.05. \n",
    "\n",
    "95% доверительный интервал среднего в гр.А: ((0.0014777162234166365, 0.0017809982202789288), в гр.В: (0.0017311712450893645, 0.0020530931193203134))"
   ]
  },
  {
   "cell_type": "markdown",
   "metadata": {},
   "source": [
    "2. Также было установлено: значимых различий среднего чека в двух группах тестирования нет.\n",
    "\n",
    "По \"сырым\" данным статистически значимое различие не было достигнуто при p-value:0.365 и критическим уровнем значимости = 0.05.\n",
    "\n",
    "95% доверительный интервал для среднего в гр.А: (6347.5360261549595, 8319.620167740912), в гр.В: (5159.65019499622, 13302.09980500378).\n",
    "\n",
    "По \"очищенным\" данным: при p-value:0.493 и критическим уровнем значимости = 0.05.\n",
    "\n",
    "95% доверительный интервал среднего в гр.А: (5045.0895011754965, 6209.3040731216915), в гр.В: (5155.424573912291, 6307.074565502511)."
   ]
  },
  {
   "cell_type": "markdown",
   "metadata": {},
   "source": [
    "3. График различия конверсии между группами сообщает, что результат гр.В лучше чем в гр.А практически на протяжении всего времени проведения теста:"
   ]
  },
  {
   "cell_type": "code",
   "execution_count": 48,
   "metadata": {},
   "outputs": [
    {
     "data": {
      "image/png": "[encoded data removed]",
      "text/plain": [
       "<Figure size 1080x720 with 1 Axes>"
      ]
     },
     "metadata": {
      "needs_background": "light"
     },
     "output_type": "display_data"
    }
   ],
   "source": [
    "plt.figure(figsize = (15,10))\n",
    "plt.step(merged_cummulative_conversions['date'], \n",
    "         merged_cummulative_conversions['conversionB'] / merged_cummulative_conversions['conversionA'] - 1,\n",
    "        label = 'Относительный прирост конверсии гр.В относительно гр.А')\n",
    "plt.title('График относительного изменения кумулятивной конверсии группы B к группе A')\n",
    "plt.axhline(y = 0, color = 'black', linestyle = '--')\n",
    "plt.axhline(y = 0.1, color = 'blue', linestyle = '--')\n",
    "plt.axis(['2019-08-01', '2019-09-01', -0.6, 0.6])\n",
    "plt.xlabel('Дата')\n",
    "plt.ylabel('Отношение')\n",
    "plt.grid()\n",
    "plt.legend()\n",
    "plt.show()\n"
   ]
  },
  {
   "cell_type": "markdown",
   "metadata": {},
   "source": [
    "4. График различия среднего чека говорит о том, что средний чек в гр.В еще не достиг реального уровня значения среднего чека. И ближе к окончанию теста с каждым днем уменьшается:"
   ]
  },
  {
   "cell_type": "code",
   "execution_count": 49,
   "metadata": {},
   "outputs": [
    {
     "data": {
      "image/png": "[encoded data removed]",
      "text/plain": [
       "<Figure size 1080x720 with 1 Axes>"
      ]
     },
     "metadata": {
      "needs_background": "light"
     },
     "output_type": "display_data"
    }
   ],
   "source": [
    "plt.figure(figsize = (15,10))\n",
    "plt.step(merged_cummulative_revenue['date'], \n",
    "         (merged_cummulative_revenue['revenueB'] / merged_cummulative_revenue['ordersB']) /\n",
    "         (merged_cummulative_revenue['revenueA'] / merged_cummulative_revenue['ordersA']) - 1)\n",
    "# Добавляем ось x методом axhline():\n",
    "plt.axhline(y = 0, color = 'black', linestyle = '--')\n",
    "plt.grid()\n",
    "plt.title('График относительного изменения кумулятивного среднего чека группы B к группе A')\n",
    "plt.xlabel('Дата')\n",
    "plt.ylabel('Отношение')\n",
    "plt.show()"
   ]
  },
  {
   "cell_type": "markdown",
   "metadata": {},
   "source": [
    "Исходя из вышесказанного, предлагаю остановить тест и зафиксировать победу группы В."
   ]
  },
  {
   "cell_type": "code",
   "execution_count": null,
   "metadata": {},
   "outputs": [],
   "source": []
  },
  {
   "cell_type": "code",
   "execution_count": null,
   "metadata": {},
   "outputs": [],
   "source": []
  },
  {
   "cell_type": "code",
   "execution_count": null,
   "metadata": {},
   "outputs": [],
   "source": []
  },
  {
   "cell_type": "code",
   "execution_count": null,
   "metadata": {},
   "outputs": [],
   "source": []
  },
  {
   "cell_type": "code",
   "execution_count": null,
   "metadata": {},
   "outputs": [],
   "source": []
  },
  {
   "cell_type": "code",
   "execution_count": null,
   "metadata": {},
   "outputs": [],
   "source": []
  },
  {
   "cell_type": "code",
   "execution_count": null,
   "metadata": {},
   "outputs": [],
   "source": []
  },
  {
   "cell_type": "code",
   "execution_count": null,
   "metadata": {},
   "outputs": [],
   "source": []
  },
  {
   "cell_type": "code",
   "execution_count": null,
   "metadata": {},
   "outputs": [],
   "source": []
  },
  {
   "cell_type": "code",
   "execution_count": null,
   "metadata": {},
   "outputs": [],
   "source": []
  },
  {
   "cell_type": "code",
   "execution_count": null,
   "metadata": {},
   "outputs": [],
   "source": []
  },
  {
   "cell_type": "code",
   "execution_count": null,
   "metadata": {},
   "outputs": [],
   "source": []
  },
  {
   "cell_type": "code",
   "execution_count": null,
   "metadata": {},
   "outputs": [],
   "source": []
  },
  {
   "cell_type": "code",
   "execution_count": null,
   "metadata": {},
   "outputs": [],
   "source": []
  }
 ],
 "metadata": {
  "kernelspec": {
   "display_name": "Python 3",
   "language": "python",
   "name": "python3"
  },
  "language_info": {
   "codemirror_mode": {
    "name": "ipython",
    "version": 3
   },
   "file_extension": ".py",
   "mimetype": "text/x-python",
   "name": "python",
   "nbconvert_exporter": "python",
   "pygments_lexer": "ipython3",
   "version": "3.7.6"
  }
 },
 "nbformat": 4,
 "nbformat_minor": 2
}
