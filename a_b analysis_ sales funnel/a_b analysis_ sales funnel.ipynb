{
 "cells": [
  {
   "cell_type": "markdown",
   "metadata": {},
   "source": [
    "# Исследование для интернет-магазина\n"
   ]
  },
  {
   "cell_type": "markdown",
   "metadata": {},
   "source": [
    "Целью данной работы является:\n",
    "\n",
    "1) Изучение воронки продаж;\n",
    "\n",
    "2) Принятие решения по результатам А/В-теста.\n",
    "\n",
    "Задачи: \n",
    "\n",
    "1) Узнать как пользователи доходят до покупки;\n",
    "\n",
    "2) Выяснить сколько пользователей доходит до покупки, а сколько —«застревает» на предыдущих шагах;\n",
    "\n",
    "3) Исследовать результаты А/В - теста;\n",
    "\n",
    "4) Установить какой шрифт лучше.\n",
    "\n",
    "\n",
    "Дан файл с логами."
   ]
  },
  {
   "cell_type": "markdown",
   "metadata": {},
   "source": [
    "# Изучение общей информации\n",
    "\n",
    "Загрузим полученные данные:"
   ]
  },
  {
   "cell_type": "code",
   "execution_count": 1,
   "metadata": {},
   "outputs": [
    {
     "data": {
      "text/html": [
       "<div>\n",
       "<style scoped>\n",
       "    .dataframe tbody tr th:only-of-type {\n",
       "        vertical-align: middle;\n",
       "    }\n",
       "\n",
       "    .dataframe tbody tr th {\n",
       "        vertical-align: top;\n",
       "    }\n",
       "\n",
       "    .dataframe thead th {\n",
       "        text-align: right;\n",
       "    }\n",
       "</style>\n",
       "<table border=\"1\" class=\"dataframe\">\n",
       "  <thead>\n",
       "    <tr style=\"text-align: right;\">\n",
       "      <th></th>\n",
       "      <th>EventName</th>\n",
       "      <th>DeviceIDHash</th>\n",
       "      <th>EventTimestamp</th>\n",
       "      <th>ExpId</th>\n",
       "    </tr>\n",
       "  </thead>\n",
       "  <tbody>\n",
       "    <tr>\n",
       "      <th>166257</th>\n",
       "      <td>MainScreenAppear</td>\n",
       "      <td>5656270312181232590</td>\n",
       "      <td>1565020704</td>\n",
       "      <td>246</td>\n",
       "    </tr>\n",
       "    <tr>\n",
       "      <th>184650</th>\n",
       "      <td>OffersScreenAppear</td>\n",
       "      <td>3302844784932242826</td>\n",
       "      <td>1565077741</td>\n",
       "      <td>246</td>\n",
       "    </tr>\n",
       "    <tr>\n",
       "      <th>70643</th>\n",
       "      <td>CartScreenAppear</td>\n",
       "      <td>3041190028136719639</td>\n",
       "      <td>1564772719</td>\n",
       "      <td>247</td>\n",
       "    </tr>\n",
       "    <tr>\n",
       "      <th>73685</th>\n",
       "      <td>PaymentScreenSuccessful</td>\n",
       "      <td>1989685320445148348</td>\n",
       "      <td>1564780012</td>\n",
       "      <td>247</td>\n",
       "    </tr>\n",
       "    <tr>\n",
       "      <th>160889</th>\n",
       "      <td>CartScreenAppear</td>\n",
       "      <td>7814711012862294079</td>\n",
       "      <td>1565014051</td>\n",
       "      <td>248</td>\n",
       "    </tr>\n",
       "    <tr>\n",
       "      <th>35696</th>\n",
       "      <td>MainScreenAppear</td>\n",
       "      <td>2709220656435554465</td>\n",
       "      <td>1564687183</td>\n",
       "      <td>247</td>\n",
       "    </tr>\n",
       "    <tr>\n",
       "      <th>202712</th>\n",
       "      <td>PaymentScreenSuccessful</td>\n",
       "      <td>3046756312075882766</td>\n",
       "      <td>1565107756</td>\n",
       "      <td>247</td>\n",
       "    </tr>\n",
       "    <tr>\n",
       "      <th>180460</th>\n",
       "      <td>MainScreenAppear</td>\n",
       "      <td>3881814466361668142</td>\n",
       "      <td>1565069409</td>\n",
       "      <td>246</td>\n",
       "    </tr>\n",
       "    <tr>\n",
       "      <th>141047</th>\n",
       "      <td>MainScreenAppear</td>\n",
       "      <td>5801359697252720810</td>\n",
       "      <td>1564963214</td>\n",
       "      <td>247</td>\n",
       "    </tr>\n",
       "    <tr>\n",
       "      <th>196740</th>\n",
       "      <td>MainScreenAppear</td>\n",
       "      <td>322524090617972653</td>\n",
       "      <td>1565099901</td>\n",
       "      <td>247</td>\n",
       "    </tr>\n",
       "  </tbody>\n",
       "</table>\n",
       "</div>"
      ],
      "text/plain": [
       "                      EventName         DeviceIDHash  EventTimestamp  ExpId\n",
       "166257         MainScreenAppear  5656270312181232590      1565020704    246\n",
       "184650       OffersScreenAppear  3302844784932242826      1565077741    246\n",
       "70643          CartScreenAppear  3041190028136719639      1564772719    247\n",
       "73685   PaymentScreenSuccessful  1989685320445148348      1564780012    247\n",
       "160889         CartScreenAppear  7814711012862294079      1565014051    248\n",
       "35696          MainScreenAppear  2709220656435554465      1564687183    247\n",
       "202712  PaymentScreenSuccessful  3046756312075882766      1565107756    247\n",
       "180460         MainScreenAppear  3881814466361668142      1565069409    246\n",
       "141047         MainScreenAppear  5801359697252720810      1564963214    247\n",
       "196740         MainScreenAppear   322524090617972653      1565099901    247"
      ]
     },
     "execution_count": 1,
     "metadata": {},
     "output_type": "execute_result"
    }
   ],
   "source": [
    "# Подключим библиотеки:\n",
    "import pandas as pd\n",
    "import numpy as np\n",
    "import matplotlib.pyplot as plt\n",
    "import seaborn as sns\n",
    "path = '/Users/PPC/Desktop/practica/'\n",
    "log = pd.read_csv(path + 'logs_exp.csv', sep = '\\t')\n",
    "#log.tail(10)\n",
    "#log.head(10)\n",
    "log.sample(10)"
   ]
  },
  {
   "cell_type": "markdown",
   "metadata": {},
   "source": [
    "Посмотрим на общую информацию о файле:"
   ]
  },
  {
   "cell_type": "code",
   "execution_count": 2,
   "metadata": {},
   "outputs": [
    {
     "name": "stdout",
     "output_type": "stream",
     "text": [
      "<class 'pandas.core.frame.DataFrame'>\n",
      "RangeIndex: 244126 entries, 0 to 244125\n",
      "Data columns (total 4 columns):\n",
      " #   Column          Non-Null Count   Dtype \n",
      "---  ------          --------------   ----- \n",
      " 0   EventName       244126 non-null  object\n",
      " 1   DeviceIDHash    244126 non-null  int64 \n",
      " 2   EventTimestamp  244126 non-null  int64 \n",
      " 3   ExpId           244126 non-null  int64 \n",
      "dtypes: int64(3), object(1)\n",
      "memory usage: 7.5+ MB\n"
     ]
    },
    {
     "data": {
      "text/plain": [
       "Index(['EventName', 'DeviceIDHash', 'EventTimestamp', 'ExpId'], dtype='object')"
      ]
     },
     "execution_count": 2,
     "metadata": {},
     "output_type": "execute_result"
    }
   ],
   "source": [
    "log.info()\n",
    "log.columns"
   ]
  },
  {
   "cell_type": "markdown",
   "metadata": {},
   "source": [
    "Описание данных:\n",
    "\n",
    "EventName — название события;\n",
    "\n",
    "DeviceIDHash — уникальный идентификатор пользователя;\n",
    "\n",
    "EventTimestamp — время события;\n",
    "\n",
    "ExpId — номер эксперимента: 246 и 247 — контрольные группы, а 248 — экспериментальная.\n",
    "\n",
    "Датафрейм log состоит из 244126 строк и 4 столбцов.\n",
    "\n",
    "Столбец EventName содержит категориальную переменную, остальные количественную.\n",
    "\n",
    "Пропущенные значения отсутствуют.\n",
    "\n",
    "В столбце 'EventTimestamp' время и дата представлены в формате unix-time - нужно перевести в привычный для нас формат.\n",
    "\n",
    "А также преобразовать названия столбцов для того, чтобы удобно было с ними работать."
   ]
  },
  {
   "cell_type": "markdown",
   "metadata": {},
   "source": [
    "# Вывод:\n",
    "\n",
    "Каждая строка датафрейма log содержит информацию об одном действий пользователя или событий, а также: уникальный идентификатор пользователя, дату и время, название события (действия) и номер эксперимента (246 и 247 — контрольные группы (со старыми шрифтами), а 248 — экспериментальная (с измененным шрифтом))."
   ]
  },
  {
   "cell_type": "markdown",
   "metadata": {},
   "source": [
    "# Предобработка данных\n",
    "\n",
    "1) Произведем замену типа данных в названиях столбцов на более понятные, чтобы было ясно какая информация хранится в каждом из них. Данное действие облегчит в последствии работу при обращении к конкретному столбцу:\n",
    "\n",
    "EventName на event_name; DeviceIDHash на user_id; EventTimestamp на event_time; ExpId на exp_id.\n",
    "\n",
    "2) Переведем время и дату в датафрейме из формата unix-time(количество секунд, прошедших с 00:00:00 1 января 1970г.) в привычное для нас.\n",
    "\n",
    "3) Проверим датафрейм на наличие дублирующихся строк. И удалим их.\n",
    "\n",
    "4) Добавим столбец 'event_date' с датой, в которую произошло событие.\n"
   ]
  },
  {
   "cell_type": "markdown",
   "metadata": {},
   "source": [
    "Для преобразований в названиях столбцов воспользуемся методом rename():"
   ]
  },
  {
   "cell_type": "code",
   "execution_count": 3,
   "metadata": {},
   "outputs": [
    {
     "data": {
      "text/html": [
       "<div>\n",
       "<style scoped>\n",
       "    .dataframe tbody tr th:only-of-type {\n",
       "        vertical-align: middle;\n",
       "    }\n",
       "\n",
       "    .dataframe tbody tr th {\n",
       "        vertical-align: top;\n",
       "    }\n",
       "\n",
       "    .dataframe thead th {\n",
       "        text-align: right;\n",
       "    }\n",
       "</style>\n",
       "<table border=\"1\" class=\"dataframe\">\n",
       "  <thead>\n",
       "    <tr style=\"text-align: right;\">\n",
       "      <th></th>\n",
       "      <th>event_name</th>\n",
       "      <th>user_id</th>\n",
       "      <th>event_time</th>\n",
       "      <th>exp_id</th>\n",
       "    </tr>\n",
       "  </thead>\n",
       "  <tbody>\n",
       "    <tr>\n",
       "      <th>0</th>\n",
       "      <td>MainScreenAppear</td>\n",
       "      <td>4575588528974610257</td>\n",
       "      <td>1564029816</td>\n",
       "      <td>246</td>\n",
       "    </tr>\n",
       "    <tr>\n",
       "      <th>1</th>\n",
       "      <td>MainScreenAppear</td>\n",
       "      <td>7416695313311560658</td>\n",
       "      <td>1564053102</td>\n",
       "      <td>246</td>\n",
       "    </tr>\n",
       "    <tr>\n",
       "      <th>2</th>\n",
       "      <td>PaymentScreenSuccessful</td>\n",
       "      <td>3518123091307005509</td>\n",
       "      <td>1564054127</td>\n",
       "      <td>248</td>\n",
       "    </tr>\n",
       "    <tr>\n",
       "      <th>3</th>\n",
       "      <td>CartScreenAppear</td>\n",
       "      <td>3518123091307005509</td>\n",
       "      <td>1564054127</td>\n",
       "      <td>248</td>\n",
       "    </tr>\n",
       "    <tr>\n",
       "      <th>4</th>\n",
       "      <td>PaymentScreenSuccessful</td>\n",
       "      <td>6217807653094995999</td>\n",
       "      <td>1564055322</td>\n",
       "      <td>248</td>\n",
       "    </tr>\n",
       "  </tbody>\n",
       "</table>\n",
       "</div>"
      ],
      "text/plain": [
       "                event_name              user_id  event_time  exp_id\n",
       "0         MainScreenAppear  4575588528974610257  1564029816     246\n",
       "1         MainScreenAppear  7416695313311560658  1564053102     246\n",
       "2  PaymentScreenSuccessful  3518123091307005509  1564054127     248\n",
       "3         CartScreenAppear  3518123091307005509  1564054127     248\n",
       "4  PaymentScreenSuccessful  6217807653094995999  1564055322     248"
      ]
     },
     "execution_count": 3,
     "metadata": {},
     "output_type": "execute_result"
    }
   ],
   "source": [
    "# Создадим словарь с заменами:\n",
    "columns = {'EventName': 'event_name', 'DeviceIDHash': 'user_id', 'EventTimestamp': 'event_time', 'ExpId': 'exp_id'}\n",
    "# Применим к датафрейму метод rename() и перезапишем данные\n",
    "log = log.rename(columns = columns)\n",
    "# Проверим результат:\n",
    "log.head(5)"
   ]
  },
  {
   "cell_type": "markdown",
   "metadata": {},
   "source": [
    "Для преобразования секунд(10 цифр в ячейках столбца) в читаемый вид используем метод pd.to_datetime() с параметром unit='s':"
   ]
  },
  {
   "cell_type": "code",
   "execution_count": 4,
   "metadata": {},
   "outputs": [
    {
     "data": {
      "text/html": [
       "<div>\n",
       "<style scoped>\n",
       "    .dataframe tbody tr th:only-of-type {\n",
       "        vertical-align: middle;\n",
       "    }\n",
       "\n",
       "    .dataframe tbody tr th {\n",
       "        vertical-align: top;\n",
       "    }\n",
       "\n",
       "    .dataframe thead th {\n",
       "        text-align: right;\n",
       "    }\n",
       "</style>\n",
       "<table border=\"1\" class=\"dataframe\">\n",
       "  <thead>\n",
       "    <tr style=\"text-align: right;\">\n",
       "      <th></th>\n",
       "      <th>event_time</th>\n",
       "      <th>event_time_new</th>\n",
       "    </tr>\n",
       "  </thead>\n",
       "  <tbody>\n",
       "    <tr>\n",
       "      <th>0</th>\n",
       "      <td>1564029816</td>\n",
       "      <td>2019-07-25 04:43:36</td>\n",
       "    </tr>\n",
       "    <tr>\n",
       "      <th>1</th>\n",
       "      <td>1564053102</td>\n",
       "      <td>2019-07-25 11:11:42</td>\n",
       "    </tr>\n",
       "    <tr>\n",
       "      <th>2</th>\n",
       "      <td>1564054127</td>\n",
       "      <td>2019-07-25 11:28:47</td>\n",
       "    </tr>\n",
       "    <tr>\n",
       "      <th>3</th>\n",
       "      <td>1564054127</td>\n",
       "      <td>2019-07-25 11:28:47</td>\n",
       "    </tr>\n",
       "    <tr>\n",
       "      <th>4</th>\n",
       "      <td>1564055322</td>\n",
       "      <td>2019-07-25 11:48:42</td>\n",
       "    </tr>\n",
       "  </tbody>\n",
       "</table>\n",
       "</div>"
      ],
      "text/plain": [
       "   event_time      event_time_new\n",
       "0  1564029816 2019-07-25 04:43:36\n",
       "1  1564053102 2019-07-25 11:11:42\n",
       "2  1564054127 2019-07-25 11:28:47\n",
       "3  1564054127 2019-07-25 11:28:47\n",
       "4  1564055322 2019-07-25 11:48:42"
      ]
     },
     "execution_count": 4,
     "metadata": {},
     "output_type": "execute_result"
    }
   ],
   "source": [
    "log['event_time_new'] = pd.to_datetime(log['event_time'],unit='s')\n",
    "# Выведем на экран два столбца: начальный и измененный:\n",
    "log[['event_time', 'event_time_new']].head(5)"
   ]
  },
  {
   "cell_type": "markdown",
   "metadata": {},
   "source": [
    "Проверим тип данных в созданном столбце 'event_time_new'. Он должен иметь тип даты и времени."
   ]
  },
  {
   "cell_type": "code",
   "execution_count": 5,
   "metadata": {},
   "outputs": [
    {
     "data": {
      "text/plain": [
       "event_name                object\n",
       "user_id                    int64\n",
       "event_time                 int64\n",
       "exp_id                     int64\n",
       "event_time_new    datetime64[ns]\n",
       "dtype: object"
      ]
     },
     "execution_count": 5,
     "metadata": {},
     "output_type": "execute_result"
    }
   ],
   "source": [
    "log.dtypes"
   ]
  },
  {
   "cell_type": "markdown",
   "metadata": {},
   "source": [
    "event_time_new имеет нужный тип данных. В дальнейшем сможем работать с датой и временем.\n",
    "\n",
    "Вычислим сколько в датафрейме полностью дублирующихся строк:"
   ]
  },
  {
   "cell_type": "code",
   "execution_count": 6,
   "metadata": {},
   "outputs": [
    {
     "name": "stdout",
     "output_type": "stream",
     "text": [
      "Количество дублирующихся строк: 413\n",
      "Процент от общего числа составляет: 0.17%\n"
     ]
    }
   ],
   "source": [
    "# Вычислим количество дубликатов:\n",
    "duplicated_count = log.duplicated().sum()\n",
    "# Вычислим отношение дубликатов к общему числу строк:\n",
    "percent = (log.duplicated().sum() / len(log))\n",
    "# Результат выведем на экран:\n",
    "print('Количество дублирующихся строк: {}'.format(duplicated_count))\n",
    "print('Процент от общего числа составляет: {:.2%}'.format(percent))"
   ]
  },
  {
   "cell_type": "markdown",
   "metadata": {},
   "source": [
    "Дублирующие строки составляют 0.17% от общего числа строк. Удалим их:"
   ]
  },
  {
   "cell_type": "code",
   "execution_count": 7,
   "metadata": {},
   "outputs": [
    {
     "data": {
      "text/plain": [
       "243713"
      ]
     },
     "execution_count": 7,
     "metadata": {},
     "output_type": "execute_result"
    }
   ],
   "source": [
    "log = log.drop_duplicates().reset_index(drop = True)\n",
    "# Проверим количество строк:\n",
    "log.shape[0]"
   ]
  },
  {
   "cell_type": "markdown",
   "metadata": {},
   "source": [
    "Дубликаты удалены. В таблице осталось 243713 строк."
   ]
  },
  {
   "cell_type": "markdown",
   "metadata": {},
   "source": [
    "Добавим к датафрейму столбец, содержащий дату события:"
   ]
  },
  {
   "cell_type": "code",
   "execution_count": 8,
   "metadata": {},
   "outputs": [
    {
     "data": {
      "text/html": [
       "<div>\n",
       "<style scoped>\n",
       "    .dataframe tbody tr th:only-of-type {\n",
       "        vertical-align: middle;\n",
       "    }\n",
       "\n",
       "    .dataframe tbody tr th {\n",
       "        vertical-align: top;\n",
       "    }\n",
       "\n",
       "    .dataframe thead th {\n",
       "        text-align: right;\n",
       "    }\n",
       "</style>\n",
       "<table border=\"1\" class=\"dataframe\">\n",
       "  <thead>\n",
       "    <tr style=\"text-align: right;\">\n",
       "      <th></th>\n",
       "      <th>event_name</th>\n",
       "      <th>user_id</th>\n",
       "      <th>event_time</th>\n",
       "      <th>exp_id</th>\n",
       "      <th>event_time_new</th>\n",
       "      <th>event_date</th>\n",
       "    </tr>\n",
       "  </thead>\n",
       "  <tbody>\n",
       "    <tr>\n",
       "      <th>0</th>\n",
       "      <td>MainScreenAppear</td>\n",
       "      <td>4575588528974610257</td>\n",
       "      <td>1564029816</td>\n",
       "      <td>246</td>\n",
       "      <td>2019-07-25 04:43:36</td>\n",
       "      <td>2019-07-25</td>\n",
       "    </tr>\n",
       "    <tr>\n",
       "      <th>1</th>\n",
       "      <td>MainScreenAppear</td>\n",
       "      <td>7416695313311560658</td>\n",
       "      <td>1564053102</td>\n",
       "      <td>246</td>\n",
       "      <td>2019-07-25 11:11:42</td>\n",
       "      <td>2019-07-25</td>\n",
       "    </tr>\n",
       "    <tr>\n",
       "      <th>2</th>\n",
       "      <td>PaymentScreenSuccessful</td>\n",
       "      <td>3518123091307005509</td>\n",
       "      <td>1564054127</td>\n",
       "      <td>248</td>\n",
       "      <td>2019-07-25 11:28:47</td>\n",
       "      <td>2019-07-25</td>\n",
       "    </tr>\n",
       "    <tr>\n",
       "      <th>3</th>\n",
       "      <td>CartScreenAppear</td>\n",
       "      <td>3518123091307005509</td>\n",
       "      <td>1564054127</td>\n",
       "      <td>248</td>\n",
       "      <td>2019-07-25 11:28:47</td>\n",
       "      <td>2019-07-25</td>\n",
       "    </tr>\n",
       "    <tr>\n",
       "      <th>4</th>\n",
       "      <td>PaymentScreenSuccessful</td>\n",
       "      <td>6217807653094995999</td>\n",
       "      <td>1564055322</td>\n",
       "      <td>248</td>\n",
       "      <td>2019-07-25 11:48:42</td>\n",
       "      <td>2019-07-25</td>\n",
       "    </tr>\n",
       "  </tbody>\n",
       "</table>\n",
       "</div>"
      ],
      "text/plain": [
       "                event_name              user_id  event_time  exp_id  \\\n",
       "0         MainScreenAppear  4575588528974610257  1564029816     246   \n",
       "1         MainScreenAppear  7416695313311560658  1564053102     246   \n",
       "2  PaymentScreenSuccessful  3518123091307005509  1564054127     248   \n",
       "3         CartScreenAppear  3518123091307005509  1564054127     248   \n",
       "4  PaymentScreenSuccessful  6217807653094995999  1564055322     248   \n",
       "\n",
       "       event_time_new  event_date  \n",
       "0 2019-07-25 04:43:36  2019-07-25  \n",
       "1 2019-07-25 11:11:42  2019-07-25  \n",
       "2 2019-07-25 11:28:47  2019-07-25  \n",
       "3 2019-07-25 11:28:47  2019-07-25  \n",
       "4 2019-07-25 11:48:42  2019-07-25  "
      ]
     },
     "execution_count": 8,
     "metadata": {},
     "output_type": "execute_result"
    }
   ],
   "source": [
    "# Воспользуемся методом dt.strftime():\n",
    "from datetime import date \n",
    "log['event_date'] = log['event_time_new'].dt.strftime('%Y-%m-%d')\n",
    "log.head(5)"
   ]
  },
  {
   "cell_type": "markdown",
   "metadata": {},
   "source": [
    "# Вывод:\n",
    "\n",
    "Преобразования выполнены в датафрейме: все даты имеют привычный для нас вид; создан столбец 'event_date', который содержит дату(без времени) когда произошло событие; удалены дубликаты; названия в столбцах преобразованы.\n",
    "\n",
    "Переходим к расчетам."
   ]
  },
  {
   "cell_type": "markdown",
   "metadata": {},
   "source": [
    "# Расчеты"
   ]
  },
  {
   "cell_type": "markdown",
   "metadata": {},
   "source": [
    "1. Ответим на вопрос: сколько всего событий в логе?\n",
    "\n",
    "Каждая строчка в таблице - это индивидуальное событие.  Так как мы будем строить продуктовую воронку, важно каждое из них. Агрегировать данные не будем. Поэтому количество событий равно количеству строк в датафрейме, т.е. 243713:"
   ]
  },
  {
   "cell_type": "code",
   "execution_count": 9,
   "metadata": {},
   "outputs": [
    {
     "name": "stdout",
     "output_type": "stream",
     "text": [
      "Количество событий в логе равно 243713\n"
     ]
    }
   ],
   "source": [
    "event_count = len(log)\n",
    "print('Количество событий в логе равно {}'.format(event_count))"
   ]
  },
  {
   "cell_type": "markdown",
   "metadata": {},
   "source": [
    "2. Для того, чтобы ответить на вопрос: сколько всего пользователей в логе - вычислим количество уникальных пользователей:"
   ]
  },
  {
   "cell_type": "code",
   "execution_count": 10,
   "metadata": {},
   "outputs": [
    {
     "name": "stdout",
     "output_type": "stream",
     "text": [
      "Количество пользователей в логе равно 7551\n"
     ]
    }
   ],
   "source": [
    "# Обратимся к данным столбца user_id и применим метод nunique():\n",
    "user_count = log['user_id'].nunique()\n",
    "print('Количество пользователей в логе равно {}'.format(user_count))"
   ]
  },
  {
   "cell_type": "markdown",
   "metadata": {},
   "source": [
    "В логе события по 7551 уникальному пользователю."
   ]
  },
  {
   "cell_type": "markdown",
   "metadata": {},
   "source": [
    "3. Ответим на вопрос: сколько в среднем событий приходится на пользователя? \n",
    "\n",
    "Для этого посмотрим на распределение данных: для каждого пользователя найдем общее количество событий: "
   ]
  },
  {
   "cell_type": "code",
   "execution_count": 11,
   "metadata": {},
   "outputs": [
    {
     "data": {
      "text/html": [
       "<div>\n",
       "<style scoped>\n",
       "    .dataframe tbody tr th:only-of-type {\n",
       "        vertical-align: middle;\n",
       "    }\n",
       "\n",
       "    .dataframe tbody tr th {\n",
       "        vertical-align: top;\n",
       "    }\n",
       "\n",
       "    .dataframe thead th {\n",
       "        text-align: right;\n",
       "    }\n",
       "</style>\n",
       "<table border=\"1\" class=\"dataframe\">\n",
       "  <thead>\n",
       "    <tr style=\"text-align: right;\">\n",
       "      <th></th>\n",
       "      <th>user_id</th>\n",
       "      <th>event_name</th>\n",
       "    </tr>\n",
       "  </thead>\n",
       "  <tbody>\n",
       "    <tr>\n",
       "      <th>0</th>\n",
       "      <td>6888746892508752</td>\n",
       "      <td>1</td>\n",
       "    </tr>\n",
       "    <tr>\n",
       "      <th>1</th>\n",
       "      <td>6909561520679493</td>\n",
       "      <td>5</td>\n",
       "    </tr>\n",
       "    <tr>\n",
       "      <th>2</th>\n",
       "      <td>6922444491712477</td>\n",
       "      <td>47</td>\n",
       "    </tr>\n",
       "    <tr>\n",
       "      <th>3</th>\n",
       "      <td>7435777799948366</td>\n",
       "      <td>6</td>\n",
       "    </tr>\n",
       "    <tr>\n",
       "      <th>4</th>\n",
       "      <td>7702139951469979</td>\n",
       "      <td>137</td>\n",
       "    </tr>\n",
       "  </tbody>\n",
       "</table>\n",
       "</div>"
      ],
      "text/plain": [
       "            user_id  event_name\n",
       "0  6888746892508752           1\n",
       "1  6909561520679493           5\n",
       "2  6922444491712477          47\n",
       "3  7435777799948366           6\n",
       "4  7702139951469979         137"
      ]
     },
     "execution_count": 11,
     "metadata": {},
     "output_type": "execute_result"
    }
   ],
   "source": [
    "# Сгруппируем данные по 'user_id' и вычислим количество 'event_name'. Данные сохраним в переменной user_event:\n",
    "user_event = log.groupby('user_id')['event_name'].count().reset_index()\n",
    "# Выведем первые пять строчек датафрейма:\n",
    "user_event.head(5)"
   ]
  },
  {
   "cell_type": "markdown",
   "metadata": {},
   "source": [
    "Выведем на экран общую статистику:"
   ]
  },
  {
   "cell_type": "code",
   "execution_count": 12,
   "metadata": {},
   "outputs": [
    {
     "data": {
      "text/plain": [
       "count    7551.000000\n",
       "mean       32.275593\n",
       "std        65.154219\n",
       "min         1.000000\n",
       "25%         9.000000\n",
       "50%        20.000000\n",
       "75%        37.000000\n",
       "max      2307.000000\n",
       "Name: event_name, dtype: float64"
      ]
     },
     "execution_count": 12,
     "metadata": {},
     "output_type": "execute_result"
    }
   ],
   "source": [
    "user_event['event_name'].describe()"
   ]
  },
  {
   "cell_type": "markdown",
   "metadata": {},
   "source": [
    "Значение медианы ~ 20. Значение среднего ~ 32. Это значит, что распределение имеет положительную ассиметрию: данные скошены вправо и имеется длинный хвост высоких значений. Возможно, есть выбросы, которые и смещают среднее. Есть пользователь, у которого  количество событий ~2307.\n",
    "\n",
    "Построим гистограмму:"
   ]
  },
  {
   "cell_type": "code",
   "execution_count": 13,
   "metadata": {},
   "outputs": [],
   "source": [
    "# Зададим стиль для всех графиков:\n",
    "plt.style.use('ggplot')"
   ]
  },
  {
   "cell_type": "code",
   "execution_count": 14,
   "metadata": {},
   "outputs": [
    {
     "data": {
      "image/png": "[encoded data removed]",
      "text/plain": [
       "<Figure size 1080x720 with 1 Axes>"
      ]
     },
     "metadata": {},
     "output_type": "display_data"
    },
    {
     "data": {
      "image/png": "[encoded data removed]",
      "text/plain": [
       "<Figure size 1080x720 with 2 Axes>"
      ]
     },
     "metadata": {},
     "output_type": "display_data"
    }
   ],
   "source": [
    "plt.figure(figsize = (15,10))\n",
    "sns.distplot(user_event['event_name'], bins = 493)\n",
    "plt.title('Распределение количества событий по каждому пользователю')\n",
    "plt.xlabel('Количество событий')\n",
    "plt.ylabel('Количество пользователей')\n",
    "plt.show()\n",
    "\n",
    "# Построим различные диапазоны, в которых находится распределение:\n",
    "plt.figure(figsize = (15,10))\n",
    "plt.subplot(2,2,1)\n",
    "user_event['event_name'].hist(bins = 493, range = (0,50))\n",
    "plt.title('Распределение в диапазоне от 0 до 50')\n",
    "plt.xlabel('Количество событий')\n",
    "plt.ylabel('Количество пользователей')\n",
    "plt.subplot(2,2,2)\n",
    "user_event['event_name'].hist(bins = 493, range = (50,100))\n",
    "plt.title('Распределение в диапазоне от 50 до 100')\n",
    "plt.xlabel('Количество событий')\n",
    "plt.ylabel('Количество пользователей')\n",
    "plt.show()"
   ]
  },
  {
   "cell_type": "markdown",
   "metadata": {},
   "source": [
    "### Вывод:\n",
    "\n",
    "На гистограмме видно, что больше всего пользователей ~ 260 имеют количество событий ~ 5.\n",
    "\n",
    "Медианное количество событий на одного пользователя ~ 20. \n",
    "\n"
   ]
  },
  {
   "cell_type": "markdown",
   "metadata": {},
   "source": [
    "4. Ответим на вопрос: данными за какой период располагаем? \n",
    "\n",
    "Выведем на экран максимальную и минимальную даты событий:"
   ]
  },
  {
   "cell_type": "code",
   "execution_count": 15,
   "metadata": {},
   "outputs": [
    {
     "data": {
      "text/plain": [
       "min    2019-07-25\n",
       "max    2019-08-07\n",
       "Name: event_date, dtype: object"
      ]
     },
     "execution_count": 15,
     "metadata": {},
     "output_type": "execute_result"
    }
   ],
   "source": [
    "log['event_date'].agg({'max', 'min'})"
   ]
  },
  {
   "cell_type": "markdown",
   "metadata": {},
   "source": [
    "В логах события с 25 июля 2019 по 07 августа 2019гг. "
   ]
  },
  {
   "cell_type": "markdown",
   "metadata": {},
   "source": [
    "Построим гистограмму:"
   ]
  },
  {
   "cell_type": "code",
   "execution_count": 16,
   "metadata": {},
   "outputs": [
    {
     "data": {
      "image/png": "[encoded data removed]",
      "text/plain": [
       "<Figure size 1080x720 with 1 Axes>"
      ]
     },
     "metadata": {},
     "output_type": "display_data"
    }
   ],
   "source": [
    "plt.figure(figsize = (15,10))\n",
    "log['event_time_new'].hist(bins = 493)\n",
    "plt.title('Дата и время событий')\n",
    "plt.xlabel('Дата и время')\n",
    "plt.ylabel('Количество событий')\n",
    "plt.show()"
   ]
  },
  {
   "cell_type": "markdown",
   "metadata": {},
   "source": [
    "На гистограмме видно, что по 31.07.2019г. включительно события редкие и их мало, а вот с 01.08.2019г. и в последующие дни форма столбцов почти одинакова, событий становится много. Данные становятся полными.\n",
    "\n",
    "\n",
    "Отбросим данные до 01.08.2019г.:"
   ]
  },
  {
   "cell_type": "code",
   "execution_count": 17,
   "metadata": {},
   "outputs": [
    {
     "data": {
      "text/html": [
       "<div>\n",
       "<style scoped>\n",
       "    .dataframe tbody tr th:only-of-type {\n",
       "        vertical-align: middle;\n",
       "    }\n",
       "\n",
       "    .dataframe tbody tr th {\n",
       "        vertical-align: top;\n",
       "    }\n",
       "\n",
       "    .dataframe thead th {\n",
       "        text-align: right;\n",
       "    }\n",
       "</style>\n",
       "<table border=\"1\" class=\"dataframe\">\n",
       "  <thead>\n",
       "    <tr style=\"text-align: right;\">\n",
       "      <th></th>\n",
       "      <th>event_name</th>\n",
       "      <th>user_id</th>\n",
       "      <th>event_time</th>\n",
       "      <th>exp_id</th>\n",
       "      <th>event_time_new</th>\n",
       "      <th>event_date</th>\n",
       "    </tr>\n",
       "  </thead>\n",
       "  <tbody>\n",
       "    <tr>\n",
       "      <th>240882</th>\n",
       "      <td>MainScreenAppear</td>\n",
       "      <td>4599628364049201812</td>\n",
       "      <td>1565212345</td>\n",
       "      <td>247</td>\n",
       "      <td>2019-08-07 21:12:25</td>\n",
       "      <td>2019-08-07</td>\n",
       "    </tr>\n",
       "    <tr>\n",
       "      <th>240883</th>\n",
       "      <td>MainScreenAppear</td>\n",
       "      <td>5849806612437486590</td>\n",
       "      <td>1565212439</td>\n",
       "      <td>246</td>\n",
       "      <td>2019-08-07 21:13:59</td>\n",
       "      <td>2019-08-07</td>\n",
       "    </tr>\n",
       "    <tr>\n",
       "      <th>240884</th>\n",
       "      <td>MainScreenAppear</td>\n",
       "      <td>5746969938801999050</td>\n",
       "      <td>1565212483</td>\n",
       "      <td>246</td>\n",
       "      <td>2019-08-07 21:14:43</td>\n",
       "      <td>2019-08-07</td>\n",
       "    </tr>\n",
       "    <tr>\n",
       "      <th>240885</th>\n",
       "      <td>MainScreenAppear</td>\n",
       "      <td>5746969938801999050</td>\n",
       "      <td>1565212498</td>\n",
       "      <td>246</td>\n",
       "      <td>2019-08-07 21:14:58</td>\n",
       "      <td>2019-08-07</td>\n",
       "    </tr>\n",
       "    <tr>\n",
       "      <th>240886</th>\n",
       "      <td>OffersScreenAppear</td>\n",
       "      <td>5746969938801999050</td>\n",
       "      <td>1565212517</td>\n",
       "      <td>246</td>\n",
       "      <td>2019-08-07 21:15:17</td>\n",
       "      <td>2019-08-07</td>\n",
       "    </tr>\n",
       "  </tbody>\n",
       "</table>\n",
       "</div>"
      ],
      "text/plain": [
       "                event_name              user_id  event_time  exp_id  \\\n",
       "240882    MainScreenAppear  4599628364049201812  1565212345     247   \n",
       "240883    MainScreenAppear  5849806612437486590  1565212439     246   \n",
       "240884    MainScreenAppear  5746969938801999050  1565212483     246   \n",
       "240885    MainScreenAppear  5746969938801999050  1565212498     246   \n",
       "240886  OffersScreenAppear  5746969938801999050  1565212517     246   \n",
       "\n",
       "            event_time_new  event_date  \n",
       "240882 2019-08-07 21:12:25  2019-08-07  \n",
       "240883 2019-08-07 21:13:59  2019-08-07  \n",
       "240884 2019-08-07 21:14:43  2019-08-07  \n",
       "240885 2019-08-07 21:14:58  2019-08-07  \n",
       "240886 2019-08-07 21:15:17  2019-08-07  "
      ]
     },
     "execution_count": 17,
     "metadata": {},
     "output_type": "execute_result"
    }
   ],
   "source": [
    "# Создадим датафрейм log_new, \n",
    "# в котором будет храниться информация с 01 августа 2019 по 07 августа 2019гг. включительно:\n",
    "log_new = log[log['event_date'] >= '2019-08-01'].reset_index(drop = True)\n",
    "log_new.tail(5)"
   ]
  },
  {
   "cell_type": "markdown",
   "metadata": {},
   "source": [
    "Будем считать, что  располагаем данными с 01 августа 2019 по 07 августа 2019гг. включительно.\n"
   ]
  },
  {
   "cell_type": "markdown",
   "metadata": {},
   "source": [
    "5. Выясним много ли событий и пользователей потеряли, отбросив данные до 01.08.2019г."
   ]
  },
  {
   "cell_type": "markdown",
   "metadata": {},
   "source": [
    "Выведем на экран количество удаленных строк из первого датафрейма log:"
   ]
  },
  {
   "cell_type": "code",
   "execution_count": 18,
   "metadata": {},
   "outputs": [
    {
     "name": "stdout",
     "output_type": "stream",
     "text": [
      "Количество удаленных строк: 2826\n",
      "Процент: 1.16%\n"
     ]
    }
   ],
   "source": [
    "# Вычислим количество удаленных строк:\n",
    "line_count = log[log['event_date'] < '2019-08-01']['event_name'].count()\n",
    "# Вычислим долю удаленых строк от общего числа в датафрейме:\n",
    "percent = line_count / len(log)\n",
    "print('Количество удаленных строк: {}'.format(line_count))\n",
    "print('Процент: {:.2%}'.format(percent))"
   ]
  },
  {
   "cell_type": "markdown",
   "metadata": {},
   "source": [
    "Выведем на экран количество уникальных пользователей, события по которым отбросили:"
   ]
  },
  {
   "cell_type": "code",
   "execution_count": 19,
   "metadata": {},
   "outputs": [
    {
     "name": "stdout",
     "output_type": "stream",
     "text": [
      "Количество уникальных пользователей: 1451\n"
     ]
    }
   ],
   "source": [
    "user_count = log[log['event_date'] < '2019-08-01']['user_id'].nunique()\n",
    "print('Количество уникальных пользователей: {}'.format(user_count))"
   ]
  },
  {
   "cell_type": "markdown",
   "metadata": {},
   "source": [
    "Сохраним уникальный идентификатор пользователя, события по которым отбросили в список. И затем проверим встречаются ли эти идентификаторы в полном списке:"
   ]
  },
  {
   "cell_type": "code",
   "execution_count": 20,
   "metadata": {},
   "outputs": [],
   "source": [
    "# Отфильтруем строки в датафрейме log по условию : дата события < '2019-08-01',\n",
    "# И сохраним в переменную user_unique только  уникальный идентификатор пользователя:\n",
    "user_unique = list(log[log['event_date'] < '2019-08-01']['user_id'].unique())"
   ]
  },
  {
   "cell_type": "code",
   "execution_count": 21,
   "metadata": {},
   "outputs": [
    {
     "data": {
      "text/plain": [
       "1434"
      ]
     },
     "execution_count": 21,
     "metadata": {},
     "output_type": "execute_result"
    }
   ],
   "source": [
    "# Сортируем строки датафрейма с полными датами log_new по условию (user_unique) == True\n",
    "# И считаем количество уникальных пользователей:\n",
    "user_nunique = log_new[log_new['user_id'].isin(user_unique) == True]['user_id'].nunique()\n",
    "user_nunique"
   ]
  },
  {
   "cell_type": "markdown",
   "metadata": {},
   "source": [
    "Количество уникальных пользователей в неполных данных(за период до 01.08.2019г.): 1451, из них данные по 1434 пользователям попадают в период с 01 августа 2019 по 07 августа 2019гг. включительно. И если учесть, что технически в логи новых дней по некоторым пользователям могут «доезжать» события из прошлого - мы \"потеряли\"  17 уникальных пользователей и некоторые события, выполненные ими."
   ]
  },
  {
   "cell_type": "markdown",
   "metadata": {},
   "source": [
    "6. Проверим, что в датафрейме log_new есть пользователи из всех трёх экспериментальных групп.\n",
    "\n",
    "Сгруппируем данные по экспериментальной группе и в каждой вычислим количество уникальных пользователей:"
   ]
  },
  {
   "cell_type": "code",
   "execution_count": 22,
   "metadata": {},
   "outputs": [
    {
     "data": {
      "text/plain": [
       "exp_id\n",
       "246    2484\n",
       "247    2513\n",
       "248    2537\n",
       "Name: user_id, dtype: int64"
      ]
     },
     "execution_count": 22,
     "metadata": {},
     "output_type": "execute_result"
    }
   ],
   "source": [
    "log_new.groupby('exp_id')['user_id'].nunique()"
   ]
  },
  {
   "cell_type": "markdown",
   "metadata": {},
   "source": [
    "В каждой экспериментальной группе присутствует приблизительно одинаковое количество уникальных пользователей ~ 2500."
   ]
  },
  {
   "cell_type": "markdown",
   "metadata": {},
   "source": [
    "# Изучение воронки событий"
   ]
  },
  {
   "cell_type": "markdown",
   "metadata": {},
   "source": [
    "1. Проверим, какие события есть в логах, как часто они встречаются. Отсортируем события по частоте.\n",
    "\n",
    "Выведем на экран названия событий: "
   ]
  },
  {
   "cell_type": "code",
   "execution_count": 23,
   "metadata": {},
   "outputs": [
    {
     "data": {
      "text/plain": [
       "array(['Tutorial', 'MainScreenAppear', 'OffersScreenAppear',\n",
       "       'CartScreenAppear', 'PaymentScreenSuccessful'], dtype=object)"
      ]
     },
     "execution_count": 23,
     "metadata": {},
     "output_type": "execute_result"
    }
   ],
   "source": [
    "log_new['event_name'].unique()"
   ]
  },
  {
   "cell_type": "markdown",
   "metadata": {},
   "source": [
    "5 событий.\n",
    "\n",
    "Вычислим сколько раз наступило каждое событие:"
   ]
  },
  {
   "cell_type": "code",
   "execution_count": 24,
   "metadata": {},
   "outputs": [
    {
     "data": {
      "text/html": [
       "<style  type=\"text/css\" >\n",
       "    #T_bc2b97a4_f115_11ea_a6fa_5404a6922e4frow0_col0 {\n",
       "            background-color:  moccasin;\n",
       "            color:  black;\n",
       "            border-width:  1px;\n",
       "            border-style:  solid;\n",
       "        }    #T_bc2b97a4_f115_11ea_a6fa_5404a6922e4frow0_col1 {\n",
       "            background-color:  moccasin;\n",
       "            color:  black;\n",
       "            border-width:  1px;\n",
       "            border-style:  solid;\n",
       "        }    #T_bc2b97a4_f115_11ea_a6fa_5404a6922e4frow1_col0 {\n",
       "            background-color:  moccasin;\n",
       "            color:  black;\n",
       "            border-width:  1px;\n",
       "            border-style:  solid;\n",
       "        }    #T_bc2b97a4_f115_11ea_a6fa_5404a6922e4frow1_col1 {\n",
       "            background-color:  moccasin;\n",
       "            color:  black;\n",
       "            border-width:  1px;\n",
       "            border-style:  solid;\n",
       "        }    #T_bc2b97a4_f115_11ea_a6fa_5404a6922e4frow2_col0 {\n",
       "            background-color:  moccasin;\n",
       "            color:  black;\n",
       "            border-width:  1px;\n",
       "            border-style:  solid;\n",
       "        }    #T_bc2b97a4_f115_11ea_a6fa_5404a6922e4frow2_col1 {\n",
       "            background-color:  moccasin;\n",
       "            color:  black;\n",
       "            border-width:  1px;\n",
       "            border-style:  solid;\n",
       "        }    #T_bc2b97a4_f115_11ea_a6fa_5404a6922e4frow3_col0 {\n",
       "            background-color:  moccasin;\n",
       "            color:  black;\n",
       "            border-width:  1px;\n",
       "            border-style:  solid;\n",
       "        }    #T_bc2b97a4_f115_11ea_a6fa_5404a6922e4frow3_col1 {\n",
       "            background-color:  moccasin;\n",
       "            color:  black;\n",
       "            border-width:  1px;\n",
       "            border-style:  solid;\n",
       "        }    #T_bc2b97a4_f115_11ea_a6fa_5404a6922e4frow4_col0 {\n",
       "            background-color:  moccasin;\n",
       "            color:  black;\n",
       "            border-width:  1px;\n",
       "            border-style:  solid;\n",
       "        }    #T_bc2b97a4_f115_11ea_a6fa_5404a6922e4frow4_col1 {\n",
       "            background-color:  moccasin;\n",
       "            color:  black;\n",
       "            border-width:  1px;\n",
       "            border-style:  solid;\n",
       "        }</style><table id=\"T_bc2b97a4_f115_11ea_a6fa_5404a6922e4f\" ><thead>    <tr>        <th class=\"blank level0\" ></th>        <th class=\"col_heading level0 col0\" >event_name</th>        <th class=\"col_heading level0 col1\" >event_count</th>    </tr></thead><tbody>\n",
       "                <tr>\n",
       "                        <th id=\"T_bc2b97a4_f115_11ea_a6fa_5404a6922e4flevel0_row0\" class=\"row_heading level0 row0\" >0</th>\n",
       "                        <td id=\"T_bc2b97a4_f115_11ea_a6fa_5404a6922e4frow0_col0\" class=\"data row0 col0\" >MainScreenAppear</td>\n",
       "                        <td id=\"T_bc2b97a4_f115_11ea_a6fa_5404a6922e4frow0_col1\" class=\"data row0 col1\" >117328</td>\n",
       "            </tr>\n",
       "            <tr>\n",
       "                        <th id=\"T_bc2b97a4_f115_11ea_a6fa_5404a6922e4flevel0_row1\" class=\"row_heading level0 row1\" >1</th>\n",
       "                        <td id=\"T_bc2b97a4_f115_11ea_a6fa_5404a6922e4frow1_col0\" class=\"data row1 col0\" >OffersScreenAppear</td>\n",
       "                        <td id=\"T_bc2b97a4_f115_11ea_a6fa_5404a6922e4frow1_col1\" class=\"data row1 col1\" >46333</td>\n",
       "            </tr>\n",
       "            <tr>\n",
       "                        <th id=\"T_bc2b97a4_f115_11ea_a6fa_5404a6922e4flevel0_row2\" class=\"row_heading level0 row2\" >2</th>\n",
       "                        <td id=\"T_bc2b97a4_f115_11ea_a6fa_5404a6922e4frow2_col0\" class=\"data row2 col0\" >CartScreenAppear</td>\n",
       "                        <td id=\"T_bc2b97a4_f115_11ea_a6fa_5404a6922e4frow2_col1\" class=\"data row2 col1\" >42303</td>\n",
       "            </tr>\n",
       "            <tr>\n",
       "                        <th id=\"T_bc2b97a4_f115_11ea_a6fa_5404a6922e4flevel0_row3\" class=\"row_heading level0 row3\" >3</th>\n",
       "                        <td id=\"T_bc2b97a4_f115_11ea_a6fa_5404a6922e4frow3_col0\" class=\"data row3 col0\" >PaymentScreenSuccessful</td>\n",
       "                        <td id=\"T_bc2b97a4_f115_11ea_a6fa_5404a6922e4frow3_col1\" class=\"data row3 col1\" >33918</td>\n",
       "            </tr>\n",
       "            <tr>\n",
       "                        <th id=\"T_bc2b97a4_f115_11ea_a6fa_5404a6922e4flevel0_row4\" class=\"row_heading level0 row4\" >4</th>\n",
       "                        <td id=\"T_bc2b97a4_f115_11ea_a6fa_5404a6922e4frow4_col0\" class=\"data row4 col0\" >Tutorial</td>\n",
       "                        <td id=\"T_bc2b97a4_f115_11ea_a6fa_5404a6922e4frow4_col1\" class=\"data row4 col1\" >1005</td>\n",
       "            </tr>\n",
       "    </tbody></table>"
      ],
      "text/plain": [
       "<pandas.io.formats.style.Styler at 0x1d3cc0393c8>"
      ]
     },
     "execution_count": 24,
     "metadata": {},
     "output_type": "execute_result"
    }
   ],
   "source": [
    "# Сгруппируем данные log_new по названию событий и вычислим количество каждого из них\n",
    "event_name_count = log_new.groupby('event_name').agg({'event_name': 'count'})\\\n",
    "# Переименуем столбец с количеством для понимания хранимой информации:\n",
    "event_name_count = event_name_count.rename(columns = ({'event_name': 'event_count'}))\n",
    "event_name_count = event_name_count.sort_values(by = 'event_count', ascending = False).reset_index()\n",
    "\n",
    "# Создадим функцию, которая будет форматировать таблицу (для наглядности):\n",
    "def color_table(data):\n",
    "    data =  data.style.set_properties(**{'background-color': 'moccasin',\n",
    "                                        'color': 'black',\n",
    "                                        'border-width': '1px',\n",
    "                                        'border-style': 'solid'})\n",
    "    return data\n",
    "    \n",
    "    \n",
    "# К датафрейму  event_name_count применим функцию:   \n",
    "color_table(event_name_count)"
   ]
  },
  {
   "cell_type": "markdown",
   "metadata": {},
   "source": [
    "Cобытие 'MainScreenAppear' встречается чаще всего ~ 117328 раз, а реже всех - 'Tutorial' ~ 1005."
   ]
  },
  {
   "cell_type": "markdown",
   "metadata": {},
   "source": [
    "2. Посчитаем, сколько пользователей совершали каждое из этих событий. Отсортируем события по числу пользователей."
   ]
  },
  {
   "cell_type": "code",
   "execution_count": 25,
   "metadata": {},
   "outputs": [
    {
     "data": {
      "text/html": [
       "<style  type=\"text/css\" >\n",
       "    #T_bc41698a_f115_11ea_a677_5404a6922e4frow0_col0 {\n",
       "            background-color:  moccasin;\n",
       "            color:  black;\n",
       "            border-width:  1px;\n",
       "            border-style:  solid;\n",
       "        }    #T_bc41698a_f115_11ea_a677_5404a6922e4frow0_col1 {\n",
       "            background-color:  moccasin;\n",
       "            color:  black;\n",
       "            border-width:  1px;\n",
       "            border-style:  solid;\n",
       "        }    #T_bc41698a_f115_11ea_a677_5404a6922e4frow1_col0 {\n",
       "            background-color:  moccasin;\n",
       "            color:  black;\n",
       "            border-width:  1px;\n",
       "            border-style:  solid;\n",
       "        }    #T_bc41698a_f115_11ea_a677_5404a6922e4frow1_col1 {\n",
       "            background-color:  moccasin;\n",
       "            color:  black;\n",
       "            border-width:  1px;\n",
       "            border-style:  solid;\n",
       "        }    #T_bc41698a_f115_11ea_a677_5404a6922e4frow2_col0 {\n",
       "            background-color:  moccasin;\n",
       "            color:  black;\n",
       "            border-width:  1px;\n",
       "            border-style:  solid;\n",
       "        }    #T_bc41698a_f115_11ea_a677_5404a6922e4frow2_col1 {\n",
       "            background-color:  moccasin;\n",
       "            color:  black;\n",
       "            border-width:  1px;\n",
       "            border-style:  solid;\n",
       "        }    #T_bc41698a_f115_11ea_a677_5404a6922e4frow3_col0 {\n",
       "            background-color:  moccasin;\n",
       "            color:  black;\n",
       "            border-width:  1px;\n",
       "            border-style:  solid;\n",
       "        }    #T_bc41698a_f115_11ea_a677_5404a6922e4frow3_col1 {\n",
       "            background-color:  moccasin;\n",
       "            color:  black;\n",
       "            border-width:  1px;\n",
       "            border-style:  solid;\n",
       "        }    #T_bc41698a_f115_11ea_a677_5404a6922e4frow4_col0 {\n",
       "            background-color:  moccasin;\n",
       "            color:  black;\n",
       "            border-width:  1px;\n",
       "            border-style:  solid;\n",
       "        }    #T_bc41698a_f115_11ea_a677_5404a6922e4frow4_col1 {\n",
       "            background-color:  moccasin;\n",
       "            color:  black;\n",
       "            border-width:  1px;\n",
       "            border-style:  solid;\n",
       "        }</style><table id=\"T_bc41698a_f115_11ea_a677_5404a6922e4f\" ><thead>    <tr>        <th class=\"blank level0\" ></th>        <th class=\"col_heading level0 col0\" >event_name</th>        <th class=\"col_heading level0 col1\" >user_count</th>    </tr></thead><tbody>\n",
       "                <tr>\n",
       "                        <th id=\"T_bc41698a_f115_11ea_a677_5404a6922e4flevel0_row0\" class=\"row_heading level0 row0\" >0</th>\n",
       "                        <td id=\"T_bc41698a_f115_11ea_a677_5404a6922e4frow0_col0\" class=\"data row0 col0\" >MainScreenAppear</td>\n",
       "                        <td id=\"T_bc41698a_f115_11ea_a677_5404a6922e4frow0_col1\" class=\"data row0 col1\" >7419</td>\n",
       "            </tr>\n",
       "            <tr>\n",
       "                        <th id=\"T_bc41698a_f115_11ea_a677_5404a6922e4flevel0_row1\" class=\"row_heading level0 row1\" >1</th>\n",
       "                        <td id=\"T_bc41698a_f115_11ea_a677_5404a6922e4frow1_col0\" class=\"data row1 col0\" >OffersScreenAppear</td>\n",
       "                        <td id=\"T_bc41698a_f115_11ea_a677_5404a6922e4frow1_col1\" class=\"data row1 col1\" >4593</td>\n",
       "            </tr>\n",
       "            <tr>\n",
       "                        <th id=\"T_bc41698a_f115_11ea_a677_5404a6922e4flevel0_row2\" class=\"row_heading level0 row2\" >2</th>\n",
       "                        <td id=\"T_bc41698a_f115_11ea_a677_5404a6922e4frow2_col0\" class=\"data row2 col0\" >CartScreenAppear</td>\n",
       "                        <td id=\"T_bc41698a_f115_11ea_a677_5404a6922e4frow2_col1\" class=\"data row2 col1\" >3734</td>\n",
       "            </tr>\n",
       "            <tr>\n",
       "                        <th id=\"T_bc41698a_f115_11ea_a677_5404a6922e4flevel0_row3\" class=\"row_heading level0 row3\" >3</th>\n",
       "                        <td id=\"T_bc41698a_f115_11ea_a677_5404a6922e4frow3_col0\" class=\"data row3 col0\" >PaymentScreenSuccessful</td>\n",
       "                        <td id=\"T_bc41698a_f115_11ea_a677_5404a6922e4frow3_col1\" class=\"data row3 col1\" >3539</td>\n",
       "            </tr>\n",
       "            <tr>\n",
       "                        <th id=\"T_bc41698a_f115_11ea_a677_5404a6922e4flevel0_row4\" class=\"row_heading level0 row4\" >4</th>\n",
       "                        <td id=\"T_bc41698a_f115_11ea_a677_5404a6922e4frow4_col0\" class=\"data row4 col0\" >Tutorial</td>\n",
       "                        <td id=\"T_bc41698a_f115_11ea_a677_5404a6922e4frow4_col1\" class=\"data row4 col1\" >840</td>\n",
       "            </tr>\n",
       "    </tbody></table>"
      ],
      "text/plain": [
       "<pandas.io.formats.style.Styler at 0x1d3cc4c2b48>"
      ]
     },
     "execution_count": 25,
     "metadata": {},
     "output_type": "execute_result"
    }
   ],
   "source": [
    "# сгруппируем данные по событию и найдем количество уникальных пользователей:\n",
    "user_count = log_new.groupby('event_name').agg({'user_id' : 'nunique'})\\\n",
    "             .sort_values(by = 'user_id', ascending = False).reset_index()\n",
    "# Переименуем столбец с количеством для понимания хранимой информации:\n",
    "user_count = user_count.rename(columns = ({'user_id': 'user_count'}))\n",
    "# К датафрейму  event_name_count применим функцию:\n",
    "color_table(user_count)"
   ]
  },
  {
   "cell_type": "markdown",
   "metadata": {},
   "source": [
    "Больше всех пользователей совершали событие 'MainScreenAppear' ~ 7419; меньше всех - 'Tutorial' ~ 840."
   ]
  },
  {
   "cell_type": "markdown",
   "metadata": {},
   "source": [
    "3. Посчитаем долю пользователей, которые хоть раз совершали событие:\n",
    "\n",
    "найдем отношение (количество уникальных пользователей в событии / к общему числу уникальных пользователей). Результат выведем в %."
   ]
  },
  {
   "cell_type": "code",
   "execution_count": 26,
   "metadata": {},
   "outputs": [
    {
     "data": {
      "text/html": [
       "<style  type=\"text/css\" >\n",
       "    #T_bc484762_f115_11ea_b602_5404a6922e4frow0_col0 {\n",
       "            background-color:  moccasin;\n",
       "            color:  black;\n",
       "            border-width:  1px;\n",
       "            border-style:  solid;\n",
       "        }    #T_bc484762_f115_11ea_b602_5404a6922e4frow0_col1 {\n",
       "            background-color:  moccasin;\n",
       "            color:  black;\n",
       "            border-width:  1px;\n",
       "            border-style:  solid;\n",
       "        }    #T_bc484762_f115_11ea_b602_5404a6922e4frow0_col2 {\n",
       "            background-color:  moccasin;\n",
       "            color:  black;\n",
       "            border-width:  1px;\n",
       "            border-style:  solid;\n",
       "        }    #T_bc484762_f115_11ea_b602_5404a6922e4frow1_col0 {\n",
       "            background-color:  moccasin;\n",
       "            color:  black;\n",
       "            border-width:  1px;\n",
       "            border-style:  solid;\n",
       "        }    #T_bc484762_f115_11ea_b602_5404a6922e4frow1_col1 {\n",
       "            background-color:  moccasin;\n",
       "            color:  black;\n",
       "            border-width:  1px;\n",
       "            border-style:  solid;\n",
       "        }    #T_bc484762_f115_11ea_b602_5404a6922e4frow1_col2 {\n",
       "            background-color:  moccasin;\n",
       "            color:  black;\n",
       "            border-width:  1px;\n",
       "            border-style:  solid;\n",
       "        }    #T_bc484762_f115_11ea_b602_5404a6922e4frow2_col0 {\n",
       "            background-color:  moccasin;\n",
       "            color:  black;\n",
       "            border-width:  1px;\n",
       "            border-style:  solid;\n",
       "        }    #T_bc484762_f115_11ea_b602_5404a6922e4frow2_col1 {\n",
       "            background-color:  moccasin;\n",
       "            color:  black;\n",
       "            border-width:  1px;\n",
       "            border-style:  solid;\n",
       "        }    #T_bc484762_f115_11ea_b602_5404a6922e4frow2_col2 {\n",
       "            background-color:  moccasin;\n",
       "            color:  black;\n",
       "            border-width:  1px;\n",
       "            border-style:  solid;\n",
       "        }    #T_bc484762_f115_11ea_b602_5404a6922e4frow3_col0 {\n",
       "            background-color:  moccasin;\n",
       "            color:  black;\n",
       "            border-width:  1px;\n",
       "            border-style:  solid;\n",
       "        }    #T_bc484762_f115_11ea_b602_5404a6922e4frow3_col1 {\n",
       "            background-color:  moccasin;\n",
       "            color:  black;\n",
       "            border-width:  1px;\n",
       "            border-style:  solid;\n",
       "        }    #T_bc484762_f115_11ea_b602_5404a6922e4frow3_col2 {\n",
       "            background-color:  moccasin;\n",
       "            color:  black;\n",
       "            border-width:  1px;\n",
       "            border-style:  solid;\n",
       "        }    #T_bc484762_f115_11ea_b602_5404a6922e4frow4_col0 {\n",
       "            background-color:  moccasin;\n",
       "            color:  black;\n",
       "            border-width:  1px;\n",
       "            border-style:  solid;\n",
       "        }    #T_bc484762_f115_11ea_b602_5404a6922e4frow4_col1 {\n",
       "            background-color:  moccasin;\n",
       "            color:  black;\n",
       "            border-width:  1px;\n",
       "            border-style:  solid;\n",
       "        }    #T_bc484762_f115_11ea_b602_5404a6922e4frow4_col2 {\n",
       "            background-color:  moccasin;\n",
       "            color:  black;\n",
       "            border-width:  1px;\n",
       "            border-style:  solid;\n",
       "        }</style><table id=\"T_bc484762_f115_11ea_b602_5404a6922e4f\" ><thead>    <tr>        <th class=\"blank level0\" ></th>        <th class=\"col_heading level0 col0\" >event_name</th>        <th class=\"col_heading level0 col1\" >user_count</th>        <th class=\"col_heading level0 col2\" >share_user</th>    </tr></thead><tbody>\n",
       "                <tr>\n",
       "                        <th id=\"T_bc484762_f115_11ea_b602_5404a6922e4flevel0_row0\" class=\"row_heading level0 row0\" >0</th>\n",
       "                        <td id=\"T_bc484762_f115_11ea_b602_5404a6922e4frow0_col0\" class=\"data row0 col0\" >MainScreenAppear</td>\n",
       "                        <td id=\"T_bc484762_f115_11ea_b602_5404a6922e4frow0_col1\" class=\"data row0 col1\" >7419</td>\n",
       "                        <td id=\"T_bc484762_f115_11ea_b602_5404a6922e4frow0_col2\" class=\"data row0 col2\" >98.47%</td>\n",
       "            </tr>\n",
       "            <tr>\n",
       "                        <th id=\"T_bc484762_f115_11ea_b602_5404a6922e4flevel0_row1\" class=\"row_heading level0 row1\" >1</th>\n",
       "                        <td id=\"T_bc484762_f115_11ea_b602_5404a6922e4frow1_col0\" class=\"data row1 col0\" >OffersScreenAppear</td>\n",
       "                        <td id=\"T_bc484762_f115_11ea_b602_5404a6922e4frow1_col1\" class=\"data row1 col1\" >4593</td>\n",
       "                        <td id=\"T_bc484762_f115_11ea_b602_5404a6922e4frow1_col2\" class=\"data row1 col2\" >60.96%</td>\n",
       "            </tr>\n",
       "            <tr>\n",
       "                        <th id=\"T_bc484762_f115_11ea_b602_5404a6922e4flevel0_row2\" class=\"row_heading level0 row2\" >2</th>\n",
       "                        <td id=\"T_bc484762_f115_11ea_b602_5404a6922e4frow2_col0\" class=\"data row2 col0\" >CartScreenAppear</td>\n",
       "                        <td id=\"T_bc484762_f115_11ea_b602_5404a6922e4frow2_col1\" class=\"data row2 col1\" >3734</td>\n",
       "                        <td id=\"T_bc484762_f115_11ea_b602_5404a6922e4frow2_col2\" class=\"data row2 col2\" >49.56%</td>\n",
       "            </tr>\n",
       "            <tr>\n",
       "                        <th id=\"T_bc484762_f115_11ea_b602_5404a6922e4flevel0_row3\" class=\"row_heading level0 row3\" >3</th>\n",
       "                        <td id=\"T_bc484762_f115_11ea_b602_5404a6922e4frow3_col0\" class=\"data row3 col0\" >PaymentScreenSuccessful</td>\n",
       "                        <td id=\"T_bc484762_f115_11ea_b602_5404a6922e4frow3_col1\" class=\"data row3 col1\" >3539</td>\n",
       "                        <td id=\"T_bc484762_f115_11ea_b602_5404a6922e4frow3_col2\" class=\"data row3 col2\" >46.97%</td>\n",
       "            </tr>\n",
       "            <tr>\n",
       "                        <th id=\"T_bc484762_f115_11ea_b602_5404a6922e4flevel0_row4\" class=\"row_heading level0 row4\" >4</th>\n",
       "                        <td id=\"T_bc484762_f115_11ea_b602_5404a6922e4frow4_col0\" class=\"data row4 col0\" >Tutorial</td>\n",
       "                        <td id=\"T_bc484762_f115_11ea_b602_5404a6922e4frow4_col1\" class=\"data row4 col1\" >840</td>\n",
       "                        <td id=\"T_bc484762_f115_11ea_b602_5404a6922e4frow4_col2\" class=\"data row4 col2\" >11.15%</td>\n",
       "            </tr>\n",
       "    </tbody></table>"
      ],
      "text/plain": [
       "<pandas.io.formats.style.Styler at 0x1d3cc0b9748>"
      ]
     },
     "execution_count": 26,
     "metadata": {},
     "output_type": "execute_result"
    }
   ],
   "source": [
    "# Находим общее число уникальных пользователей в датафрейме:\n",
    "user_summa = log_new['user_id'].nunique()\n",
    "# Добавляем новый столбец, в который сохраняем отношение количества уникальных пользователей по каждому событию \n",
    "# к общему числу уник.пользователей:\n",
    "user_count['share_user'] = (user_count['user_count'] / user_summa)\n",
    "\n",
    "\n",
    "user_count.style.format({'share_user': '{:.2%}'}).set_properties(**{'background-color': 'moccasin',\n",
    "                                        'color': 'black',\n",
    "                                        'border-width': '1px',\n",
    "                                        'border-style': 'solid'})\n"
   ]
  },
  {
   "cell_type": "markdown",
   "metadata": {},
   "source": [
    "~ 98% уник.пользователей  хоть раз совершали событие MainScreenAppear; ~ 61% - OffersScreenAppear; ~50% - CartScreenAppear; ~47% - PaymentScreenSuccessful \tи ~11% - Tutorial. До покупки доходит ~47% пользователей."
   ]
  },
  {
   "cell_type": "markdown",
   "metadata": {},
   "source": [
    "4. Предположим, в каком порядке происходят события. "
   ]
  },
  {
   "cell_type": "markdown",
   "metadata": {},
   "source": [
    "Обозначим события следующим образом:\n",
    "\n",
    "А: MainScreenAppear - главная страница\n",
    "\n",
    "B: OffersScreenAppear - переход в каталог\n",
    "\n",
    "C: CartScreenAppear - корзина\n",
    "\n",
    "D: PaymentScreenSuccessful - оплата\n",
    "\n",
    "F: Tutorial - руководство\n",
    "\n",
    "События происходят в следующем порядке:\n",
    "\n",
    "A ---> B ---> C ---> D, или, A ---> F\n",
    "\n"
   ]
  },
  {
   "cell_type": "markdown",
   "metadata": {},
   "source": [
    "5. По воронке событий: A ---> B ---> C ---> D посчитаем, какая доля пользователей\n",
    "проходит на следующий шаг воронки (от числа пользователей на\n",
    "предыдущем)"
   ]
  },
  {
   "cell_type": "markdown",
   "metadata": {},
   "source": [
    "Исключим из датафрейма log_new событие Tutorial, т.к. оно не входит в последовательность действий пользователя:"
   ]
  },
  {
   "cell_type": "code",
   "execution_count": 27,
   "metadata": {},
   "outputs": [],
   "source": [
    "log_new_tutorial_no = log_new[log_new['event_name'] != 'Tutorial'].copy()"
   ]
  },
  {
   "cell_type": "markdown",
   "metadata": {},
   "source": [
    "По каждому пользователю найдем время когда впервые было совершено определенноее событие. Создадим сводную таблицу:"
   ]
  },
  {
   "cell_type": "code",
   "execution_count": 28,
   "metadata": {},
   "outputs": [
    {
     "data": {
      "text/html": [
       "<div>\n",
       "<style scoped>\n",
       "    .dataframe tbody tr th:only-of-type {\n",
       "        vertical-align: middle;\n",
       "    }\n",
       "\n",
       "    .dataframe tbody tr th {\n",
       "        vertical-align: top;\n",
       "    }\n",
       "\n",
       "    .dataframe thead th {\n",
       "        text-align: right;\n",
       "    }\n",
       "</style>\n",
       "<table border=\"1\" class=\"dataframe\">\n",
       "  <thead>\n",
       "    <tr style=\"text-align: right;\">\n",
       "      <th>event_name</th>\n",
       "      <th>CartScreenAppear</th>\n",
       "      <th>MainScreenAppear</th>\n",
       "      <th>OffersScreenAppear</th>\n",
       "      <th>PaymentScreenSuccessful</th>\n",
       "    </tr>\n",
       "    <tr>\n",
       "      <th>user_id</th>\n",
       "      <th></th>\n",
       "      <th></th>\n",
       "      <th></th>\n",
       "      <th></th>\n",
       "    </tr>\n",
       "  </thead>\n",
       "  <tbody>\n",
       "    <tr>\n",
       "      <th>6888746892508752</th>\n",
       "      <td>NaT</td>\n",
       "      <td>2019-08-06 14:06:34</td>\n",
       "      <td>NaT</td>\n",
       "      <td>NaT</td>\n",
       "    </tr>\n",
       "    <tr>\n",
       "      <th>6909561520679493</th>\n",
       "      <td>2019-08-06 18:52:58</td>\n",
       "      <td>2019-08-06 18:52:54</td>\n",
       "      <td>2019-08-06 18:53:04</td>\n",
       "      <td>2019-08-06 18:52:58</td>\n",
       "    </tr>\n",
       "    <tr>\n",
       "      <th>6922444491712477</th>\n",
       "      <td>2019-08-04 14:19:40</td>\n",
       "      <td>2019-08-04 14:19:33</td>\n",
       "      <td>2019-08-04 14:19:46</td>\n",
       "      <td>2019-08-04 14:19:40</td>\n",
       "    </tr>\n",
       "    <tr>\n",
       "      <th>7435777799948366</th>\n",
       "      <td>NaT</td>\n",
       "      <td>2019-08-05 08:06:34</td>\n",
       "      <td>NaT</td>\n",
       "      <td>NaT</td>\n",
       "    </tr>\n",
       "    <tr>\n",
       "      <th>7702139951469979</th>\n",
       "      <td>2019-08-02 14:28:45</td>\n",
       "      <td>2019-08-01 04:29:54</td>\n",
       "      <td>2019-08-01 04:29:56</td>\n",
       "      <td>2019-08-02 14:28:45</td>\n",
       "    </tr>\n",
       "  </tbody>\n",
       "</table>\n",
       "</div>"
      ],
      "text/plain": [
       "event_name          CartScreenAppear    MainScreenAppear  OffersScreenAppear  \\\n",
       "user_id                                                                        \n",
       "6888746892508752                 NaT 2019-08-06 14:06:34                 NaT   \n",
       "6909561520679493 2019-08-06 18:52:58 2019-08-06 18:52:54 2019-08-06 18:53:04   \n",
       "6922444491712477 2019-08-04 14:19:40 2019-08-04 14:19:33 2019-08-04 14:19:46   \n",
       "7435777799948366                 NaT 2019-08-05 08:06:34                 NaT   \n",
       "7702139951469979 2019-08-02 14:28:45 2019-08-01 04:29:54 2019-08-01 04:29:56   \n",
       "\n",
       "event_name       PaymentScreenSuccessful  \n",
       "user_id                                   \n",
       "6888746892508752                     NaT  \n",
       "6909561520679493     2019-08-06 18:52:58  \n",
       "6922444491712477     2019-08-04 14:19:40  \n",
       "7435777799948366                     NaT  \n",
       "7702139951469979     2019-08-02 14:28:45  "
      ]
     },
     "execution_count": 28,
     "metadata": {},
     "output_type": "execute_result"
    }
   ],
   "source": [
    "users = log_new_tutorial_no.pivot_table(index = 'user_id',\n",
    "                           columns = 'event_name',\n",
    "                           values = 'event_time_new',\n",
    "                           aggfunc = 'min')\n",
    "users.head(5)"
   ]
  },
  {
   "cell_type": "markdown",
   "metadata": {},
   "source": [
    "Узнаем сколько пользователей переходило с этапа на этап:\n",
    "\n",
    "Шаг1. Сохраняем события 'MainScreenAppear' без пропусков: первое обращение в приложение.\n",
    "\n",
    "Шаг2. Сохраняем события 'OffersScreenAppear', которые произошли позднее 'MainScreenAppear' и есть первое обращение в приложение.\n",
    "\n",
    "Шаг3. Сохраняем события 'CartScreenAppear', которые произошли позднее 'OffersScreenAppear' + шаг2.\n",
    "\n",
    "Шаг4. Сохраняем события 'PaymentScreenSuccessful', которые произошли позднее 'CartScreenAppear' + шаг3.\n",
    "\n",
    "В результате получим воронку событий."
   ]
  },
  {
   "cell_type": "code",
   "execution_count": 29,
   "metadata": {},
   "outputs": [
    {
     "data": {
      "text/html": [
       "<div>\n",
       "<style scoped>\n",
       "    .dataframe tbody tr th:only-of-type {\n",
       "        vertical-align: middle;\n",
       "    }\n",
       "\n",
       "    .dataframe tbody tr th {\n",
       "        vertical-align: top;\n",
       "    }\n",
       "\n",
       "    .dataframe thead th {\n",
       "        text-align: right;\n",
       "    }\n",
       "</style>\n",
       "<table border=\"1\" class=\"dataframe\">\n",
       "  <thead>\n",
       "    <tr style=\"text-align: right;\">\n",
       "      <th></th>\n",
       "      <th>event_name</th>\n",
       "      <th>user_count</th>\n",
       "    </tr>\n",
       "  </thead>\n",
       "  <tbody>\n",
       "    <tr>\n",
       "      <th>0</th>\n",
       "      <td>MainScreenAppear</td>\n",
       "      <td>7419</td>\n",
       "    </tr>\n",
       "    <tr>\n",
       "      <th>1</th>\n",
       "      <td>OffersScreenAppear</td>\n",
       "      <td>4201</td>\n",
       "    </tr>\n",
       "    <tr>\n",
       "      <th>2</th>\n",
       "      <td>CartScreenAppear</td>\n",
       "      <td>1767</td>\n",
       "    </tr>\n",
       "    <tr>\n",
       "      <th>3</th>\n",
       "      <td>PaymentScreenSuccessful</td>\n",
       "      <td>454</td>\n",
       "    </tr>\n",
       "  </tbody>\n",
       "</table>\n",
       "</div>"
      ],
      "text/plain": [
       "                event_name  user_count\n",
       "0         MainScreenAppear        7419\n",
       "1       OffersScreenAppear        4201\n",
       "2         CartScreenAppear        1767\n",
       "3  PaymentScreenSuccessful         454"
      ]
     },
     "execution_count": 29,
     "metadata": {},
     "output_type": "execute_result"
    }
   ],
   "source": [
    "# Шаг1:\n",
    "step_1 = ~users['MainScreenAppear'].isna()\n",
    "# Шаг2:\n",
    "step_2 = step_1&(users['OffersScreenAppear'] > users['MainScreenAppear'])\n",
    "# Шаг3:\n",
    "step_3 = step_2&(users['CartScreenAppear'] > users['OffersScreenAppear'])\n",
    "# Шаг4:\n",
    "step_4 = step_3&(users['PaymentScreenSuccessful'] > users['CartScreenAppear'])\n",
    "\n",
    "# Находим количество пользователей в каждом шаге:\n",
    "MainScreenAppear_count = users[step_1].shape[0]\n",
    "OffersScreenAppear_count = users[step_2].shape[0]\n",
    "CartScreenAppear_count = users[step_3].shape[0]\n",
    "PaymentScreenSuccessful_count = users[step_4].shape[0]\n",
    "\n",
    "# Результат сохраняем в датафрейм:\n",
    "result = pd.DataFrame()\n",
    "result['event_name'] = pd.Series(['MainScreenAppear', 'OffersScreenAppear', 'CartScreenAppear', \\\n",
    "                                  'PaymentScreenSuccessful'])\n",
    "result['user_count'] = pd.Series([MainScreenAppear_count, OffersScreenAppear_count, CartScreenAppear_count, \\\n",
    "                                  PaymentScreenSuccessful_count])\n",
    "result"
   ]
  },
  {
   "cell_type": "markdown",
   "metadata": {},
   "source": [
    "Вычислим долю пользователей, которая проходит на следующий шаг воронки (от числа пользователей на предыдущем):"
   ]
  },
  {
   "cell_type": "code",
   "execution_count": 30,
   "metadata": {},
   "outputs": [],
   "source": [
    "# Создаем столбец user_count_new, в котором сохраняем количество пользователей на предыдущем шаге:\n",
    "# Применяем к значениям user_count метод shift():\n",
    "result['user_count_new'] = result['user_count'].shift()\n",
    "# В первой ячейке нового столбца пропуск, т.к. значение 0 ячейки сдвинулось с шагом 1 вниз.\n",
    "# Заменяем пропуск на значение, которое было сдвинуто:\n",
    "result['user_count_new'] = result['user_count_new'].fillna(result['user_count'])\n",
    "# Находим долю пользователей: user_count / user_count_new:\n",
    "result['share_user'] = result['user_count'] / result['user_count_new']\n",
    "# Форматируем значения в столбцах user_count_new и share_user. Накладываем тепловую карту на результат для наглядности \n",
    "result = result.style.format({'user_count_new': '{:.0f}', 'share_user': '{:.2%}'.format})\\\n",
    "        .background_gradient(cmap='coolwarm')"
   ]
  },
  {
   "cell_type": "markdown",
   "metadata": {},
   "source": [
    "Визуализируем полученные данные - построим воронку последовательности событий:"
   ]
  },
  {
   "cell_type": "code",
   "execution_count": 31,
   "metadata": {},
   "outputs": [
    {
     "data": {
      "text/html": [
       "<iframe\n",
       "    scrolling=\"no\"\n",
       "    width=\"100%\"\n",
       "    height=\"545px\"\n",
       "    src=\"iframe_figures/figure_31.html\"\n",
       "    frameborder=\"0\"\n",
       "    allowfullscreen\n",
       "></iframe>\n"
      ]
     },
     "metadata": {},
     "output_type": "display_data"
    }
   ],
   "source": [
    "\n",
    "from plotly import graph_objects as go\n",
    "import plotly.io as pio\n",
    "pio.renderers.default = 'iframe'\n",
    "\n",
    "voronka = (go.Funnel(\n",
    "        y = ['MainScreenAppear', 'OffersScreenAppear', 'CartScreenAppear', 'PaymentScreenSuccessful'],\n",
    "        x = [MainScreenAppear_count, OffersScreenAppear_count, CartScreenAppear_count, PaymentScreenSuccessful_count],\n",
    "        textposition = \"inside\",\n",
    "    textinfo = \"value+percent initial\",\n",
    "    opacity = 0.65, marker = {\"color\": [\"deepskyblue\", \"lightsalmon\", \"tan\", \"teal\", \"silver\"],\n",
    "    \"line\": {\"width\": [4, 2, 2, 3, 1, 1], \"color\": [\"wheat\", \"wheat\", \"blue\", \"wheat\", \"wheat\"]}},\n",
    "    connector = {\"line\": {\"color\": \"royalblue\", \"dash\": \"dot\", \"width\": 3}})\n",
    ")\n",
    "layout = go.Layout(\n",
    "    title='Воронка последовательности событий(от числа пользователей на предыдущем)'\n",
    ")\n",
    "fig = go.Figure(data = [voronka], layout = layout)\n",
    "fig.show(renderer='iframe')"
   ]
  },
  {
   "cell_type": "code",
   "execution_count": 32,
   "metadata": {},
   "outputs": [
    {
     "name": "stdout",
     "output_type": "stream",
     "text": [
      "Доля пользователей, которая проходит на следующий шаг воронки (от числа пользователей на предыдущем):\n"
     ]
    },
    {
     "data": {
      "text/html": [
       "<style  type=\"text/css\" >\n",
       "    #T_bdbcbeee_f115_11ea_af2f_5404a6922e4frow0_col1 {\n",
       "            background-color:  #b40426;\n",
       "            color:  #f1f1f1;\n",
       "        }    #T_bdbcbeee_f115_11ea_af2f_5404a6922e4frow0_col2 {\n",
       "            background-color:  #b40426;\n",
       "            color:  #f1f1f1;\n",
       "        }    #T_bdbcbeee_f115_11ea_af2f_5404a6922e4frow0_col3 {\n",
       "            background-color:  #b40426;\n",
       "            color:  #f1f1f1;\n",
       "        }    #T_bdbcbeee_f115_11ea_af2f_5404a6922e4frow1_col1 {\n",
       "            background-color:  #e6d7cf;\n",
       "            color:  #000000;\n",
       "        }    #T_bdbcbeee_f115_11ea_af2f_5404a6922e4frow1_col2 {\n",
       "            background-color:  #b40426;\n",
       "            color:  #f1f1f1;\n",
       "        }    #T_bdbcbeee_f115_11ea_af2f_5404a6922e4frow1_col3 {\n",
       "            background-color:  #c5d6f2;\n",
       "            color:  #000000;\n",
       "        }    #T_bdbcbeee_f115_11ea_af2f_5404a6922e4frow2_col1 {\n",
       "            background-color:  #779af7;\n",
       "            color:  #000000;\n",
       "        }    #T_bdbcbeee_f115_11ea_af2f_5404a6922e4frow2_col2 {\n",
       "            background-color:  #cad8ef;\n",
       "            color:  #000000;\n",
       "        }    #T_bdbcbeee_f115_11ea_af2f_5404a6922e4frow2_col3 {\n",
       "            background-color:  #82a6fb;\n",
       "            color:  #000000;\n",
       "        }    #T_bdbcbeee_f115_11ea_af2f_5404a6922e4frow3_col1 {\n",
       "            background-color:  #3b4cc0;\n",
       "            color:  #f1f1f1;\n",
       "        }    #T_bdbcbeee_f115_11ea_af2f_5404a6922e4frow3_col2 {\n",
       "            background-color:  #3b4cc0;\n",
       "            color:  #f1f1f1;\n",
       "        }    #T_bdbcbeee_f115_11ea_af2f_5404a6922e4frow3_col3 {\n",
       "            background-color:  #3b4cc0;\n",
       "            color:  #f1f1f1;\n",
       "        }</style><table id=\"T_bdbcbeee_f115_11ea_af2f_5404a6922e4f\" ><thead>    <tr>        <th class=\"blank level0\" ></th>        <th class=\"col_heading level0 col0\" >event_name</th>        <th class=\"col_heading level0 col1\" >user_count</th>        <th class=\"col_heading level0 col2\" >user_count_new</th>        <th class=\"col_heading level0 col3\" >share_user</th>    </tr></thead><tbody>\n",
       "                <tr>\n",
       "                        <th id=\"T_bdbcbeee_f115_11ea_af2f_5404a6922e4flevel0_row0\" class=\"row_heading level0 row0\" >0</th>\n",
       "                        <td id=\"T_bdbcbeee_f115_11ea_af2f_5404a6922e4frow0_col0\" class=\"data row0 col0\" >MainScreenAppear</td>\n",
       "                        <td id=\"T_bdbcbeee_f115_11ea_af2f_5404a6922e4frow0_col1\" class=\"data row0 col1\" >7419</td>\n",
       "                        <td id=\"T_bdbcbeee_f115_11ea_af2f_5404a6922e4frow0_col2\" class=\"data row0 col2\" >7419</td>\n",
       "                        <td id=\"T_bdbcbeee_f115_11ea_af2f_5404a6922e4frow0_col3\" class=\"data row0 col3\" >100.00%</td>\n",
       "            </tr>\n",
       "            <tr>\n",
       "                        <th id=\"T_bdbcbeee_f115_11ea_af2f_5404a6922e4flevel0_row1\" class=\"row_heading level0 row1\" >1</th>\n",
       "                        <td id=\"T_bdbcbeee_f115_11ea_af2f_5404a6922e4frow1_col0\" class=\"data row1 col0\" >OffersScreenAppear</td>\n",
       "                        <td id=\"T_bdbcbeee_f115_11ea_af2f_5404a6922e4frow1_col1\" class=\"data row1 col1\" >4201</td>\n",
       "                        <td id=\"T_bdbcbeee_f115_11ea_af2f_5404a6922e4frow1_col2\" class=\"data row1 col2\" >7419</td>\n",
       "                        <td id=\"T_bdbcbeee_f115_11ea_af2f_5404a6922e4frow1_col3\" class=\"data row1 col3\" >56.62%</td>\n",
       "            </tr>\n",
       "            <tr>\n",
       "                        <th id=\"T_bdbcbeee_f115_11ea_af2f_5404a6922e4flevel0_row2\" class=\"row_heading level0 row2\" >2</th>\n",
       "                        <td id=\"T_bdbcbeee_f115_11ea_af2f_5404a6922e4frow2_col0\" class=\"data row2 col0\" >CartScreenAppear</td>\n",
       "                        <td id=\"T_bdbcbeee_f115_11ea_af2f_5404a6922e4frow2_col1\" class=\"data row2 col1\" >1767</td>\n",
       "                        <td id=\"T_bdbcbeee_f115_11ea_af2f_5404a6922e4frow2_col2\" class=\"data row2 col2\" >4201</td>\n",
       "                        <td id=\"T_bdbcbeee_f115_11ea_af2f_5404a6922e4frow2_col3\" class=\"data row2 col3\" >42.06%</td>\n",
       "            </tr>\n",
       "            <tr>\n",
       "                        <th id=\"T_bdbcbeee_f115_11ea_af2f_5404a6922e4flevel0_row3\" class=\"row_heading level0 row3\" >3</th>\n",
       "                        <td id=\"T_bdbcbeee_f115_11ea_af2f_5404a6922e4frow3_col0\" class=\"data row3 col0\" >PaymentScreenSuccessful</td>\n",
       "                        <td id=\"T_bdbcbeee_f115_11ea_af2f_5404a6922e4frow3_col1\" class=\"data row3 col1\" >454</td>\n",
       "                        <td id=\"T_bdbcbeee_f115_11ea_af2f_5404a6922e4frow3_col2\" class=\"data row3 col2\" >1767</td>\n",
       "                        <td id=\"T_bdbcbeee_f115_11ea_af2f_5404a6922e4frow3_col3\" class=\"data row3 col3\" >25.69%</td>\n",
       "            </tr>\n",
       "    </tbody></table>"
      ],
      "text/plain": [
       "<pandas.io.formats.style.Styler at 0x1d3cc0b99c8>"
      ]
     },
     "execution_count": 32,
     "metadata": {},
     "output_type": "execute_result"
    }
   ],
   "source": [
    "print(\"Доля пользователей, которая проходит на следующий шаг воронки (от числа пользователей на предыдущем):\")\n",
    "result"
   ]
  },
  {
   "cell_type": "markdown",
   "metadata": {},
   "source": [
    "### Вывод:\n",
    "\n",
    "\n",
    "C MainScreenAppear на OffersScreenAppear \tперешло 56.6% пользователей(потеряно - 43.38%);\n",
    "\n",
    "с OffersScreenAppear на CartScreenAppear перешло 42.06%(по сравнению с предыдущим шагом потеряно - 14.56%);\n",
    "\n",
    "с CartScreenAppear на PaymentScreenSuccessful перешло 25.69%(по сравнению с предыдущим шагом потеряно - 16.37%).\n",
    "\n",
    "На каждом шаге теряем пользователей. Но больше всего потеряно пользователей ~ 43.38% с перехода с первого на второй шаг: с MainScreenAppear на OffersScreenAppear.\n",
    "\n",
    "С первого до последнего шага (MainScreenAppear -->  PaymentScreenSuccessful) доходит 6% пользователей."
   ]
  },
  {
   "cell_type": "markdown",
   "metadata": {},
   "source": [
    "Сравним результаты полученных результатов из таблиц user_count(доля людей, хоть раз совершавших действие) и result(доля людей которая проходит на следующий шаг воронки событий (от числа пользователей на предыдущем)). "
   ]
  },
  {
   "cell_type": "code",
   "execution_count": 33,
   "metadata": {},
   "outputs": [
    {
     "data": {
      "text/html": [
       "<style  type=\"text/css\" >\n",
       "    #T_bdd5c530_f115_11ea_aa30_5404a6922e4frow0_col0 {\n",
       "            background-color:  moccasin;\n",
       "            color:  black;\n",
       "            border-width:  1px;\n",
       "            border-style:  solid;\n",
       "        }    #T_bdd5c530_f115_11ea_aa30_5404a6922e4frow0_col1 {\n",
       "            background-color:  moccasin;\n",
       "            color:  black;\n",
       "            border-width:  1px;\n",
       "            border-style:  solid;\n",
       "        }    #T_bdd5c530_f115_11ea_aa30_5404a6922e4frow0_col2 {\n",
       "            background-color:  moccasin;\n",
       "            color:  black;\n",
       "            border-width:  1px;\n",
       "            border-style:  solid;\n",
       "        }    #T_bdd5c530_f115_11ea_aa30_5404a6922e4frow1_col0 {\n",
       "            background-color:  moccasin;\n",
       "            color:  black;\n",
       "            border-width:  1px;\n",
       "            border-style:  solid;\n",
       "        }    #T_bdd5c530_f115_11ea_aa30_5404a6922e4frow1_col1 {\n",
       "            background-color:  moccasin;\n",
       "            color:  black;\n",
       "            border-width:  1px;\n",
       "            border-style:  solid;\n",
       "        }    #T_bdd5c530_f115_11ea_aa30_5404a6922e4frow1_col2 {\n",
       "            background-color:  moccasin;\n",
       "            color:  black;\n",
       "            border-width:  1px;\n",
       "            border-style:  solid;\n",
       "        }    #T_bdd5c530_f115_11ea_aa30_5404a6922e4frow2_col0 {\n",
       "            background-color:  moccasin;\n",
       "            color:  black;\n",
       "            border-width:  1px;\n",
       "            border-style:  solid;\n",
       "        }    #T_bdd5c530_f115_11ea_aa30_5404a6922e4frow2_col1 {\n",
       "            background-color:  moccasin;\n",
       "            color:  black;\n",
       "            border-width:  1px;\n",
       "            border-style:  solid;\n",
       "        }    #T_bdd5c530_f115_11ea_aa30_5404a6922e4frow2_col2 {\n",
       "            background-color:  moccasin;\n",
       "            color:  black;\n",
       "            border-width:  1px;\n",
       "            border-style:  solid;\n",
       "        }    #T_bdd5c530_f115_11ea_aa30_5404a6922e4frow3_col0 {\n",
       "            background-color:  moccasin;\n",
       "            color:  black;\n",
       "            border-width:  1px;\n",
       "            border-style:  solid;\n",
       "        }    #T_bdd5c530_f115_11ea_aa30_5404a6922e4frow3_col1 {\n",
       "            background-color:  moccasin;\n",
       "            color:  black;\n",
       "            border-width:  1px;\n",
       "            border-style:  solid;\n",
       "        }    #T_bdd5c530_f115_11ea_aa30_5404a6922e4frow3_col2 {\n",
       "            background-color:  moccasin;\n",
       "            color:  black;\n",
       "            border-width:  1px;\n",
       "            border-style:  solid;\n",
       "        }    #T_bdd5c530_f115_11ea_aa30_5404a6922e4frow4_col0 {\n",
       "            background-color:  moccasin;\n",
       "            color:  black;\n",
       "            border-width:  1px;\n",
       "            border-style:  solid;\n",
       "        }    #T_bdd5c530_f115_11ea_aa30_5404a6922e4frow4_col1 {\n",
       "            background-color:  moccasin;\n",
       "            color:  black;\n",
       "            border-width:  1px;\n",
       "            border-style:  solid;\n",
       "        }    #T_bdd5c530_f115_11ea_aa30_5404a6922e4frow4_col2 {\n",
       "            background-color:  moccasin;\n",
       "            color:  black;\n",
       "            border-width:  1px;\n",
       "            border-style:  solid;\n",
       "        }</style><table id=\"T_bdd5c530_f115_11ea_aa30_5404a6922e4f\" ><thead>    <tr>        <th class=\"blank level0\" ></th>        <th class=\"col_heading level0 col0\" >event_name</th>        <th class=\"col_heading level0 col1\" >user_count</th>        <th class=\"col_heading level0 col2\" >share_user</th>    </tr></thead><tbody>\n",
       "                <tr>\n",
       "                        <th id=\"T_bdd5c530_f115_11ea_aa30_5404a6922e4flevel0_row0\" class=\"row_heading level0 row0\" >0</th>\n",
       "                        <td id=\"T_bdd5c530_f115_11ea_aa30_5404a6922e4frow0_col0\" class=\"data row0 col0\" >MainScreenAppear</td>\n",
       "                        <td id=\"T_bdd5c530_f115_11ea_aa30_5404a6922e4frow0_col1\" class=\"data row0 col1\" >7419</td>\n",
       "                        <td id=\"T_bdd5c530_f115_11ea_aa30_5404a6922e4frow0_col2\" class=\"data row0 col2\" >0.984736</td>\n",
       "            </tr>\n",
       "            <tr>\n",
       "                        <th id=\"T_bdd5c530_f115_11ea_aa30_5404a6922e4flevel0_row1\" class=\"row_heading level0 row1\" >1</th>\n",
       "                        <td id=\"T_bdd5c530_f115_11ea_aa30_5404a6922e4frow1_col0\" class=\"data row1 col0\" >OffersScreenAppear</td>\n",
       "                        <td id=\"T_bdd5c530_f115_11ea_aa30_5404a6922e4frow1_col1\" class=\"data row1 col1\" >4593</td>\n",
       "                        <td id=\"T_bdd5c530_f115_11ea_aa30_5404a6922e4frow1_col2\" class=\"data row1 col2\" >0.609636</td>\n",
       "            </tr>\n",
       "            <tr>\n",
       "                        <th id=\"T_bdd5c530_f115_11ea_aa30_5404a6922e4flevel0_row2\" class=\"row_heading level0 row2\" >2</th>\n",
       "                        <td id=\"T_bdd5c530_f115_11ea_aa30_5404a6922e4frow2_col0\" class=\"data row2 col0\" >CartScreenAppear</td>\n",
       "                        <td id=\"T_bdd5c530_f115_11ea_aa30_5404a6922e4frow2_col1\" class=\"data row2 col1\" >3734</td>\n",
       "                        <td id=\"T_bdd5c530_f115_11ea_aa30_5404a6922e4frow2_col2\" class=\"data row2 col2\" >0.495620</td>\n",
       "            </tr>\n",
       "            <tr>\n",
       "                        <th id=\"T_bdd5c530_f115_11ea_aa30_5404a6922e4flevel0_row3\" class=\"row_heading level0 row3\" >3</th>\n",
       "                        <td id=\"T_bdd5c530_f115_11ea_aa30_5404a6922e4frow3_col0\" class=\"data row3 col0\" >PaymentScreenSuccessful</td>\n",
       "                        <td id=\"T_bdd5c530_f115_11ea_aa30_5404a6922e4frow3_col1\" class=\"data row3 col1\" >3539</td>\n",
       "                        <td id=\"T_bdd5c530_f115_11ea_aa30_5404a6922e4frow3_col2\" class=\"data row3 col2\" >0.469737</td>\n",
       "            </tr>\n",
       "            <tr>\n",
       "                        <th id=\"T_bdd5c530_f115_11ea_aa30_5404a6922e4flevel0_row4\" class=\"row_heading level0 row4\" >4</th>\n",
       "                        <td id=\"T_bdd5c530_f115_11ea_aa30_5404a6922e4frow4_col0\" class=\"data row4 col0\" >Tutorial</td>\n",
       "                        <td id=\"T_bdd5c530_f115_11ea_aa30_5404a6922e4frow4_col1\" class=\"data row4 col1\" >840</td>\n",
       "                        <td id=\"T_bdd5c530_f115_11ea_aa30_5404a6922e4frow4_col2\" class=\"data row4 col2\" >0.111495</td>\n",
       "            </tr>\n",
       "    </tbody></table>"
      ],
      "text/plain": [
       "<pandas.io.formats.style.Styler at 0x1d3cc1ff848>"
      ]
     },
     "execution_count": 33,
     "metadata": {},
     "output_type": "execute_result"
    }
   ],
   "source": [
    "color_table(user_count)"
   ]
  },
  {
   "cell_type": "code",
   "execution_count": 34,
   "metadata": {},
   "outputs": [
    {
     "data": {
      "text/html": [
       "<style  type=\"text/css\" >\n",
       "    #T_bde1d31c_f115_11ea_b1d2_5404a6922e4frow0_col1 {\n",
       "            background-color:  #b40426;\n",
       "            color:  #f1f1f1;\n",
       "            background-color:  #b40426;\n",
       "            color:  #f1f1f1;\n",
       "        }    #T_bde1d31c_f115_11ea_b1d2_5404a6922e4frow0_col2 {\n",
       "            background-color:  #b40426;\n",
       "            color:  #f1f1f1;\n",
       "            background-color:  #b40426;\n",
       "            color:  #f1f1f1;\n",
       "        }    #T_bde1d31c_f115_11ea_b1d2_5404a6922e4frow0_col3 {\n",
       "            background-color:  #b40426;\n",
       "            color:  #f1f1f1;\n",
       "            background-color:  #b40426;\n",
       "            color:  #f1f1f1;\n",
       "        }    #T_bde1d31c_f115_11ea_b1d2_5404a6922e4frow1_col1 {\n",
       "            background-color:  #e6d7cf;\n",
       "            color:  #000000;\n",
       "            background-color:  #e6d7cf;\n",
       "            color:  #000000;\n",
       "        }    #T_bde1d31c_f115_11ea_b1d2_5404a6922e4frow1_col2 {\n",
       "            background-color:  #b40426;\n",
       "            color:  #f1f1f1;\n",
       "            background-color:  #b40426;\n",
       "            color:  #f1f1f1;\n",
       "        }    #T_bde1d31c_f115_11ea_b1d2_5404a6922e4frow1_col3 {\n",
       "            background-color:  #c5d6f2;\n",
       "            color:  #000000;\n",
       "            background-color:  #c5d6f2;\n",
       "            color:  #000000;\n",
       "        }    #T_bde1d31c_f115_11ea_b1d2_5404a6922e4frow2_col1 {\n",
       "            background-color:  #779af7;\n",
       "            color:  #000000;\n",
       "            background-color:  #779af7;\n",
       "            color:  #000000;\n",
       "        }    #T_bde1d31c_f115_11ea_b1d2_5404a6922e4frow2_col2 {\n",
       "            background-color:  #cad8ef;\n",
       "            color:  #000000;\n",
       "            background-color:  #cad8ef;\n",
       "            color:  #000000;\n",
       "        }    #T_bde1d31c_f115_11ea_b1d2_5404a6922e4frow2_col3 {\n",
       "            background-color:  #82a6fb;\n",
       "            color:  #000000;\n",
       "            background-color:  #82a6fb;\n",
       "            color:  #000000;\n",
       "        }    #T_bde1d31c_f115_11ea_b1d2_5404a6922e4frow3_col1 {\n",
       "            background-color:  #3b4cc0;\n",
       "            color:  #f1f1f1;\n",
       "            background-color:  #3b4cc0;\n",
       "            color:  #f1f1f1;\n",
       "        }    #T_bde1d31c_f115_11ea_b1d2_5404a6922e4frow3_col2 {\n",
       "            background-color:  #3b4cc0;\n",
       "            color:  #f1f1f1;\n",
       "            background-color:  #3b4cc0;\n",
       "            color:  #f1f1f1;\n",
       "        }    #T_bde1d31c_f115_11ea_b1d2_5404a6922e4frow3_col3 {\n",
       "            background-color:  #3b4cc0;\n",
       "            color:  #f1f1f1;\n",
       "            background-color:  #3b4cc0;\n",
       "            color:  #f1f1f1;\n",
       "        }</style><table id=\"T_bde1d31c_f115_11ea_b1d2_5404a6922e4f\" ><thead>    <tr>        <th class=\"blank level0\" ></th>        <th class=\"col_heading level0 col0\" >event_name</th>        <th class=\"col_heading level0 col1\" >user_count</th>        <th class=\"col_heading level0 col2\" >user_count_new</th>        <th class=\"col_heading level0 col3\" >share_user</th>    </tr></thead><tbody>\n",
       "                <tr>\n",
       "                        <th id=\"T_bde1d31c_f115_11ea_b1d2_5404a6922e4flevel0_row0\" class=\"row_heading level0 row0\" >0</th>\n",
       "                        <td id=\"T_bde1d31c_f115_11ea_b1d2_5404a6922e4frow0_col0\" class=\"data row0 col0\" >MainScreenAppear</td>\n",
       "                        <td id=\"T_bde1d31c_f115_11ea_b1d2_5404a6922e4frow0_col1\" class=\"data row0 col1\" >7419</td>\n",
       "                        <td id=\"T_bde1d31c_f115_11ea_b1d2_5404a6922e4frow0_col2\" class=\"data row0 col2\" >7419</td>\n",
       "                        <td id=\"T_bde1d31c_f115_11ea_b1d2_5404a6922e4frow0_col3\" class=\"data row0 col3\" >100.00%</td>\n",
       "            </tr>\n",
       "            <tr>\n",
       "                        <th id=\"T_bde1d31c_f115_11ea_b1d2_5404a6922e4flevel0_row1\" class=\"row_heading level0 row1\" >1</th>\n",
       "                        <td id=\"T_bde1d31c_f115_11ea_b1d2_5404a6922e4frow1_col0\" class=\"data row1 col0\" >OffersScreenAppear</td>\n",
       "                        <td id=\"T_bde1d31c_f115_11ea_b1d2_5404a6922e4frow1_col1\" class=\"data row1 col1\" >4201</td>\n",
       "                        <td id=\"T_bde1d31c_f115_11ea_b1d2_5404a6922e4frow1_col2\" class=\"data row1 col2\" >7419</td>\n",
       "                        <td id=\"T_bde1d31c_f115_11ea_b1d2_5404a6922e4frow1_col3\" class=\"data row1 col3\" >56.62%</td>\n",
       "            </tr>\n",
       "            <tr>\n",
       "                        <th id=\"T_bde1d31c_f115_11ea_b1d2_5404a6922e4flevel0_row2\" class=\"row_heading level0 row2\" >2</th>\n",
       "                        <td id=\"T_bde1d31c_f115_11ea_b1d2_5404a6922e4frow2_col0\" class=\"data row2 col0\" >CartScreenAppear</td>\n",
       "                        <td id=\"T_bde1d31c_f115_11ea_b1d2_5404a6922e4frow2_col1\" class=\"data row2 col1\" >1767</td>\n",
       "                        <td id=\"T_bde1d31c_f115_11ea_b1d2_5404a6922e4frow2_col2\" class=\"data row2 col2\" >4201</td>\n",
       "                        <td id=\"T_bde1d31c_f115_11ea_b1d2_5404a6922e4frow2_col3\" class=\"data row2 col3\" >42.06%</td>\n",
       "            </tr>\n",
       "            <tr>\n",
       "                        <th id=\"T_bde1d31c_f115_11ea_b1d2_5404a6922e4flevel0_row3\" class=\"row_heading level0 row3\" >3</th>\n",
       "                        <td id=\"T_bde1d31c_f115_11ea_b1d2_5404a6922e4frow3_col0\" class=\"data row3 col0\" >PaymentScreenSuccessful</td>\n",
       "                        <td id=\"T_bde1d31c_f115_11ea_b1d2_5404a6922e4frow3_col1\" class=\"data row3 col1\" >454</td>\n",
       "                        <td id=\"T_bde1d31c_f115_11ea_b1d2_5404a6922e4frow3_col2\" class=\"data row3 col2\" >1767</td>\n",
       "                        <td id=\"T_bde1d31c_f115_11ea_b1d2_5404a6922e4frow3_col3\" class=\"data row3 col3\" >25.69%</td>\n",
       "            </tr>\n",
       "    </tbody></table>"
      ],
      "text/plain": [
       "<pandas.io.formats.style.Styler at 0x1d3cc0b99c8>"
      ]
     },
     "execution_count": 34,
     "metadata": {},
     "output_type": "execute_result"
    }
   ],
   "source": [
    "result"
   ]
  },
  {
   "cell_type": "markdown",
   "metadata": {},
   "source": [
    "Если сравнить результаты расчетов в столбце user_count в двух таблицах, то становится ясно, что существуют  иные пути, чтобы добраться до шага PaymentScreenSuccessful, потому что в первой талице (количество людей, хоть раз совершивших действие) количество оплативших = 3539, а во второй таблице = 454.\n",
    "\n",
    "Количество уникальных пользователей, совершивших хоть раз событие CartScreenAppear \t= 3734, а количество людей, которые выполнили указанное действие и которые \"шли\" по предполагаемому пути ~ 1767."
   ]
  },
  {
   "cell_type": "markdown",
   "metadata": {},
   "source": [
    "# Изучение результатов эксперимента"
   ]
  },
  {
   "cell_type": "markdown",
   "metadata": {},
   "source": [
    "1. Выведем на экран количество пользователей из каждой экспериментальной группы:"
   ]
  },
  {
   "cell_type": "code",
   "execution_count": 35,
   "metadata": {},
   "outputs": [
    {
     "data": {
      "text/plain": [
       "exp_id\n",
       "246    2484\n",
       "247    2513\n",
       "248    2537\n",
       "Name: user_id, dtype: int64"
      ]
     },
     "execution_count": 35,
     "metadata": {},
     "output_type": "execute_result"
    }
   ],
   "source": [
    "log_new.groupby('exp_id')['user_id'].nunique()"
   ]
  },
  {
   "cell_type": "markdown",
   "metadata": {},
   "source": [
    "В каждой группе почти одинаковое количество пользователей ~ 2500.\n",
    "\n",
    "246 и 247 — контрольные группы(предложены старые шрифты), а 248 — экспериментальная(предложены новые шрифты).\n"
   ]
  },
  {
   "cell_type": "markdown",
   "metadata": {},
   "source": [
    "2. Есть 2 контрольные группы для А/А-эксперимента, чтобы проверить корректность всех механизмов и расчётов. Проверим,\n",
    "находят ли статистические критерии разницу между выборками 246 и 247."
   ]
  },
  {
   "cell_type": "markdown",
   "metadata": {},
   "source": [
    "Критерии успешности А-А теста:\n",
    "\n",
    "1. Количество пользователей в различных группах различается не более, чем на 1%.\n",
    "\n",
    "2. Различие ключевых метрик по группам не превышает 1% и не имеет стат.значимости.\n",
    "\n",
    "Чтобы проверить критерий, выполним:\n",
    "\n",
    "А) Создадим 2 датафрейма : log_new сгруппируем по 2 контрольным группам 246, 247.\n",
    "\n",
    "В) В каждом из двух датафреймов строим воронку событий (долю пользователей, которые хоть раз совершали событие: отношение количества уникальных пользователей в событии к общему числу уникальных пользователей в группе).\n",
    "\n",
    "С) Проверим является ли распределение количества уник.пользователей в гр.246,247 нормальным.\n",
    "\n",
    "D) Проверим гипотезу о равенстве средних(т.о. статистически подтверждаем критерии №1)\n",
    "\n",
    "F) Воспользуемся гипотезой о равенстве долей (Проверяем критерии №2). \n",
    "\n",
    "\n",
    "Приступим:\n"
   ]
  },
  {
   "cell_type": "markdown",
   "metadata": {},
   "source": [
    "А) Отфильтруем данные по соответствующей группе и сохраним в переменную:"
   ]
  },
  {
   "cell_type": "code",
   "execution_count": 36,
   "metadata": {},
   "outputs": [],
   "source": [
    "# Фильтруем строки датафрейма log_new по exp_id == \"246\"\n",
    "log_246 = log_new.query('exp_id == \"246\"').copy()\n",
    "# Фильтруем строки датафрейма log_new по exp_id == \"247\"\n",
    "log_247 = log_new.query('exp_id == \"247\"').copy()\n"
   ]
  },
  {
   "cell_type": "markdown",
   "metadata": {},
   "source": [
    "B) Строим воронку событий для каждой группы:"
   ]
  },
  {
   "cell_type": "code",
   "execution_count": 37,
   "metadata": {},
   "outputs": [
    {
     "name": "stdout",
     "output_type": "stream",
     "text": [
      "                event_name  user_id_246  user_id_uniq_246  share_user_246\n",
      "0         MainScreenAppear         2450              2484            0.99\n",
      "1       OffersScreenAppear         1542              2484            0.62\n",
      "2         CartScreenAppear         1266              2484            0.51\n",
      "3  PaymentScreenSuccessful         1200              2484            0.48\n",
      "4                 Tutorial          278              2484            0.11\n",
      "-------------------\n",
      "                event_name  user_id_247  user_id_uniq_247  share_user_247\n",
      "0         MainScreenAppear         2476              2513            0.99\n",
      "1       OffersScreenAppear         1520              2513            0.60\n",
      "2         CartScreenAppear         1238              2513            0.49\n",
      "3  PaymentScreenSuccessful         1158              2513            0.46\n",
      "4                 Tutorial          283              2513            0.11\n"
     ]
    }
   ],
   "source": [
    "# Для 246: \n",
    "# Группируем данные по событию, находим количество уник.польз., сортируем по убыванию:\n",
    "rezults_246 = log_246.groupby('event_name').agg({'user_id': 'nunique'})\\\n",
    ".sort_values(by = 'user_id', ascending = False).reset_index()\n",
    "# Добавляем столбец с общим количеством уник.пользователей в группе:\n",
    "rezults_246['user_id_uniq'] = log_246['user_id'].nunique()\n",
    "# Находим долю пользователей от общего числа уник. пользователей в группе, \n",
    "# результат сохраняем в новый столбец и округляем его до 2 знаков после запятой:\n",
    "rezults_246['share_user'] = round(rezults_246['user_id'] / rezults_246['user_id_uniq'], 2)\n",
    "# Переименуем названия столбцов для ясности:\n",
    "rezults_246 = rezults_246\\\n",
    ".rename(columns = ({'user_id': 'user_id_246', 'user_id_uniq': 'user_id_uniq_246', 'share_user': 'share_user_246'}))\n",
    "\n",
    "\n",
    "# Для 247: делаем аналогично 246\n",
    "rezults_247 = log_247.groupby('event_name').agg({'user_id': 'nunique'})\\\n",
    ".sort_values(by = 'user_id', ascending = False).reset_index()\n",
    "rezults_247['user_id_uniq'] = log_247['user_id'].nunique()\n",
    "rezults_247['share_user'] = round(rezults_247['user_id'] / rezults_247['user_id_uniq'], 2)\n",
    "rezults_247 = rezults_247\\\n",
    ".rename(columns = ({'user_id': 'user_id_247', 'user_id_uniq': 'user_id_uniq_247', 'share_user': 'share_user_247'}))\n",
    "# Выводим результат на экран:\n",
    "print(rezults_246)\n",
    "print('-------------------')\n",
    "print(rezults_247)"
   ]
  },
  {
   "cell_type": "markdown",
   "metadata": {},
   "source": [
    "Объединим датафреймы rezults_246 и rezults_247 в один:"
   ]
  },
  {
   "cell_type": "code",
   "execution_count": 38,
   "metadata": {},
   "outputs": [
    {
     "data": {
      "text/html": [
       "<div>\n",
       "<style scoped>\n",
       "    .dataframe tbody tr th:only-of-type {\n",
       "        vertical-align: middle;\n",
       "    }\n",
       "\n",
       "    .dataframe tbody tr th {\n",
       "        vertical-align: top;\n",
       "    }\n",
       "\n",
       "    .dataframe thead th {\n",
       "        text-align: right;\n",
       "    }\n",
       "</style>\n",
       "<table border=\"1\" class=\"dataframe\">\n",
       "  <thead>\n",
       "    <tr style=\"text-align: right;\">\n",
       "      <th></th>\n",
       "      <th>event_name</th>\n",
       "      <th>user_id_246</th>\n",
       "      <th>user_id_uniq_246</th>\n",
       "      <th>share_user_246</th>\n",
       "      <th>user_id_247</th>\n",
       "      <th>user_id_uniq_247</th>\n",
       "      <th>share_user_247</th>\n",
       "    </tr>\n",
       "  </thead>\n",
       "  <tbody>\n",
       "    <tr>\n",
       "      <th>0</th>\n",
       "      <td>MainScreenAppear</td>\n",
       "      <td>2450</td>\n",
       "      <td>2484</td>\n",
       "      <td>0.99</td>\n",
       "      <td>2476</td>\n",
       "      <td>2513</td>\n",
       "      <td>0.99</td>\n",
       "    </tr>\n",
       "    <tr>\n",
       "      <th>1</th>\n",
       "      <td>OffersScreenAppear</td>\n",
       "      <td>1542</td>\n",
       "      <td>2484</td>\n",
       "      <td>0.62</td>\n",
       "      <td>1520</td>\n",
       "      <td>2513</td>\n",
       "      <td>0.60</td>\n",
       "    </tr>\n",
       "    <tr>\n",
       "      <th>2</th>\n",
       "      <td>CartScreenAppear</td>\n",
       "      <td>1266</td>\n",
       "      <td>2484</td>\n",
       "      <td>0.51</td>\n",
       "      <td>1238</td>\n",
       "      <td>2513</td>\n",
       "      <td>0.49</td>\n",
       "    </tr>\n",
       "    <tr>\n",
       "      <th>3</th>\n",
       "      <td>PaymentScreenSuccessful</td>\n",
       "      <td>1200</td>\n",
       "      <td>2484</td>\n",
       "      <td>0.48</td>\n",
       "      <td>1158</td>\n",
       "      <td>2513</td>\n",
       "      <td>0.46</td>\n",
       "    </tr>\n",
       "    <tr>\n",
       "      <th>4</th>\n",
       "      <td>Tutorial</td>\n",
       "      <td>278</td>\n",
       "      <td>2484</td>\n",
       "      <td>0.11</td>\n",
       "      <td>283</td>\n",
       "      <td>2513</td>\n",
       "      <td>0.11</td>\n",
       "    </tr>\n",
       "  </tbody>\n",
       "</table>\n",
       "</div>"
      ],
      "text/plain": [
       "                event_name  user_id_246  user_id_uniq_246  share_user_246  \\\n",
       "0         MainScreenAppear         2450              2484            0.99   \n",
       "1       OffersScreenAppear         1542              2484            0.62   \n",
       "2         CartScreenAppear         1266              2484            0.51   \n",
       "3  PaymentScreenSuccessful         1200              2484            0.48   \n",
       "4                 Tutorial          278              2484            0.11   \n",
       "\n",
       "   user_id_247  user_id_uniq_247  share_user_247  \n",
       "0         2476              2513            0.99  \n",
       "1         1520              2513            0.60  \n",
       "2         1238              2513            0.49  \n",
       "3         1158              2513            0.46  \n",
       "4          283              2513            0.11  "
      ]
     },
     "execution_count": 38,
     "metadata": {},
     "output_type": "execute_result"
    }
   ],
   "source": [
    "# Применим метод merge():\n",
    "total_246_247 = rezults_246.merge(rezults_247)\n",
    "total_246_247"
   ]
  },
  {
   "cell_type": "markdown",
   "metadata": {},
   "source": [
    "С)  Проверим является ли распределение количества уник.пользователей в гр.246,247 нормальным.\n",
    "\n",
    "Построим Q-Q plot:"
   ]
  },
  {
   "cell_type": "code",
   "execution_count": 39,
   "metadata": {},
   "outputs": [],
   "source": [
    "# Добавим столбец в датафреймах, в котором дата округлена до часа:\n",
    "log_246['time_routed'] = log_246['event_time_new'].dt.round('1H')\n",
    "log_247['time_routed'] = log_247['event_time_new'].dt.round('1H')"
   ]
  },
  {
   "cell_type": "code",
   "execution_count": 40,
   "metadata": {},
   "outputs": [
    {
     "data": {
      "image/png": "[encoded data removed]",
      "text/plain": [
       "<Figure size 1080x720 with 2 Axes>"
      ]
     },
     "metadata": {},
     "output_type": "display_data"
    }
   ],
   "source": [
    "from scipy import stats \n",
    "plt.figure(figsize = (15,10))\n",
    "plt.subplot(2,2,1)\n",
    "# Группируем данные гр.246 по столбцу с округленной датой до часа и вычисляем количество уник. пользователей в час за каждый день:\n",
    "# Строим Q-Q plot:\n",
    "stats.probplot(log_246.groupby('time_routed')['user_id'].nunique() ,plot = plt)\n",
    "plt.title('Количество уникальных пользователей в 246')\n",
    "plt.subplot(2,2,2)\n",
    "# Группируем данные гр.247 по столбцу с округленной датой до часа и вычисляем количество уник. пользователей в час за каждый день:\n",
    "# Строим Q-Q plot:\n",
    "stats.probplot(log_247.groupby('time_routed')['user_id'].nunique() ,plot = plt)\n",
    "plt.title('Количество уникальных пользователей в 247')\n",
    "plt.show()"
   ]
  },
  {
   "cell_type": "markdown",
   "metadata": {},
   "source": [
    "Выборки количества уникальных пользователей в группах 246 и 247 распределены не нормально:  видим, что на двух графиках по правую сторону от 0 (0 - середина распределения) точки сначала уползают вверх от прямой линий, а затем сильно отклоняются вниз. При этом с левой стороны все точки сначала сильно уходят вниз, а затем вверх.\n",
    "\n",
    "Подтвердим полученный вывод с помощью теста Шапиро:\n",
    "\n",
    "Сформулируем нулевую гипотезу: распределения значимо не отличаются от нормального.\n",
    "\n",
    "Альтернативную: распределения значимо отличаются от нормального.\n",
    "\n",
    "Критический уровень значимости: 0.05."
   ]
  },
  {
   "cell_type": "code",
   "execution_count": 41,
   "metadata": {},
   "outputs": [
    {
     "name": "stdout",
     "output_type": "stream",
     "text": [
      "p-значение: 2.6383789375472588e-08\n",
      "Отвергаем нулевую гипотезу: распределение не нормально\n"
     ]
    }
   ],
   "source": [
    "# Используем метод st.shapiro():\n",
    "from scipy import stats as st\n",
    "alpha = .05\n",
    "results = st.shapiro(log_246.groupby('time_routed')['user_id'].nunique())\n",
    "p_value = results[1]\n",
    "print('p-значение:', p_value)\n",
    "if (p_value < alpha):\n",
    "    print('Отвергаем нулевую гипотезу: распределение не нормально')\n",
    "else:\n",
    "    print('Не получилось отвергнуть нулевую гипотезу, всё нормально')\n",
    "\n",
    "    "
   ]
  },
  {
   "cell_type": "markdown",
   "metadata": {},
   "source": [
    "p-значение: 2.6383789375472588e-08 < 0.05, поэтому отклоняем нулевую гипотезу. И предполагаем, что  распределение значимо отличается от нормального."
   ]
  },
  {
   "cell_type": "markdown",
   "metadata": {},
   "source": [
    "Применяем тест для распределения количества уник.пользователей гр.247:"
   ]
  },
  {
   "cell_type": "code",
   "execution_count": 42,
   "metadata": {},
   "outputs": [
    {
     "name": "stdout",
     "output_type": "stream",
     "text": [
      "p-значение: 3.6822800808522516e-08\n",
      "Отвергаем нулевую гипотезу: распределение не нормально\n"
     ]
    }
   ],
   "source": [
    "alpha = .05\n",
    "results = st.shapiro(log_247.groupby('time_routed')['user_id'].nunique())\n",
    "p_value = results[1]\n",
    "print('p-значение:', p_value)\n",
    "if (p_value < alpha):\n",
    "    print('Отвергаем нулевую гипотезу: распределение не нормально')\n",
    "else:\n",
    "    print('Не получилось отвергнуть нулевую гипотезу, всё нормально')"
   ]
  },
  {
   "cell_type": "markdown",
   "metadata": {},
   "source": [
    "p-значение: 3.6822800808522516e-08 < 0.05, поэтому отклоняем нулевую гипотезу. И предполагаем, что  распределение значимо отличается от нормального."
   ]
  },
  {
   "cell_type": "markdown",
   "metadata": {},
   "source": [
    "Величина количества уникальных пользователей в двух группах распределена не нормально. \n",
    "\n",
    "D. Проверим гипотезу о равенстве средних: \n",
    "\n",
    "Так как распределения мультимодальные, применим для проверки Z-тест:\n",
    "\n",
    "statsmodels.stats.proportion.proportions_ztest(a_users, all_participants, value = 0.5), \n",
    "\n",
    "где a_users - количество уникальных пользователей в группе А (число), all_participants - количество всех уникальных участников теста (число),  value  - ожидаемый уровень (мы ожидаем, что пользователи в группе А составят 50%).\n",
    "\n",
    "Учтем, что группа А = группе 246. \n",
    "\n",
    "Нулевая гипотеза: средние значения в двух группах не отличаются.\n",
    "\n",
    "Альтернативная гипотеза: есть значимые различия между средними значениями двух групп.\n",
    "\n",
    "Критический уровень значимости: 0.05."
   ]
  },
  {
   "cell_type": "code",
   "execution_count": 43,
   "metadata": {},
   "outputs": [
    {
     "name": "stdout",
     "output_type": "stream",
     "text": [
      "Количество уникальных пользователей в группе 246: 2484\n",
      "Количество уникальных пользователей в группе 247: 2513\n",
      "Общее количество уникальных пользователей в групах 246 и 247: 4997\n"
     ]
    }
   ],
   "source": [
    "# Вычислим число уникальных пользователей в группе 246, 247 и найдем их сумму:\n",
    "group_246 = log_new.query('exp_id == \"246\"')['user_id'].nunique()\n",
    "group_247 = log_new.query('exp_id == \"247\"')['user_id'].nunique()\n",
    "group_246_247 = group_246 + group_247\n",
    "print('Количество уникальных пользователей в группе 246:', group_246)\n",
    "print('Количество уникальных пользователей в группе 247:', group_247)\n",
    "print('Общее количество уникальных пользователей в групах 246 и 247:', group_246_247)"
   ]
  },
  {
   "cell_type": "markdown",
   "metadata": {},
   "source": [
    "Применим statsmodels.stats.proportion.proportions_ztest(a_users, all_participants, value = 0.5):"
   ]
  },
  {
   "cell_type": "code",
   "execution_count": 44,
   "metadata": {},
   "outputs": [
    {
     "name": "stdout",
     "output_type": "stream",
     "text": [
      "p-значение: 0.6816211476613262\n",
      "Не получилось отвергнуть нулевую гипотезу, вывод о различий сделать нельзя\n"
     ]
    }
   ],
   "source": [
    "from statsmodels.stats.proportion import proportions_ztest\n",
    "alpha = .05\n",
    "\n",
    "stat, pval = proportions_ztest(2484, 4997, value = 0.5)\n",
    "print('p-значение:', pval)\n",
    "\n",
    "if(pval < alpha):\n",
    "    print('Отвергаем нулевую гипотезу: разница статистически значима')\n",
    "else:\n",
    "    print('Не получилось отвергнуть нулевую гипотезу, вывод о различий сделать нельзя')\n",
    "\n"
   ]
  },
  {
   "cell_type": "markdown",
   "metadata": {},
   "source": [
    "p-значение: 0.6816211476613262 > 0.05, поэтому не получилось отвергнуть нулевую гипотезу. \n",
    "\n",
    "Предполагаем, что различий в группах нет. \n",
    "\n",
    "А это значит, что подтвержден критерии №1: количество пользователей в группах 246 и 247 значимо не различается."
   ]
  },
  {
   "cell_type": "markdown",
   "metadata": {},
   "source": [
    "F) Проверяем критерий №2: различие ключевых метрик по группам не превышает 1% и не имеет стат.значимости.\n",
    "\n",
    "Ключевые метрики - доли в воронке событий, т.е. отношение количества уник.пользователей в событии к общему числу уникальных пользователей.\n",
    "\n",
    "Дано две группы 246 и 247.\n",
    "\n",
    "В каждой группе следующие события: MainScreenAppear, OffersScreenAppear, CartScreenAppear, PaymentScreenSuccessful, Tutorial и также для каждого события известна доля количества уникальных пользователей от общего числа уник.пользователей в группе.\n",
    "\n",
    "Воспользуемся гипотезой о равенстве долей.\n",
    "\n",
    "Сформулируем нулевую гипотезу: доля пользователей в каждом из событии группы 246 не отличается от доли пользователей в соответствующем событии группы 247.\n",
    "\n",
    "Альтернативная гипотеза: Доли в соответствующих событиях различны.\n",
    "\n",
    "Критический уровень значимости: 0.05.\n",
    "\n",
    "Наши действия:\n",
    "\n",
    "1. Создаем функцию proportion_test(argument_1:list, argument_2:list), с помощью которой будем определять есть статистическая значимость между ключевыми метриками по группам или нет. В качестве аргумента будем передавать два списка:\n",
    "\n",
    "argument_1 = [Х, У], \n",
    "argument_2 = [Z, T]\n",
    "\n",
    "(Х - количество уникальных пользователей в событий гр.246, Y - в соответствующей группе 247; Z - Общее количество уник.пользователей в гр.246, Т - Общее количество уник.пользователей в гр.247)\n",
    "\n",
    "В теле функции пропишем метод proportions_ztest(argument_1, argument_2), который будет рассчитывать pvalue.\n",
    "\n",
    "Приступим: выведем на экран датафрейм total_246_247:"
   ]
  },
  {
   "cell_type": "code",
   "execution_count": 45,
   "metadata": {},
   "outputs": [
    {
     "data": {
      "text/html": [
       "<div>\n",
       "<style scoped>\n",
       "    .dataframe tbody tr th:only-of-type {\n",
       "        vertical-align: middle;\n",
       "    }\n",
       "\n",
       "    .dataframe tbody tr th {\n",
       "        vertical-align: top;\n",
       "    }\n",
       "\n",
       "    .dataframe thead th {\n",
       "        text-align: right;\n",
       "    }\n",
       "</style>\n",
       "<table border=\"1\" class=\"dataframe\">\n",
       "  <thead>\n",
       "    <tr style=\"text-align: right;\">\n",
       "      <th></th>\n",
       "      <th>event_name</th>\n",
       "      <th>user_id_246</th>\n",
       "      <th>user_id_uniq_246</th>\n",
       "      <th>share_user_246</th>\n",
       "      <th>user_id_247</th>\n",
       "      <th>user_id_uniq_247</th>\n",
       "      <th>share_user_247</th>\n",
       "    </tr>\n",
       "  </thead>\n",
       "  <tbody>\n",
       "    <tr>\n",
       "      <th>0</th>\n",
       "      <td>MainScreenAppear</td>\n",
       "      <td>2450</td>\n",
       "      <td>2484</td>\n",
       "      <td>0.99</td>\n",
       "      <td>2476</td>\n",
       "      <td>2513</td>\n",
       "      <td>0.99</td>\n",
       "    </tr>\n",
       "    <tr>\n",
       "      <th>1</th>\n",
       "      <td>OffersScreenAppear</td>\n",
       "      <td>1542</td>\n",
       "      <td>2484</td>\n",
       "      <td>0.62</td>\n",
       "      <td>1520</td>\n",
       "      <td>2513</td>\n",
       "      <td>0.60</td>\n",
       "    </tr>\n",
       "    <tr>\n",
       "      <th>2</th>\n",
       "      <td>CartScreenAppear</td>\n",
       "      <td>1266</td>\n",
       "      <td>2484</td>\n",
       "      <td>0.51</td>\n",
       "      <td>1238</td>\n",
       "      <td>2513</td>\n",
       "      <td>0.49</td>\n",
       "    </tr>\n",
       "    <tr>\n",
       "      <th>3</th>\n",
       "      <td>PaymentScreenSuccessful</td>\n",
       "      <td>1200</td>\n",
       "      <td>2484</td>\n",
       "      <td>0.48</td>\n",
       "      <td>1158</td>\n",
       "      <td>2513</td>\n",
       "      <td>0.46</td>\n",
       "    </tr>\n",
       "    <tr>\n",
       "      <th>4</th>\n",
       "      <td>Tutorial</td>\n",
       "      <td>278</td>\n",
       "      <td>2484</td>\n",
       "      <td>0.11</td>\n",
       "      <td>283</td>\n",
       "      <td>2513</td>\n",
       "      <td>0.11</td>\n",
       "    </tr>\n",
       "  </tbody>\n",
       "</table>\n",
       "</div>"
      ],
      "text/plain": [
       "                event_name  user_id_246  user_id_uniq_246  share_user_246  \\\n",
       "0         MainScreenAppear         2450              2484            0.99   \n",
       "1       OffersScreenAppear         1542              2484            0.62   \n",
       "2         CartScreenAppear         1266              2484            0.51   \n",
       "3  PaymentScreenSuccessful         1200              2484            0.48   \n",
       "4                 Tutorial          278              2484            0.11   \n",
       "\n",
       "   user_id_247  user_id_uniq_247  share_user_247  \n",
       "0         2476              2513            0.99  \n",
       "1         1520              2513            0.60  \n",
       "2         1238              2513            0.49  \n",
       "3         1158              2513            0.46  \n",
       "4          283              2513            0.11  "
      ]
     },
     "execution_count": 45,
     "metadata": {},
     "output_type": "execute_result"
    }
   ],
   "source": [
    "total_246_247"
   ]
  },
  {
   "cell_type": "markdown",
   "metadata": {},
   "source": [
    "Создадим две переменные user_id_uniq_total_246 и user_id_uniq_total_247, которые передадим в argument_2 = [Z, T]:"
   ]
  },
  {
   "cell_type": "code",
   "execution_count": 46,
   "metadata": {},
   "outputs": [],
   "source": [
    "# Вычисляем количество уник.пользователей в гр.246:\n",
    "user_id_uniq_total_246 = log_246['user_id'].nunique()\n",
    "# Вычисляем количество уник.пользователей в гр.247:\n",
    "user_id_uniq_total_247 = log_247['user_id'].nunique()\n",
    "# Создаем список argument_2 = [Z, T] и передаем в него полученные данные:\n",
    "argument_2 = [user_id_uniq_total_246, user_id_uniq_total_247]"
   ]
  },
  {
   "cell_type": "markdown",
   "metadata": {},
   "source": [
    "Создадим столбец user_id_246_247, в котором объединим значения ячеек user_id_246 + user_id_247 (это будет argument_1 = [Х, У]):"
   ]
  },
  {
   "cell_type": "code",
   "execution_count": 47,
   "metadata": {},
   "outputs": [
    {
     "data": {
      "text/html": [
       "<div>\n",
       "<style scoped>\n",
       "    .dataframe tbody tr th:only-of-type {\n",
       "        vertical-align: middle;\n",
       "    }\n",
       "\n",
       "    .dataframe tbody tr th {\n",
       "        vertical-align: top;\n",
       "    }\n",
       "\n",
       "    .dataframe thead th {\n",
       "        text-align: right;\n",
       "    }\n",
       "</style>\n",
       "<table border=\"1\" class=\"dataframe\">\n",
       "  <thead>\n",
       "    <tr style=\"text-align: right;\">\n",
       "      <th></th>\n",
       "      <th>event_name</th>\n",
       "      <th>user_id_246</th>\n",
       "      <th>user_id_uniq_246</th>\n",
       "      <th>share_user_246</th>\n",
       "      <th>user_id_247</th>\n",
       "      <th>user_id_uniq_247</th>\n",
       "      <th>share_user_247</th>\n",
       "      <th>user_id_246_247</th>\n",
       "    </tr>\n",
       "  </thead>\n",
       "  <tbody>\n",
       "    <tr>\n",
       "      <th>0</th>\n",
       "      <td>MainScreenAppear</td>\n",
       "      <td>2450</td>\n",
       "      <td>2484</td>\n",
       "      <td>0.99</td>\n",
       "      <td>2476</td>\n",
       "      <td>2513</td>\n",
       "      <td>0.99</td>\n",
       "      <td>2450, 2476</td>\n",
       "    </tr>\n",
       "    <tr>\n",
       "      <th>1</th>\n",
       "      <td>OffersScreenAppear</td>\n",
       "      <td>1542</td>\n",
       "      <td>2484</td>\n",
       "      <td>0.62</td>\n",
       "      <td>1520</td>\n",
       "      <td>2513</td>\n",
       "      <td>0.60</td>\n",
       "      <td>1542, 1520</td>\n",
       "    </tr>\n",
       "    <tr>\n",
       "      <th>2</th>\n",
       "      <td>CartScreenAppear</td>\n",
       "      <td>1266</td>\n",
       "      <td>2484</td>\n",
       "      <td>0.51</td>\n",
       "      <td>1238</td>\n",
       "      <td>2513</td>\n",
       "      <td>0.49</td>\n",
       "      <td>1266, 1238</td>\n",
       "    </tr>\n",
       "    <tr>\n",
       "      <th>3</th>\n",
       "      <td>PaymentScreenSuccessful</td>\n",
       "      <td>1200</td>\n",
       "      <td>2484</td>\n",
       "      <td>0.48</td>\n",
       "      <td>1158</td>\n",
       "      <td>2513</td>\n",
       "      <td>0.46</td>\n",
       "      <td>1200, 1158</td>\n",
       "    </tr>\n",
       "    <tr>\n",
       "      <th>4</th>\n",
       "      <td>Tutorial</td>\n",
       "      <td>278</td>\n",
       "      <td>2484</td>\n",
       "      <td>0.11</td>\n",
       "      <td>283</td>\n",
       "      <td>2513</td>\n",
       "      <td>0.11</td>\n",
       "      <td>278, 283</td>\n",
       "    </tr>\n",
       "  </tbody>\n",
       "</table>\n",
       "</div>"
      ],
      "text/plain": [
       "                event_name  user_id_246  user_id_uniq_246  share_user_246  \\\n",
       "0         MainScreenAppear         2450              2484            0.99   \n",
       "1       OffersScreenAppear         1542              2484            0.62   \n",
       "2         CartScreenAppear         1266              2484            0.51   \n",
       "3  PaymentScreenSuccessful         1200              2484            0.48   \n",
       "4                 Tutorial          278              2484            0.11   \n",
       "\n",
       "   user_id_247  user_id_uniq_247  share_user_247 user_id_246_247  \n",
       "0         2476              2513            0.99      2450, 2476  \n",
       "1         1520              2513            0.60      1542, 1520  \n",
       "2         1238              2513            0.49      1266, 1238  \n",
       "3         1158              2513            0.46      1200, 1158  \n",
       "4          283              2513            0.11        278, 283  "
      ]
     },
     "execution_count": 47,
     "metadata": {},
     "output_type": "execute_result"
    }
   ],
   "source": [
    "# Переводим числа в строковый формат и объединяем их:\n",
    "total_246_247 = total_246_247\\\n",
    ".assign(user_id_246_247 = total_246_247['user_id_246'].astype(str) + ', ' + total_246_247['user_id_247'].astype(str))\n",
    "total_246_247"
   ]
  },
  {
   "cell_type": "markdown",
   "metadata": {},
   "source": [
    "Создаем функцию:"
   ]
  },
  {
   "cell_type": "code",
   "execution_count": 48,
   "metadata": {},
   "outputs": [],
   "source": [
    "def proportion_test(argument_1:list, argument_2:list):\n",
    "    from statsmodels.stats.proportion import proportions_ztest\n",
    "    alpha = 0.05\n",
    "    stat, pval = proportions_ztest(argument_1, argument_2)\n",
    "    print('p-значение:', pval)\n",
    "    if(pval < alpha):\n",
    "        print('Отвергаем нулевую гипотезу: между долями есть значимая разница')\n",
    "    else:\n",
    "        print('Не получилось отвергнуть нулевую гипотезу, нет оснований считать доли разными')\n",
    "    "
   ]
  },
  {
   "cell_type": "markdown",
   "metadata": {},
   "source": [
    "2. Применяем функцию proportion_test к данным столбца user_id_246_247 датафрейма total_246_247:"
   ]
  },
  {
   "cell_type": "code",
   "execution_count": 49,
   "metadata": {},
   "outputs": [
    {
     "name": "stdout",
     "output_type": "stream",
     "text": [
      "p-значение: 0.7570597232046099\n",
      "Не получилось отвергнуть нулевую гипотезу, нет оснований считать доли разными\n",
      "p-значение: 0.2480954578522181\n",
      "Не получилось отвергнуть нулевую гипотезу, нет оснований считать доли разными\n",
      "p-значение: 0.22883372237997213\n",
      "Не получилось отвергнуть нулевую гипотезу, нет оснований считать доли разными\n",
      "p-значение: 0.11456679313141847\n",
      "Не получилось отвергнуть нулевую гипотезу, нет оснований считать доли разными\n",
      "p-значение: 0.9376996189257114\n",
      "Не получилось отвергнуть нулевую гипотезу, нет оснований считать доли разными\n"
     ]
    }
   ],
   "source": [
    "# Передаем столбец в переменную:\n",
    "column = total_246_247['user_id_246_247'].unique()\n",
    "# Для каждой значения столбца 'user_id_246_247' датафрейма total_246_247: (на входе строка \"str\")\n",
    "for i in column:\n",
    "    i = i.split(',') # Разделим значения \"str\" в каждой ячейке с помощью запятой и перезапишем результат\n",
    "    i = list(map(int, i)) # \"str\" переведем в число \"int\" и вернем объект список (list)\n",
    "    proportion_test(i, argument_2) # Применяем функцию proportion_test(argument_1:list, argument_2:list)\n"
   ]
  },
  {
   "cell_type": "markdown",
   "metadata": {},
   "source": [
    "Во всех случаях получили pvalue > 0.05. Поэтому у нас нет оснований, чтобы отвергнуть нулевую гипотезу.  Предполагаем, что доля пользователей в каждом из событии группы 246 не отличается от доли пользователей в соответствующем событии группы 247. А это значит, мы проверили критерии №2: различие ключевых метрик по группам не имеет стат.значимости."
   ]
  },
  {
   "cell_type": "markdown",
   "metadata": {},
   "source": [
    "### Вывод: \n",
    "\n"
   ]
  },
  {
   "cell_type": "markdown",
   "metadata": {},
   "source": [
    "Было установлено, что: \n",
    "\n",
    "1) различие ключевых метрик групп 246 и 247 не имеет статистической значимости.\n",
    "\n",
    "2) количество уникальных пользователей двух групп не имеет значимых различий.\n",
    "\n",
    "Это значит, что были выполнены критерии успешности А/А - теста. Поэтому можем сказать, что разбиение на группы работает корректно."
   ]
  },
  {
   "cell_type": "markdown",
   "metadata": {},
   "source": [
    "3. Рассмотрим распределение количества уникальных пользователей в экспериментальной группе 248(в группе с измененным шрифтом):\n",
    "\n",
    "Выполнять действия будем такие же как и для 246 и 247.\n"
   ]
  },
  {
   "cell_type": "code",
   "execution_count": 50,
   "metadata": {},
   "outputs": [
    {
     "data": {
      "text/html": [
       "<div>\n",
       "<style scoped>\n",
       "    .dataframe tbody tr th:only-of-type {\n",
       "        vertical-align: middle;\n",
       "    }\n",
       "\n",
       "    .dataframe tbody tr th {\n",
       "        vertical-align: top;\n",
       "    }\n",
       "\n",
       "    .dataframe thead th {\n",
       "        text-align: right;\n",
       "    }\n",
       "</style>\n",
       "<table border=\"1\" class=\"dataframe\">\n",
       "  <thead>\n",
       "    <tr style=\"text-align: right;\">\n",
       "      <th></th>\n",
       "      <th>event_name</th>\n",
       "      <th>user_id_248</th>\n",
       "      <th>user_id_uniq_248</th>\n",
       "      <th>share_user_248</th>\n",
       "    </tr>\n",
       "  </thead>\n",
       "  <tbody>\n",
       "    <tr>\n",
       "      <th>0</th>\n",
       "      <td>MainScreenAppear</td>\n",
       "      <td>2493</td>\n",
       "      <td>2537</td>\n",
       "      <td>0.98</td>\n",
       "    </tr>\n",
       "    <tr>\n",
       "      <th>1</th>\n",
       "      <td>OffersScreenAppear</td>\n",
       "      <td>1531</td>\n",
       "      <td>2537</td>\n",
       "      <td>0.60</td>\n",
       "    </tr>\n",
       "    <tr>\n",
       "      <th>2</th>\n",
       "      <td>CartScreenAppear</td>\n",
       "      <td>1230</td>\n",
       "      <td>2537</td>\n",
       "      <td>0.48</td>\n",
       "    </tr>\n",
       "    <tr>\n",
       "      <th>3</th>\n",
       "      <td>PaymentScreenSuccessful</td>\n",
       "      <td>1181</td>\n",
       "      <td>2537</td>\n",
       "      <td>0.47</td>\n",
       "    </tr>\n",
       "    <tr>\n",
       "      <th>4</th>\n",
       "      <td>Tutorial</td>\n",
       "      <td>279</td>\n",
       "      <td>2537</td>\n",
       "      <td>0.11</td>\n",
       "    </tr>\n",
       "  </tbody>\n",
       "</table>\n",
       "</div>"
      ],
      "text/plain": [
       "                event_name  user_id_248  user_id_uniq_248  share_user_248\n",
       "0         MainScreenAppear         2493              2537            0.98\n",
       "1       OffersScreenAppear         1531              2537            0.60\n",
       "2         CartScreenAppear         1230              2537            0.48\n",
       "3  PaymentScreenSuccessful         1181              2537            0.47\n",
       "4                 Tutorial          279              2537            0.11"
      ]
     },
     "execution_count": 50,
     "metadata": {},
     "output_type": "execute_result"
    }
   ],
   "source": [
    "#Отфильтруем данные по соответствующей группе и сохраним в переменную:\n",
    "log_248 = log_new.query('exp_id == \"248\"').copy()\n",
    "#Строим воронку событий для каждой группы:\n",
    "# Группируем данные по событию, находим количество уник.польз., сортируем по убыванию:\n",
    "rezults_248 = log_248.groupby('event_name').agg({'user_id': 'nunique'})\\\n",
    "              .sort_values(by = 'user_id', ascending = False).reset_index()\n",
    "# Добавляем столбец с общим количеством уник.пользователей в группе:\n",
    "rezults_248['user_id_uniq'] = log_248['user_id'].nunique()\n",
    "# Находим долю пользователей от общего числа уник. пользователей в группе, результат сохраняем в новый столбец\n",
    "# И округляем его до 2 знаков после запятой:\n",
    "rezults_248['share_user'] = round(rezults_248['user_id'] / rezults_248['user_id_uniq'], 2)\n",
    "# Переименуем названия столбцов для ясности:\n",
    "rezults_248 = rezults_248\\\n",
    ".rename(columns = ({'user_id': 'user_id_248', 'user_id_uniq': 'user_id_uniq_248', 'share_user': 'share_user_248'}))\n",
    "# Покажем результат:\n",
    "rezults_248\n"
   ]
  },
  {
   "cell_type": "markdown",
   "metadata": {},
   "source": [
    "Проверим является ли распределение количества уник.пользователей в гр.248 нормальным.\n",
    "Построим Q-Q plot:\n"
   ]
  },
  {
   "cell_type": "code",
   "execution_count": 51,
   "metadata": {},
   "outputs": [
    {
     "data": {
      "image/png": "[encoded data removed]",
      "text/plain": [
       "<Figure size 1080x720 with 1 Axes>"
      ]
     },
     "metadata": {},
     "output_type": "display_data"
    }
   ],
   "source": [
    "log_248['time_routed'] = log_248['event_time_new'].dt.round('1H')\n",
    "from scipy import stats \n",
    "plt.figure(figsize = (15,10))\n",
    "# Группируем данные гр.248 по столбцу с округленной датой до часа и вычисляем количество уник. пользователей в час:\n",
    "# Строим Q-Q plot:\n",
    "stats.probplot(log_248.groupby('time_routed')['user_id'].nunique() ,plot = plt)\n",
    "plt.title('Количество уникальных пользователей в 248')\n",
    "plt.show()"
   ]
  },
  {
   "cell_type": "markdown",
   "metadata": {},
   "source": [
    "Выборка количества уникальных пользователей в группе 248  распределена не нормально:  видим, что  по правую сторону от 0 (0 - середина распределения) точки сначала уползают вверх от прямой линий, а затем сильно отклоняются вниз. При этом с левой стороны все точки сначала сильно уходят вниз, а затем вверх.\n",
    "\n",
    "Подтвердим полученный вывод с помощью теста Шапиро:\n"
   ]
  },
  {
   "cell_type": "code",
   "execution_count": 52,
   "metadata": {},
   "outputs": [
    {
     "name": "stdout",
     "output_type": "stream",
     "text": [
      "p-значение: 7.232356491471137e-09\n",
      "Отвергаем нулевую гипотезу: распределение не нормально\n"
     ]
    }
   ],
   "source": [
    "# Используем метод st.shapiro():\n",
    "from scipy import stats as st\n",
    "alpha = .05\n",
    "results = st.shapiro(log_248.groupby('time_routed')['user_id'].nunique())\n",
    "p_value = results[1]\n",
    "print('p-значение:', p_value)\n",
    "if (p_value < alpha):\n",
    "    print('Отвергаем нулевую гипотезу: распределение не нормально')\n",
    "else:\n",
    "    print('Не получилось отвергнуть нулевую гипотезу, всё нормально')\n"
   ]
  },
  {
   "cell_type": "markdown",
   "metadata": {},
   "source": [
    "p-значение: 7.232356491471137e-09 < 0.05, поэтому отклоняем нулевую гипотезу. И предполагаем, что распределение значимо отличается от нормального."
   ]
  },
  {
   "cell_type": "markdown",
   "metadata": {},
   "source": [
    "Так как не было выявлено статистически значимых различий между контрольными группами 246 и 247 (при pvalue: 0.16536363787420583 > 0.05), то будем считать группы эквивалентными. \n",
    "\n",
    "Поэтому сравнивать 248 группу (с новым шрифтом) будем с группой 247 (со старым шрифтом): \n",
    "\n",
    "проверим есть ли значимые различия между количеством уникальных пользователей в группах; \n",
    "\n",
    "между ключевыми метриками соответствующих событий.\n",
    "\n",
    "Соединим данные 247 и 248 группы вместе:"
   ]
  },
  {
   "cell_type": "code",
   "execution_count": 53,
   "metadata": {},
   "outputs": [
    {
     "data": {
      "text/html": [
       "<div>\n",
       "<style scoped>\n",
       "    .dataframe tbody tr th:only-of-type {\n",
       "        vertical-align: middle;\n",
       "    }\n",
       "\n",
       "    .dataframe tbody tr th {\n",
       "        vertical-align: top;\n",
       "    }\n",
       "\n",
       "    .dataframe thead th {\n",
       "        text-align: right;\n",
       "    }\n",
       "</style>\n",
       "<table border=\"1\" class=\"dataframe\">\n",
       "  <thead>\n",
       "    <tr style=\"text-align: right;\">\n",
       "      <th></th>\n",
       "      <th>event_name</th>\n",
       "      <th>user_id_248</th>\n",
       "      <th>user_id_uniq_248</th>\n",
       "      <th>share_user_248</th>\n",
       "      <th>user_id_247</th>\n",
       "      <th>user_id_uniq_247</th>\n",
       "      <th>share_user_247</th>\n",
       "    </tr>\n",
       "  </thead>\n",
       "  <tbody>\n",
       "    <tr>\n",
       "      <th>0</th>\n",
       "      <td>MainScreenAppear</td>\n",
       "      <td>2493</td>\n",
       "      <td>2537</td>\n",
       "      <td>0.98</td>\n",
       "      <td>2476</td>\n",
       "      <td>2513</td>\n",
       "      <td>0.99</td>\n",
       "    </tr>\n",
       "    <tr>\n",
       "      <th>1</th>\n",
       "      <td>OffersScreenAppear</td>\n",
       "      <td>1531</td>\n",
       "      <td>2537</td>\n",
       "      <td>0.60</td>\n",
       "      <td>1520</td>\n",
       "      <td>2513</td>\n",
       "      <td>0.60</td>\n",
       "    </tr>\n",
       "    <tr>\n",
       "      <th>2</th>\n",
       "      <td>CartScreenAppear</td>\n",
       "      <td>1230</td>\n",
       "      <td>2537</td>\n",
       "      <td>0.48</td>\n",
       "      <td>1238</td>\n",
       "      <td>2513</td>\n",
       "      <td>0.49</td>\n",
       "    </tr>\n",
       "    <tr>\n",
       "      <th>3</th>\n",
       "      <td>PaymentScreenSuccessful</td>\n",
       "      <td>1181</td>\n",
       "      <td>2537</td>\n",
       "      <td>0.47</td>\n",
       "      <td>1158</td>\n",
       "      <td>2513</td>\n",
       "      <td>0.46</td>\n",
       "    </tr>\n",
       "    <tr>\n",
       "      <th>4</th>\n",
       "      <td>Tutorial</td>\n",
       "      <td>279</td>\n",
       "      <td>2537</td>\n",
       "      <td>0.11</td>\n",
       "      <td>283</td>\n",
       "      <td>2513</td>\n",
       "      <td>0.11</td>\n",
       "    </tr>\n",
       "  </tbody>\n",
       "</table>\n",
       "</div>"
      ],
      "text/plain": [
       "                event_name  user_id_248  user_id_uniq_248  share_user_248  \\\n",
       "0         MainScreenAppear         2493              2537            0.98   \n",
       "1       OffersScreenAppear         1531              2537            0.60   \n",
       "2         CartScreenAppear         1230              2537            0.48   \n",
       "3  PaymentScreenSuccessful         1181              2537            0.47   \n",
       "4                 Tutorial          279              2537            0.11   \n",
       "\n",
       "   user_id_247  user_id_uniq_247  share_user_247  \n",
       "0         2476              2513            0.99  \n",
       "1         1520              2513            0.60  \n",
       "2         1238              2513            0.49  \n",
       "3         1158              2513            0.46  \n",
       "4          283              2513            0.11  "
      ]
     },
     "execution_count": 53,
     "metadata": {},
     "output_type": "execute_result"
    }
   ],
   "source": [
    "# для соединения таблиц применим merge():\n",
    "total_247_248 = rezults_248.merge(rezults_247)\n",
    "total_247_248"
   ]
  },
  {
   "cell_type": "code",
   "execution_count": 54,
   "metadata": {},
   "outputs": [
    {
     "data": {
      "text/html": [
       "<div>\n",
       "<style scoped>\n",
       "    .dataframe tbody tr th:only-of-type {\n",
       "        vertical-align: middle;\n",
       "    }\n",
       "\n",
       "    .dataframe tbody tr th {\n",
       "        vertical-align: top;\n",
       "    }\n",
       "\n",
       "    .dataframe thead th {\n",
       "        text-align: right;\n",
       "    }\n",
       "</style>\n",
       "<table border=\"1\" class=\"dataframe\">\n",
       "  <thead>\n",
       "    <tr style=\"text-align: right;\">\n",
       "      <th></th>\n",
       "      <th>event_name</th>\n",
       "      <th>user_id_248</th>\n",
       "      <th>user_id_uniq_248</th>\n",
       "      <th>share_user_248</th>\n",
       "      <th>user_id_247</th>\n",
       "      <th>user_id_uniq_247</th>\n",
       "      <th>share_user_247</th>\n",
       "      <th>user_id_247_248</th>\n",
       "    </tr>\n",
       "  </thead>\n",
       "  <tbody>\n",
       "    <tr>\n",
       "      <th>0</th>\n",
       "      <td>MainScreenAppear</td>\n",
       "      <td>2493</td>\n",
       "      <td>2537</td>\n",
       "      <td>0.98</td>\n",
       "      <td>2476</td>\n",
       "      <td>2513</td>\n",
       "      <td>0.99</td>\n",
       "      <td>2493, 2476</td>\n",
       "    </tr>\n",
       "    <tr>\n",
       "      <th>1</th>\n",
       "      <td>OffersScreenAppear</td>\n",
       "      <td>1531</td>\n",
       "      <td>2537</td>\n",
       "      <td>0.60</td>\n",
       "      <td>1520</td>\n",
       "      <td>2513</td>\n",
       "      <td>0.60</td>\n",
       "      <td>1531, 1520</td>\n",
       "    </tr>\n",
       "    <tr>\n",
       "      <th>2</th>\n",
       "      <td>CartScreenAppear</td>\n",
       "      <td>1230</td>\n",
       "      <td>2537</td>\n",
       "      <td>0.48</td>\n",
       "      <td>1238</td>\n",
       "      <td>2513</td>\n",
       "      <td>0.49</td>\n",
       "      <td>1230, 1238</td>\n",
       "    </tr>\n",
       "    <tr>\n",
       "      <th>3</th>\n",
       "      <td>PaymentScreenSuccessful</td>\n",
       "      <td>1181</td>\n",
       "      <td>2537</td>\n",
       "      <td>0.47</td>\n",
       "      <td>1158</td>\n",
       "      <td>2513</td>\n",
       "      <td>0.46</td>\n",
       "      <td>1181, 1158</td>\n",
       "    </tr>\n",
       "    <tr>\n",
       "      <th>4</th>\n",
       "      <td>Tutorial</td>\n",
       "      <td>279</td>\n",
       "      <td>2537</td>\n",
       "      <td>0.11</td>\n",
       "      <td>283</td>\n",
       "      <td>2513</td>\n",
       "      <td>0.11</td>\n",
       "      <td>279, 283</td>\n",
       "    </tr>\n",
       "  </tbody>\n",
       "</table>\n",
       "</div>"
      ],
      "text/plain": [
       "                event_name  user_id_248  user_id_uniq_248  share_user_248  \\\n",
       "0         MainScreenAppear         2493              2537            0.98   \n",
       "1       OffersScreenAppear         1531              2537            0.60   \n",
       "2         CartScreenAppear         1230              2537            0.48   \n",
       "3  PaymentScreenSuccessful         1181              2537            0.47   \n",
       "4                 Tutorial          279              2537            0.11   \n",
       "\n",
       "   user_id_247  user_id_uniq_247  share_user_247 user_id_247_248  \n",
       "0         2476              2513            0.99      2493, 2476  \n",
       "1         1520              2513            0.60      1531, 1520  \n",
       "2         1238              2513            0.49      1230, 1238  \n",
       "3         1158              2513            0.46      1181, 1158  \n",
       "4          283              2513            0.11        279, 283  "
      ]
     },
     "execution_count": 54,
     "metadata": {},
     "output_type": "execute_result"
    }
   ],
   "source": [
    "# Переводим числа в строковый формат и объединяем их, результат сохраняем в новом столбце:\n",
    "total_247_248 = total_247_248\\\n",
    ".assign(user_id_247_248 = total_247_248['user_id_248'].astype(str) + ', ' + total_247_248['user_id_247'].astype(str))\n",
    "total_247_248"
   ]
  },
  {
   "cell_type": "markdown",
   "metadata": {},
   "source": [
    "Проверяем есть ли значимые различия между количеством уникальных пользователей в группах 248 и 247. \n",
    "\n",
    "Распределения количества уникальных пользователей в группах 248 и 247 мультимодальные, применим для проверки Z-тест:\n",
    "\n",
    "statsmodels.stats.proportion.proportions_ztest(a_users, all_participants, value = 0.5), \n",
    "\n",
    "где a_users - количество уникальных пользователей в группе А (число), all_participants - количество всех уникальных участников теста (число),  value  - ожидаемый уровень (мы ожидаем, что пользователи в группе А составят 50%).\n",
    "\n",
    "Учтем, что группа А = группе 247. \n",
    "\n",
    "Нулевая гипотеза: средние значения в двух группах не отличаются.\n",
    "\n",
    "Альтернативная гипотеза: есть значимые различия между средними значениями двух групп.\n",
    "\n",
    "Критический уровень значимости: 0.05.\n",
    "\n"
   ]
  },
  {
   "cell_type": "code",
   "execution_count": 55,
   "metadata": {},
   "outputs": [
    {
     "name": "stdout",
     "output_type": "stream",
     "text": [
      "Количество уникальных пользователей в группе 247: 2513\n",
      "Количество уникальных пользователей в группе 248: 2537\n",
      "Общее количество уникальных пользователей в групах 247 и 248: 5050\n"
     ]
    }
   ],
   "source": [
    "# Вычислим число уникальных пользователей в группе 248, 247 и найдем их сумму:\n",
    "group_247 = log_new.query('exp_id == \"247\"')['user_id'].nunique()\n",
    "group_248 = log_new.query('exp_id == \"248\"')['user_id'].nunique()\n",
    "group_247_248 = group_247 + group_248\n",
    "print('Количество уникальных пользователей в группе 247:', group_247)\n",
    "print('Количество уникальных пользователей в группе 248:', group_248)\n",
    "print('Общее количество уникальных пользователей в групах 247 и 248:', group_247_248)\n"
   ]
  },
  {
   "cell_type": "markdown",
   "metadata": {},
   "source": [
    "Применим statsmodels.stats.proportion.proportions_ztest(a_users, all_participants, value = 0.5):"
   ]
  },
  {
   "cell_type": "code",
   "execution_count": 56,
   "metadata": {},
   "outputs": [
    {
     "name": "stdout",
     "output_type": "stream",
     "text": [
      "p-значение: 0.7355661860935975\n",
      "Не получилось отвергнуть нулевую гипотезу, вывод о различий сделать нельзя\n"
     ]
    }
   ],
   "source": [
    "from statsmodels.stats.proportion import proportions_ztest\n",
    "alpha = .05\n",
    "\n",
    "stat, pval = proportions_ztest(2513, 5050, value = 0.5)\n",
    "print('p-значение:', pval)\n",
    "\n",
    "if(pval < alpha):\n",
    "    print('Отвергаем нулевую гипотезу: разница статистически значима')\n",
    "else:\n",
    "    print('Не получилось отвергнуть нулевую гипотезу, вывод о различий сделать нельзя')\n"
   ]
  },
  {
   "cell_type": "markdown",
   "metadata": {},
   "source": [
    "p-значение: 0.7355661860935975 > 0.05, поэтому не получилось отвергнуть нулевую гипотезу.\n",
    "\n",
    "Предполагаем, что значимых различий между количеством уникальных пользователей в группах 248 и 247 нет. \n",
    "\n",
    "Проверяем есть ли значимые различия между ключевыми метриками соответствующих событий: долями уникальных пользователей в событий от общего числа уник.пользователей в группе.\n",
    "\n",
    "Воспользуемся гипотезой о равенстве долей.\n",
    "\n",
    "Сформулируем нулевую гипотезу: доля пользователей в каждом из событии группы 248 не отличается от доли пользователей в соответствующем событии группы 247.\n",
    "\n",
    "Альтернативная гипотеза: Доли в соответствующих событиях различны.\n",
    "\n",
    "Критический уровень значимости: 0.05.\n",
    "\n",
    "Применим к данным столбца user_id_247_248 датафрейма total_247_248 созданную функцию proportion_test(argument_1:list, argument_2:list)"
   ]
  },
  {
   "cell_type": "code",
   "execution_count": 57,
   "metadata": {},
   "outputs": [
    {
     "name": "stdout",
     "output_type": "stream",
     "text": [
      "p-значение: 0.45870536166215137\n",
      "Не получилось отвергнуть нулевую гипотезу, нет оснований считать доли разными\n",
      "p-значение: 0.919781783059226\n",
      "Не получилось отвергнуть нулевую гипотезу, нет оснований считать доли разными\n",
      "p-значение: 0.5786197879539782\n",
      "Не получилось отвергнуть нулевую гипотезу, нет оснований считать доли разными\n",
      "p-значение: 0.7373415053803964\n",
      "Не получилось отвергнуть нулевую гипотезу, нет оснований считать доли разными\n",
      "p-значение: 0.7653239224745011\n",
      "Не получилось отвергнуть нулевую гипотезу, нет оснований считать доли разными\n"
     ]
    }
   ],
   "source": [
    "# Передаем в argument_2 общее количество уник.пользователей:\n",
    "argument_2 = [total_247_248['user_id_uniq_248'][0], total_247_248['user_id_uniq_247'][0]]\n",
    "# Передаем данные столбеца  user_id_247_248 датафрейма total_247_248 в переменную:\n",
    "column = total_247_248['user_id_247_248'].unique()\n",
    "# Для каждой значения столбца 'user_id_248_247' датафрейма total_248_247: (на входе строка \"str\")\n",
    "for i in column:\n",
    "    i = i.split(',') # Разделим значения \"str\" в каждой ячейке с помощью запятой и перезапишем результат\n",
    "    i = list(map(int, i)) # \"str\" переведем в число \"int\" и вернем объект список (list)\n",
    "    proportion_test(i, argument_2) # Применяем функцию proportion_test(argument_1:list, argument_2:list)"
   ]
  },
  {
   "cell_type": "markdown",
   "metadata": {},
   "source": [
    "Во всех случаях получили pvalue > 0.05. Поэтому у нас нет оснований, чтобы отвергнуть нулевую гипотезу.  А это значит, что значимых различий между долями пользователей в каждом из событии групп 248 и 247 нет."
   ]
  },
  {
   "cell_type": "markdown",
   "metadata": {},
   "source": [
    "4. При проверке гипотез выше был выбран критический уровень значимости: 0.05. Всего было проведено 10 проверок на сравнение долей соответствующих событий, 2 проверки на сравнение среднего количества уникальных пользователей в двух группах А/В - теста и А/А-теста. И 3 теста Шапиро. Получается на одних и тех же данных было проведено 15 проверок. Так как с каждой новой проверкой гипотезы растет вероятность ошибки первого рода -  применим к критическому уровню значимости поправку Бонферрони. \n",
    "\n",
    "Исходя из поправки Бонферрони к уровню значимости:\n",
    "\n",
    "bonferroni_alpha = (alpha / 15) = (0.05 / 15) \n",
    "\n",
    "Перепроверим уже выполненные тесты  и учтем bonferroni_alpha:"
   ]
  },
  {
   "cell_type": "code",
   "execution_count": 58,
   "metadata": {},
   "outputs": [
    {
     "name": "stdout",
     "output_type": "stream",
     "text": [
      "bonferroni_alpha =  0.0033333333333333335\n"
     ]
    }
   ],
   "source": [
    "# Вычислим bonferroni_alpha:\n",
    "bonferroni_alpha = (0.05 / 15) \n",
    "print('bonferroni_alpha = ', bonferroni_alpha)"
   ]
  },
  {
   "cell_type": "markdown",
   "metadata": {},
   "source": [
    "1) Тесты Шапиро:\n",
    "\n",
    "Проверка гипотезы о том, что распределения количества уникальных пользователей в группах 246, 247, 248 значимо отличаются от нормального:\n",
    "\n",
    "Создадим функцию, которая будет рассчитывать p_value, в аргумент которой будем передавать соответствующее распределение:"
   ]
  },
  {
   "cell_type": "code",
   "execution_count": 59,
   "metadata": {},
   "outputs": [],
   "source": [
    "def test_shapiro(data):\n",
    "    # Используем метод st.shapiro():\n",
    "    from scipy import stats as st\n",
    "# Изменяем критический уровень значимости на bonferroni_alpha:\n",
    "    alpha = .05\n",
    "    bonferroni_alpha = 0.05 / 15 \n",
    "    results = st.shapiro(data)\n",
    "    p_value = results[1]\n",
    "    print('p-значение:', p_value)\n",
    "    if (p_value < bonferroni_alpha):\n",
    "        print('Отвергаем нулевую гипотезу: распределение не нормально')\n",
    "    else:\n",
    "        print('Не получилось отвергнуть нулевую гипотезу, всё нормально')"
   ]
  },
  {
   "cell_type": "markdown",
   "metadata": {},
   "source": [
    "Применим функцию test_shapiro и результат выведем на экран:"
   ]
  },
  {
   "cell_type": "code",
   "execution_count": 60,
   "metadata": {},
   "outputs": [
    {
     "name": "stdout",
     "output_type": "stream",
     "text": [
      "Для 246:\n",
      "p-значение: 2.6383789375472588e-08\n",
      "Отвергаем нулевую гипотезу: распределение не нормально\n",
      "Для 247:\n",
      "p-значение: 3.6822800808522516e-08\n",
      "Отвергаем нулевую гипотезу: распределение не нормально\n",
      "Для 248:\n",
      "p-значение: 7.232356491471137e-09\n",
      "Отвергаем нулевую гипотезу: распределение не нормально\n"
     ]
    }
   ],
   "source": [
    "print('Для 246:')\n",
    "test_shapiro(log_246.groupby('time_routed')['user_id'].nunique())\n",
    "print('Для 247:')\n",
    "test_shapiro(log_247.groupby('time_routed')['user_id'].nunique())\n",
    "print('Для 248:')\n",
    "test_shapiro(log_248.groupby('time_routed')['user_id'].nunique())"
   ]
  },
  {
   "cell_type": "markdown",
   "metadata": {},
   "source": [
    "2) z-тесты на проверку о том, что средние значения в группах: а) 246 и 247; б) 247 и 248 значимо не отличаются:"
   ]
  },
  {
   "cell_type": "markdown",
   "metadata": {},
   "source": [
    "Создадим функцию, которая будет рассчитывать p_value, в аргумент которой будем передавать: a_users - количество уникальных пользователей в группе А (число), all_participants - количество всех уникальных участников теста (число)"
   ]
  },
  {
   "cell_type": "code",
   "execution_count": 61,
   "metadata": {},
   "outputs": [],
   "source": [
    "def test_z(a_users, all_participants):\n",
    "    from statsmodels.stats.proportion import proportions_ztest\n",
    "    alpha = .05\n",
    "    bonferroni_alpha = 0.05 / 15\n",
    "\n",
    "    stat, pval = proportions_ztest(a_users, all_participants, value = 0.5)\n",
    "    print('p-значение:', pval)\n",
    "\n",
    "    if(pval < bonferroni_alpha):\n",
    "        print('Отвергаем нулевую гипотезу: разница статистически значима')\n",
    "    else:\n",
    "        print('Не получилось отвергнуть нулевую гипотезу, вывод о различий сделать нельзя')"
   ]
  },
  {
   "cell_type": "markdown",
   "metadata": {},
   "source": [
    "Применим функцию test_z и результат выведем на экран:\n"
   ]
  },
  {
   "cell_type": "code",
   "execution_count": 62,
   "metadata": {},
   "outputs": [
    {
     "name": "stdout",
     "output_type": "stream",
     "text": [
      "Для 246 и 247:\n",
      "p-значение: 0.6816211476613262\n",
      "Не получилось отвергнуть нулевую гипотезу, вывод о различий сделать нельзя\n",
      "Для 247 и 248:\n",
      "p-значение: 0.7355661860935975\n",
      "Не получилось отвергнуть нулевую гипотезу, вывод о различий сделать нельзя\n"
     ]
    }
   ],
   "source": [
    "print('Для 246 и 247:')\n",
    "test_z(2484, 4997)\n",
    "print('Для 247 и 248:')\n",
    "test_z(2513, 5050)"
   ]
  },
  {
   "cell_type": "markdown",
   "metadata": {},
   "source": [
    "3) Проверка гипотезы о том, что доля пользователей в каждом из событии групп: а) 246 и 247; б) 247 и 248 значимо не различаются."
   ]
  },
  {
   "cell_type": "markdown",
   "metadata": {},
   "source": [
    "Создаем функцию proportion_test_bonferroni(argument_1:list, argument_2:list), с помощью которой будем определять есть статистическая значимость между долями пользователей в каждом из событии групп: а) 246 и 247; б) 247 и 248 или нет. В качестве аргумента будем передавать два списка:\n",
    "\n",
    "argument_1 = [Х, У], argument_2 = [Z, T]\n",
    "\n",
    "(Х - количество уникальных пользователей в событий гр.246/247, Y - в соответствующей группе 247/248; Z - Общее количество уник.пользователей в гр.246/247, Т - Общее количество уник.пользователей в гр.247/248)\n",
    "\n",
    "В теле функции пропишем метод proportions_ztest(argument_1, argument_2), который будет рассчитывать pvalue."
   ]
  },
  {
   "cell_type": "code",
   "execution_count": 63,
   "metadata": {},
   "outputs": [],
   "source": [
    "# Принимает функция на вход в аргумент два списка:\n",
    "def proportion_test_bonferroni(argument_1:list, argument_2:list):\n",
    "    from statsmodels.stats.proportion import proportions_ztest\n",
    "    alpha = .05\n",
    "    bonferroni_alpha = 0.05 / 15\n",
    "    stat, pval = proportions_ztest(argument_1, argument_2)\n",
    "    print('p-значение:', pval)\n",
    "    if(pval < bonferroni_alpha):\n",
    "        print('Отвергаем нулевую гипотезу: между долями есть значимая разница')\n",
    "    else:\n",
    "        print('Не получилось отвергнуть нулевую гипотезу, нет оснований считать доли разными')"
   ]
  },
  {
   "cell_type": "markdown",
   "metadata": {},
   "source": [
    "Выведем на экран датафрейм total_246_247:"
   ]
  },
  {
   "cell_type": "code",
   "execution_count": 64,
   "metadata": {},
   "outputs": [
    {
     "data": {
      "text/html": [
       "<div>\n",
       "<style scoped>\n",
       "    .dataframe tbody tr th:only-of-type {\n",
       "        vertical-align: middle;\n",
       "    }\n",
       "\n",
       "    .dataframe tbody tr th {\n",
       "        vertical-align: top;\n",
       "    }\n",
       "\n",
       "    .dataframe thead th {\n",
       "        text-align: right;\n",
       "    }\n",
       "</style>\n",
       "<table border=\"1\" class=\"dataframe\">\n",
       "  <thead>\n",
       "    <tr style=\"text-align: right;\">\n",
       "      <th></th>\n",
       "      <th>event_name</th>\n",
       "      <th>user_id_246</th>\n",
       "      <th>user_id_uniq_246</th>\n",
       "      <th>share_user_246</th>\n",
       "      <th>user_id_247</th>\n",
       "      <th>user_id_uniq_247</th>\n",
       "      <th>share_user_247</th>\n",
       "      <th>user_id_246_247</th>\n",
       "    </tr>\n",
       "  </thead>\n",
       "  <tbody>\n",
       "    <tr>\n",
       "      <th>0</th>\n",
       "      <td>MainScreenAppear</td>\n",
       "      <td>2450</td>\n",
       "      <td>2484</td>\n",
       "      <td>0.99</td>\n",
       "      <td>2476</td>\n",
       "      <td>2513</td>\n",
       "      <td>0.99</td>\n",
       "      <td>2450, 2476</td>\n",
       "    </tr>\n",
       "    <tr>\n",
       "      <th>1</th>\n",
       "      <td>OffersScreenAppear</td>\n",
       "      <td>1542</td>\n",
       "      <td>2484</td>\n",
       "      <td>0.62</td>\n",
       "      <td>1520</td>\n",
       "      <td>2513</td>\n",
       "      <td>0.60</td>\n",
       "      <td>1542, 1520</td>\n",
       "    </tr>\n",
       "    <tr>\n",
       "      <th>2</th>\n",
       "      <td>CartScreenAppear</td>\n",
       "      <td>1266</td>\n",
       "      <td>2484</td>\n",
       "      <td>0.51</td>\n",
       "      <td>1238</td>\n",
       "      <td>2513</td>\n",
       "      <td>0.49</td>\n",
       "      <td>1266, 1238</td>\n",
       "    </tr>\n",
       "    <tr>\n",
       "      <th>3</th>\n",
       "      <td>PaymentScreenSuccessful</td>\n",
       "      <td>1200</td>\n",
       "      <td>2484</td>\n",
       "      <td>0.48</td>\n",
       "      <td>1158</td>\n",
       "      <td>2513</td>\n",
       "      <td>0.46</td>\n",
       "      <td>1200, 1158</td>\n",
       "    </tr>\n",
       "    <tr>\n",
       "      <th>4</th>\n",
       "      <td>Tutorial</td>\n",
       "      <td>278</td>\n",
       "      <td>2484</td>\n",
       "      <td>0.11</td>\n",
       "      <td>283</td>\n",
       "      <td>2513</td>\n",
       "      <td>0.11</td>\n",
       "      <td>278, 283</td>\n",
       "    </tr>\n",
       "  </tbody>\n",
       "</table>\n",
       "</div>"
      ],
      "text/plain": [
       "                event_name  user_id_246  user_id_uniq_246  share_user_246  \\\n",
       "0         MainScreenAppear         2450              2484            0.99   \n",
       "1       OffersScreenAppear         1542              2484            0.62   \n",
       "2         CartScreenAppear         1266              2484            0.51   \n",
       "3  PaymentScreenSuccessful         1200              2484            0.48   \n",
       "4                 Tutorial          278              2484            0.11   \n",
       "\n",
       "   user_id_247  user_id_uniq_247  share_user_247 user_id_246_247  \n",
       "0         2476              2513            0.99      2450, 2476  \n",
       "1         1520              2513            0.60      1542, 1520  \n",
       "2         1238              2513            0.49      1266, 1238  \n",
       "3         1158              2513            0.46      1200, 1158  \n",
       "4          283              2513            0.11        278, 283  "
      ]
     },
     "execution_count": 64,
     "metadata": {},
     "output_type": "execute_result"
    }
   ],
   "source": [
    "total_246_247"
   ]
  },
  {
   "cell_type": "markdown",
   "metadata": {},
   "source": [
    "Применяем функцию proportion_test_bonferroni к данным столбца user_id_246_247 датафрейма total_246_247:"
   ]
  },
  {
   "cell_type": "code",
   "execution_count": 65,
   "metadata": {},
   "outputs": [
    {
     "name": "stdout",
     "output_type": "stream",
     "text": [
      "p-значение: 0.7570597232046099\n",
      "Не получилось отвергнуть нулевую гипотезу, нет оснований считать доли разными\n",
      "p-значение: 0.2480954578522181\n",
      "Не получилось отвергнуть нулевую гипотезу, нет оснований считать доли разными\n",
      "p-значение: 0.22883372237997213\n",
      "Не получилось отвергнуть нулевую гипотезу, нет оснований считать доли разными\n",
      "p-значение: 0.11456679313141847\n",
      "Не получилось отвергнуть нулевую гипотезу, нет оснований считать доли разными\n",
      "p-значение: 0.9376996189257114\n",
      "Не получилось отвергнуть нулевую гипотезу, нет оснований считать доли разными\n"
     ]
    }
   ],
   "source": [
    "# Передаем столбец в переменную:\n",
    "argument_2 = [user_id_uniq_total_246, user_id_uniq_total_247]\n",
    "column = total_246_247['user_id_246_247'].unique()\n",
    "# Для каждой значения столбца 'user_id_246_247' датафрейма total_246_247: (на входе строка \"str\")\n",
    "for i in column:\n",
    "    i = i.split(',') # Разделим значения \"str\" в каждой ячейке с помощью запятой и перезапишем результат\n",
    "    i = list(map(int, i)) # \"str\" переведем в число \"int\" и вернем объект список (list)\n",
    "    proportion_test_bonferroni(i, argument_2) # Применяем функцию proportion_test(argument_1:list, argument_2:list)"
   ]
  },
  {
   "cell_type": "markdown",
   "metadata": {},
   "source": [
    "Выведем на экран датафрейм total_247_248:"
   ]
  },
  {
   "cell_type": "code",
   "execution_count": 66,
   "metadata": {},
   "outputs": [
    {
     "data": {
      "text/html": [
       "<div>\n",
       "<style scoped>\n",
       "    .dataframe tbody tr th:only-of-type {\n",
       "        vertical-align: middle;\n",
       "    }\n",
       "\n",
       "    .dataframe tbody tr th {\n",
       "        vertical-align: top;\n",
       "    }\n",
       "\n",
       "    .dataframe thead th {\n",
       "        text-align: right;\n",
       "    }\n",
       "</style>\n",
       "<table border=\"1\" class=\"dataframe\">\n",
       "  <thead>\n",
       "    <tr style=\"text-align: right;\">\n",
       "      <th></th>\n",
       "      <th>event_name</th>\n",
       "      <th>user_id_248</th>\n",
       "      <th>user_id_uniq_248</th>\n",
       "      <th>share_user_248</th>\n",
       "      <th>user_id_247</th>\n",
       "      <th>user_id_uniq_247</th>\n",
       "      <th>share_user_247</th>\n",
       "      <th>user_id_247_248</th>\n",
       "    </tr>\n",
       "  </thead>\n",
       "  <tbody>\n",
       "    <tr>\n",
       "      <th>0</th>\n",
       "      <td>MainScreenAppear</td>\n",
       "      <td>2493</td>\n",
       "      <td>2537</td>\n",
       "      <td>0.98</td>\n",
       "      <td>2476</td>\n",
       "      <td>2513</td>\n",
       "      <td>0.99</td>\n",
       "      <td>2493, 2476</td>\n",
       "    </tr>\n",
       "    <tr>\n",
       "      <th>1</th>\n",
       "      <td>OffersScreenAppear</td>\n",
       "      <td>1531</td>\n",
       "      <td>2537</td>\n",
       "      <td>0.60</td>\n",
       "      <td>1520</td>\n",
       "      <td>2513</td>\n",
       "      <td>0.60</td>\n",
       "      <td>1531, 1520</td>\n",
       "    </tr>\n",
       "    <tr>\n",
       "      <th>2</th>\n",
       "      <td>CartScreenAppear</td>\n",
       "      <td>1230</td>\n",
       "      <td>2537</td>\n",
       "      <td>0.48</td>\n",
       "      <td>1238</td>\n",
       "      <td>2513</td>\n",
       "      <td>0.49</td>\n",
       "      <td>1230, 1238</td>\n",
       "    </tr>\n",
       "    <tr>\n",
       "      <th>3</th>\n",
       "      <td>PaymentScreenSuccessful</td>\n",
       "      <td>1181</td>\n",
       "      <td>2537</td>\n",
       "      <td>0.47</td>\n",
       "      <td>1158</td>\n",
       "      <td>2513</td>\n",
       "      <td>0.46</td>\n",
       "      <td>1181, 1158</td>\n",
       "    </tr>\n",
       "    <tr>\n",
       "      <th>4</th>\n",
       "      <td>Tutorial</td>\n",
       "      <td>279</td>\n",
       "      <td>2537</td>\n",
       "      <td>0.11</td>\n",
       "      <td>283</td>\n",
       "      <td>2513</td>\n",
       "      <td>0.11</td>\n",
       "      <td>279, 283</td>\n",
       "    </tr>\n",
       "  </tbody>\n",
       "</table>\n",
       "</div>"
      ],
      "text/plain": [
       "                event_name  user_id_248  user_id_uniq_248  share_user_248  \\\n",
       "0         MainScreenAppear         2493              2537            0.98   \n",
       "1       OffersScreenAppear         1531              2537            0.60   \n",
       "2         CartScreenAppear         1230              2537            0.48   \n",
       "3  PaymentScreenSuccessful         1181              2537            0.47   \n",
       "4                 Tutorial          279              2537            0.11   \n",
       "\n",
       "   user_id_247  user_id_uniq_247  share_user_247 user_id_247_248  \n",
       "0         2476              2513            0.99      2493, 2476  \n",
       "1         1520              2513            0.60      1531, 1520  \n",
       "2         1238              2513            0.49      1230, 1238  \n",
       "3         1158              2513            0.46      1181, 1158  \n",
       "4          283              2513            0.11        279, 283  "
      ]
     },
     "execution_count": 66,
     "metadata": {},
     "output_type": "execute_result"
    }
   ],
   "source": [
    "total_247_248"
   ]
  },
  {
   "cell_type": "markdown",
   "metadata": {},
   "source": [
    "Применяем функцию proportion_test_bonferroni к данным столбца user_id_247_248 датафрейма total_247_248:"
   ]
  },
  {
   "cell_type": "code",
   "execution_count": 67,
   "metadata": {},
   "outputs": [
    {
     "name": "stdout",
     "output_type": "stream",
     "text": [
      "p-значение: 0.45870536166215137\n",
      "Не получилось отвергнуть нулевую гипотезу, нет оснований считать доли разными\n",
      "p-значение: 0.919781783059226\n",
      "Не получилось отвергнуть нулевую гипотезу, нет оснований считать доли разными\n",
      "p-значение: 0.5786197879539782\n",
      "Не получилось отвергнуть нулевую гипотезу, нет оснований считать доли разными\n",
      "p-значение: 0.7373415053803964\n",
      "Не получилось отвергнуть нулевую гипотезу, нет оснований считать доли разными\n",
      "p-значение: 0.7653239224745011\n",
      "Не получилось отвергнуть нулевую гипотезу, нет оснований считать доли разными\n"
     ]
    }
   ],
   "source": [
    "# Передаем в argument_2 общее количество уник.пользователей:\n",
    "argument_2 = [total_247_248['user_id_uniq_248'][0], total_247_248['user_id_uniq_247'][0]]\n",
    "# Передаем столбец в переменную:\n",
    "column = total_247_248['user_id_247_248'].unique()\n",
    "# Для каждой значения столбца 'user_id_248_247' датафрейма total_248_247: (на входе строка \"str\")\n",
    "for i in column:\n",
    "    i = i.split(',') # Разделим значения \"str\" в каждой ячейке с помощью запятой и перезапишем результат\n",
    "    i = list(map(int, i)) # \"str\" переведем в число \"int\" и вернем объект список (list)\n",
    "    proportion_test_bonferroni(i, argument_2) # Применяем функцию proportion_test(argument_1:list, argument_2:list)"
   ]
  },
  {
   "cell_type": "markdown",
   "metadata": {},
   "source": [
    "Представим результаты в виде таблиц:"
   ]
  },
  {
   "cell_type": "code",
   "execution_count": 68,
   "metadata": {},
   "outputs": [],
   "source": [
    "#'Тест Шапиро'\n",
    "test_shapiro = pd.DataFrame()\n",
    "test_shapiro['group'] = [246, 247, 248]\n",
    "test_shapiro['alpha'] = [0.05, 0.05, 0.05]\n",
    "test_shapiro['bonferroni_alpha_15'] = [0.0033333333333333335, 0.0033333333333333335, 0.0033333333333333335]\n",
    "test_shapiro['pvalue'] = [2.6383789375472588e-08, 3.6822800808522516e-08, 7.232356491471137e-09]\n",
    "test_shapiro['results'] = ['Отвергаем нулевую гипотезу: распределение не нормально', 'Отвергаем нулевую гипотезу: распределение не нормально', 'Отвергаем нулевую гипотезу: распределение не нормально']\n",
    "\n",
    "\n",
    "\n",
    "#z-тесты на проверку о том, что средние значения в группах: а) 246 и 247; б) 247 и 248 значимо не отличаются\n",
    "test_z = pd.DataFrame()\n",
    "test_z['group'] = ['246_247', '247_248']\n",
    "test_z['alpha'] = [0.05, 0.05]\n",
    "test_z['bonferroni_alpha_15'] = [0.0033333333333333335, 0.0033333333333333335]\n",
    "test_z['pvalue'] = [0.6816211476613262, 0.7355661860935975]\n",
    "test_z['results'] = ['Не получилось отвергнуть нулевую гипотезу, вывод о различий сделать нельзя', 'Не получилось отвергнуть нулевую гипотезу, вывод о различий сделать нельзя']\n",
    "\n",
    "\n",
    "#Проверка гипотезы о том, что доля пользователей в каждом из событии групп: а) 246 и 247; б) 247 и 248 значимо не различаются\n",
    "proportion_test_bonferroni = pd.DataFrame()\n",
    "proportion_test_bonferroni['event_name'] = ['MainScreenAppear', 'OffersScreenAppear', 'CartScreenAppear', 'PaymentScreenSuccessful', 'Tutorial']\n",
    "proportion_test_bonferroni['alpha'] = [0.05, 0.05, 0.05, 0.05, 0.05]\n",
    "proportion_test_bonferroni['bonferroni_alpha_15'] = [0.0033333333333333335, 0.0033333333333333335, 0.0033333333333333335, 0.0033333333333333335, 0.0033333333333333335]\n",
    "proportion_test_bonferroni['pvalue_246_247'] = [0.7570597232046099, 0.2480954578522181, 0.22883372237997213, 0.11456679313141847, 0.9376996189257114]\n",
    "proportion_test_bonferroni['pvalue_247_248'] = [0.45870536166215137, 0.919781783059226, 0.5786197879539782, 0.7373415053803964, 0.7653239224745011]\n",
    "proportion_test_bonferroni['results'] = ['Не получилось отвергнуть нулевую гипотезу, \\\n",
    "                                         нет оснований считать доли разными', \\\n",
    "                                         'Не получилось отвергнуть нулевую гипотезу,\\\n",
    "                                         нет оснований считать доли разными', \\\n",
    "                                         'Не получилось отвергнуть нулевую гипотезу, нет оснований считать доли разными', \\\n",
    "                                         'Не получилось отвергнуть нулевую гипотезу, нет оснований считать доли разными', \\\n",
    "                                         'Не получилось отвергнуть нулевую гипотезу, нет оснований считать доли разными']\n"
   ]
  },
  {
   "cell_type": "code",
   "execution_count": 69,
   "metadata": {},
   "outputs": [
    {
     "name": "stdout",
     "output_type": "stream",
     "text": [
      "Тест Шапиро\n"
     ]
    },
    {
     "data": {
      "text/html": [
       "<style  type=\"text/css\" >\n",
       "    #T_c07c7b4a_f115_11ea_a022_5404a6922e4frow0_col0 {\n",
       "            background-color:  moccasin;\n",
       "            color:  black;\n",
       "            border-width:  1px;\n",
       "            border-style:  solid;\n",
       "        }    #T_c07c7b4a_f115_11ea_a022_5404a6922e4frow0_col1 {\n",
       "            background-color:  moccasin;\n",
       "            color:  black;\n",
       "            border-width:  1px;\n",
       "            border-style:  solid;\n",
       "        }    #T_c07c7b4a_f115_11ea_a022_5404a6922e4frow0_col2 {\n",
       "            background-color:  moccasin;\n",
       "            color:  black;\n",
       "            border-width:  1px;\n",
       "            border-style:  solid;\n",
       "        }    #T_c07c7b4a_f115_11ea_a022_5404a6922e4frow0_col3 {\n",
       "            background-color:  moccasin;\n",
       "            color:  black;\n",
       "            border-width:  1px;\n",
       "            border-style:  solid;\n",
       "        }    #T_c07c7b4a_f115_11ea_a022_5404a6922e4frow0_col4 {\n",
       "            background-color:  moccasin;\n",
       "            color:  black;\n",
       "            border-width:  1px;\n",
       "            border-style:  solid;\n",
       "        }    #T_c07c7b4a_f115_11ea_a022_5404a6922e4frow1_col0 {\n",
       "            background-color:  moccasin;\n",
       "            color:  black;\n",
       "            border-width:  1px;\n",
       "            border-style:  solid;\n",
       "        }    #T_c07c7b4a_f115_11ea_a022_5404a6922e4frow1_col1 {\n",
       "            background-color:  moccasin;\n",
       "            color:  black;\n",
       "            border-width:  1px;\n",
       "            border-style:  solid;\n",
       "        }    #T_c07c7b4a_f115_11ea_a022_5404a6922e4frow1_col2 {\n",
       "            background-color:  moccasin;\n",
       "            color:  black;\n",
       "            border-width:  1px;\n",
       "            border-style:  solid;\n",
       "        }    #T_c07c7b4a_f115_11ea_a022_5404a6922e4frow1_col3 {\n",
       "            background-color:  moccasin;\n",
       "            color:  black;\n",
       "            border-width:  1px;\n",
       "            border-style:  solid;\n",
       "        }    #T_c07c7b4a_f115_11ea_a022_5404a6922e4frow1_col4 {\n",
       "            background-color:  moccasin;\n",
       "            color:  black;\n",
       "            border-width:  1px;\n",
       "            border-style:  solid;\n",
       "        }    #T_c07c7b4a_f115_11ea_a022_5404a6922e4frow2_col0 {\n",
       "            background-color:  moccasin;\n",
       "            color:  black;\n",
       "            border-width:  1px;\n",
       "            border-style:  solid;\n",
       "        }    #T_c07c7b4a_f115_11ea_a022_5404a6922e4frow2_col1 {\n",
       "            background-color:  moccasin;\n",
       "            color:  black;\n",
       "            border-width:  1px;\n",
       "            border-style:  solid;\n",
       "        }    #T_c07c7b4a_f115_11ea_a022_5404a6922e4frow2_col2 {\n",
       "            background-color:  moccasin;\n",
       "            color:  black;\n",
       "            border-width:  1px;\n",
       "            border-style:  solid;\n",
       "        }    #T_c07c7b4a_f115_11ea_a022_5404a6922e4frow2_col3 {\n",
       "            background-color:  moccasin;\n",
       "            color:  black;\n",
       "            border-width:  1px;\n",
       "            border-style:  solid;\n",
       "        }    #T_c07c7b4a_f115_11ea_a022_5404a6922e4frow2_col4 {\n",
       "            background-color:  moccasin;\n",
       "            color:  black;\n",
       "            border-width:  1px;\n",
       "            border-style:  solid;\n",
       "        }</style><table id=\"T_c07c7b4a_f115_11ea_a022_5404a6922e4f\" ><thead>    <tr>        <th class=\"blank level0\" ></th>        <th class=\"col_heading level0 col0\" >group</th>        <th class=\"col_heading level0 col1\" >alpha</th>        <th class=\"col_heading level0 col2\" >bonferroni_alpha_15</th>        <th class=\"col_heading level0 col3\" >pvalue</th>        <th class=\"col_heading level0 col4\" >results</th>    </tr></thead><tbody>\n",
       "                <tr>\n",
       "                        <th id=\"T_c07c7b4a_f115_11ea_a022_5404a6922e4flevel0_row0\" class=\"row_heading level0 row0\" >0</th>\n",
       "                        <td id=\"T_c07c7b4a_f115_11ea_a022_5404a6922e4frow0_col0\" class=\"data row0 col0\" >246</td>\n",
       "                        <td id=\"T_c07c7b4a_f115_11ea_a022_5404a6922e4frow0_col1\" class=\"data row0 col1\" >0.050000</td>\n",
       "                        <td id=\"T_c07c7b4a_f115_11ea_a022_5404a6922e4frow0_col2\" class=\"data row0 col2\" >0.003333</td>\n",
       "                        <td id=\"T_c07c7b4a_f115_11ea_a022_5404a6922e4frow0_col3\" class=\"data row0 col3\" >0.000000</td>\n",
       "                        <td id=\"T_c07c7b4a_f115_11ea_a022_5404a6922e4frow0_col4\" class=\"data row0 col4\" >Отвергаем нулевую гипотезу: распределение не нормально</td>\n",
       "            </tr>\n",
       "            <tr>\n",
       "                        <th id=\"T_c07c7b4a_f115_11ea_a022_5404a6922e4flevel0_row1\" class=\"row_heading level0 row1\" >1</th>\n",
       "                        <td id=\"T_c07c7b4a_f115_11ea_a022_5404a6922e4frow1_col0\" class=\"data row1 col0\" >247</td>\n",
       "                        <td id=\"T_c07c7b4a_f115_11ea_a022_5404a6922e4frow1_col1\" class=\"data row1 col1\" >0.050000</td>\n",
       "                        <td id=\"T_c07c7b4a_f115_11ea_a022_5404a6922e4frow1_col2\" class=\"data row1 col2\" >0.003333</td>\n",
       "                        <td id=\"T_c07c7b4a_f115_11ea_a022_5404a6922e4frow1_col3\" class=\"data row1 col3\" >0.000000</td>\n",
       "                        <td id=\"T_c07c7b4a_f115_11ea_a022_5404a6922e4frow1_col4\" class=\"data row1 col4\" >Отвергаем нулевую гипотезу: распределение не нормально</td>\n",
       "            </tr>\n",
       "            <tr>\n",
       "                        <th id=\"T_c07c7b4a_f115_11ea_a022_5404a6922e4flevel0_row2\" class=\"row_heading level0 row2\" >2</th>\n",
       "                        <td id=\"T_c07c7b4a_f115_11ea_a022_5404a6922e4frow2_col0\" class=\"data row2 col0\" >248</td>\n",
       "                        <td id=\"T_c07c7b4a_f115_11ea_a022_5404a6922e4frow2_col1\" class=\"data row2 col1\" >0.050000</td>\n",
       "                        <td id=\"T_c07c7b4a_f115_11ea_a022_5404a6922e4frow2_col2\" class=\"data row2 col2\" >0.003333</td>\n",
       "                        <td id=\"T_c07c7b4a_f115_11ea_a022_5404a6922e4frow2_col3\" class=\"data row2 col3\" >0.000000</td>\n",
       "                        <td id=\"T_c07c7b4a_f115_11ea_a022_5404a6922e4frow2_col4\" class=\"data row2 col4\" >Отвергаем нулевую гипотезу: распределение не нормально</td>\n",
       "            </tr>\n",
       "    </tbody></table>"
      ],
      "text/plain": [
       "<pandas.io.formats.style.Styler at 0x1d3d3bada08>"
      ]
     },
     "execution_count": 69,
     "metadata": {},
     "output_type": "execute_result"
    }
   ],
   "source": [
    "print('Тест Шапиро')\n",
    "color_table(test_shapiro)\n",
    "\n"
   ]
  },
  {
   "cell_type": "markdown",
   "metadata": {},
   "source": [
    "Во всех трех группах: 246, 247, 248 значение pvalue < 0.00333333, поэтому у нас есть основания, чтобы отвергнуть нулевую гипотезу и заключить - распределения количества уник.пользователей в час за каждый день \"далеки\" от нормального."
   ]
  },
  {
   "cell_type": "code",
   "execution_count": 70,
   "metadata": {},
   "outputs": [
    {
     "name": "stdout",
     "output_type": "stream",
     "text": [
      "z-тесты на проверку о том, что средние значения в группах: а) 246 и 247; б) 247 и 248 значимо не отличаются\n"
     ]
    },
    {
     "data": {
      "text/html": [
       "<style  type=\"text/css\" >\n",
       "    #T_c088fe5a_f115_11ea_8e2e_5404a6922e4frow0_col0 {\n",
       "            background-color:  moccasin;\n",
       "            color:  black;\n",
       "            border-width:  1px;\n",
       "            border-style:  solid;\n",
       "        }    #T_c088fe5a_f115_11ea_8e2e_5404a6922e4frow0_col1 {\n",
       "            background-color:  moccasin;\n",
       "            color:  black;\n",
       "            border-width:  1px;\n",
       "            border-style:  solid;\n",
       "        }    #T_c088fe5a_f115_11ea_8e2e_5404a6922e4frow0_col2 {\n",
       "            background-color:  moccasin;\n",
       "            color:  black;\n",
       "            border-width:  1px;\n",
       "            border-style:  solid;\n",
       "        }    #T_c088fe5a_f115_11ea_8e2e_5404a6922e4frow0_col3 {\n",
       "            background-color:  moccasin;\n",
       "            color:  black;\n",
       "            border-width:  1px;\n",
       "            border-style:  solid;\n",
       "        }    #T_c088fe5a_f115_11ea_8e2e_5404a6922e4frow0_col4 {\n",
       "            background-color:  moccasin;\n",
       "            color:  black;\n",
       "            border-width:  1px;\n",
       "            border-style:  solid;\n",
       "        }    #T_c088fe5a_f115_11ea_8e2e_5404a6922e4frow1_col0 {\n",
       "            background-color:  moccasin;\n",
       "            color:  black;\n",
       "            border-width:  1px;\n",
       "            border-style:  solid;\n",
       "        }    #T_c088fe5a_f115_11ea_8e2e_5404a6922e4frow1_col1 {\n",
       "            background-color:  moccasin;\n",
       "            color:  black;\n",
       "            border-width:  1px;\n",
       "            border-style:  solid;\n",
       "        }    #T_c088fe5a_f115_11ea_8e2e_5404a6922e4frow1_col2 {\n",
       "            background-color:  moccasin;\n",
       "            color:  black;\n",
       "            border-width:  1px;\n",
       "            border-style:  solid;\n",
       "        }    #T_c088fe5a_f115_11ea_8e2e_5404a6922e4frow1_col3 {\n",
       "            background-color:  moccasin;\n",
       "            color:  black;\n",
       "            border-width:  1px;\n",
       "            border-style:  solid;\n",
       "        }    #T_c088fe5a_f115_11ea_8e2e_5404a6922e4frow1_col4 {\n",
       "            background-color:  moccasin;\n",
       "            color:  black;\n",
       "            border-width:  1px;\n",
       "            border-style:  solid;\n",
       "        }</style><table id=\"T_c088fe5a_f115_11ea_8e2e_5404a6922e4f\" ><thead>    <tr>        <th class=\"blank level0\" ></th>        <th class=\"col_heading level0 col0\" >group</th>        <th class=\"col_heading level0 col1\" >alpha</th>        <th class=\"col_heading level0 col2\" >bonferroni_alpha_15</th>        <th class=\"col_heading level0 col3\" >pvalue</th>        <th class=\"col_heading level0 col4\" >results</th>    </tr></thead><tbody>\n",
       "                <tr>\n",
       "                        <th id=\"T_c088fe5a_f115_11ea_8e2e_5404a6922e4flevel0_row0\" class=\"row_heading level0 row0\" >0</th>\n",
       "                        <td id=\"T_c088fe5a_f115_11ea_8e2e_5404a6922e4frow0_col0\" class=\"data row0 col0\" >246_247</td>\n",
       "                        <td id=\"T_c088fe5a_f115_11ea_8e2e_5404a6922e4frow0_col1\" class=\"data row0 col1\" >0.050000</td>\n",
       "                        <td id=\"T_c088fe5a_f115_11ea_8e2e_5404a6922e4frow0_col2\" class=\"data row0 col2\" >0.003333</td>\n",
       "                        <td id=\"T_c088fe5a_f115_11ea_8e2e_5404a6922e4frow0_col3\" class=\"data row0 col3\" >0.681621</td>\n",
       "                        <td id=\"T_c088fe5a_f115_11ea_8e2e_5404a6922e4frow0_col4\" class=\"data row0 col4\" >Не получилось отвергнуть нулевую гипотезу, вывод о различий сделать нельзя</td>\n",
       "            </tr>\n",
       "            <tr>\n",
       "                        <th id=\"T_c088fe5a_f115_11ea_8e2e_5404a6922e4flevel0_row1\" class=\"row_heading level0 row1\" >1</th>\n",
       "                        <td id=\"T_c088fe5a_f115_11ea_8e2e_5404a6922e4frow1_col0\" class=\"data row1 col0\" >247_248</td>\n",
       "                        <td id=\"T_c088fe5a_f115_11ea_8e2e_5404a6922e4frow1_col1\" class=\"data row1 col1\" >0.050000</td>\n",
       "                        <td id=\"T_c088fe5a_f115_11ea_8e2e_5404a6922e4frow1_col2\" class=\"data row1 col2\" >0.003333</td>\n",
       "                        <td id=\"T_c088fe5a_f115_11ea_8e2e_5404a6922e4frow1_col3\" class=\"data row1 col3\" >0.735566</td>\n",
       "                        <td id=\"T_c088fe5a_f115_11ea_8e2e_5404a6922e4frow1_col4\" class=\"data row1 col4\" >Не получилось отвергнуть нулевую гипотезу, вывод о различий сделать нельзя</td>\n",
       "            </tr>\n",
       "    </tbody></table>"
      ],
      "text/plain": [
       "<pandas.io.formats.style.Styler at 0x1d3cca2fbc8>"
      ]
     },
     "execution_count": 70,
     "metadata": {},
     "output_type": "execute_result"
    }
   ],
   "source": [
    "print('z-тесты на проверку о том, что средние значения в группах: а) 246 и 247; б) 247 и 248 значимо не отличаются')\n",
    "color_table(test_z)"
   ]
  },
  {
   "cell_type": "markdown",
   "metadata": {},
   "source": [
    "При сравнении количества уник.пользователей в час за каждый день в группах: а) 246 и 247; б) 247 и 248 значимых различий выявлено не было. "
   ]
  },
  {
   "cell_type": "code",
   "execution_count": 71,
   "metadata": {},
   "outputs": [
    {
     "name": "stdout",
     "output_type": "stream",
     "text": [
      "Проверка гипотезы о том, что доля пользователей в каждом из событии групп:         а) 246 и 247; б) 247 и 248 значимо не различаются\n"
     ]
    },
    {
     "data": {
      "text/html": [
       "<style  type=\"text/css\" >\n",
       "    #T_c09903de_f115_11ea_81d1_5404a6922e4frow0_col0 {\n",
       "            background-color:  moccasin;\n",
       "            color:  black;\n",
       "            border-width:  1px;\n",
       "            border-style:  solid;\n",
       "        }    #T_c09903de_f115_11ea_81d1_5404a6922e4frow0_col1 {\n",
       "            background-color:  moccasin;\n",
       "            color:  black;\n",
       "            border-width:  1px;\n",
       "            border-style:  solid;\n",
       "        }    #T_c09903de_f115_11ea_81d1_5404a6922e4frow0_col2 {\n",
       "            background-color:  moccasin;\n",
       "            color:  black;\n",
       "            border-width:  1px;\n",
       "            border-style:  solid;\n",
       "        }    #T_c09903de_f115_11ea_81d1_5404a6922e4frow0_col3 {\n",
       "            background-color:  moccasin;\n",
       "            color:  black;\n",
       "            border-width:  1px;\n",
       "            border-style:  solid;\n",
       "        }    #T_c09903de_f115_11ea_81d1_5404a6922e4frow0_col4 {\n",
       "            background-color:  moccasin;\n",
       "            color:  black;\n",
       "            border-width:  1px;\n",
       "            border-style:  solid;\n",
       "        }    #T_c09903de_f115_11ea_81d1_5404a6922e4frow0_col5 {\n",
       "            background-color:  moccasin;\n",
       "            color:  black;\n",
       "            border-width:  1px;\n",
       "            border-style:  solid;\n",
       "        }    #T_c09903de_f115_11ea_81d1_5404a6922e4frow1_col0 {\n",
       "            background-color:  moccasin;\n",
       "            color:  black;\n",
       "            border-width:  1px;\n",
       "            border-style:  solid;\n",
       "        }    #T_c09903de_f115_11ea_81d1_5404a6922e4frow1_col1 {\n",
       "            background-color:  moccasin;\n",
       "            color:  black;\n",
       "            border-width:  1px;\n",
       "            border-style:  solid;\n",
       "        }    #T_c09903de_f115_11ea_81d1_5404a6922e4frow1_col2 {\n",
       "            background-color:  moccasin;\n",
       "            color:  black;\n",
       "            border-width:  1px;\n",
       "            border-style:  solid;\n",
       "        }    #T_c09903de_f115_11ea_81d1_5404a6922e4frow1_col3 {\n",
       "            background-color:  moccasin;\n",
       "            color:  black;\n",
       "            border-width:  1px;\n",
       "            border-style:  solid;\n",
       "        }    #T_c09903de_f115_11ea_81d1_5404a6922e4frow1_col4 {\n",
       "            background-color:  moccasin;\n",
       "            color:  black;\n",
       "            border-width:  1px;\n",
       "            border-style:  solid;\n",
       "        }    #T_c09903de_f115_11ea_81d1_5404a6922e4frow1_col5 {\n",
       "            background-color:  moccasin;\n",
       "            color:  black;\n",
       "            border-width:  1px;\n",
       "            border-style:  solid;\n",
       "        }    #T_c09903de_f115_11ea_81d1_5404a6922e4frow2_col0 {\n",
       "            background-color:  moccasin;\n",
       "            color:  black;\n",
       "            border-width:  1px;\n",
       "            border-style:  solid;\n",
       "        }    #T_c09903de_f115_11ea_81d1_5404a6922e4frow2_col1 {\n",
       "            background-color:  moccasin;\n",
       "            color:  black;\n",
       "            border-width:  1px;\n",
       "            border-style:  solid;\n",
       "        }    #T_c09903de_f115_11ea_81d1_5404a6922e4frow2_col2 {\n",
       "            background-color:  moccasin;\n",
       "            color:  black;\n",
       "            border-width:  1px;\n",
       "            border-style:  solid;\n",
       "        }    #T_c09903de_f115_11ea_81d1_5404a6922e4frow2_col3 {\n",
       "            background-color:  moccasin;\n",
       "            color:  black;\n",
       "            border-width:  1px;\n",
       "            border-style:  solid;\n",
       "        }    #T_c09903de_f115_11ea_81d1_5404a6922e4frow2_col4 {\n",
       "            background-color:  moccasin;\n",
       "            color:  black;\n",
       "            border-width:  1px;\n",
       "            border-style:  solid;\n",
       "        }    #T_c09903de_f115_11ea_81d1_5404a6922e4frow2_col5 {\n",
       "            background-color:  moccasin;\n",
       "            color:  black;\n",
       "            border-width:  1px;\n",
       "            border-style:  solid;\n",
       "        }    #T_c09903de_f115_11ea_81d1_5404a6922e4frow3_col0 {\n",
       "            background-color:  moccasin;\n",
       "            color:  black;\n",
       "            border-width:  1px;\n",
       "            border-style:  solid;\n",
       "        }    #T_c09903de_f115_11ea_81d1_5404a6922e4frow3_col1 {\n",
       "            background-color:  moccasin;\n",
       "            color:  black;\n",
       "            border-width:  1px;\n",
       "            border-style:  solid;\n",
       "        }    #T_c09903de_f115_11ea_81d1_5404a6922e4frow3_col2 {\n",
       "            background-color:  moccasin;\n",
       "            color:  black;\n",
       "            border-width:  1px;\n",
       "            border-style:  solid;\n",
       "        }    #T_c09903de_f115_11ea_81d1_5404a6922e4frow3_col3 {\n",
       "            background-color:  moccasin;\n",
       "            color:  black;\n",
       "            border-width:  1px;\n",
       "            border-style:  solid;\n",
       "        }    #T_c09903de_f115_11ea_81d1_5404a6922e4frow3_col4 {\n",
       "            background-color:  moccasin;\n",
       "            color:  black;\n",
       "            border-width:  1px;\n",
       "            border-style:  solid;\n",
       "        }    #T_c09903de_f115_11ea_81d1_5404a6922e4frow3_col5 {\n",
       "            background-color:  moccasin;\n",
       "            color:  black;\n",
       "            border-width:  1px;\n",
       "            border-style:  solid;\n",
       "        }    #T_c09903de_f115_11ea_81d1_5404a6922e4frow4_col0 {\n",
       "            background-color:  moccasin;\n",
       "            color:  black;\n",
       "            border-width:  1px;\n",
       "            border-style:  solid;\n",
       "        }    #T_c09903de_f115_11ea_81d1_5404a6922e4frow4_col1 {\n",
       "            background-color:  moccasin;\n",
       "            color:  black;\n",
       "            border-width:  1px;\n",
       "            border-style:  solid;\n",
       "        }    #T_c09903de_f115_11ea_81d1_5404a6922e4frow4_col2 {\n",
       "            background-color:  moccasin;\n",
       "            color:  black;\n",
       "            border-width:  1px;\n",
       "            border-style:  solid;\n",
       "        }    #T_c09903de_f115_11ea_81d1_5404a6922e4frow4_col3 {\n",
       "            background-color:  moccasin;\n",
       "            color:  black;\n",
       "            border-width:  1px;\n",
       "            border-style:  solid;\n",
       "        }    #T_c09903de_f115_11ea_81d1_5404a6922e4frow4_col4 {\n",
       "            background-color:  moccasin;\n",
       "            color:  black;\n",
       "            border-width:  1px;\n",
       "            border-style:  solid;\n",
       "        }    #T_c09903de_f115_11ea_81d1_5404a6922e4frow4_col5 {\n",
       "            background-color:  moccasin;\n",
       "            color:  black;\n",
       "            border-width:  1px;\n",
       "            border-style:  solid;\n",
       "        }</style><table id=\"T_c09903de_f115_11ea_81d1_5404a6922e4f\" ><thead>    <tr>        <th class=\"blank level0\" ></th>        <th class=\"col_heading level0 col0\" >event_name</th>        <th class=\"col_heading level0 col1\" >alpha</th>        <th class=\"col_heading level0 col2\" >bonferroni_alpha_15</th>        <th class=\"col_heading level0 col3\" >pvalue_246_247</th>        <th class=\"col_heading level0 col4\" >pvalue_247_248</th>        <th class=\"col_heading level0 col5\" >results</th>    </tr></thead><tbody>\n",
       "                <tr>\n",
       "                        <th id=\"T_c09903de_f115_11ea_81d1_5404a6922e4flevel0_row0\" class=\"row_heading level0 row0\" >0</th>\n",
       "                        <td id=\"T_c09903de_f115_11ea_81d1_5404a6922e4frow0_col0\" class=\"data row0 col0\" >MainScreenAppear</td>\n",
       "                        <td id=\"T_c09903de_f115_11ea_81d1_5404a6922e4frow0_col1\" class=\"data row0 col1\" >0.050000</td>\n",
       "                        <td id=\"T_c09903de_f115_11ea_81d1_5404a6922e4frow0_col2\" class=\"data row0 col2\" >0.003333</td>\n",
       "                        <td id=\"T_c09903de_f115_11ea_81d1_5404a6922e4frow0_col3\" class=\"data row0 col3\" >0.757060</td>\n",
       "                        <td id=\"T_c09903de_f115_11ea_81d1_5404a6922e4frow0_col4\" class=\"data row0 col4\" >0.458705</td>\n",
       "                        <td id=\"T_c09903de_f115_11ea_81d1_5404a6922e4frow0_col5\" class=\"data row0 col5\" >Не получилось отвергнуть нулевую гипотезу,                                          нет оснований считать доли разными</td>\n",
       "            </tr>\n",
       "            <tr>\n",
       "                        <th id=\"T_c09903de_f115_11ea_81d1_5404a6922e4flevel0_row1\" class=\"row_heading level0 row1\" >1</th>\n",
       "                        <td id=\"T_c09903de_f115_11ea_81d1_5404a6922e4frow1_col0\" class=\"data row1 col0\" >OffersScreenAppear</td>\n",
       "                        <td id=\"T_c09903de_f115_11ea_81d1_5404a6922e4frow1_col1\" class=\"data row1 col1\" >0.050000</td>\n",
       "                        <td id=\"T_c09903de_f115_11ea_81d1_5404a6922e4frow1_col2\" class=\"data row1 col2\" >0.003333</td>\n",
       "                        <td id=\"T_c09903de_f115_11ea_81d1_5404a6922e4frow1_col3\" class=\"data row1 col3\" >0.248095</td>\n",
       "                        <td id=\"T_c09903de_f115_11ea_81d1_5404a6922e4frow1_col4\" class=\"data row1 col4\" >0.919782</td>\n",
       "                        <td id=\"T_c09903de_f115_11ea_81d1_5404a6922e4frow1_col5\" class=\"data row1 col5\" >Не получилось отвергнуть нулевую гипотезу,                                         нет оснований считать доли разными</td>\n",
       "            </tr>\n",
       "            <tr>\n",
       "                        <th id=\"T_c09903de_f115_11ea_81d1_5404a6922e4flevel0_row2\" class=\"row_heading level0 row2\" >2</th>\n",
       "                        <td id=\"T_c09903de_f115_11ea_81d1_5404a6922e4frow2_col0\" class=\"data row2 col0\" >CartScreenAppear</td>\n",
       "                        <td id=\"T_c09903de_f115_11ea_81d1_5404a6922e4frow2_col1\" class=\"data row2 col1\" >0.050000</td>\n",
       "                        <td id=\"T_c09903de_f115_11ea_81d1_5404a6922e4frow2_col2\" class=\"data row2 col2\" >0.003333</td>\n",
       "                        <td id=\"T_c09903de_f115_11ea_81d1_5404a6922e4frow2_col3\" class=\"data row2 col3\" >0.228834</td>\n",
       "                        <td id=\"T_c09903de_f115_11ea_81d1_5404a6922e4frow2_col4\" class=\"data row2 col4\" >0.578620</td>\n",
       "                        <td id=\"T_c09903de_f115_11ea_81d1_5404a6922e4frow2_col5\" class=\"data row2 col5\" >Не получилось отвергнуть нулевую гипотезу, нет оснований считать доли разными</td>\n",
       "            </tr>\n",
       "            <tr>\n",
       "                        <th id=\"T_c09903de_f115_11ea_81d1_5404a6922e4flevel0_row3\" class=\"row_heading level0 row3\" >3</th>\n",
       "                        <td id=\"T_c09903de_f115_11ea_81d1_5404a6922e4frow3_col0\" class=\"data row3 col0\" >PaymentScreenSuccessful</td>\n",
       "                        <td id=\"T_c09903de_f115_11ea_81d1_5404a6922e4frow3_col1\" class=\"data row3 col1\" >0.050000</td>\n",
       "                        <td id=\"T_c09903de_f115_11ea_81d1_5404a6922e4frow3_col2\" class=\"data row3 col2\" >0.003333</td>\n",
       "                        <td id=\"T_c09903de_f115_11ea_81d1_5404a6922e4frow3_col3\" class=\"data row3 col3\" >0.114567</td>\n",
       "                        <td id=\"T_c09903de_f115_11ea_81d1_5404a6922e4frow3_col4\" class=\"data row3 col4\" >0.737342</td>\n",
       "                        <td id=\"T_c09903de_f115_11ea_81d1_5404a6922e4frow3_col5\" class=\"data row3 col5\" >Не получилось отвергнуть нулевую гипотезу, нет оснований считать доли разными</td>\n",
       "            </tr>\n",
       "            <tr>\n",
       "                        <th id=\"T_c09903de_f115_11ea_81d1_5404a6922e4flevel0_row4\" class=\"row_heading level0 row4\" >4</th>\n",
       "                        <td id=\"T_c09903de_f115_11ea_81d1_5404a6922e4frow4_col0\" class=\"data row4 col0\" >Tutorial</td>\n",
       "                        <td id=\"T_c09903de_f115_11ea_81d1_5404a6922e4frow4_col1\" class=\"data row4 col1\" >0.050000</td>\n",
       "                        <td id=\"T_c09903de_f115_11ea_81d1_5404a6922e4frow4_col2\" class=\"data row4 col2\" >0.003333</td>\n",
       "                        <td id=\"T_c09903de_f115_11ea_81d1_5404a6922e4frow4_col3\" class=\"data row4 col3\" >0.937700</td>\n",
       "                        <td id=\"T_c09903de_f115_11ea_81d1_5404a6922e4frow4_col4\" class=\"data row4 col4\" >0.765324</td>\n",
       "                        <td id=\"T_c09903de_f115_11ea_81d1_5404a6922e4frow4_col5\" class=\"data row4 col5\" >Не получилось отвергнуть нулевую гипотезу, нет оснований считать доли разными</td>\n",
       "            </tr>\n",
       "    </tbody></table>"
      ],
      "text/plain": [
       "<pandas.io.formats.style.Styler at 0x1d3d3b96548>"
      ]
     },
     "execution_count": 71,
     "metadata": {},
     "output_type": "execute_result"
    }
   ],
   "source": [
    "print('Проверка гипотезы о том, что доля пользователей в каждом из событии групп: \\\n",
    "        а) 246 и 247; б) 247 и 248 значимо не различаются')\n",
    "color_table(proportion_test_bonferroni)"
   ]
  },
  {
   "cell_type": "markdown",
   "metadata": {},
   "source": [
    "Во всех случаях получили pvalue > 0.00333333. Поэтому у нас нет оснований, чтобы отвергнуть нулевую гипотезу. А это значит, что значимых различий между долями пользователей в каждом из событий групп 248 и 247, 246 и 247 нет."
   ]
  },
  {
   "cell_type": "markdown",
   "metadata": {},
   "source": [
    "### Вывод:\n",
    "\n",
    "Значимых различий между двух групп 247 (со старым шрифтом) и 248 (с новым шрифтом) выявлено не было."
   ]
  },
  {
   "cell_type": "code",
   "execution_count": null,
   "metadata": {},
   "outputs": [],
   "source": []
  }
 ],
 "metadata": {
  "kernelspec": {
   "display_name": "Python 3",
   "language": "python",
   "name": "python3"
  },
  "language_info": {
   "codemirror_mode": {
    "name": "ipython",
    "version": 3
   },
   "file_extension": ".py",
   "mimetype": "text/x-python",
   "name": "python",
   "nbconvert_exporter": "python",
   "pygments_lexer": "ipython3",
   "version": "3.7.6"
  }
 },
 "nbformat": 4,
 "nbformat_minor": 2
}
