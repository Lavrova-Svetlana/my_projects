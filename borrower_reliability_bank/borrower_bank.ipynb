{
 "cells": [
  {
   "cell_type": "markdown",
   "metadata": {},
   "source": [
    "## Исследование надёжности заёмщиков\n",
    "\n",
    "Заказчик — кредитный отдел банка. Нужно разобраться, влияет ли семейное положение и количество детей клиента на факт погашения кредита в срок. Входные данные от банка — статистика о платёжеспособности клиентов.\n",
    "\n",
    "Результаты исследования будут учтены при построении модели **кредитного скоринга** — специальной системы, которая оценивает способность потенциального заёмщика вернуть кредит банку.\n",
    "\n",
    "\n",
    "Для того, чтобы ответить на  вопрос, поставленный заказчиком.\n",
    "Ответим на вопросы:\n",
    "-\tЕсть ли зависимость между наличием детей и возвратом кредита в срок?\n",
    "-\tЕсть ли зависимость между семейным положением и возвратом кредита в срок?\n",
    "-\tЕсть ли зависимость между уровнем дохода и возвратом кредита в срок?\n",
    "-\tКак разные цели кредита влияют на его возврат в срок?\n",
    "\n"
   ]
  },
  {
   "cell_type": "markdown",
   "metadata": {},
   "source": [
    "## Изучение общей информации"
   ]
  },
  {
   "cell_type": "markdown",
   "metadata": {},
   "source": [
    "Познакомимся с данными из файла. Для этого: выведем на экран первые 20 строк из таблицы, "
   ]
  },
  {
   "cell_type": "code",
   "execution_count": 1,
   "metadata": {
    "scrolled": true
   },
   "outputs": [
    {
     "data": {
      "text/html": [
       "<div>\n",
       "<style scoped>\n",
       "    .dataframe tbody tr th:only-of-type {\n",
       "        vertical-align: middle;\n",
       "    }\n",
       "\n",
       "    .dataframe tbody tr th {\n",
       "        vertical-align: top;\n",
       "    }\n",
       "\n",
       "    .dataframe thead th {\n",
       "        text-align: right;\n",
       "    }\n",
       "</style>\n",
       "<table border=\"1\" class=\"dataframe\">\n",
       "  <thead>\n",
       "    <tr style=\"text-align: right;\">\n",
       "      <th></th>\n",
       "      <th>children</th>\n",
       "      <th>days_employed</th>\n",
       "      <th>dob_years</th>\n",
       "      <th>education</th>\n",
       "      <th>education_id</th>\n",
       "      <th>family_status</th>\n",
       "      <th>family_status_id</th>\n",
       "      <th>gender</th>\n",
       "      <th>income_type</th>\n",
       "      <th>debt</th>\n",
       "      <th>total_income</th>\n",
       "      <th>purpose</th>\n",
       "    </tr>\n",
       "  </thead>\n",
       "  <tbody>\n",
       "    <tr>\n",
       "      <td>0</td>\n",
       "      <td>1</td>\n",
       "      <td>-8437.673028</td>\n",
       "      <td>42</td>\n",
       "      <td>высшее</td>\n",
       "      <td>0</td>\n",
       "      <td>женат / замужем</td>\n",
       "      <td>0</td>\n",
       "      <td>F</td>\n",
       "      <td>сотрудник</td>\n",
       "      <td>0</td>\n",
       "      <td>253875.639453</td>\n",
       "      <td>покупка жилья</td>\n",
       "    </tr>\n",
       "    <tr>\n",
       "      <td>1</td>\n",
       "      <td>1</td>\n",
       "      <td>-4024.803754</td>\n",
       "      <td>36</td>\n",
       "      <td>среднее</td>\n",
       "      <td>1</td>\n",
       "      <td>женат / замужем</td>\n",
       "      <td>0</td>\n",
       "      <td>F</td>\n",
       "      <td>сотрудник</td>\n",
       "      <td>0</td>\n",
       "      <td>112080.014102</td>\n",
       "      <td>приобретение автомобиля</td>\n",
       "    </tr>\n",
       "    <tr>\n",
       "      <td>2</td>\n",
       "      <td>0</td>\n",
       "      <td>-5623.422610</td>\n",
       "      <td>33</td>\n",
       "      <td>Среднее</td>\n",
       "      <td>1</td>\n",
       "      <td>женат / замужем</td>\n",
       "      <td>0</td>\n",
       "      <td>M</td>\n",
       "      <td>сотрудник</td>\n",
       "      <td>0</td>\n",
       "      <td>145885.952297</td>\n",
       "      <td>покупка жилья</td>\n",
       "    </tr>\n",
       "    <tr>\n",
       "      <td>3</td>\n",
       "      <td>3</td>\n",
       "      <td>-4124.747207</td>\n",
       "      <td>32</td>\n",
       "      <td>среднее</td>\n",
       "      <td>1</td>\n",
       "      <td>женат / замужем</td>\n",
       "      <td>0</td>\n",
       "      <td>M</td>\n",
       "      <td>сотрудник</td>\n",
       "      <td>0</td>\n",
       "      <td>267628.550329</td>\n",
       "      <td>дополнительное образование</td>\n",
       "    </tr>\n",
       "    <tr>\n",
       "      <td>4</td>\n",
       "      <td>0</td>\n",
       "      <td>340266.072047</td>\n",
       "      <td>53</td>\n",
       "      <td>среднее</td>\n",
       "      <td>1</td>\n",
       "      <td>гражданский брак</td>\n",
       "      <td>1</td>\n",
       "      <td>F</td>\n",
       "      <td>пенсионер</td>\n",
       "      <td>0</td>\n",
       "      <td>158616.077870</td>\n",
       "      <td>сыграть свадьбу</td>\n",
       "    </tr>\n",
       "  </tbody>\n",
       "</table>\n",
       "</div>"
      ],
      "text/plain": [
       "   children  days_employed  dob_years education  education_id  \\\n",
       "0         1   -8437.673028         42    высшее             0   \n",
       "1         1   -4024.803754         36   среднее             1   \n",
       "2         0   -5623.422610         33   Среднее             1   \n",
       "3         3   -4124.747207         32   среднее             1   \n",
       "4         0  340266.072047         53   среднее             1   \n",
       "\n",
       "      family_status  family_status_id gender income_type  debt   total_income  \\\n",
       "0   женат / замужем                 0      F   сотрудник     0  253875.639453   \n",
       "1   женат / замужем                 0      F   сотрудник     0  112080.014102   \n",
       "2   женат / замужем                 0      M   сотрудник     0  145885.952297   \n",
       "3   женат / замужем                 0      M   сотрудник     0  267628.550329   \n",
       "4  гражданский брак                 1      F   пенсионер     0  158616.077870   \n",
       "\n",
       "                      purpose  \n",
       "0               покупка жилья  \n",
       "1     приобретение автомобиля  \n",
       "2               покупка жилья  \n",
       "3  дополнительное образование  \n",
       "4             сыграть свадьбу  "
      ]
     },
     "execution_count": 1,
     "metadata": {},
     "output_type": "execute_result"
    }
   ],
   "source": [
    "# Загружаем библиотеку:\n",
    "import pandas as pd\n",
    "# Используем метод read():\n",
    "df = pd.read_csv('')\n",
    "df.head(5) # получение первых 20 строк таблицы df"
   ]
  },
  {
   "cell_type": "markdown",
   "metadata": {},
   "source": [
    "Посмотрим общую информацию о файле:\n",
    "\n"
   ]
  },
  {
   "cell_type": "code",
   "execution_count": 2,
   "metadata": {},
   "outputs": [
    {
     "name": "stdout",
     "output_type": "stream",
     "text": [
      "<class 'pandas.core.frame.DataFrame'>\n",
      "RangeIndex: 21525 entries, 0 to 21524\n",
      "Data columns (total 12 columns):\n",
      "children            21525 non-null int64\n",
      "days_employed       19351 non-null float64\n",
      "dob_years           21525 non-null int64\n",
      "education           21525 non-null object\n",
      "education_id        21525 non-null int64\n",
      "family_status       21525 non-null object\n",
      "family_status_id    21525 non-null int64\n",
      "gender              21525 non-null object\n",
      "income_type         21525 non-null object\n",
      "debt                21525 non-null int64\n",
      "total_income        19351 non-null float64\n",
      "purpose             21525 non-null object\n",
      "dtypes: float64(2), int64(5), object(5)\n",
      "memory usage: 2.0+ MB\n"
     ]
    }
   ],
   "source": [
    "df.info()"
   ]
  },
  {
   "cell_type": "markdown",
   "metadata": {},
   "source": [
    "Дополнительно применим метод columns(), чтобы проверить названия столбцов:"
   ]
  },
  {
   "cell_type": "code",
   "execution_count": 3,
   "metadata": {
    "scrolled": false
   },
   "outputs": [
    {
     "data": {
      "text/plain": [
       "Index(['children', 'days_employed', 'dob_years', 'education', 'education_id',\n",
       "       'family_status', 'family_status_id', 'gender', 'income_type', 'debt',\n",
       "       'total_income', 'purpose'],\n",
       "      dtype='object')"
      ]
     },
     "execution_count": 3,
     "metadata": {},
     "output_type": "execute_result"
    }
   ],
   "source": [
    "df.columns"
   ]
  },
  {
   "cell_type": "markdown",
   "metadata": {},
   "source": [
    "Полученная таблица состоит из 21525 строк и 12 столбцов, из которых в 7 хранятся количественные переменные: 'children', 'days_employed', 'dob_years', 'education_id', 'family_status_id' , 'total_income', 'debt'; в 5 - категориальные: 'education', family_status',  'gender', 'income_type', 'purpose'.\n",
    "\n",
    "В столбцах 'days_employed', 'total_income' есть значение NaN, которое указывает на то, что в данных ячейках никакого значения нет. А это значит, что по какой-то причине данные пропущены и никак не будут учтены в расчетах, что, в свою очередь, приведет к некорректным результатам. На наличие пропусков указывает и количество заполненных строк для указанных столбцов :19351. Их меньше по сравнению с общим числом строк.\n",
    "\n",
    "Поэтому прежде чем приступать к расчетам нужно: выяснить причины пропусков и по возможности заполнить их.\n",
    "\n",
    "Названия столбцов изменять не нужно. Все названия столбцов на латинском языке, без пробелов, написаны в одном регистре. Пробел между слов заменен на нижнее подчеркивание. Название отражает смысл, хранимых в них данных.  \n",
    "\n",
    "Описание данных:\n",
    "-\tchildren — количество детей в семье\n",
    "-\tdays_employed — общий трудовой стаж в днях\n",
    "-\tdob_years — возраст клиента в годах\n",
    "-\teducation — уровень образования клиента\n",
    "-\teducation_id — идентификатор уровня образования\n",
    "-\tfamily_status — семейное положение\n",
    "-\tfamily_status_id — идентификатор семейного положения\n",
    "-\tgender — пол клиента\n",
    "-\tincome_type — тип занятости\n",
    "-\tdebt — имел ли задолженность по возврату кредитов\n",
    "-\ttotal_income — ежемесячный доход\n",
    "-\tpurpose — цель получения кредита\n",
    "\n",
    "В столбце 'education' данные записаны в разном регистре.\n",
    "В столбце 'purpose' хранятся данные, имеющие один смысл,но записаны по - разному.\n",
    "Такие данные нужно обработать, чтобы в дальнейшем удобно было их применять в расчетах.\n",
    "\n",
    "\n",
    "### Вывод\n",
    "\n",
    "Количество строк в таблице указывает на количество выданных клиентам кредитов.\n",
    "Каждая строка содержит информацию о клиенте: пол, семейное положение, количество детей в семье, уровень образования, возраст, тип занятости. А также указана цель получения кредита и была ли задолженность у клиента по возрату кредита в срок.\n",
    "\n",
    "\n",
    "\n",
    "\n",
    "\n",
    "# Предобработка данных\n",
    "\n",
    "Чтобы получить ответ на поставленные задачи для расчетов потребуются столбцы: 'children', 'family_status', 'family_status_id',  'debt','total_income', 'purpose'. Поэтому предобработку данных будем осуществлять в указанных столбцах."
   ]
  },
  {
   "cell_type": "markdown",
   "metadata": {},
   "source": [
    "### *Обработка пропусков*\n",
    "\n",
    "Посчитаем количество пропусков с помощью метода isnull() и sum():"
   ]
  },
  {
   "cell_type": "code",
   "execution_count": 4,
   "metadata": {},
   "outputs": [
    {
     "data": {
      "text/plain": [
       "children               0\n",
       "days_employed       2174\n",
       "dob_years              0\n",
       "education              0\n",
       "education_id           0\n",
       "family_status          0\n",
       "family_status_id       0\n",
       "gender                 0\n",
       "income_type            0\n",
       "debt                   0\n",
       "total_income        2174\n",
       "purpose                0\n",
       "dtype: int64"
      ]
     },
     "execution_count": 4,
     "metadata": {},
     "output_type": "execute_result"
    }
   ],
   "source": [
    "df.isnull().sum()"
   ]
  },
  {
   "cell_type": "markdown",
   "metadata": {},
   "source": [
    "Вычислим какой процент составляют пропуски в столбце 'total_income' от общего количества строк:"
   ]
  },
  {
   "cell_type": "code",
   "execution_count": 5,
   "metadata": {},
   "outputs": [
    {
     "name": "stdout",
     "output_type": "stream",
     "text": [
      "Процент пропущенных значений составляет: 10%\n"
     ]
    }
   ],
   "source": [
    "total_lines = len(df) #переменная, в которой хранится общее число выданных кредитов\n",
    "total_skips = 2174    #число пропусков в столбце \"ежемесячный доход\"\n",
    "percent = total_skips / total_lines\n",
    "print('Процент пропущенных значений составляет: {:.0%}'.format(percent))\n"
   ]
  },
  {
   "cell_type": "markdown",
   "metadata": {},
   "source": [
    "Удалять строки с пропусками не будем, т.к. процент строк без значений достаточно высокий.\n"
   ]
  },
  {
   "cell_type": "markdown",
   "metadata": {},
   "source": [
    "Разделим всех клиентов банка на группы, в зависимости от их типов занятости. Проверим какой процент пропусков составляет в каждой группе."
   ]
  },
  {
   "cell_type": "code",
   "execution_count": 6,
   "metadata": {},
   "outputs": [
    {
     "data": {
      "text/html": [
       "<div>\n",
       "<style scoped>\n",
       "    .dataframe tbody tr th:only-of-type {\n",
       "        vertical-align: middle;\n",
       "    }\n",
       "\n",
       "    .dataframe tbody tr th {\n",
       "        vertical-align: top;\n",
       "    }\n",
       "\n",
       "    .dataframe thead th {\n",
       "        text-align: right;\n",
       "    }\n",
       "</style>\n",
       "<table border=\"1\" class=\"dataframe\">\n",
       "  <thead>\n",
       "    <tr style=\"text-align: right;\">\n",
       "      <th></th>\n",
       "      <th>children</th>\n",
       "      <th>days_employed</th>\n",
       "      <th>dob_years</th>\n",
       "      <th>education</th>\n",
       "      <th>education_id</th>\n",
       "      <th>family_status</th>\n",
       "      <th>family_status_id</th>\n",
       "      <th>gender</th>\n",
       "      <th>income_type</th>\n",
       "      <th>debt</th>\n",
       "      <th>total_income</th>\n",
       "      <th>purpose</th>\n",
       "    </tr>\n",
       "  </thead>\n",
       "  <tbody>\n",
       "    <tr>\n",
       "      <td>12</td>\n",
       "      <td>0</td>\n",
       "      <td>NaN</td>\n",
       "      <td>65</td>\n",
       "      <td>среднее</td>\n",
       "      <td>1</td>\n",
       "      <td>гражданский брак</td>\n",
       "      <td>1</td>\n",
       "      <td>M</td>\n",
       "      <td>пенсионер</td>\n",
       "      <td>0</td>\n",
       "      <td>NaN</td>\n",
       "      <td>сыграть свадьбу</td>\n",
       "    </tr>\n",
       "    <tr>\n",
       "      <td>26</td>\n",
       "      <td>0</td>\n",
       "      <td>NaN</td>\n",
       "      <td>41</td>\n",
       "      <td>среднее</td>\n",
       "      <td>1</td>\n",
       "      <td>женат / замужем</td>\n",
       "      <td>0</td>\n",
       "      <td>M</td>\n",
       "      <td>госслужащий</td>\n",
       "      <td>0</td>\n",
       "      <td>NaN</td>\n",
       "      <td>образование</td>\n",
       "    </tr>\n",
       "    <tr>\n",
       "      <td>29</td>\n",
       "      <td>0</td>\n",
       "      <td>NaN</td>\n",
       "      <td>63</td>\n",
       "      <td>среднее</td>\n",
       "      <td>1</td>\n",
       "      <td>Не женат / не замужем</td>\n",
       "      <td>4</td>\n",
       "      <td>F</td>\n",
       "      <td>пенсионер</td>\n",
       "      <td>0</td>\n",
       "      <td>NaN</td>\n",
       "      <td>строительство жилой недвижимости</td>\n",
       "    </tr>\n",
       "    <tr>\n",
       "      <td>41</td>\n",
       "      <td>0</td>\n",
       "      <td>NaN</td>\n",
       "      <td>50</td>\n",
       "      <td>среднее</td>\n",
       "      <td>1</td>\n",
       "      <td>женат / замужем</td>\n",
       "      <td>0</td>\n",
       "      <td>F</td>\n",
       "      <td>госслужащий</td>\n",
       "      <td>0</td>\n",
       "      <td>NaN</td>\n",
       "      <td>сделка с подержанным автомобилем</td>\n",
       "    </tr>\n",
       "    <tr>\n",
       "      <td>55</td>\n",
       "      <td>0</td>\n",
       "      <td>NaN</td>\n",
       "      <td>54</td>\n",
       "      <td>среднее</td>\n",
       "      <td>1</td>\n",
       "      <td>гражданский брак</td>\n",
       "      <td>1</td>\n",
       "      <td>F</td>\n",
       "      <td>пенсионер</td>\n",
       "      <td>1</td>\n",
       "      <td>NaN</td>\n",
       "      <td>сыграть свадьбу</td>\n",
       "    </tr>\n",
       "  </tbody>\n",
       "</table>\n",
       "</div>"
      ],
      "text/plain": [
       "    children  days_employed  dob_years education  education_id  \\\n",
       "12         0            NaN         65   среднее             1   \n",
       "26         0            NaN         41   среднее             1   \n",
       "29         0            NaN         63   среднее             1   \n",
       "41         0            NaN         50   среднее             1   \n",
       "55         0            NaN         54   среднее             1   \n",
       "\n",
       "            family_status  family_status_id gender  income_type  debt  \\\n",
       "12       гражданский брак                 1      M    пенсионер     0   \n",
       "26        женат / замужем                 0      M  госслужащий     0   \n",
       "29  Не женат / не замужем                 4      F    пенсионер     0   \n",
       "41        женат / замужем                 0      F  госслужащий     0   \n",
       "55       гражданский брак                 1      F    пенсионер     1   \n",
       "\n",
       "    total_income                           purpose  \n",
       "12           NaN                   сыграть свадьбу  \n",
       "26           NaN                       образование  \n",
       "29           NaN  строительство жилой недвижимости  \n",
       "41           NaN  сделка с подержанным автомобилем  \n",
       "55           NaN                   сыграть свадьбу  "
      ]
     },
     "execution_count": 6,
     "metadata": {},
     "output_type": "execute_result"
    }
   ],
   "source": [
    "# скопируем данные с пропусками таблицы df в другую таблицу nan_table\n",
    "nan_table = df[df['total_income'].isna()].copy()\n",
    "nan_table.head(5)"
   ]
  },
  {
   "cell_type": "code",
   "execution_count": 7,
   "metadata": {},
   "outputs": [
    {
     "data": {
      "text/plain": [
       "сотрудник          0.508280\n",
       "компаньон          0.233671\n",
       "пенсионер          0.189972\n",
       "госслужащий        0.067617\n",
       "предприниматель    0.000460\n",
       "Name: income_type, dtype: float64"
      ]
     },
     "execution_count": 7,
     "metadata": {},
     "output_type": "execute_result"
    }
   ],
   "source": [
    "#Вычислим какой процент каждой группы составляет в таблице с пропусками nan_table с помощью метода value_counts():\n",
    "nan_table['income_type'].value_counts(normalize = True)"
   ]
  },
  {
   "cell_type": "code",
   "execution_count": 8,
   "metadata": {},
   "outputs": [
    {
     "data": {
      "text/plain": [
       "сотрудник          0.516562\n",
       "компаньон          0.236237\n",
       "пенсионер          0.179141\n",
       "госслужащий        0.067782\n",
       "безработный        0.000093\n",
       "предприниматель    0.000093\n",
       "студент            0.000046\n",
       "в декрете          0.000046\n",
       "Name: income_type, dtype: float64"
      ]
     },
     "execution_count": 8,
     "metadata": {},
     "output_type": "execute_result"
    }
   ],
   "source": [
    "#Вычислим какой процент каждой группы составляет в таблице без пропусков df с помощью метода value_counts():\n",
    "df['income_type'].value_counts(normalize = True)"
   ]
  },
  {
   "cell_type": "markdown",
   "metadata": {},
   "source": [
    "Результат: большинство клиентов банка имеют тип занятости 'сотрудник'. И ежемесячный уровень дохода не заполнен так же у этой группы людей(51%). И чтобы их заполнить - вычислим медиану для этой группы.\n",
    "\n",
    "И таким образом поступим для каждой группы."
   ]
  },
  {
   "cell_type": "markdown",
   "metadata": {},
   "source": [
    "Создадим новый столбец, в который вместо пропуска будет подставлено значение медианы, исходя из типа занятости клиента, а остальные значения(без пропуска) останутся без изменений:"
   ]
  },
  {
   "cell_type": "code",
   "execution_count": 9,
   "metadata": {},
   "outputs": [
    {
     "data": {
      "text/html": [
       "<div>\n",
       "<style scoped>\n",
       "    .dataframe tbody tr th:only-of-type {\n",
       "        vertical-align: middle;\n",
       "    }\n",
       "\n",
       "    .dataframe tbody tr th {\n",
       "        vertical-align: top;\n",
       "    }\n",
       "\n",
       "    .dataframe thead th {\n",
       "        text-align: right;\n",
       "    }\n",
       "</style>\n",
       "<table border=\"1\" class=\"dataframe\">\n",
       "  <thead>\n",
       "    <tr style=\"text-align: right;\">\n",
       "      <th></th>\n",
       "      <th>income_type</th>\n",
       "      <th>total_income</th>\n",
       "      <th>new_total_income</th>\n",
       "    </tr>\n",
       "  </thead>\n",
       "  <tbody>\n",
       "    <tr>\n",
       "      <td>21489</td>\n",
       "      <td>компаньон</td>\n",
       "      <td>NaN</td>\n",
       "      <td>172357.950966</td>\n",
       "    </tr>\n",
       "    <tr>\n",
       "      <td>21495</td>\n",
       "      <td>сотрудник</td>\n",
       "      <td>NaN</td>\n",
       "      <td>142594.396847</td>\n",
       "    </tr>\n",
       "    <tr>\n",
       "      <td>21497</td>\n",
       "      <td>компаньон</td>\n",
       "      <td>NaN</td>\n",
       "      <td>172357.950966</td>\n",
       "    </tr>\n",
       "    <tr>\n",
       "      <td>21502</td>\n",
       "      <td>сотрудник</td>\n",
       "      <td>NaN</td>\n",
       "      <td>142594.396847</td>\n",
       "    </tr>\n",
       "    <tr>\n",
       "      <td>21510</td>\n",
       "      <td>сотрудник</td>\n",
       "      <td>NaN</td>\n",
       "      <td>142594.396847</td>\n",
       "    </tr>\n",
       "  </tbody>\n",
       "</table>\n",
       "</div>"
      ],
      "text/plain": [
       "      income_type  total_income  new_total_income\n",
       "21489   компаньон           NaN     172357.950966\n",
       "21495   сотрудник           NaN     142594.396847\n",
       "21497   компаньон           NaN     172357.950966\n",
       "21502   сотрудник           NaN     142594.396847\n",
       "21510   сотрудник           NaN     142594.396847"
      ]
     },
     "execution_count": 9,
     "metadata": {},
     "output_type": "execute_result"
    }
   ],
   "source": [
    "# Создаем новый столбец 'new_total_income' и в него сохраняем данные из столбца 'total_income':\n",
    "df['new_total_income'] = df['total_income']\n",
    "# Для каждого уникального значения из столбца 'income_type':\n",
    "# 1) находим значение медианы в каждой группе\n",
    "# 2) Фильтруем строки по условию: в каждой группе оставляем только строки с пропущенными значениями\n",
    "# 3) Полученный результат заменяем на значение медианы, соответствующей группе:\n",
    "for income_type in df['income_type'].unique():\n",
    "    median_income = df[df['income_type'] == income_type]['total_income'].median()\n",
    "    df.loc[(df['new_total_income'].isna())&\n",
    "           (df['income_type'] == income_type), 'new_total_income'] = median_income\n",
    "# Проверяем результат: выводим столбцы income_type, total_income, new_total_income, \n",
    "# где total_income - это строки, содержащие пропуски:\n",
    "# Выводим последние 5 строк:\n",
    "df[['income_type', 'total_income', 'new_total_income']].query('total_income.isna()').tail(5)"
   ]
  },
  {
   "cell_type": "markdown",
   "metadata": {},
   "source": [
    "В результате создан новый столбец 'new_total_income'. И в дальнейшем для расчетов будем обращаться к нему. Пропуски заполнены."
   ]
  },
  {
   "cell_type": "markdown",
   "metadata": {},
   "source": [
    "Пропуски есть еще и в столбце 'days_employed' -  общий трудовой стаж в днях. Тип данных столбца - float64. Сразу можем сказать, что количество дней не может быть представлено вещественным числом, а только целым. Если, мы выведем столбец на экран, то увидим - отрицательные числа. Из всего вышесказанного следует: возможно при выгрузке информации из баз данных произошла ошибка. Чтобы прояснить ситуацию нужно обратиться к разработчику или человеку, который формировал таблицы.\n",
    "\n",
    "Для нас информация в столбце 'days_employed' является второстепенной. Её мы не будем использовать в расчетах, поэтому удалим столбец:"
   ]
  },
  {
   "cell_type": "code",
   "execution_count": 10,
   "metadata": {},
   "outputs": [
    {
     "name": "stdout",
     "output_type": "stream",
     "text": [
      "<class 'pandas.core.frame.DataFrame'>\n",
      "RangeIndex: 21525 entries, 0 to 21524\n",
      "Data columns (total 11 columns):\n",
      "children            21525 non-null int64\n",
      "dob_years           21525 non-null int64\n",
      "education           21525 non-null object\n",
      "education_id        21525 non-null int64\n",
      "family_status       21525 non-null object\n",
      "family_status_id    21525 non-null int64\n",
      "gender              21525 non-null object\n",
      "income_type         21525 non-null object\n",
      "debt                21525 non-null int64\n",
      "purpose             21525 non-null object\n",
      "new_total_income    21525 non-null float64\n",
      "dtypes: float64(1), int64(5), object(5)\n",
      "memory usage: 1.8+ MB\n"
     ]
    }
   ],
   "source": [
    "#воспользуемся методом drop():\n",
    "df.drop(['days_employed'], axis='columns', inplace=True)\n",
    "df.drop(['total_income'], axis='columns', inplace=True) # Столбец 'total_income' также удалим.\n",
    "df.info() # проверим изменения"
   ]
  },
  {
   "cell_type": "markdown",
   "metadata": {},
   "source": [
    "### Вывод\n",
    "\n",
    "Причины возникновения пропусков в таблицах могут быть разными. \n",
    "\n",
    "У нас в первом случае возникновение пропуска было неслучайно: клиент не указал свой уровень дохода, во втором - возможной причиной стал сбой в системе."
   ]
  },
  {
   "cell_type": "markdown",
   "metadata": {},
   "source": [
    "###  *Замена типа данных*"
   ]
  },
  {
   "cell_type": "markdown",
   "metadata": {},
   "source": [
    "Тип данных в столбце 'total_income' - ежемесячный доход: float64 - представлен в виде числа с плавающей запятой, среди которых есть числа в научном формате(например, 2.265604e+06). Нам для расчетов такая точность чисел не нужна. Поэтому\n",
    "для удобства расчетов и наглядности полученных результатов переведем тип данных столбца 'total_income'  в целочисленный (int64):"
   ]
  },
  {
   "cell_type": "code",
   "execution_count": 11,
   "metadata": {},
   "outputs": [
    {
     "data": {
      "text/plain": [
       "dtype('int64')"
      ]
     },
     "execution_count": 11,
     "metadata": {},
     "output_type": "execute_result"
    }
   ],
   "source": [
    "#т.к. нам нужно преобразовать числовой тип данных в числовой - воспользуемся методом astype():\n",
    "df['new_total_income'] = df['new_total_income'].astype('int')\n",
    "df['new_total_income'].dtype # удостоверимся, что тип данных переведен с float64 на int64\n"
   ]
  },
  {
   "cell_type": "markdown",
   "metadata": {},
   "source": [
    "### Вывод"
   ]
  },
  {
   "cell_type": "markdown",
   "metadata": {},
   "source": [
    "Все нужные нам замены типов данных выполнены. Можем приступать к поиску дубликатов в таблице."
   ]
  },
  {
   "cell_type": "markdown",
   "metadata": {},
   "source": [
    "### *Обработка дубликатов*\n",
    "\n",
    "Проверим данные в таблице на наличие дубликатов. "
   ]
  },
  {
   "cell_type": "code",
   "execution_count": 12,
   "metadata": {},
   "outputs": [
    {
     "data": {
      "text/plain": [
       "54"
      ]
     },
     "execution_count": 12,
     "metadata": {},
     "output_type": "execute_result"
    }
   ],
   "source": [
    "# Применим метод duplicated()в сочетании с методом sum(). Получим общее число дубликатов:\n",
    "\n",
    "df.duplicated().sum()"
   ]
  },
  {
   "cell_type": "markdown",
   "metadata": {},
   "source": [
    "В таблице 54 полностью повторяющихся строк. Возможно совпадений будет больше, если мы применим метод value_counts() для столбцов содержащих категориальные переменные. И устраним ошибки, которые будут найдены с помощью этого метода. \n",
    "\n",
    "Напомним, что 'family_status', 'gender', 'education', 'income_type' - это столбцы, содержащие категориальную переменную:"
   ]
  },
  {
   "cell_type": "code",
   "execution_count": 13,
   "metadata": {},
   "outputs": [
    {
     "name": "stdout",
     "output_type": "stream",
     "text": [
      "женат / замужем          12380\n",
      "гражданский брак          4177\n",
      "Не женат / не замужем     2813\n",
      "в разводе                 1195\n",
      "вдовец / вдова             960\n",
      "Name: family_status, dtype: int64\n",
      "______________\n",
      "F      14236\n",
      "M       7288\n",
      "XNA        1\n",
      "Name: gender, dtype: int64\n",
      "______________\n",
      "среднее                13750\n",
      "высшее                  4718\n",
      "СРЕДНЕЕ                  772\n",
      "Среднее                  711\n",
      "неоконченное высшее      668\n",
      "ВЫСШЕЕ                   274\n",
      "Высшее                   268\n",
      "начальное                250\n",
      "Неоконченное высшее       47\n",
      "НЕОКОНЧЕННОЕ ВЫСШЕЕ       29\n",
      "НАЧАЛЬНОЕ                 17\n",
      "Начальное                 15\n",
      "ученая степень             4\n",
      "УЧЕНАЯ СТЕПЕНЬ             1\n",
      "Ученая степень             1\n",
      "Name: education, dtype: int64\n",
      "Результат после приведения данных к одному регистру: \n",
      "______________\n",
      "сотрудник          11119\n",
      "компаньон           5085\n",
      "пенсионер           3856\n",
      "госслужащий         1459\n",
      "безработный            2\n",
      "предприниматель        2\n",
      "студент                1\n",
      "в декрете              1\n",
      "Name: income_type, dtype: int64\n"
     ]
    }
   ],
   "source": [
    "# Применим метод для столбца 'family_status'\n",
    "print(df['family_status'].value_counts())\n",
    "#В результате: В исправлениях данные не нуждаются\n",
    "print('______________')\n",
    "\n",
    "# Применим метод для столбца 'gender'\n",
    "print(df['gender'].value_counts())\n",
    "#В результате: в столбце где указан пол человека одно уникальное значение 'XNA'. Меньше всего в списке мужчин. \n",
    "# Поэтому с помощью метода replace изменим значение 'XNA' на 'M'\n",
    "df['gender'] = df['gender'].replace('XNA', 'M')\n",
    "#В результате на одного мужчину больше\n",
    "print('______________')\n",
    "\n",
    "# Применим метод для столбца 'education'\n",
    "print(df['education'].value_counts())\n",
    "#В результате: Все слова в столбце написаны в разных регистрах. Применим метод .str.lower(), чтобы все символы в строке\n",
    "#привести к  нижнему регистру\n",
    "df['education'] = df['education'].str.lower()\n",
    "#Снова применим метод value_counts(), чтобы проверить изменения:\n",
    "print('Результат после приведения данных к одному регистру: ')\n",
    "df['education'].value_counts()\n",
    "print('______________')\n",
    "# Применим метод для столбца 'income_type'\n",
    "print(df['income_type'].value_counts())\n",
    "#В результате: В исправлениях данные не нуждаются\n"
   ]
  },
  {
   "cell_type": "markdown",
   "metadata": {},
   "source": [
    "Готово: нужные преобразования выполнены."
   ]
  },
  {
   "cell_type": "code",
   "execution_count": 14,
   "metadata": {},
   "outputs": [
    {
     "data": {
      "text/plain": [
       "71"
      ]
     },
     "execution_count": 14,
     "metadata": {},
     "output_type": "execute_result"
    }
   ],
   "source": [
    "#Проверим как выполненные нами исправления повлияли на количество дубликатов\n",
    "df.duplicated().sum()"
   ]
  },
  {
   "cell_type": "markdown",
   "metadata": {},
   "source": [
    "Как видим, количество совпадений увеличилось. \n",
    "\n",
    "Удалим их из таблицы:"
   ]
  },
  {
   "cell_type": "code",
   "execution_count": 15,
   "metadata": {},
   "outputs": [
    {
     "name": "stdout",
     "output_type": "stream",
     "text": [
      "<class 'pandas.core.frame.DataFrame'>\n",
      "RangeIndex: 21454 entries, 0 to 21453\n",
      "Data columns (total 11 columns):\n",
      "children            21454 non-null int64\n",
      "dob_years           21454 non-null int64\n",
      "education           21454 non-null object\n",
      "education_id        21454 non-null int64\n",
      "family_status       21454 non-null object\n",
      "family_status_id    21454 non-null int64\n",
      "gender              21454 non-null object\n",
      "income_type         21454 non-null object\n",
      "debt                21454 non-null int64\n",
      "purpose             21454 non-null object\n",
      "new_total_income    21454 non-null int64\n",
      "dtypes: int64(6), object(5)\n",
      "memory usage: 1.8+ MB\n"
     ]
    }
   ],
   "source": [
    "#Применим метод drop_duplicates() вместе с методом Reset_index(), чтобы старые индексы были удалены, \n",
    "#а новые индексы были переписаны в порядке возрастания, без пропусков\n",
    "# и перезапишем результат:\n",
    "df=df.drop_duplicates().reset_index(drop = True)\n",
    "df.info() # Проверяем результат"
   ]
  },
  {
   "cell_type": "markdown",
   "metadata": {},
   "source": [
    "### Вывод\n",
    "\n"
   ]
  },
  {
   "cell_type": "markdown",
   "metadata": {},
   "source": [
    "Все дубликаты удалены. Строк в таблице осталось 21454.\n",
    "\n",
    "\n",
    "Возможная причина возникновения дубликатов в данной таблице: у одного клиента банка есть несколько кредитов.\n",
    "\n",
    "\n",
    "### *Лемматизация*\n",
    "\n",
    "Обратим внимание на столбец 'purpose' - цель получения кредита. Он потребуется нам для расчетов, которые помогут ответить на вопрос: как разные цели кредита влияют на его возврат в срок? В нем хранятся значения данных, имеющие один смысл, но написанные по-разному, например: \"покупка жилья\" и \"покупка жилья для семьи\". С такими данными будет сложно работать. \n",
    "\n",
    "Приведем их к одному виду. Для этого используем алгоритм для поиска слов, записанных в разных формах - лемматизацию. В итоге получим список слов, приведенных к его словарной форме."
   ]
  },
  {
   "cell_type": "code",
   "execution_count": 16,
   "metadata": {},
   "outputs": [
    {
     "name": "stdout",
     "output_type": "stream",
     "text": [
      "Counter({' ': 55023, 'недвижимость': 6351, 'покупка': 5897, 'жилье': 4460, 'автомобиль': 4306, 'образование': 4013, 'с': 2918, 'операция': 2604, 'свадьба': 2324, 'свой': 2230, 'на': 2222, 'строительство': 1878, 'высокий': 1374, 'получение': 1314, 'коммерческий': 1311, 'для': 1289, 'жилой': 1230, 'сделка': 941, 'дополнительный': 906, 'заниматься': 904, 'подержать': 853, 'проведение': 768, 'сыграть': 765, 'сдача': 651, 'семья': 638, 'собственный': 635, 'со': 627, 'ремонт': 607, 'приобретение': 461, 'профильный': 436, 'подержанный': 111, '\\n': 1})\n"
     ]
    },
    {
     "data": {
      "text/html": [
       "<div>\n",
       "<style scoped>\n",
       "    .dataframe tbody tr th:only-of-type {\n",
       "        vertical-align: middle;\n",
       "    }\n",
       "\n",
       "    .dataframe tbody tr th {\n",
       "        vertical-align: top;\n",
       "    }\n",
       "\n",
       "    .dataframe thead th {\n",
       "        text-align: right;\n",
       "    }\n",
       "</style>\n",
       "<table border=\"1\" class=\"dataframe\">\n",
       "  <thead>\n",
       "    <tr style=\"text-align: right;\">\n",
       "      <th></th>\n",
       "      <th>purpose</th>\n",
       "      <th>conversion_one</th>\n",
       "      <th>conversion_two</th>\n",
       "    </tr>\n",
       "  </thead>\n",
       "  <tbody>\n",
       "    <tr>\n",
       "      <td>0</td>\n",
       "      <td>покупка жилья</td>\n",
       "      <td>[покупка,  , жилье, \\n]</td>\n",
       "      <td>жилье</td>\n",
       "    </tr>\n",
       "    <tr>\n",
       "      <td>1</td>\n",
       "      <td>приобретение автомобиля</td>\n",
       "      <td>[приобретение,  , автомобиль, \\n]</td>\n",
       "      <td>автомобиль</td>\n",
       "    </tr>\n",
       "    <tr>\n",
       "      <td>2</td>\n",
       "      <td>покупка жилья</td>\n",
       "      <td>[покупка,  , жилье, \\n]</td>\n",
       "      <td>жилье</td>\n",
       "    </tr>\n",
       "    <tr>\n",
       "      <td>3</td>\n",
       "      <td>дополнительное образование</td>\n",
       "      <td>[дополнительный,  , образование, \\n]</td>\n",
       "      <td>образование</td>\n",
       "    </tr>\n",
       "    <tr>\n",
       "      <td>4</td>\n",
       "      <td>сыграть свадьбу</td>\n",
       "      <td>[сыграть,  , свадьба, \\n]</td>\n",
       "      <td>свадьба</td>\n",
       "    </tr>\n",
       "    <tr>\n",
       "      <td>5</td>\n",
       "      <td>покупка жилья</td>\n",
       "      <td>[покупка,  , жилье, \\n]</td>\n",
       "      <td>жилье</td>\n",
       "    </tr>\n",
       "    <tr>\n",
       "      <td>6</td>\n",
       "      <td>операции с жильем</td>\n",
       "      <td>[операция,  , с,  , жилье, \\n]</td>\n",
       "      <td>жилье</td>\n",
       "    </tr>\n",
       "    <tr>\n",
       "      <td>7</td>\n",
       "      <td>образование</td>\n",
       "      <td>[образование, \\n]</td>\n",
       "      <td>образование</td>\n",
       "    </tr>\n",
       "    <tr>\n",
       "      <td>8</td>\n",
       "      <td>на проведение свадьбы</td>\n",
       "      <td>[на,  , проведение,  , свадьба, \\n]</td>\n",
       "      <td>свадьба</td>\n",
       "    </tr>\n",
       "    <tr>\n",
       "      <td>9</td>\n",
       "      <td>покупка жилья для семьи</td>\n",
       "      <td>[покупка,  , жилье,  , для,  , семья, \\n]</td>\n",
       "      <td>жилье</td>\n",
       "    </tr>\n",
       "    <tr>\n",
       "      <td>10</td>\n",
       "      <td>покупка недвижимости</td>\n",
       "      <td>[покупка,  , недвижимость, \\n]</td>\n",
       "      <td>недвижимость</td>\n",
       "    </tr>\n",
       "    <tr>\n",
       "      <td>11</td>\n",
       "      <td>покупка коммерческой недвижимости</td>\n",
       "      <td>[покупка,  , коммерческий,  , недвижимость, \\n]</td>\n",
       "      <td>недвижимость</td>\n",
       "    </tr>\n",
       "    <tr>\n",
       "      <td>12</td>\n",
       "      <td>сыграть свадьбу</td>\n",
       "      <td>[сыграть,  , свадьба, \\n]</td>\n",
       "      <td>свадьба</td>\n",
       "    </tr>\n",
       "    <tr>\n",
       "      <td>13</td>\n",
       "      <td>приобретение автомобиля</td>\n",
       "      <td>[приобретение,  , автомобиль, \\n]</td>\n",
       "      <td>автомобиль</td>\n",
       "    </tr>\n",
       "    <tr>\n",
       "      <td>14</td>\n",
       "      <td>покупка жилой недвижимости</td>\n",
       "      <td>[покупка,  , жилой,  , недвижимость, \\n]</td>\n",
       "      <td>недвижимость</td>\n",
       "    </tr>\n",
       "    <tr>\n",
       "      <td>15</td>\n",
       "      <td>строительство собственной недвижимости</td>\n",
       "      <td>[строительство,  , собственный,  , недвижимост...</td>\n",
       "      <td>недвижимость</td>\n",
       "    </tr>\n",
       "    <tr>\n",
       "      <td>16</td>\n",
       "      <td>недвижимость</td>\n",
       "      <td>[недвижимость, \\n]</td>\n",
       "      <td>недвижимость</td>\n",
       "    </tr>\n",
       "    <tr>\n",
       "      <td>17</td>\n",
       "      <td>строительство недвижимости</td>\n",
       "      <td>[строительство,  , недвижимость, \\n]</td>\n",
       "      <td>недвижимость</td>\n",
       "    </tr>\n",
       "    <tr>\n",
       "      <td>18</td>\n",
       "      <td>на покупку подержанного автомобиля</td>\n",
       "      <td>[на,  , покупка,  , подержать,  , автомобиль, \\n]</td>\n",
       "      <td>автомобиль</td>\n",
       "    </tr>\n",
       "    <tr>\n",
       "      <td>19</td>\n",
       "      <td>на покупку своего автомобиля</td>\n",
       "      <td>[на,  , покупка,  , свой,  , автомобиль, \\n]</td>\n",
       "      <td>автомобиль</td>\n",
       "    </tr>\n",
       "  </tbody>\n",
       "</table>\n",
       "</div>"
      ],
      "text/plain": [
       "                                   purpose  \\\n",
       "0                            покупка жилья   \n",
       "1                  приобретение автомобиля   \n",
       "2                            покупка жилья   \n",
       "3               дополнительное образование   \n",
       "4                          сыграть свадьбу   \n",
       "5                            покупка жилья   \n",
       "6                        операции с жильем   \n",
       "7                              образование   \n",
       "8                    на проведение свадьбы   \n",
       "9                  покупка жилья для семьи   \n",
       "10                    покупка недвижимости   \n",
       "11       покупка коммерческой недвижимости   \n",
       "12                         сыграть свадьбу   \n",
       "13                 приобретение автомобиля   \n",
       "14              покупка жилой недвижимости   \n",
       "15  строительство собственной недвижимости   \n",
       "16                            недвижимость   \n",
       "17              строительство недвижимости   \n",
       "18      на покупку подержанного автомобиля   \n",
       "19            на покупку своего автомобиля   \n",
       "\n",
       "                                       conversion_one conversion_two  \n",
       "0                             [покупка,  , жилье, \\n]          жилье  \n",
       "1                   [приобретение,  , автомобиль, \\n]     автомобиль  \n",
       "2                             [покупка,  , жилье, \\n]          жилье  \n",
       "3                [дополнительный,  , образование, \\n]    образование  \n",
       "4                           [сыграть,  , свадьба, \\n]        свадьба  \n",
       "5                             [покупка,  , жилье, \\n]          жилье  \n",
       "6                      [операция,  , с,  , жилье, \\n]          жилье  \n",
       "7                                   [образование, \\n]    образование  \n",
       "8                 [на,  , проведение,  , свадьба, \\n]        свадьба  \n",
       "9           [покупка,  , жилье,  , для,  , семья, \\n]          жилье  \n",
       "10                     [покупка,  , недвижимость, \\n]   недвижимость  \n",
       "11    [покупка,  , коммерческий,  , недвижимость, \\n]   недвижимость  \n",
       "12                          [сыграть,  , свадьба, \\n]        свадьба  \n",
       "13                  [приобретение,  , автомобиль, \\n]     автомобиль  \n",
       "14           [покупка,  , жилой,  , недвижимость, \\n]   недвижимость  \n",
       "15  [строительство,  , собственный,  , недвижимост...   недвижимость  \n",
       "16                                 [недвижимость, \\n]   недвижимость  \n",
       "17               [строительство,  , недвижимость, \\n]   недвижимость  \n",
       "18  [на,  , покупка,  , подержать,  , автомобиль, \\n]     автомобиль  \n",
       "19       [на,  , покупка,  , свой,  , автомобиль, \\n]     автомобиль  "
      ]
     },
     "execution_count": 16,
     "metadata": {},
     "output_type": "execute_result"
    }
   ],
   "source": [
    "# Отсортируем данные в столбце 'purpose' по возрастанию:\n",
    "df.sort_values('purpose')\n",
    "from pymystem3 import Mystem # импортируем библиотеку с функцией лемматизации\n",
    "from collections import Counter# вызовем специальный контейнер, чтобы подсчитать количество уникальных значений\n",
    "m = Mystem()\n",
    "text = ' '.join(list(df['purpose'])) \n",
    "lemmas = m.lemmatize(text)\n",
    "print(Counter(lemmas))\n",
    "\n",
    "#из результата  Counter выберем существительные и создадим словарь:\n",
    "vocabulary = ['недвижимость', 'автомобиль', 'образование', 'свадьба', 'жилье', 'строительство', 'ремонт']\n",
    "\n",
    "#добавим к столбцу 'purpose' новый столбец с помощью метода apply(). \n",
    "#В итоге получим столбец со словами, приведенных к их словарной форме.\n",
    "conversion_one = df['conversion_one'] = df['purpose'].apply(m.lemmatize)\n",
    "\n",
    "#создадим функцию, которая для каждого значения  из словаря 'vocabulary' ищет совпадение со значением\n",
    "#столбца 'conversion_one' и возвращает значение из словаря\n",
    "def replacement_words(conversion_one):\n",
    "    for i in vocabulary:\n",
    "        if i in conversion_one:\n",
    "            return i\n",
    "        \n",
    "#добавим новый столбец, в котором останутся только слова из словаря 'vocabulary'. В качестве аргумента  метода apply() \n",
    "#подставим функцию replacement_words\n",
    "df['conversion_two'] = df['conversion_one'].apply(replacement_words)\n",
    "(df[['purpose', 'conversion_one', 'conversion_two']].head(20)) # Проверим результат"
   ]
  },
  {
   "cell_type": "markdown",
   "metadata": {},
   "source": [
    "### Вывод"
   ]
  },
  {
   "cell_type": "markdown",
   "metadata": {},
   "source": [
    "Все значения в столбце 'purpose' (цель получения кредита) преобразованы. Теперь мы с легкостью сможем разбить все цели на группы: 'недвижимость', 'автомобиль', 'образование', 'свадьба', 'жилье', 'строительство', 'ремонт' и быстро ответим на вопрос: как разные цели кредита влияют на его возврат в срок? "
   ]
  },
  {
   "cell_type": "markdown",
   "metadata": {},
   "source": [
    "### *Категоризация данных*"
   ]
  },
  {
   "cell_type": "markdown",
   "metadata": {},
   "source": [
    "\n",
    "Рассмотрим столбец с ежемесячными доходами  'total_income': у каждого заемщика свой уровень дохода в месяц. Цифры между собой сильно различаются. У одного 20000 в месяц , у другого - 100000 на семью. Нам нужно ответить на вопрос: есть ли зависимость между уровнем дохода и возвратом кредита в срок? Чтобы легче было ответить на него - нужно разбить цифры на категории - группы, объединяющие данные по какому-то признаку. В случае уровня дохода: можно посмотреть каков средний уровень дохода в России по данным Росстата. Но, опять же, нужно учесть что в различных регионах России свои средний уровень дохода. У нас в таблице данных о том где проживают клиенты нет, поэтому посчитаем квантили для данного столбца: 0.25, 0.50, 0,75. И уже, исходя из полученных цифр, будем делить клиентов на группы: 'Низкий', 'Средний', 'Высокий', 'Очень высокий'\n",
    "Но перед этим посчитаем какой уровень дохода приходится на одного человека в каждой семье клиента банка."
   ]
  },
  {
   "cell_type": "code",
   "execution_count": 17,
   "metadata": {},
   "outputs": [
    {
     "name": "stdout",
     "output_type": "stream",
     "text": [
      "float64\n",
      "0    84625\n",
      "1    37360\n",
      "2    72942\n",
      "3    53525\n",
      "4    79308\n",
      "Name: total_income_end, dtype: int64\n"
     ]
    }
   ],
   "source": [
    "# Если человек 'женат / замужем' или в 'гражданском браке' прибавим 2 к количеству детей(столбец 'children'); \n",
    "# остальным - +1.\n",
    "# Таким образом узнаем сколько в семье человек\n",
    "# Затем общий ежемесячный доход разделим на количество человек в семье\n",
    "# Создадим функцию, которая будет возвращать общее число человек в семье:\n",
    "def test(row): #передаем всю строчку датафрейма\n",
    "    family_status_id = row['family_status_id'] #  поле датайфрема, с помощью которого хочется создать новое поле\n",
    "    children = row['children'] # еще одно поле для датафрейма, с которым будем работать\n",
    "    if family_status_id == 0 or 1:\n",
    "        return children + 2\n",
    "    return children + 1\n",
    "\n",
    "#С помощью метода apply() добавим новый столбец к таблице:\n",
    "df['new_field'] = df.apply(test, axis = 1)\n",
    "#print(df.head(5)) # Проверим результат\n",
    "\n",
    "# Посчитаем уровень дохода на одного человека в каждой семье. Сохраним результат в новом столбце df['total_income_end']\n",
    "df['total_income_end'] = df['new_total_income'] / df['new_field']\n",
    "#print(df.head(5))\n",
    "print(df['total_income_end'].dtypes) # Изменим тип данных в столбце df['total_income_end'] с с float64 на int64\n",
    "df['total_income_end'] = df['total_income_end'].astype('int')   \n",
    "print(df['total_income_end'].head(5)) # Проверим результат"
   ]
  },
  {
   "cell_type": "markdown",
   "metadata": {},
   "source": [
    "Для того чтобы рассчитать квантили для данного столбца 'total_income_end': 0.25, 0.50, 0,75 отсортируем его в порядке возрастания."
   ]
  },
  {
   "cell_type": "code",
   "execution_count": 18,
   "metadata": {},
   "outputs": [
    {
     "name": "stdout",
     "output_type": "stream",
     "text": [
      "0.25   42929.00\n",
      "Name: total_income_end, dtype: float64\n",
      "0.50   61364.00\n",
      "Name: total_income_end, dtype: float64\n",
      "0.75   86178.00\n",
      "Name: total_income_end, dtype: float64\n"
     ]
    }
   ],
   "source": [
    "pd.options.display.float_format = '{:.2f}'.format  # Задаем формат вывода чисел \n",
    "quantile_one = df.total_income_end.quantile([.25]) # С помощью метода quantile() вычислили 0.25 квантиль\n",
    "quantile_two = df.total_income_end.quantile([.50]) # С помощью метода quantile() вычислили 0.50 квантиль\n",
    "quantile = df.total_income_end.quantile([.75])     # С помощью метода quantile() вычислили 0.75 квантиль\n",
    "# Выведем полученный результат на экран:\n",
    "print(quantile_one) \n",
    "print(quantile_two)\n",
    "print(quantile)"
   ]
  },
  {
   "cell_type": "markdown",
   "metadata": {},
   "source": [
    "Создадим функцию income_func, результатом которой будет группировка столбца 'total_income_end': доход меньше 42929 - низкий, от 42929 до 61364 - средний, от 61364 до 86178 - высокий, выше 86178 - очень высокий"
   ]
  },
  {
   "cell_type": "code",
   "execution_count": 19,
   "metadata": {},
   "outputs": [
    {
     "name": "stdout",
     "output_type": "stream",
     "text": [
      "очень высокий\n"
     ]
    }
   ],
   "source": [
    "# Назовем функцию income_func, в аргумент которой будем передавать данные столбца total_income_end:\n",
    "# Далее задаем нужные нам условия:\n",
    "def income_func(total_income_end):\n",
    "    if total_income_end < 42929:\n",
    "        return 'низкий'\n",
    "    elif 42929 <= total_income_end < 61364:\n",
    "        return 'средний'\n",
    "    elif total_income_end >= 86178:\n",
    "        return 'очень высокий'\n",
    "    return 'высокий'\n",
    "# Проверим как работает функция - подставим в качестве аргумента конкретное число:\n",
    "a = income_func(10000000)\n",
    "print(a)\n"
   ]
  },
  {
   "cell_type": "markdown",
   "metadata": {},
   "source": [
    "Функция работает корректно.\n",
    " \n",
    "Создадим новый столбец, в котором значения - это группировка клиентов банка, исходя из уровня дохода на одного человека в семье."
   ]
  },
  {
   "cell_type": "code",
   "execution_count": 20,
   "metadata": {},
   "outputs": [
    {
     "data": {
      "text/html": [
       "<div>\n",
       "<style scoped>\n",
       "    .dataframe tbody tr th:only-of-type {\n",
       "        vertical-align: middle;\n",
       "    }\n",
       "\n",
       "    .dataframe tbody tr th {\n",
       "        vertical-align: top;\n",
       "    }\n",
       "\n",
       "    .dataframe thead th {\n",
       "        text-align: right;\n",
       "    }\n",
       "</style>\n",
       "<table border=\"1\" class=\"dataframe\">\n",
       "  <thead>\n",
       "    <tr style=\"text-align: right;\">\n",
       "      <th></th>\n",
       "      <th>new_total_income</th>\n",
       "      <th>total_income_end</th>\n",
       "      <th>income_group</th>\n",
       "    </tr>\n",
       "  </thead>\n",
       "  <tbody>\n",
       "    <tr>\n",
       "      <td>0</td>\n",
       "      <td>253875</td>\n",
       "      <td>84625</td>\n",
       "      <td>высокий</td>\n",
       "    </tr>\n",
       "    <tr>\n",
       "      <td>1</td>\n",
       "      <td>112080</td>\n",
       "      <td>37360</td>\n",
       "      <td>низкий</td>\n",
       "    </tr>\n",
       "    <tr>\n",
       "      <td>2</td>\n",
       "      <td>145885</td>\n",
       "      <td>72942</td>\n",
       "      <td>высокий</td>\n",
       "    </tr>\n",
       "    <tr>\n",
       "      <td>3</td>\n",
       "      <td>267628</td>\n",
       "      <td>53525</td>\n",
       "      <td>средний</td>\n",
       "    </tr>\n",
       "    <tr>\n",
       "      <td>4</td>\n",
       "      <td>158616</td>\n",
       "      <td>79308</td>\n",
       "      <td>высокий</td>\n",
       "    </tr>\n",
       "  </tbody>\n",
       "</table>\n",
       "</div>"
      ],
      "text/plain": [
       "   new_total_income  total_income_end income_group\n",
       "0            253875             84625      высокий\n",
       "1            112080             37360       низкий\n",
       "2            145885             72942      высокий\n",
       "3            267628             53525      средний\n",
       "4            158616             79308      высокий"
      ]
     },
     "execution_count": 20,
     "metadata": {},
     "output_type": "execute_result"
    }
   ],
   "source": [
    "# Используем метод apply(): \n",
    "#берет значения столбца 'total_income_end' и применяет к ним функцию income_func из своего аргумента\n",
    "df['income_group'] = df['total_income_end'].apply(income_func)\n",
    "df[['new_total_income', 'total_income_end', 'income_group']].head(5) # Проверим полученный результат"
   ]
  },
  {
   "cell_type": "code",
   "execution_count": 21,
   "metadata": {},
   "outputs": [
    {
     "data": {
      "text/plain": [
       "очень высокий    5570\n",
       "средний          5365\n",
       "низкий           5362\n",
       "высокий          5157\n",
       "Name: income_group, dtype: int64"
      ]
     },
     "execution_count": 21,
     "metadata": {},
     "output_type": "execute_result"
    }
   ],
   "source": [
    "# Выведем статистику по группам:\n",
    "df['income_group'].value_counts()"
   ]
  },
  {
   "cell_type": "markdown",
   "metadata": {},
   "source": [
    "В итоге: поделили всех заемщиков банка на 4 категории. Видим, что каждая категория содержит приблизительно одинаковое количество пользователей.\n",
    "\n",
    "\n",
    "\n",
    "В таблице есть еще один столбец с количественными переменными - 'children' - количество детей, который также нужно поделить на категории."
   ]
  },
  {
   "cell_type": "markdown",
   "metadata": {},
   "source": [
    "Разделим всех заемщиков банка на три группы в зависимости от количества детей: бездетные, 1-2 ребенка, многодетные.\n"
   ]
  },
  {
   "cell_type": "code",
   "execution_count": 22,
   "metadata": {},
   "outputs": [
    {
     "name": "stdout",
     "output_type": "stream",
     "text": [
      " 0     14091\n",
      " 1      4808\n",
      " 2      2052\n",
      " 3       330\n",
      " 20       76\n",
      "-1        47\n",
      " 4        41\n",
      " 5         9\n",
      "Name: children, dtype: int64\n"
     ]
    },
    {
     "data": {
      "text/plain": [
       "0    14167\n",
       "1     4855\n",
       "2     2052\n",
       "3      330\n",
       "4       41\n",
       "5        9\n",
       "Name: children, dtype: int64"
      ]
     },
     "execution_count": 22,
     "metadata": {},
     "output_type": "execute_result"
    }
   ],
   "source": [
    "# проверим сколько уникальных значений в столбце  'children' :\n",
    "print(df['children'].value_counts())\n",
    "# В результате: есть значение '-1'  и '20'.\n",
    "#'-1' заменим на значение '1', а '20' заменим на '0' с помощью метода Replace():\n",
    "df['children'] = df['children'].replace(-1, 1)\n",
    "df['children'] = df['children'].replace(20, 0)\n",
    "# Проверим замену:\n",
    "df['children'].value_counts()"
   ]
  },
  {
   "cell_type": "markdown",
   "metadata": {},
   "source": [
    "Сгруппируем всех клиентов банка по наличию детей следующим образом: 0 - 'Бездетные'; 1-2 - '1-2 ребенка'; от 3 и более - 'Многодетные'"
   ]
  },
  {
   "cell_type": "code",
   "execution_count": 23,
   "metadata": {},
   "outputs": [
    {
     "name": "stdout",
     "output_type": "stream",
     "text": [
      "Многодетные\n"
     ]
    }
   ],
   "source": [
    "# Напишем функцию availability_children:\n",
    "def availability_children(children):\n",
    "    if children == 0:\n",
    "        return 'Бездетные'\n",
    "    elif 0 < children < 3:\n",
    "        return '1-2 ребенка'\n",
    "    return 'Многодетные'\n",
    "# Проверим результат работы функции availability_children:\n",
    "a = availability_children(3)\n",
    "print(a)\n"
   ]
  },
  {
   "cell_type": "markdown",
   "metadata": {},
   "source": [
    "Функция работает корректно."
   ]
  },
  {
   "cell_type": "code",
   "execution_count": 24,
   "metadata": {},
   "outputs": [
    {
     "data": {
      "text/plain": [
       "Бездетные      14167\n",
       "1-2 ребенка     6907\n",
       "Многодетные      380\n",
       "Name: children_group, dtype: int64"
      ]
     },
     "execution_count": 24,
     "metadata": {},
     "output_type": "execute_result"
    }
   ],
   "source": [
    "# Создадим отдельный столбец 'children_group', в котором значения - это группировка клиентов банка, \n",
    "#исходя из количества детей\n",
    "# Вызовем метод apply(): \n",
    "#берет значения столбца 'children' и применяет к ним функцию availability_children из своего аргумента\n",
    "df['children_group'] = df['children'].apply(availability_children)\n",
    "# Выведем статистику по группам:\n",
    "df['children_group'].value_counts()\n"
   ]
  },
  {
   "cell_type": "markdown",
   "metadata": {},
   "source": [
    "В итоге: данные столбца 'children' - количество детей разбиты на категории: 'Бездетные', '1-2 ребенка', 'Многодетные'. \n",
    "\n",
    "Как видим из статистики: большинство заемщиков не имеют детей.     "
   ]
  },
  {
   "cell_type": "markdown",
   "metadata": {},
   "source": [
    "## Ответы на вопросы"
   ]
  },
  {
   "cell_type": "markdown",
   "metadata": {},
   "source": [
    "- Есть ли зависимость между наличием детей и возвратом кредита в срок?\n",
    "\n",
    "Думаю, что клиенты, у которых есть дети чаще не возвращают кредит в срок. Проверим данное предположение."
   ]
  },
  {
   "cell_type": "code",
   "execution_count": 25,
   "metadata": {},
   "outputs": [
    {
     "name": "stdout",
     "output_type": "stream",
     "text": [
      "[0 1]\n"
     ]
    },
    {
     "data": {
      "text/html": [
       "<div>\n",
       "<style scoped>\n",
       "    .dataframe tbody tr th:only-of-type {\n",
       "        vertical-align: middle;\n",
       "    }\n",
       "\n",
       "    .dataframe tbody tr th {\n",
       "        vertical-align: top;\n",
       "    }\n",
       "\n",
       "    .dataframe thead th {\n",
       "        text-align: right;\n",
       "    }\n",
       "</style>\n",
       "<table border=\"1\" class=\"dataframe\">\n",
       "  <thead>\n",
       "    <tr style=\"text-align: right;\">\n",
       "      <th></th>\n",
       "      <th>no_debt</th>\n",
       "      <th>yes_debt</th>\n",
       "      <th>sum_total</th>\n",
       "      <th>percent_yes_debt</th>\n",
       "    </tr>\n",
       "    <tr>\n",
       "      <th>children_group</th>\n",
       "      <th></th>\n",
       "      <th></th>\n",
       "      <th></th>\n",
       "      <th></th>\n",
       "    </tr>\n",
       "  </thead>\n",
       "  <tbody>\n",
       "    <tr>\n",
       "      <td>1-2 ребенка</td>\n",
       "      <td>6268</td>\n",
       "      <td>639</td>\n",
       "      <td>6907</td>\n",
       "      <td>9.25%</td>\n",
       "    </tr>\n",
       "    <tr>\n",
       "      <td>Бездетные</td>\n",
       "      <td>13096</td>\n",
       "      <td>1071</td>\n",
       "      <td>14167</td>\n",
       "      <td>7.56%</td>\n",
       "    </tr>\n",
       "    <tr>\n",
       "      <td>Многодетные</td>\n",
       "      <td>349</td>\n",
       "      <td>31</td>\n",
       "      <td>380</td>\n",
       "      <td>8.16%</td>\n",
       "    </tr>\n",
       "    <tr>\n",
       "      <td>All</td>\n",
       "      <td>19713</td>\n",
       "      <td>1741</td>\n",
       "      <td>21454</td>\n",
       "      <td>8.12%</td>\n",
       "    </tr>\n",
       "  </tbody>\n",
       "</table>\n",
       "</div>"
      ],
      "text/plain": [
       "                no_debt  yes_debt  sum_total  percent_yes_debt\n",
       "children_group                                                \n",
       "1-2 ребенка        6268       639       6907             9.25%\n",
       "Бездетные         13096      1071      14167             7.56%\n",
       "Многодетные         349        31        380             8.16%\n",
       "All               19713      1741      21454             8.12%"
      ]
     },
     "execution_count": 25,
     "metadata": {},
     "output_type": "execute_result"
    }
   ],
   "source": [
    "# Рассмотрим столбец 'debt'. В нем данные логического типа: 0 - не было просрочки по кредиту, 1 - задолженность была\n",
    "# Убедимся, что в столбце только значение 0 и 1:\n",
    "print(df['debt'].unique())\n",
    "# Создадим сводную таблицу result_children с помощью метода pivot_table, аргументами которой будут:\n",
    "# index = 'children_group', columns = 'debt', values = 'children', aggfunc = count():\n",
    "result_children = df.pivot_table(index = ['children_group'], columns='debt', values = 'children', aggfunc = 'count', \n",
    "                                 margins=True)\n",
    "#print(result_children)\n",
    "# Добавим к сводной таблице столбец percent_debt с расчетами: \n",
    "# какой процент составляет количество просрочек в каждой группе \n",
    "pd.options.display.float_format = '{:.2%}'.format # Зададим формат, чтобы результат в новом столбце был выведен в %\n",
    "result_children['percent_yes_debt'] = result_children[1] / result_children['All']\n",
    "#переименуем названия столбцов:\n",
    "result_children.columns = ['no_debt', 'yes_debt', 'sum_total', 'percent_yes_debt']\n",
    "result_children # Выведем статистику на экран"
   ]
  },
  {
   "cell_type": "markdown",
   "metadata": {},
   "source": [
    "### Вывод"
   ]
  },
  {
   "cell_type": "markdown",
   "metadata": {},
   "source": [
    "Как видно из результатов статистики: предположение оказалось верным. Больше всего не возвращают кредит в срок клиенты, у которых есть дети.\n",
    "\n",
    "Большинство заемщиков не имеют детей. "
   ]
  },
  {
   "cell_type": "markdown",
   "metadata": {},
   "source": [
    "- Есть ли зависимость между семейным положением и возвратом кредита в срок?\n",
    "\n",
    "\n",
    "Предположим: что люди, у которых семейное положение 'Не женат / не замужем'  чаще не возвращают кредит в срок."
   ]
  },
  {
   "cell_type": "code",
   "execution_count": 26,
   "metadata": {},
   "outputs": [
    {
     "data": {
      "text/html": [
       "<div>\n",
       "<style scoped>\n",
       "    .dataframe tbody tr th:only-of-type {\n",
       "        vertical-align: middle;\n",
       "    }\n",
       "\n",
       "    .dataframe tbody tr th {\n",
       "        vertical-align: top;\n",
       "    }\n",
       "\n",
       "    .dataframe thead th {\n",
       "        text-align: right;\n",
       "    }\n",
       "</style>\n",
       "<table border=\"1\" class=\"dataframe\">\n",
       "  <thead>\n",
       "    <tr style=\"text-align: right;\">\n",
       "      <th></th>\n",
       "      <th>no_debt</th>\n",
       "      <th>yes_debt</th>\n",
       "      <th>sum_total</th>\n",
       "      <th>percent_yes_debt</th>\n",
       "    </tr>\n",
       "    <tr>\n",
       "      <th>family_status</th>\n",
       "      <th></th>\n",
       "      <th></th>\n",
       "      <th></th>\n",
       "      <th></th>\n",
       "    </tr>\n",
       "  </thead>\n",
       "  <tbody>\n",
       "    <tr>\n",
       "      <td>Не женат / не замужем</td>\n",
       "      <td>2536</td>\n",
       "      <td>274</td>\n",
       "      <td>2810</td>\n",
       "      <td>9.75%</td>\n",
       "    </tr>\n",
       "    <tr>\n",
       "      <td>в разводе</td>\n",
       "      <td>1110</td>\n",
       "      <td>85</td>\n",
       "      <td>1195</td>\n",
       "      <td>7.11%</td>\n",
       "    </tr>\n",
       "    <tr>\n",
       "      <td>вдовец / вдова</td>\n",
       "      <td>896</td>\n",
       "      <td>63</td>\n",
       "      <td>959</td>\n",
       "      <td>6.57%</td>\n",
       "    </tr>\n",
       "    <tr>\n",
       "      <td>гражданский брак</td>\n",
       "      <td>3763</td>\n",
       "      <td>388</td>\n",
       "      <td>4151</td>\n",
       "      <td>9.35%</td>\n",
       "    </tr>\n",
       "    <tr>\n",
       "      <td>женат / замужем</td>\n",
       "      <td>11408</td>\n",
       "      <td>931</td>\n",
       "      <td>12339</td>\n",
       "      <td>7.55%</td>\n",
       "    </tr>\n",
       "    <tr>\n",
       "      <td>All</td>\n",
       "      <td>19713</td>\n",
       "      <td>1741</td>\n",
       "      <td>21454</td>\n",
       "      <td>8.12%</td>\n",
       "    </tr>\n",
       "  </tbody>\n",
       "</table>\n",
       "</div>"
      ],
      "text/plain": [
       "                       no_debt  yes_debt  sum_total  percent_yes_debt\n",
       "family_status                                                        \n",
       "Не женат / не замужем     2536       274       2810             9.75%\n",
       "в разводе                 1110        85       1195             7.11%\n",
       "вдовец / вдова             896        63        959             6.57%\n",
       "гражданский брак          3763       388       4151             9.35%\n",
       "женат / замужем          11408       931      12339             7.55%\n",
       "All                      19713      1741      21454             8.12%"
      ]
     },
     "execution_count": 26,
     "metadata": {},
     "output_type": "execute_result"
    }
   ],
   "source": [
    "# создадим сводную таблицу total_family с помощью метода pivot_table, аргументами которой будут:\n",
    "# index = 'family_status', columns = 'debt', values = 'family_status_id', aggfunc = count():\n",
    "total_family = df.pivot_table(index = ['family_status'], columns = 'debt', values = 'family_status_id', \n",
    "                              aggfunc = 'count',\n",
    "                              margins = True)\n",
    "pd.options.display.float_format = '{:.2%}'.format # Зададим формат, чтобы результат в новом столбце был выведен в %\n",
    "total_family['percent'] = total_family[1] / total_family['All']\n",
    "total_family.columns = ['no_debt', 'yes_debt', 'sum_total', 'percent_yes_debt']\n",
    "total_family"
   ]
  },
  {
   "cell_type": "markdown",
   "metadata": {},
   "source": [
    "### Вывод"
   ]
  },
  {
   "cell_type": "markdown",
   "metadata": {},
   "source": [
    "Как видим из результатов статистики: предположение наше оказалось верно. Самый большой процент не возврата у клиентов, у которых семейный статус: Не женат / не замужем. Большинство клиентов банка находятся в официальном браке и у них процент не возврата меньше. Видимо это связано с тем, что уровень дохода у таких людей возрастает вдвое.   "
   ]
  },
  {
   "cell_type": "markdown",
   "metadata": {},
   "source": [
    "- Есть ли зависимость между уровнем дохода и возвратом кредита в срок?\n",
    "\n",
    "\n",
    "Предположим, что люди с очень высоким уровнем дохода реже не возвращают кредит в срок."
   ]
  },
  {
   "cell_type": "code",
   "execution_count": 27,
   "metadata": {},
   "outputs": [
    {
     "data": {
      "text/html": [
       "<div>\n",
       "<style scoped>\n",
       "    .dataframe tbody tr th:only-of-type {\n",
       "        vertical-align: middle;\n",
       "    }\n",
       "\n",
       "    .dataframe tbody tr th {\n",
       "        vertical-align: top;\n",
       "    }\n",
       "\n",
       "    .dataframe thead th {\n",
       "        text-align: right;\n",
       "    }\n",
       "</style>\n",
       "<table border=\"1\" class=\"dataframe\">\n",
       "  <thead>\n",
       "    <tr style=\"text-align: right;\">\n",
       "      <th></th>\n",
       "      <th>no_debt</th>\n",
       "      <th>yes_debt</th>\n",
       "      <th>sum_total</th>\n",
       "      <th>percent_yes_debt</th>\n",
       "    </tr>\n",
       "    <tr>\n",
       "      <th>income_group</th>\n",
       "      <th></th>\n",
       "      <th></th>\n",
       "      <th></th>\n",
       "      <th></th>\n",
       "    </tr>\n",
       "  </thead>\n",
       "  <tbody>\n",
       "    <tr>\n",
       "      <td>высокий</td>\n",
       "      <td>4719</td>\n",
       "      <td>438</td>\n",
       "      <td>5157</td>\n",
       "      <td>8.49%</td>\n",
       "    </tr>\n",
       "    <tr>\n",
       "      <td>низкий</td>\n",
       "      <td>4898</td>\n",
       "      <td>464</td>\n",
       "      <td>5362</td>\n",
       "      <td>8.65%</td>\n",
       "    </tr>\n",
       "    <tr>\n",
       "      <td>очень высокий</td>\n",
       "      <td>5182</td>\n",
       "      <td>388</td>\n",
       "      <td>5570</td>\n",
       "      <td>6.97%</td>\n",
       "    </tr>\n",
       "    <tr>\n",
       "      <td>средний</td>\n",
       "      <td>4914</td>\n",
       "      <td>451</td>\n",
       "      <td>5365</td>\n",
       "      <td>8.41%</td>\n",
       "    </tr>\n",
       "    <tr>\n",
       "      <td>All</td>\n",
       "      <td>19713</td>\n",
       "      <td>1741</td>\n",
       "      <td>21454</td>\n",
       "      <td>8.12%</td>\n",
       "    </tr>\n",
       "  </tbody>\n",
       "</table>\n",
       "</div>"
      ],
      "text/plain": [
       "               no_debt  yes_debt  sum_total  percent_yes_debt\n",
       "income_group                                                 \n",
       "высокий           4719       438       5157             8.49%\n",
       "низкий            4898       464       5362             8.65%\n",
       "очень высокий     5182       388       5570             6.97%\n",
       "средний           4914       451       5365             8.41%\n",
       "All              19713      1741      21454             8.12%"
      ]
     },
     "execution_count": 27,
     "metadata": {},
     "output_type": "execute_result"
    }
   ],
   "source": [
    "total_income_group = df.pivot_table(index = ['income_group'], columns = 'debt', values = 'total_income_end', \n",
    "                                    aggfunc = 'count',\n",
    "                              margins=True)\n",
    "pd.options.display.float_format = '{:.2%}'.format # Зададим формат, чтобы результат в новом столбце был выведен в %\n",
    "total_income_group['total_income_group_percent'] = total_income_group[1] / total_income_group['All']\n",
    "total_income_group.columns = ['no_debt', 'yes_debt', 'sum_total', 'percent_yes_debt']# переименуем названия столбцов\n",
    "total_income_group"
   ]
  },
  {
   "cell_type": "markdown",
   "metadata": {},
   "source": [
    "### Вывод"
   ]
  },
  {
   "cell_type": "markdown",
   "metadata": {},
   "source": [
    "Наше предположение верно: у людей с очень высоким уровнем дохода процент просрочек по кредиту меньше. Самый высокий процент не возврата у людей с низким  уровнем дохода. Чтобы сказать с чем это связано, нужно проводить дополнительные исследования: например, изучить какой процент составляют пары, находящихся в официальном браке в данных категориях."
   ]
  },
  {
   "cell_type": "markdown",
   "metadata": {},
   "source": [
    "- Как разные цели кредита влияют на его возврат в срок?\n",
    "\n",
    "\n",
    "Предположим, что самый большой процент не возврата кредита в срок, у которых цель кредита: жилье, недвижимость."
   ]
  },
  {
   "cell_type": "code",
   "execution_count": 28,
   "metadata": {},
   "outputs": [
    {
     "data": {
      "text/html": [
       "<div>\n",
       "<style scoped>\n",
       "    .dataframe tbody tr th:only-of-type {\n",
       "        vertical-align: middle;\n",
       "    }\n",
       "\n",
       "    .dataframe tbody tr th {\n",
       "        vertical-align: top;\n",
       "    }\n",
       "\n",
       "    .dataframe thead th {\n",
       "        text-align: right;\n",
       "    }\n",
       "</style>\n",
       "<table border=\"1\" class=\"dataframe\">\n",
       "  <thead>\n",
       "    <tr style=\"text-align: right;\">\n",
       "      <th></th>\n",
       "      <th>no_debt</th>\n",
       "      <th>yes_debt</th>\n",
       "      <th>sum_total</th>\n",
       "      <th>percent_yes_debt</th>\n",
       "    </tr>\n",
       "    <tr>\n",
       "      <th>conversion_two</th>\n",
       "      <th></th>\n",
       "      <th></th>\n",
       "      <th></th>\n",
       "      <th></th>\n",
       "    </tr>\n",
       "  </thead>\n",
       "  <tbody>\n",
       "    <tr>\n",
       "      <td>автомобиль</td>\n",
       "      <td>3903</td>\n",
       "      <td>403</td>\n",
       "      <td>4306</td>\n",
       "      <td>9.36%</td>\n",
       "    </tr>\n",
       "    <tr>\n",
       "      <td>жилье</td>\n",
       "      <td>4152</td>\n",
       "      <td>308</td>\n",
       "      <td>4460</td>\n",
       "      <td>6.91%</td>\n",
       "    </tr>\n",
       "    <tr>\n",
       "      <td>недвижимость</td>\n",
       "      <td>5877</td>\n",
       "      <td>474</td>\n",
       "      <td>6351</td>\n",
       "      <td>7.46%</td>\n",
       "    </tr>\n",
       "    <tr>\n",
       "      <td>образование</td>\n",
       "      <td>3643</td>\n",
       "      <td>370</td>\n",
       "      <td>4013</td>\n",
       "      <td>9.22%</td>\n",
       "    </tr>\n",
       "    <tr>\n",
       "      <td>свадьба</td>\n",
       "      <td>2138</td>\n",
       "      <td>186</td>\n",
       "      <td>2324</td>\n",
       "      <td>8.00%</td>\n",
       "    </tr>\n",
       "    <tr>\n",
       "      <td>All</td>\n",
       "      <td>19713</td>\n",
       "      <td>1741</td>\n",
       "      <td>21454</td>\n",
       "      <td>8.12%</td>\n",
       "    </tr>\n",
       "  </tbody>\n",
       "</table>\n",
       "</div>"
      ],
      "text/plain": [
       "                no_debt  yes_debt  sum_total  percent_yes_debt\n",
       "conversion_two                                                \n",
       "автомобиль         3903       403       4306             9.36%\n",
       "жилье              4152       308       4460             6.91%\n",
       "недвижимость       5877       474       6351             7.46%\n",
       "образование        3643       370       4013             9.22%\n",
       "свадьба            2138       186       2324             8.00%\n",
       "All               19713      1741      21454             8.12%"
      ]
     },
     "execution_count": 28,
     "metadata": {},
     "output_type": "execute_result"
    }
   ],
   "source": [
    "purpose_pivot = df.pivot_table(index = ['conversion_two'], columns = 'debt', values = 'purpose', aggfunc = 'count',\n",
    "                              margins=True)\n",
    "pd.options.display.float_format = '{:.2%}'.format # Зададим формат, чтобы результат в новом столбце был выведен в %\n",
    "purpose_pivot['percent_yes_debt'] = purpose_pivot[1] / purpose_pivot['All']\n",
    "purpose_pivot.columns = ['no_debt', 'yes_debt', 'sum_total', 'percent_yes_debt']# переименуем названия столбцов\n",
    "purpose_pivot"
   ]
  },
  {
   "cell_type": "markdown",
   "metadata": {},
   "source": [
    "### Вывод"
   ]
  },
  {
   "cell_type": "markdown",
   "metadata": {},
   "source": [
    "Наше предположение оказалось не верным. Самый большой процент не возврата кредита в срок, у людей с целью кредита - автомобиль. На втором месте - образование. Самый низкий кредит не возврата у людей, цель которых - покупка жилья. "
   ]
  },
  {
   "cell_type": "markdown",
   "metadata": {},
   "source": [
    "## Общий вывод:"
   ]
  },
  {
   "cell_type": "markdown",
   "metadata": {},
   "source": [
    "Исходя из всего вышесказанного, делаем вывод: семейное положение и количество детей клиента влияет на факт погашения кредита. Чаще всего берут кредит люди с семейным положением: женат / замужем  и у которых нет детей. У таких пар процент не возврата кредита в срок меньше по сравнению с другими группами. Таким людям нужно чаще предлагать различные кредитные продукты банка.\n",
    "\n",
    "\n",
    "\n"
   ]
  }
 ],
 "metadata": {
  "kernelspec": {
   "display_name": "Python 3",
   "language": "python",
   "name": "python3"
  },
  "language_info": {
   "codemirror_mode": {
    "name": "ipython",
    "version": 3
   },
   "file_extension": ".py",
   "mimetype": "text/x-python",
   "name": "python",
   "nbconvert_exporter": "python",
   "pygments_lexer": "ipython3",
   "version": "3.7.6"
  }
 },
 "nbformat": 4,
 "nbformat_minor": 2
}
